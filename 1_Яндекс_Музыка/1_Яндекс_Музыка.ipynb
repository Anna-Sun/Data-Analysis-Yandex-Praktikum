{
 "cells": [
  {
   "cell_type": "markdown",
   "metadata": {
    "id": "E0vqbgi9ay0H"
   },
   "source": [
    "# Яндекс.Музыка"
   ]
  },
  {
   "cell_type": "markdown",
   "metadata": {
    "id": "VUC88oWjTJw2"
   },
   "source": [
    "Сравнение Москвы и Петербурга окружено мифами. Например:\n",
    " * Москва — мегаполис, подчинённый жёсткому ритму рабочей недели;\n",
    " * Петербург — культурная столица, со своими вкусами.\n",
    "\n",
    "На данных Яндекс.Музыки вы сравните поведение пользователей двух столиц.\n",
    "\n",
    "**Цель исследования** — проверьте три гипотезы:\n",
    "1. Активность пользователей зависит от дня недели. Причём в Москве и Петербурге это проявляется по-разному.\n",
    "2. В понедельник утром в Москве преобладают одни жанры, а в Петербурге — другие. Так же и вечером пятницы преобладают разные жанры — в зависимости от города. \n",
    "3. Москва и Петербург предпочитают разные жанры музыки. В Москве чаще слушают поп-музыку, в Петербурге — русский рэп.\n",
    "\n",
    "**Ход исследования**\n",
    "\n",
    "Данные о поведении пользователей вы получите из файла `yandex_music_project.csv`. О качестве данных ничего не известно. Поэтому перед проверкой гипотез понадобится обзор данных. \n",
    "\n",
    "Вы проверите данные на ошибки и оцените их влияние на исследование. Затем, на этапе предобработки вы поищете возможность исправить самые критичные ошибки данных.\n",
    " \n",
    "Таким образом, исследование пройдёт в три этапа:\n",
    " 1. Обзор данных.\n",
    " 2. Предобработка данных.\n",
    " 3. Проверка гипотез.\n",
    "\n"
   ]
  },
  {
   "cell_type": "markdown",
   "metadata": {
    "id": "Ml1hmfXC_Zcs"
   },
   "source": [
    "## Обзор данных\n",
    "\n",
    "Составьте первое представление о данных Яндекс.Музыки.\n",
    "\n",
    "\n"
   ]
  },
  {
   "cell_type": "markdown",
   "metadata": {
    "id": "57eAOGIz_Zcs"
   },
   "source": [
    "Основной инструмент аналитика — `pandas`. Импортируйте эту библиотеку."
   ]
  },
  {
   "cell_type": "code",
   "execution_count": 1,
   "metadata": {
    "id": "AXN7PHPN_Zcs"
   },
   "outputs": [],
   "source": [
    "import pandas as pd"
   ]
  },
  {
   "cell_type": "markdown",
   "metadata": {
    "id": "SG23P8tt_Zcs"
   },
   "source": [
    "Прочитайте файл `yandex_music_project.csv` из папки `/datasets` и сохраните его в переменной `df`:"
   ]
  },
  {
   "cell_type": "code",
   "execution_count": 2,
   "metadata": {
    "id": "fFVu7vqh_Zct"
   },
   "outputs": [],
   "source": [
    "df = pd.read_csv('/datasets/yandex_music_project.csv')\n",
    "df.to_csv('dataset.csv')"
   ]
  },
  {
   "cell_type": "markdown",
   "metadata": {
    "id": "rDoOMd3uTqnZ"
   },
   "source": [
    "Выведите на экран первые десять строк таблицы:"
   ]
  },
  {
   "cell_type": "code",
   "execution_count": 3,
   "metadata": {
    "id": "oWTVX3gW_Zct",
    "scrolled": true
   },
   "outputs": [
    {
     "data": {
      "text/html": [
       "<div>\n",
       "<style scoped>\n",
       "    .dataframe tbody tr th:only-of-type {\n",
       "        vertical-align: middle;\n",
       "    }\n",
       "\n",
       "    .dataframe tbody tr th {\n",
       "        vertical-align: top;\n",
       "    }\n",
       "\n",
       "    .dataframe thead th {\n",
       "        text-align: right;\n",
       "    }\n",
       "</style>\n",
       "<table border=\"1\" class=\"dataframe\">\n",
       "  <thead>\n",
       "    <tr style=\"text-align: right;\">\n",
       "      <th></th>\n",
       "      <th>userID</th>\n",
       "      <th>Track</th>\n",
       "      <th>artist</th>\n",
       "      <th>genre</th>\n",
       "      <th>City</th>\n",
       "      <th>time</th>\n",
       "      <th>Day</th>\n",
       "    </tr>\n",
       "  </thead>\n",
       "  <tbody>\n",
       "    <tr>\n",
       "      <th>0</th>\n",
       "      <td>FFB692EC</td>\n",
       "      <td>Kamigata To Boots</td>\n",
       "      <td>The Mass Missile</td>\n",
       "      <td>rock</td>\n",
       "      <td>Saint-Petersburg</td>\n",
       "      <td>20:28:33</td>\n",
       "      <td>Wednesday</td>\n",
       "    </tr>\n",
       "    <tr>\n",
       "      <th>1</th>\n",
       "      <td>55204538</td>\n",
       "      <td>Delayed Because of Accident</td>\n",
       "      <td>Andreas Rönnberg</td>\n",
       "      <td>rock</td>\n",
       "      <td>Moscow</td>\n",
       "      <td>14:07:09</td>\n",
       "      <td>Friday</td>\n",
       "    </tr>\n",
       "    <tr>\n",
       "      <th>2</th>\n",
       "      <td>20EC38</td>\n",
       "      <td>Funiculì funiculà</td>\n",
       "      <td>Mario Lanza</td>\n",
       "      <td>pop</td>\n",
       "      <td>Saint-Petersburg</td>\n",
       "      <td>20:58:07</td>\n",
       "      <td>Wednesday</td>\n",
       "    </tr>\n",
       "    <tr>\n",
       "      <th>3</th>\n",
       "      <td>A3DD03C9</td>\n",
       "      <td>Dragons in the Sunset</td>\n",
       "      <td>Fire + Ice</td>\n",
       "      <td>folk</td>\n",
       "      <td>Saint-Petersburg</td>\n",
       "      <td>08:37:09</td>\n",
       "      <td>Monday</td>\n",
       "    </tr>\n",
       "    <tr>\n",
       "      <th>4</th>\n",
       "      <td>E2DC1FAE</td>\n",
       "      <td>Soul People</td>\n",
       "      <td>Space Echo</td>\n",
       "      <td>dance</td>\n",
       "      <td>Moscow</td>\n",
       "      <td>08:34:34</td>\n",
       "      <td>Monday</td>\n",
       "    </tr>\n",
       "    <tr>\n",
       "      <th>5</th>\n",
       "      <td>842029A1</td>\n",
       "      <td>Преданная</td>\n",
       "      <td>IMPERVTOR</td>\n",
       "      <td>rusrap</td>\n",
       "      <td>Saint-Petersburg</td>\n",
       "      <td>13:09:41</td>\n",
       "      <td>Friday</td>\n",
       "    </tr>\n",
       "    <tr>\n",
       "      <th>6</th>\n",
       "      <td>4CB90AA5</td>\n",
       "      <td>True</td>\n",
       "      <td>Roman Messer</td>\n",
       "      <td>dance</td>\n",
       "      <td>Moscow</td>\n",
       "      <td>13:00:07</td>\n",
       "      <td>Wednesday</td>\n",
       "    </tr>\n",
       "    <tr>\n",
       "      <th>7</th>\n",
       "      <td>F03E1C1F</td>\n",
       "      <td>Feeling This Way</td>\n",
       "      <td>Polina Griffith</td>\n",
       "      <td>dance</td>\n",
       "      <td>Moscow</td>\n",
       "      <td>20:47:49</td>\n",
       "      <td>Wednesday</td>\n",
       "    </tr>\n",
       "    <tr>\n",
       "      <th>8</th>\n",
       "      <td>8FA1D3BE</td>\n",
       "      <td>И вновь продолжается бой</td>\n",
       "      <td>NaN</td>\n",
       "      <td>ruspop</td>\n",
       "      <td>Moscow</td>\n",
       "      <td>09:17:40</td>\n",
       "      <td>Friday</td>\n",
       "    </tr>\n",
       "    <tr>\n",
       "      <th>9</th>\n",
       "      <td>E772D5C0</td>\n",
       "      <td>Pessimist</td>\n",
       "      <td>NaN</td>\n",
       "      <td>dance</td>\n",
       "      <td>Saint-Petersburg</td>\n",
       "      <td>21:20:49</td>\n",
       "      <td>Wednesday</td>\n",
       "    </tr>\n",
       "  </tbody>\n",
       "</table>\n",
       "</div>"
      ],
      "text/plain": [
       "     userID                        Track            artist   genre  \\\n",
       "0  FFB692EC            Kamigata To Boots  The Mass Missile    rock   \n",
       "1  55204538  Delayed Because of Accident  Andreas Rönnberg    rock   \n",
       "2    20EC38            Funiculì funiculà       Mario Lanza     pop   \n",
       "3  A3DD03C9        Dragons in the Sunset        Fire + Ice    folk   \n",
       "4  E2DC1FAE                  Soul People        Space Echo   dance   \n",
       "5  842029A1                    Преданная         IMPERVTOR  rusrap   \n",
       "6  4CB90AA5                         True      Roman Messer   dance   \n",
       "7  F03E1C1F             Feeling This Way   Polina Griffith   dance   \n",
       "8  8FA1D3BE     И вновь продолжается бой               NaN  ruspop   \n",
       "9  E772D5C0                    Pessimist               NaN   dance   \n",
       "\n",
       "             City        time        Day  \n",
       "0  Saint-Petersburg  20:28:33  Wednesday  \n",
       "1            Moscow  14:07:09     Friday  \n",
       "2  Saint-Petersburg  20:58:07  Wednesday  \n",
       "3  Saint-Petersburg  08:37:09     Monday  \n",
       "4            Moscow  08:34:34     Monday  \n",
       "5  Saint-Petersburg  13:09:41     Friday  \n",
       "6            Moscow  13:00:07  Wednesday  \n",
       "7            Moscow  20:47:49  Wednesday  \n",
       "8            Moscow  09:17:40     Friday  \n",
       "9  Saint-Petersburg  21:20:49  Wednesday  "
      ]
     },
     "execution_count": 3,
     "metadata": {},
     "output_type": "execute_result"
    }
   ],
   "source": [
    "df.head(10) "
   ]
  },
  {
   "cell_type": "markdown",
   "metadata": {
    "id": "EO73Kwic_Zct"
   },
   "source": [
    "Одной командой получить общую информацию о таблице:"
   ]
  },
  {
   "cell_type": "code",
   "execution_count": 4,
   "metadata": {
    "id": "DSf2kIb-_Zct"
   },
   "outputs": [
    {
     "name": "stdout",
     "output_type": "stream",
     "text": [
      "<class 'pandas.core.frame.DataFrame'>\n",
      "RangeIndex: 65079 entries, 0 to 65078\n",
      "Data columns (total 7 columns):\n",
      " #   Column    Non-Null Count  Dtype \n",
      "---  ------    --------------  ----- \n",
      " 0     userID  65079 non-null  object\n",
      " 1   Track     63848 non-null  object\n",
      " 2   artist    57876 non-null  object\n",
      " 3   genre     63881 non-null  object\n",
      " 4     City    65079 non-null  object\n",
      " 5   time      65079 non-null  object\n",
      " 6   Day       65079 non-null  object\n",
      "dtypes: object(7)\n",
      "memory usage: 3.5+ MB\n"
     ]
    }
   ],
   "source": [
    "df.info() "
   ]
  },
  {
   "cell_type": "markdown",
   "metadata": {
    "id": "TaQ2Iwbr_Zct"
   },
   "source": [
    "Итак, в таблице семь столбцов. Тип данных во всех столбцах — `object`.\n",
    "\n",
    "Согласно документации к данным:\n",
    "* `userID` — идентификатор пользователя;\n",
    "* `Track` — название трека;  \n",
    "* `artist` — имя исполнителя;\n",
    "* `genre` — название жанра;\n",
    "* `City` — город пользователя;\n",
    "* `time` — время начала прослушивания;\n",
    "* `Day` — день недели.\n",
    "\n",
    "В названиях колонок видны три нарушения стиля:\n",
    "1. Строчные буквы сочетаются с прописными.\n",
    "2. Встречаются пробелы.\n",
    "3. Не применен «змеиный_регистр».\n",
    "(Найдите ещё одну проблему в названии колонок и опишите её в этом пункте.)\n",
    "\n",
    "\n",
    "\n",
    "Количество значений в столбцах различается. Значит, в данных есть пропущенные значения.\n"
   ]
  },
  {
   "cell_type": "markdown",
   "metadata": {
    "id": "MCB6-dXG_Zct"
   },
   "source": [
    "**Выводы**\n",
    "\n",
    "В каждой строке таблицы — данные о прослушанном треке. Часть колонок описывает саму композицию: название, исполнителя и жанр. Остальные данные рассказывают о пользователе: из какого он города, когда он слушал музыку. \n",
    "\n",
    "Предварительно можно утверждать, что, данных достаточно для проверки гипотез. Но встречаются пропуски в данных, а в названиях колонок — расхождения с хорошим стилем.\n",
    "\n",
    "Чтобы двигаться дальше, нужно устранить проблемы в данных."
   ]
  },
  {
   "cell_type": "markdown",
   "metadata": {
    "id": "SjYF6Ub9_Zct"
   },
   "source": [
    "## Предобработка данных\n",
    "Исправьте стиль в заголовках столбцов, исключите пропуски. Затем проверьте данные на дубликаты."
   ]
  },
  {
   "cell_type": "markdown",
   "metadata": {
    "id": "dIaKXr29_Zct"
   },
   "source": [
    "### Стиль заголовков\n",
    "Выведите на экран названия столбцов:"
   ]
  },
  {
   "cell_type": "code",
   "execution_count": 5,
   "metadata": {
    "id": "oKOTdF_Q_Zct"
   },
   "outputs": [
    {
     "data": {
      "text/plain": [
       "Index(['  userID', 'Track', 'artist', 'genre', '  City  ', 'time', 'Day'], dtype='object')"
      ]
     },
     "execution_count": 5,
     "metadata": {},
     "output_type": "execute_result"
    }
   ],
   "source": [
    "df.columns"
   ]
  },
  {
   "cell_type": "markdown",
   "metadata": {
    "id": "zj5534cv_Zct"
   },
   "source": [
    "Приведите названия в соответствие с хорошим стилем:\n",
    "* несколько слов в названии запишите в «змеином_регистре»,\n",
    "* все символы сделайте строчными,\n",
    "* устраните пробелы.\n",
    "\n",
    "Для этого переименуйте колонки так:\n",
    "* `'  userID'` → `'user_id'`;\n",
    "* `'Track'` → `'track'`;\n",
    "* `'  City  '` → `'city'`;\n",
    "* `'Day'` → `'day'`."
   ]
  },
  {
   "cell_type": "code",
   "execution_count": 6,
   "metadata": {
    "id": "ISlFqs5y_Zct"
   },
   "outputs": [],
   "source": [
    "df = df.rename(columns={'  userID': 'user_id', 'Track': 'track', '  City  ': 'city', 'Day': 'day'})"
   ]
  },
  {
   "cell_type": "markdown",
   "metadata": {
    "id": "1dqbh00J_Zct"
   },
   "source": [
    "Проверьте результат. Для этого ещё раз выведите на экран названия столбцов:"
   ]
  },
  {
   "cell_type": "code",
   "execution_count": 7,
   "metadata": {
    "id": "d4NOAmTW_Zct"
   },
   "outputs": [
    {
     "data": {
      "text/plain": [
       "Index(['user_id', 'track', 'artist', 'genre', 'city', 'time', 'day'], dtype='object')"
      ]
     },
     "execution_count": 7,
     "metadata": {},
     "output_type": "execute_result"
    }
   ],
   "source": [
    "df.columns"
   ]
  },
  {
   "cell_type": "markdown",
   "metadata": {
    "id": "5ISfbcfY_Zct"
   },
   "source": [
    "### Пропуски значений\n",
    "Сначала посчитайте, сколько в таблице пропущенных значений. Для этого достаточно двух методов `pandas`:"
   ]
  },
  {
   "cell_type": "code",
   "execution_count": 8,
   "metadata": {
    "id": "RskX29qr_Zct"
   },
   "outputs": [
    {
     "data": {
      "text/plain": [
       "user_id       0\n",
       "track      1231\n",
       "artist     7203\n",
       "genre      1198\n",
       "city          0\n",
       "time          0\n",
       "day           0\n",
       "dtype: int64"
      ]
     },
     "metadata": {},
     "output_type": "display_data"
    }
   ],
   "source": [
    "display(df.isna().sum())"
   ]
  },
  {
   "cell_type": "markdown",
   "metadata": {
    "id": "qubhgnlO_Zct"
   },
   "source": [
    "Не все пропущенные значения влияют на исследование. Так в `track` и `artist` пропуски не важны для вашей работы. Достаточно заменить их явными обозначениями.\n",
    "\n",
    "Но пропуски в `genre` могут помешать сравнению музыкальных вкусов в Москве и Санкт-Петербурге. На практике было бы правильно установить причину пропусков и восстановить данные. Такой возможности нет в учебном проекте. Придётся:\n",
    "* заполнить и эти пропуски явными обозначениями,\n",
    "* оценить, насколько они повредят расчётам. "
   ]
  },
  {
   "cell_type": "markdown",
   "metadata": {
    "id": "fSv2laPA_Zct"
   },
   "source": [
    "Замените пропущенные значения в столбцах `track`, `artist` и `genre` на строку `'unknown'`. Для этого создайте список `columns_to_replace`, переберите его элементы циклом `for` и для каждого столбца выполните замену пропущенных значений:"
   ]
  },
  {
   "cell_type": "code",
   "execution_count": 9,
   "metadata": {
    "id": "KplB5qWs_Zct"
   },
   "outputs": [],
   "source": [
    " # перебор названий столбцов в цикле и замена пропущенных значений на 'unknown'\n",
    "columns_to_replace = ['track', 'artist', 'genre']\n",
    "for column in columns_to_replace:\n",
    "    df[column] = df[column].fillna('unknown')"
   ]
  },
  {
   "cell_type": "markdown",
   "metadata": {
    "id": "Ilsm-MZo_Zct"
   },
   "source": [
    "Убедитесь, что в таблице не осталось пропусков. Для этого ещё раз посчитайте пропущенные значения."
   ]
  },
  {
   "cell_type": "code",
   "execution_count": 10,
   "metadata": {
    "id": "Tq4nYRX4_Zct"
   },
   "outputs": [
    {
     "data": {
      "text/plain": [
       "user_id    0\n",
       "track      0\n",
       "artist     0\n",
       "genre      0\n",
       "city       0\n",
       "time       0\n",
       "day        0\n",
       "dtype: int64"
      ]
     },
     "metadata": {},
     "output_type": "display_data"
    }
   ],
   "source": [
    "display(df.isna().sum())"
   ]
  },
  {
   "cell_type": "markdown",
   "metadata": {
    "id": "BWKRtBJ3_Zct"
   },
   "source": [
    "### Дубликаты\n",
    "Посчитайте явные дубликаты в таблице одной командой:"
   ]
  },
  {
   "cell_type": "code",
   "execution_count": 11,
   "metadata": {
    "id": "36eES_S0_Zct"
   },
   "outputs": [
    {
     "name": "stdout",
     "output_type": "stream",
     "text": [
      "3826\n"
     ]
    }
   ],
   "source": [
    "print(df.duplicated().sum()) "
   ]
  },
  {
   "cell_type": "markdown",
   "metadata": {
    "id": "Ot25h6XR_Zct"
   },
   "source": [
    "Вызовите специальный метод `pandas`, чтобы удалить явные дубликаты:"
   ]
  },
  {
   "cell_type": "code",
   "execution_count": 12,
   "metadata": {
    "id": "exFHq6tt_Zct"
   },
   "outputs": [],
   "source": [
    "# удаление явных дубликатов (с удалением старых индексов и формированием новых)\n",
    "df = df.drop_duplicates().reset_index(drop=True) "
   ]
  },
  {
   "cell_type": "markdown",
   "metadata": {
    "id": "Im2YwBEG_Zct"
   },
   "source": [
    "Ещё раз посчитайте явные дубликаты в таблице — убедитесь, что полностью от них избавились:"
   ]
  },
  {
   "cell_type": "code",
   "execution_count": 13,
   "metadata": {
    "id": "-8PuNWQ0_Zct"
   },
   "outputs": [
    {
     "name": "stdout",
     "output_type": "stream",
     "text": [
      "0\n"
     ]
    }
   ],
   "source": [
    "print(df.duplicated().sum())"
   ]
  },
  {
   "cell_type": "markdown",
   "metadata": {
    "id": "QlFBsxAr_Zct"
   },
   "source": [
    "Теперь избавьтесь от неявных дубликатов в колонке `genre`. Например, название одного и того же жанра может быть записано немного по-разному. Такие ошибки тоже повлияют на результат исследования."
   ]
  },
  {
   "cell_type": "markdown",
   "metadata": {
    "id": "eSjWwsOh_Zct"
   },
   "source": [
    "Выведите на экран список уникальных названий жанров, отсортированный в алфавитном порядке. Для этого:\n",
    "* извлеките нужный столбец датафрейма, \n",
    "* примените к нему метод сортировки,\n",
    "* для отсортированного столбца вызовите метод, который вернёт уникальные значения из столбца."
   ]
  },
  {
   "cell_type": "code",
   "execution_count": 14,
   "metadata": {
    "id": "JIUcqzZN_Zct"
   },
   "outputs": [
    {
     "data": {
      "text/plain": [
       "array(['acid', 'acoustic', 'action', 'adult', 'africa', 'afrikaans',\n",
       "       'alternative', 'alternativepunk', 'ambient', 'americana',\n",
       "       'animated', 'anime', 'arabesk', 'arabic', 'arena',\n",
       "       'argentinetango', 'art', 'audiobook', 'author', 'avantgarde',\n",
       "       'axé', 'baile', 'balkan', 'beats', 'bigroom', 'black', 'bluegrass',\n",
       "       'blues', 'bollywood', 'bossa', 'brazilian', 'breakbeat', 'breaks',\n",
       "       'broadway', 'cantautori', 'cantopop', 'canzone', 'caribbean',\n",
       "       'caucasian', 'celtic', 'chamber', 'chanson', 'children', 'chill',\n",
       "       'chinese', 'choral', 'christian', 'christmas', 'classical',\n",
       "       'classicmetal', 'club', 'colombian', 'comedy', 'conjazz',\n",
       "       'contemporary', 'country', 'cuban', 'dance', 'dancehall',\n",
       "       'dancepop', 'dark', 'death', 'deep', 'deutschrock', 'deutschspr',\n",
       "       'dirty', 'disco', 'dnb', 'documentary', 'downbeat', 'downtempo',\n",
       "       'drum', 'dub', 'dubstep', 'eastern', 'easy', 'electronic',\n",
       "       'electropop', 'emo', 'entehno', 'epicmetal', 'estrada', 'ethnic',\n",
       "       'eurofolk', 'european', 'experimental', 'extrememetal', 'fado',\n",
       "       'fairytail', 'film', 'fitness', 'flamenco', 'folk', 'folklore',\n",
       "       'folkmetal', 'folkrock', 'folktronica', 'forró', 'frankreich',\n",
       "       'französisch', 'french', 'funk', 'future', 'gangsta', 'garage',\n",
       "       'german', 'ghazal', 'gitarre', 'glitch', 'gospel', 'gothic',\n",
       "       'grime', 'grunge', 'gypsy', 'handsup', \"hard'n'heavy\", 'hardcore',\n",
       "       'hardstyle', 'hardtechno', 'hip', 'hip-hop', 'hiphop',\n",
       "       'historisch', 'holiday', 'hop', 'horror', 'house', 'hymn', 'idm',\n",
       "       'independent', 'indian', 'indie', 'indipop', 'industrial',\n",
       "       'inspirational', 'instrumental', 'international', 'irish', 'jam',\n",
       "       'japanese', 'jazz', 'jewish', 'jpop', 'jungle', 'k-pop',\n",
       "       'karadeniz', 'karaoke', 'kayokyoku', 'korean', 'laiko', 'latin',\n",
       "       'latino', 'leftfield', 'local', 'lounge', 'loungeelectronic',\n",
       "       'lovers', 'malaysian', 'mandopop', 'marschmusik', 'meditative',\n",
       "       'mediterranean', 'melodic', 'metal', 'metalcore', 'mexican',\n",
       "       'middle', 'minimal', 'miscellaneous', 'modern', 'mood', 'mpb',\n",
       "       'muslim', 'native', 'neoklassik', 'neue', 'new', 'newage',\n",
       "       'newwave', 'nu', 'nujazz', 'numetal', 'oceania', 'old', 'opera',\n",
       "       'orchestral', 'other', 'piano', 'podcasts', 'pop', 'popdance',\n",
       "       'popelectronic', 'popeurodance', 'poprussian', 'post',\n",
       "       'posthardcore', 'postrock', 'power', 'progmetal', 'progressive',\n",
       "       'psychedelic', 'punjabi', 'punk', 'quebecois', 'ragga', 'ram',\n",
       "       'rancheras', 'rap', 'rave', 'reggae', 'reggaeton', 'regional',\n",
       "       'relax', 'religious', 'retro', 'rhythm', 'rnb', 'rnr', 'rock',\n",
       "       'rockabilly', 'rockalternative', 'rockindie', 'rockother',\n",
       "       'romance', 'roots', 'ruspop', 'rusrap', 'rusrock', 'russian',\n",
       "       'salsa', 'samba', 'scenic', 'schlager', 'self', 'sertanejo',\n",
       "       'shanson', 'shoegazing', 'showtunes', 'singer', 'ska', 'skarock',\n",
       "       'slow', 'smooth', 'soft', 'soul', 'soulful', 'sound', 'soundtrack',\n",
       "       'southern', 'specialty', 'speech', 'spiritual', 'sport',\n",
       "       'stonerrock', 'surf', 'swing', 'synthpop', 'synthrock',\n",
       "       'sängerportrait', 'tango', 'tanzorchester', 'taraftar', 'tatar',\n",
       "       'tech', 'techno', 'teen', 'thrash', 'top', 'traditional',\n",
       "       'tradjazz', 'trance', 'tribal', 'trip', 'triphop', 'tropical',\n",
       "       'türk', 'türkçe', 'ukrrock', 'unknown', 'urban', 'uzbek',\n",
       "       'variété', 'vi', 'videogame', 'vocal', 'western', 'world',\n",
       "       'worldbeat', 'ïîï', 'электроника'], dtype=object)"
      ]
     },
     "execution_count": 14,
     "metadata": {},
     "output_type": "execute_result"
    }
   ],
   "source": [
    "df['genre'].sort_values().unique()"
   ]
  },
  {
   "cell_type": "markdown",
   "metadata": {
    "id": "qej-Qmuo_Zct"
   },
   "source": [
    "Просмотрите список и найдите неявные дубликаты названия `hiphop`. Это могут быть названия с ошибками или альтернативные названия того же жанра.\n",
    "\n",
    "Вы увидите следующие неявные дубликаты:\n",
    "* *hip*,\n",
    "* *hop*,\n",
    "* *hip-hop*.\n",
    "\n",
    "Чтобы очистить от них таблицу, напишите функцию `replace_wrong_genres()` с двумя параметрами: \n",
    "* `wrong_genres` — список дубликатов,\n",
    "* `correct_genre` — строка с правильным значением.\n",
    "\n",
    "Функция должна исправить колонку `genre` в таблице `df`: заменить каждое значение из списка `wrong_genres` на значение из `correct_genre`."
   ]
  },
  {
   "cell_type": "code",
   "execution_count": 15,
   "metadata": {
    "id": "ErNDkmns_Zct"
   },
   "outputs": [],
   "source": [
    "# Функция для замены неявных дубликатов\n",
    "def replace_wrong_genres(wrong_genres, correct_genre):\n",
    "    for wrong_genre in wrong_genres:\n",
    "        df['genre'] = df['genre'].replace(wrong_genre, correct_genre) "
   ]
  },
  {
   "cell_type": "markdown",
   "metadata": {
    "id": "aDoBJxbA_Zct"
   },
   "source": [
    "Вызовите `replace_wrong_genres()` и передайте ей такие аргументы, чтобы она устранила неявные дубликаты: вместо `hip`, `hop` и `hip-hop` в таблице должно быть значение `hiphop`:"
   ]
  },
  {
   "cell_type": "code",
   "execution_count": 16,
   "metadata": {
    "id": "YN5i2hpmSo09"
   },
   "outputs": [],
   "source": [
    "# Устранение неявных дубликатов\n",
    "wrong_genres = ['hip', 'hop', 'hip-hop']\n",
    "correct_genre = 'hiphop'\n",
    "replace_wrong_genres(wrong_genres, correct_genre)"
   ]
  },
  {
   "cell_type": "markdown",
   "metadata": {
    "id": "zQKF16_RG15m"
   },
   "source": [
    "Проверьте, что заменили неправильные названия:\n",
    "\n",
    "*   hip\n",
    "*   hop\n",
    "*   hip-hop\n",
    "\n",
    "Выведите отсортированный список уникальных значений столбца `genre`:"
   ]
  },
  {
   "cell_type": "code",
   "execution_count": 17,
   "metadata": {
    "id": "wvixALnFG15m"
   },
   "outputs": [
    {
     "data": {
      "text/plain": [
       "array(['acid', 'acoustic', 'action', 'adult', 'africa', 'afrikaans',\n",
       "       'alternative', 'alternativepunk', 'ambient', 'americana',\n",
       "       'animated', 'anime', 'arabesk', 'arabic', 'arena',\n",
       "       'argentinetango', 'art', 'audiobook', 'author', 'avantgarde',\n",
       "       'axé', 'baile', 'balkan', 'beats', 'bigroom', 'black', 'bluegrass',\n",
       "       'blues', 'bollywood', 'bossa', 'brazilian', 'breakbeat', 'breaks',\n",
       "       'broadway', 'cantautori', 'cantopop', 'canzone', 'caribbean',\n",
       "       'caucasian', 'celtic', 'chamber', 'chanson', 'children', 'chill',\n",
       "       'chinese', 'choral', 'christian', 'christmas', 'classical',\n",
       "       'classicmetal', 'club', 'colombian', 'comedy', 'conjazz',\n",
       "       'contemporary', 'country', 'cuban', 'dance', 'dancehall',\n",
       "       'dancepop', 'dark', 'death', 'deep', 'deutschrock', 'deutschspr',\n",
       "       'dirty', 'disco', 'dnb', 'documentary', 'downbeat', 'downtempo',\n",
       "       'drum', 'dub', 'dubstep', 'eastern', 'easy', 'electronic',\n",
       "       'electropop', 'emo', 'entehno', 'epicmetal', 'estrada', 'ethnic',\n",
       "       'eurofolk', 'european', 'experimental', 'extrememetal', 'fado',\n",
       "       'fairytail', 'film', 'fitness', 'flamenco', 'folk', 'folklore',\n",
       "       'folkmetal', 'folkrock', 'folktronica', 'forró', 'frankreich',\n",
       "       'französisch', 'french', 'funk', 'future', 'gangsta', 'garage',\n",
       "       'german', 'ghazal', 'gitarre', 'glitch', 'gospel', 'gothic',\n",
       "       'grime', 'grunge', 'gypsy', 'handsup', \"hard'n'heavy\", 'hardcore',\n",
       "       'hardstyle', 'hardtechno', 'hiphop', 'historisch', 'holiday',\n",
       "       'horror', 'house', 'hymn', 'idm', 'independent', 'indian', 'indie',\n",
       "       'indipop', 'industrial', 'inspirational', 'instrumental',\n",
       "       'international', 'irish', 'jam', 'japanese', 'jazz', 'jewish',\n",
       "       'jpop', 'jungle', 'k-pop', 'karadeniz', 'karaoke', 'kayokyoku',\n",
       "       'korean', 'laiko', 'latin', 'latino', 'leftfield', 'local',\n",
       "       'lounge', 'loungeelectronic', 'lovers', 'malaysian', 'mandopop',\n",
       "       'marschmusik', 'meditative', 'mediterranean', 'melodic', 'metal',\n",
       "       'metalcore', 'mexican', 'middle', 'minimal', 'miscellaneous',\n",
       "       'modern', 'mood', 'mpb', 'muslim', 'native', 'neoklassik', 'neue',\n",
       "       'new', 'newage', 'newwave', 'nu', 'nujazz', 'numetal', 'oceania',\n",
       "       'old', 'opera', 'orchestral', 'other', 'piano', 'podcasts', 'pop',\n",
       "       'popdance', 'popelectronic', 'popeurodance', 'poprussian', 'post',\n",
       "       'posthardcore', 'postrock', 'power', 'progmetal', 'progressive',\n",
       "       'psychedelic', 'punjabi', 'punk', 'quebecois', 'ragga', 'ram',\n",
       "       'rancheras', 'rap', 'rave', 'reggae', 'reggaeton', 'regional',\n",
       "       'relax', 'religious', 'retro', 'rhythm', 'rnb', 'rnr', 'rock',\n",
       "       'rockabilly', 'rockalternative', 'rockindie', 'rockother',\n",
       "       'romance', 'roots', 'ruspop', 'rusrap', 'rusrock', 'russian',\n",
       "       'salsa', 'samba', 'scenic', 'schlager', 'self', 'sertanejo',\n",
       "       'shanson', 'shoegazing', 'showtunes', 'singer', 'ska', 'skarock',\n",
       "       'slow', 'smooth', 'soft', 'soul', 'soulful', 'sound', 'soundtrack',\n",
       "       'southern', 'specialty', 'speech', 'spiritual', 'sport',\n",
       "       'stonerrock', 'surf', 'swing', 'synthpop', 'synthrock',\n",
       "       'sängerportrait', 'tango', 'tanzorchester', 'taraftar', 'tatar',\n",
       "       'tech', 'techno', 'teen', 'thrash', 'top', 'traditional',\n",
       "       'tradjazz', 'trance', 'tribal', 'trip', 'triphop', 'tropical',\n",
       "       'türk', 'türkçe', 'ukrrock', 'unknown', 'urban', 'uzbek',\n",
       "       'variété', 'vi', 'videogame', 'vocal', 'western', 'world',\n",
       "       'worldbeat', 'ïîï', 'электроника'], dtype=object)"
      ]
     },
     "execution_count": 17,
     "metadata": {},
     "output_type": "execute_result"
    }
   ],
   "source": [
    "# Проверка на неявные дубликаты\n",
    "df['genre'].sort_values().unique()"
   ]
  },
  {
   "cell_type": "markdown",
   "metadata": {
    "id": "jz6a9-7HQUDd"
   },
   "source": [
    "**Выводы**\n",
    "\n",
    "Предобработка обнаружила три проблемы в данных:\n",
    "\n",
    "- нарушения в стиле заголовков,\n",
    "- пропущенные значения,\n",
    "- дубликаты — явные и неявные.\n",
    "\n",
    "Вы исправили заголовки, чтобы упростить работу с таблицей. Без дубликатов исследование станет более точным.\n",
    "\n",
    "Пропущенные значения вы заменили на `'unknown'`. Ещё предстоит увидеть, не повредят ли исследованию пропуски в колонке `genre`.\n",
    "\n",
    "Теперь можно перейти к проверке гипотез. "
   ]
  },
  {
   "cell_type": "markdown",
   "metadata": {
    "id": "WttZHXH0SqKk"
   },
   "source": [
    "## Проверка гипотез"
   ]
  },
  {
   "cell_type": "markdown",
   "metadata": {
    "id": "Im936VVi_Zcu"
   },
   "source": [
    "### Сравнение поведения пользователей двух столиц"
   ]
  },
  {
   "cell_type": "markdown",
   "metadata": {
    "id": "nwt_MuaL_Zcu"
   },
   "source": [
    "Первая гипотеза утверждает, что пользователи по-разному слушают музыку в Москве и Санкт-Петербурге. Проверьте это предположение по данным о трёх днях недели — понедельнике, среде и пятнице. Для этого:\n",
    "\n",
    "* Разделите пользователей Москвы и Санкт-Петербурга\n",
    "* Сравните, сколько треков послушала каждая группа пользователей в понедельник, среду и пятницу.\n"
   ]
  },
  {
   "cell_type": "markdown",
   "metadata": {
    "id": "8Dw_YMmT_Zcu"
   },
   "source": [
    "Для тренировки сначала выполните каждый из расчётов по отдельности. \n",
    "\n",
    "Оцените активность пользователей в каждом городе. Сгруппируйте данные по городу и посчитайте прослушивания в каждой группе.\n",
    "\n"
   ]
  },
  {
   "cell_type": "code",
   "execution_count": 18,
   "metadata": {
    "id": "0_Qs96oh_Zcu"
   },
   "outputs": [
    {
     "data": {
      "text/plain": [
       "city\n",
       "Moscow              42741\n",
       "Saint-Petersburg    18512\n",
       "Name: genre, dtype: int64"
      ]
     },
     "execution_count": 18,
     "metadata": {},
     "output_type": "execute_result"
    }
   ],
   "source": [
    "# Подсчёт прослушиваний в каждом городе\n",
    "df.groupby('city')['genre'].count()"
   ]
  },
  {
   "cell_type": "markdown",
   "metadata": {
    "id": "dzli3w8o_Zcu"
   },
   "source": [
    "В Москве прослушиваний больше, чем в Петербурге. Из этого не следует, что московские пользователи чаще слушают музыку. Просто самих пользователей в Москве больше.\n",
    "\n",
    "Теперь сгруппируйте данные по дню недели и подсчитайте прослушивания в понедельник, среду и пятницу. Учтите, что в данных есть информация только о прослушиваниях только за эти дни.\n"
   ]
  },
  {
   "cell_type": "code",
   "execution_count": 19,
   "metadata": {
    "id": "uZMKjiJz_Zcu"
   },
   "outputs": [
    {
     "data": {
      "text/plain": [
       "day\n",
       "Friday       21840\n",
       "Monday       21354\n",
       "Wednesday    18059\n",
       "Name: genre, dtype: int64"
      ]
     },
     "execution_count": 19,
     "metadata": {},
     "output_type": "execute_result"
    }
   ],
   "source": [
    "# Подсчёт прослушиваний в каждый из трёх дней\n",
    "df.groupby('day')['genre'].count()"
   ]
  },
  {
   "cell_type": "markdown",
   "metadata": {
    "id": "cC2tNrlL_Zcu"
   },
   "source": [
    "В среднем пользователи из двух городов менее активны по средам. Но картина может измениться, если рассмотреть каждый город в отдельности."
   ]
  },
  {
   "cell_type": "markdown",
   "metadata": {
    "id": "POzs8bGa_Zcu"
   },
   "source": [
    "Вы видели, как работает группировка по городу и по дням недели. Теперь напишите функцию, которая объединит два эти расчёта.\n",
    "\n",
    "Создайте функцию `number_tracks()`, которая посчитает прослушивания для заданного дня и города. Ей понадобятся два параметра:\n",
    "* день недели,\n",
    "* название города.\n",
    "\n",
    "В функции сохраните в переменную строки исходной таблицы, у которых значение:\n",
    "  * в колонке `day` равно параметру `day`,\n",
    "  * в колонке `city` равно параметру `city`.\n",
    "\n",
    "Для этого примените последовательную фильтрацию с логической индексацией.\n",
    "\n",
    "Затем посчитайте значения в столбце `user_id` получившейся таблицы. Результат сохраните в новую переменную. Верните эту переменную из функции."
   ]
  },
  {
   "cell_type": "code",
   "execution_count": 20,
   "metadata": {
    "id": "Nz3GdQB1_Zcu"
   },
   "outputs": [],
   "source": [
    "# Функция для подсчёта прослушиваний для конкретного города и дня.\n",
    "# С помощью последовательной фильтрации с логической индексацией она \n",
    "# сначала получит из исходной таблицы строки с нужным днём,\n",
    "# затем из результата отфильтрует строки с нужным городом,\n",
    "# методом count() посчитает количество значений в колонке user_id. \n",
    "# Это количество функция вернёт в качестве результата\n",
    "\n",
    "# Объявляется функция с двумя параметрами: day, city.\n",
    "\n",
    "def number_tracks(day, city): \n",
    "    \n",
    "# В переменной track_list сохраняются те строки таблицы df, для которых \n",
    "# значение в столбце 'day' равно параметру day и одновременно значение\n",
    "# в столбце 'city' равно параметру city (используйте последовательную фильтрацию\n",
    "# с помощью логической индексации).\n",
    "    \n",
    "    track_list = df[df['day'] == day] \n",
    "    track_list = track_list[track_list['city'] == city]\n",
    "    \n",
    "# В переменной track_list_count сохраняется число значений столбца 'user_id',\n",
    "# рассчитанное методом count() для таблицы track_list.    \n",
    "   \n",
    "    track_list_count = track_list['user_id'].count()\n",
    "\n",
    "# Функция возвращает число - значение track_list_count.\n",
    "\n",
    "    return track_list_count"
   ]
  },
  {
   "cell_type": "markdown",
   "metadata": {
    "id": "ytf7xFrFJQ2r"
   },
   "source": [
    "Вызовите `number_tracks()` шесть раз, меняя значение параметров — так, чтобы получить данные для каждого города в каждый из трёх дней."
   ]
  },
  {
   "cell_type": "code",
   "execution_count": 21,
   "metadata": {
    "id": "rJcRATNQ_Zcu",
    "scrolled": true
   },
   "outputs": [
    {
     "data": {
      "text/plain": [
       "15740"
      ]
     },
     "execution_count": 21,
     "metadata": {},
     "output_type": "execute_result"
    }
   ],
   "source": [
    "# количество прослушиваний в Москве по понедельникам\n",
    "number_tracks('Monday','Moscow')"
   ]
  },
  {
   "cell_type": "code",
   "execution_count": 22,
   "metadata": {
    "id": "hq_ncZ5T_Zcu"
   },
   "outputs": [
    {
     "data": {
      "text/plain": [
       "5614"
      ]
     },
     "execution_count": 22,
     "metadata": {},
     "output_type": "execute_result"
    }
   ],
   "source": [
    "# количество прослушиваний в Санкт-Петербурге по понедельникам\n",
    "number_tracks('Monday','Saint-Petersburg')"
   ]
  },
  {
   "cell_type": "code",
   "execution_count": 23,
   "metadata": {
    "id": "_NTy2VPU_Zcu"
   },
   "outputs": [
    {
     "data": {
      "text/plain": [
       "11056"
      ]
     },
     "execution_count": 23,
     "metadata": {},
     "output_type": "execute_result"
    }
   ],
   "source": [
    "# количество прослушиваний в Москве по средам\n",
    "number_tracks('Wednesday','Moscow')"
   ]
  },
  {
   "cell_type": "code",
   "execution_count": 24,
   "metadata": {
    "id": "j2y3TAwo_Zcu"
   },
   "outputs": [
    {
     "data": {
      "text/plain": [
       "7003"
      ]
     },
     "execution_count": 24,
     "metadata": {},
     "output_type": "execute_result"
    }
   ],
   "source": [
    "# количество прослушиваний в Санкт-Петербурге по средам\n",
    "number_tracks('Wednesday','Saint-Petersburg')"
   ]
  },
  {
   "cell_type": "code",
   "execution_count": 25,
   "metadata": {
    "id": "vYDw5u_K_Zcu"
   },
   "outputs": [
    {
     "data": {
      "text/plain": [
       "15945"
      ]
     },
     "execution_count": 25,
     "metadata": {},
     "output_type": "execute_result"
    }
   ],
   "source": [
    "# количество прослушиваний в Москве по пятницам\n",
    "number_tracks('Friday','Moscow')"
   ]
  },
  {
   "cell_type": "code",
   "execution_count": 26,
   "metadata": {
    "id": "8_yzFtW3_Zcu"
   },
   "outputs": [
    {
     "data": {
      "text/plain": [
       "5895"
      ]
     },
     "execution_count": 26,
     "metadata": {},
     "output_type": "execute_result"
    }
   ],
   "source": [
    "# количество прослушиваний в Санкт-Петербурге по пятницам\n",
    "number_tracks('Friday','Saint-Petersburg')"
   ]
  },
  {
   "cell_type": "markdown",
   "metadata": {
    "id": "7QXffbO-_Zcu"
   },
   "source": [
    "Создайте c помощью конструктора `pd.DataFrame` таблицу, где\n",
    "* названия колонок — `['city', 'monday', 'wednesday', 'friday']`;\n",
    "* данные — результаты, которые вы получили с помощью `number_tracks`."
   ]
  },
  {
   "cell_type": "code",
   "execution_count": 27,
   "metadata": {
    "id": "APAcLpOr_Zcu"
   },
   "outputs": [
    {
     "data": {
      "text/html": [
       "<div>\n",
       "<style scoped>\n",
       "    .dataframe tbody tr th:only-of-type {\n",
       "        vertical-align: middle;\n",
       "    }\n",
       "\n",
       "    .dataframe tbody tr th {\n",
       "        vertical-align: top;\n",
       "    }\n",
       "\n",
       "    .dataframe thead th {\n",
       "        text-align: right;\n",
       "    }\n",
       "</style>\n",
       "<table border=\"1\" class=\"dataframe\">\n",
       "  <thead>\n",
       "    <tr style=\"text-align: right;\">\n",
       "      <th></th>\n",
       "      <th>city</th>\n",
       "      <th>monday</th>\n",
       "      <th>wednesday</th>\n",
       "      <th>friday</th>\n",
       "    </tr>\n",
       "  </thead>\n",
       "  <tbody>\n",
       "    <tr>\n",
       "      <th>0</th>\n",
       "      <td>Moscow</td>\n",
       "      <td>15740</td>\n",
       "      <td>11056</td>\n",
       "      <td>15945</td>\n",
       "    </tr>\n",
       "    <tr>\n",
       "      <th>1</th>\n",
       "      <td>Saint-Petersburg</td>\n",
       "      <td>5614</td>\n",
       "      <td>7003</td>\n",
       "      <td>5895</td>\n",
       "    </tr>\n",
       "  </tbody>\n",
       "</table>\n",
       "</div>"
      ],
      "text/plain": [
       "               city  monday  wednesday  friday\n",
       "0            Moscow   15740      11056   15945\n",
       "1  Saint-Petersburg    5614       7003    5895"
      ]
     },
     "execution_count": 27,
     "metadata": {},
     "output_type": "execute_result"
    }
   ],
   "source": [
    "columns = ['city','monday', 'wednesday', 'friday']\n",
    "\n",
    "# создаю пустой список для data, в который будут добавляться данные из number_tracks\n",
    "tracks_amount = []   \n",
    "cities = ['Moscow','Saint-Petersburg'] \n",
    "days = ['Monday', 'Wednesday', 'Friday']\n",
    "\n",
    "# вношу в каждую строку таблицы данные:\n",
    "# [город, данные по каждому дню..]\n",
    "for city in cities:  \n",
    "    tmp = [] \n",
    "    tmp.append(city) \n",
    "    for day in days:  \n",
    "        n = number_tracks(day,city)\n",
    "        tmp.append(n)\n",
    "    \n",
    "    tracks_amount.append(tmp)\n",
    "# Таблица с результатами   \n",
    "pd.DataFrame(data = tracks_amount, columns = columns)"
   ]
  },
  {
   "cell_type": "markdown",
   "metadata": {
    "id": "-EgPIHYu_Zcu"
   },
   "source": [
    "**Выводы**\n",
    "\n",
    "Данные показывают разницу поведения пользователей:\n",
    "\n",
    "- В Москве пик прослушиваний приходится на понедельник и пятницу, а в среду заметен спад.\n",
    "- В Петербурге, наоборот, больше слушают музыку по средам. Активность в понедельник и пятницу здесь почти в равной мере уступает среде.\n",
    "\n",
    "Значит, данные говорят в пользу первой гипотезы."
   ]
  },
  {
   "cell_type": "markdown",
   "metadata": {
    "id": "atZAxtq4_Zcu"
   },
   "source": [
    "### Музыка в начале и в конце недели"
   ]
  },
  {
   "cell_type": "markdown",
   "metadata": {
    "id": "eXrQqXFH_Zcu"
   },
   "source": [
    "Согласно второй гипотезе, утром в понедельник в Москве преобладают одни жанры, а в Петербурге — другие. Так же и вечером пятницы преобладают разные жанры — в зависимости от города."
   ]
  },
  {
   "cell_type": "markdown",
   "metadata": {
    "id": "S8UcW6Hw_Zcu"
   },
   "source": [
    "Сохраните таблицы с данными в две переменные:\n",
    "* по Москве — в `moscow_general`;\n",
    "* по Санкт-Петербургу — в `spb_general`."
   ]
  },
  {
   "cell_type": "code",
   "execution_count": 28,
   "metadata": {
    "id": "qeaFfM_P_Zcu"
   },
   "outputs": [],
   "source": [
    "# получение таблицы moscow_general из тех строк таблицы df, \n",
    "# для которых значение в столбце 'city' равно 'Moscow'\n",
    "\n",
    "moscow_general = df[df['city'] == 'Moscow']"
   ]
  },
  {
   "cell_type": "code",
   "execution_count": 29,
   "metadata": {
    "id": "ORaVRKto_Zcu"
   },
   "outputs": [],
   "source": [
    "# получение таблицы spb_general из тех строк таблицы df,\n",
    "# для которых значение в столбце 'city' равно 'Saint-Petersburg'\n",
    "\n",
    "spb_general = df[df['city'] == 'Saint-Petersburg']"
   ]
  },
  {
   "cell_type": "markdown",
   "metadata": {
    "id": "MEJV-CX2_Zcu"
   },
   "source": [
    "Создайте функцию `genre_weekday()` с четырьмя параметрами:\n",
    "* таблица (датафрейм) с данными,\n",
    "* день недели,\n",
    "* начальная временная метка в формате 'hh:mm', \n",
    "* последняя временная метка в формате 'hh:mm'.\n",
    "\n",
    "Функция должна вернуть информацию о топ-10 жанров тех треков, которые прослушивали в указанный день, в промежутке между двумя отметками времени."
   ]
  },
  {
   "cell_type": "code",
   "execution_count": 30,
   "metadata": {
    "id": "laJT9BYl_Zcu"
   },
   "outputs": [],
   "source": [
    "# Объявление функции genre_weekday() с параметрами table, day, time1, time2,\n",
    "# которая возвращает информацию о самых популярных жанрах в указанный день в\n",
    "# заданное время:\n",
    "# 1) в переменную genre_df сохраняются те строки переданного датафрейма table, для\n",
    "#    которых одновременно:\n",
    "#    - значение в столбце day равно значению аргумента day\n",
    "#    - значение в столбце time больше значения аргумента time1\n",
    "#    - значение в столбце time меньше значения аргумента time2\n",
    "#    Используйте последовательную фильтрацию с помощью логической индексации.\n",
    "# 2) сгруппировать датафрейм genre_df по столбцу genre, взять один из его\n",
    "#    столбцов и посчитать методом count() количество записей для каждого из\n",
    "#    присутствующих жанров, получившийся Series записать в переменную\n",
    "#    genre_df_count\n",
    "# 3) отсортировать genre_df_count по убыванию встречаемости и сохранить\n",
    "#    в переменную genre_df_sorted\n",
    "# 4) вернуть Series из 10 первых значений genre_df_sorted, это будут топ-10\n",
    "#    популярных жанров (в указанный день, в заданное время)\n",
    "\n",
    "def genre_weekday(table, day, time1, time2):\n",
    "    genre_df = table[table['day'] == day]\n",
    "    genre_df = genre_df[(genre_df['time'] > time1) & (genre_df['time'] < time2)]\n",
    "    genre_df_count = genre_df.groupby('genre')['user_id'].count()\n",
    "    genre_df_sorted = genre_df_count.sort_values(ascending = False)\n",
    "    return genre_df_sorted.head(10)"
   ]
  },
  {
   "cell_type": "markdown",
   "metadata": {
    "id": "la2s2_PF_Zcu"
   },
   "source": [
    "Cравните результаты функции `genre_weekday()` для Москвы и Санкт-Петербурга в понедельник утром (с 7:00 до 11:00) и в пятницу вечером (с 17:00 до 23:00):"
   ]
  },
  {
   "cell_type": "code",
   "execution_count": 31,
   "metadata": {
    "id": "yz7itPUQ_Zcu"
   },
   "outputs": [
    {
     "data": {
      "text/plain": [
       "genre\n",
       "pop            781\n",
       "dance          549\n",
       "electronic     480\n",
       "rock           474\n",
       "hiphop         286\n",
       "ruspop         186\n",
       "world          181\n",
       "rusrap         175\n",
       "alternative    164\n",
       "unknown        161\n",
       "Name: user_id, dtype: int64"
      ]
     },
     "execution_count": 31,
     "metadata": {},
     "output_type": "execute_result"
    }
   ],
   "source": [
    "# вызов функции для утра понедельника в Москве (вместо df — таблица moscow_general)\n",
    "# объекты, хранящие время, являются строками и сравниваются как строки\n",
    "# пример вызова: genre_weekday(moscow_general, 'Monday', '07:00', '11:00')\n",
    "\n",
    "genre_weekday(moscow_general, 'Monday', '07:00', '11:00')"
   ]
  },
  {
   "cell_type": "code",
   "execution_count": 32,
   "metadata": {
    "id": "kwUcHPdy_Zcu"
   },
   "outputs": [
    {
     "data": {
      "text/plain": [
       "genre\n",
       "pop            218\n",
       "dance          182\n",
       "rock           162\n",
       "electronic     147\n",
       "hiphop          80\n",
       "ruspop          64\n",
       "alternative     58\n",
       "rusrap          55\n",
       "jazz            44\n",
       "classical       40\n",
       "Name: user_id, dtype: int64"
      ]
     },
     "execution_count": 32,
     "metadata": {},
     "output_type": "execute_result"
    }
   ],
   "source": [
    "# вызов функции для утра понедельника в Петербурге (вместо df — таблица spb_general)\n",
    "\n",
    "genre_weekday(spb_general, 'Monday', '07:00', '11:00')"
   ]
  },
  {
   "cell_type": "code",
   "execution_count": 33,
   "metadata": {
    "id": "EzXVRE1o_Zcu"
   },
   "outputs": [
    {
     "data": {
      "text/plain": [
       "genre\n",
       "pop            713\n",
       "rock           517\n",
       "dance          495\n",
       "electronic     482\n",
       "hiphop         273\n",
       "world          208\n",
       "ruspop         170\n",
       "alternative    163\n",
       "classical      163\n",
       "rusrap         142\n",
       "Name: user_id, dtype: int64"
      ]
     },
     "execution_count": 33,
     "metadata": {},
     "output_type": "execute_result"
    }
   ],
   "source": [
    "# вызов функции для вечера пятницы в Москве\n",
    "\n",
    "genre_weekday(moscow_general, 'Friday', '17:00', '23:00')"
   ]
  },
  {
   "cell_type": "code",
   "execution_count": 34,
   "metadata": {
    "id": "JZaEKu5v_Zcu"
   },
   "outputs": [
    {
     "data": {
      "text/plain": [
       "genre\n",
       "pop            256\n",
       "electronic     216\n",
       "rock           216\n",
       "dance          210\n",
       "hiphop          97\n",
       "alternative     63\n",
       "jazz            61\n",
       "classical       60\n",
       "rusrap          59\n",
       "world           54\n",
       "Name: user_id, dtype: int64"
      ]
     },
     "execution_count": 34,
     "metadata": {},
     "output_type": "execute_result"
    }
   ],
   "source": [
    "# вызов функции для вечера пятницы в Петербурге\n",
    "\n",
    "genre_weekday(spb_general, 'Friday', '17:00', '23:00')"
   ]
  },
  {
   "cell_type": "markdown",
   "metadata": {
    "id": "wrCe4MNX_Zcu"
   },
   "source": [
    "**Выводы**\n",
    "\n",
    "Если сравнить топ-10 жанров в понедельник утром, можно сделать такие выводы:\n",
    "\n",
    "1. В Москве и Петербурге слушают похожую музыку. Единственное отличие — в московский рейтинг вошёл жанр “world”, а в петербургский — джаз и классика.\n",
    "\n",
    "2. В Москве пропущенных значений оказалось так много, что значение `'unknown'` заняло десятое место среди самых популярных жанров. Значит, пропущенные значения занимают существенную долю в данных и угрожают достоверности исследования.\n",
    "\n",
    "Вечер пятницы не меняет эту картину. Некоторые жанры поднимаются немного выше, другие спускаются, но в целом топ-10 остаётся тем же самым.\n",
    "\n",
    "Таким образом, вторая гипотеза подтвердилась лишь частично:\n",
    "* Пользователи слушают похожую музыку в начале недели и в конце.\n",
    "* Разница между Москвой и Петербургом не слишком выражена. В Москве чаще слушают русскую популярную музыку, в Петербурге — джаз.\n",
    "\n",
    "Однако пропуски в данных ставят под сомнение этот результат. В Москве их так много, что рейтинг топ-10 мог бы выглядеть иначе, если бы не утерянные  данные о жанрах."
   ]
  },
  {
   "cell_type": "markdown",
   "metadata": {
    "id": "JolODAqr_Zcu"
   },
   "source": [
    "### Жанровые предпочтения в Москве и Петербурге\n",
    "\n",
    "Гипотеза: Петербург — столица рэпа, музыку этого жанра там слушают чаще, чем в Москве.  А Москва — город контрастов, в котором, тем не менее, преобладает поп-музыка."
   ]
  },
  {
   "cell_type": "markdown",
   "metadata": {
    "id": "DlegSvaT_Zcu"
   },
   "source": [
    "Сгруппируйте таблицу `moscow_general` по жанру и посчитайте прослушивания треков каждого жанра методом `count()`. Затем отсортируйте результат в порядке убывания и сохраните его в таблице `moscow_genres`."
   ]
  },
  {
   "cell_type": "code",
   "execution_count": 35,
   "metadata": {
    "id": "r19lIPke_Zcu"
   },
   "outputs": [],
   "source": [
    "# одной строкой: группировка таблицы moscow_general по столбцу 'genre', \n",
    "# подсчёт числа значений 'genre' в этой группировке методом count(), \n",
    "# сортировка получившегося Series в порядке убывания и сохранение в moscow_genres\n",
    "\n",
    "moscow_genres = moscow_general.groupby('genre')['user_id'].count().sort_values(ascending = False)"
   ]
  },
  {
   "cell_type": "markdown",
   "metadata": {
    "id": "6kMuomxTiIr8"
   },
   "source": [
    "Выведите на экран первые десять строк `moscow_genres`:"
   ]
  },
  {
   "cell_type": "code",
   "execution_count": 36,
   "metadata": {
    "id": "WhCSooF8_Zcv"
   },
   "outputs": [
    {
     "data": {
      "text/plain": [
       "genre\n",
       "pop            5892\n",
       "dance          4435\n",
       "rock           3965\n",
       "electronic     3786\n",
       "hiphop         2096\n",
       "classical      1616\n",
       "world          1432\n",
       "alternative    1379\n",
       "ruspop         1372\n",
       "rusrap         1161\n",
       "Name: user_id, dtype: int64"
      ]
     },
     "execution_count": 36,
     "metadata": {},
     "output_type": "execute_result"
    }
   ],
   "source": [
    "moscow_genres.head(10)"
   ]
  },
  {
   "cell_type": "markdown",
   "metadata": {
    "id": "cnPG2vnN_Zcv"
   },
   "source": [
    "Теперь повторите то же и для Петербурга.\n",
    "\n",
    "Сгруппируйте таблицу `spb_general` по жанру. Посчитайте прослушивания треков каждого жанра. Результат отсортируйте в порядке убывания и сохраните в таблице `spb_genres`:\n"
   ]
  },
  {
   "cell_type": "code",
   "execution_count": 37,
   "metadata": {
    "id": "gluLIpE7_Zcv"
   },
   "outputs": [],
   "source": [
    "# одной строкой: группировка таблицы spb_general по столбцу 'genre', \n",
    "# подсчёт числа значений 'genre' в этой группировке методом count(), \n",
    "# сортировка получившегося Series в порядке убывания и сохранение в spb_genres\n",
    "\n",
    "spb_genres = spb_general.groupby('genre')['user_id'].count().sort_values(ascending = False)"
   ]
  },
  {
   "cell_type": "markdown",
   "metadata": {
    "id": "5Doha_ODgyQ8"
   },
   "source": [
    "Выведите на экран первые десять строк `spb_genres`:"
   ]
  },
  {
   "cell_type": "code",
   "execution_count": 38,
   "metadata": {
    "id": "uaGJHjVU_Zcv"
   },
   "outputs": [
    {
     "data": {
      "text/plain": [
       "genre\n",
       "pop            2431\n",
       "dance          1932\n",
       "rock           1879\n",
       "electronic     1736\n",
       "hiphop          960\n",
       "alternative     649\n",
       "classical       646\n",
       "rusrap          564\n",
       "ruspop          538\n",
       "world           515\n",
       "Name: user_id, dtype: int64"
      ]
     },
     "execution_count": 38,
     "metadata": {},
     "output_type": "execute_result"
    }
   ],
   "source": [
    "spb_genres.head(10)"
   ]
  },
  {
   "cell_type": "markdown",
   "metadata": {
    "id": "RY51YJYu_Zcv"
   },
   "source": [
    "**Выводы**"
   ]
  },
  {
   "cell_type": "markdown",
   "metadata": {
    "id": "nVhnJEm__Zcv"
   },
   "source": [
    "Гипотеза частично подтвердилась:\n",
    "* Поп-музыка — самый популярный жанр в Москве, как и предполагала гипотеза. Более того, в топ-10 жанров встречается близкий жанр — русская популярная музыка.\n",
    "* Вопреки ожиданиям, рэп одинаково популярен в Москве и Петербурге. \n"
   ]
  },
  {
   "cell_type": "markdown",
   "metadata": {
    "id": "ykKQ0N65_Zcv"
   },
   "source": [
    "## Итоги исследования"
   ]
  },
  {
   "cell_type": "markdown",
   "metadata": {
    "id": "tjUwbHb3_Zcv"
   },
   "source": [
    "Вы проверили три гипотезы и установили:\n",
    "\n",
    "1. День недели по-разному влияет на активность пользователей в Москве и Петербурге. \n",
    "\n",
    "Первая гипотеза полностью подтвердилась.\n",
    "\n",
    "2. Музыкальные предпочтения не сильно меняются в течение недели — будь то Москва или Петербург. Небольшие различия заметны в начале недели, по понедельникам:\n",
    "* в Москве слушают музыку жанра “world”,\n",
    "* в Петербурге — джаз и классику.\n",
    "\n",
    "Таким образом, вторая гипотеза подтвердилась лишь отчасти. Этот результат мог оказаться иным, если бы не пропуски в данных.\n",
    "\n",
    "3. Во вкусах пользователей Москвы и Петербурга больше общего чем различий. Вопреки ожиданиям, предпочтения жанров в Петербурге напоминают московские.\n",
    "\n",
    "Третья гипотеза не подтвердилась. Если различия в предпочтениях и существуют, на основной массе пользователей они незаметны.\n",
    "\n",
    "**На практике исследования содержат проверки статистических гипотез.**\n",
    "Из данных одного сервиса не всегда можно сделать вывод о всех жителях города.\n",
    "Проверки статистических гипотез покажут, насколько они достоверны, исходя из имеющихся данных. \n",
    "С методами проверок гипотез вы ещё познакомитесь в следующих темах."
   ]
  }
 ],
 "metadata": {
  "ExecuteTimeLog": [
   {
    "duration": 383,
    "start_time": "2021-12-20T07:07:30.120Z"
   },
   {
    "duration": 98,
    "start_time": "2021-12-20T07:07:42.992Z"
   },
   {
    "duration": 287,
    "start_time": "2021-12-20T07:09:09.593Z"
   },
   {
    "duration": 277,
    "start_time": "2021-12-20T07:09:36.075Z"
   },
   {
    "duration": 282,
    "start_time": "2021-12-20T07:14:08.594Z"
   },
   {
    "duration": 830,
    "start_time": "2021-12-20T07:14:34.194Z"
   },
   {
    "duration": 274,
    "start_time": "2021-12-20T07:17:01.754Z"
   },
   {
    "duration": 727,
    "start_time": "2021-12-20T07:18:07.152Z"
   },
   {
    "duration": 182,
    "start_time": "2021-12-20T07:18:13.874Z"
   },
   {
    "duration": 3,
    "start_time": "2021-12-20T07:18:24.674Z"
   },
   {
    "duration": 197,
    "start_time": "2021-12-20T07:18:57.155Z"
   },
   {
    "duration": 25,
    "start_time": "2021-12-20T07:19:08.437Z"
   },
   {
    "duration": 366,
    "start_time": "2021-12-20T07:26:22.953Z"
   },
   {
    "duration": 3,
    "start_time": "2021-12-20T07:26:29.714Z"
   },
   {
    "duration": 190,
    "start_time": "2021-12-20T07:26:31.312Z"
   },
   {
    "duration": 38,
    "start_time": "2021-12-20T07:27:52.114Z"
   },
   {
    "duration": 5,
    "start_time": "2021-12-20T07:37:40.076Z"
   },
   {
    "duration": 343,
    "start_time": "2021-12-20T07:44:06.750Z"
   },
   {
    "duration": 338,
    "start_time": "2021-12-20T07:44:39.440Z"
   },
   {
    "duration": 6,
    "start_time": "2021-12-20T07:45:46.190Z"
   },
   {
    "duration": 23,
    "start_time": "2021-12-20T07:46:55.870Z"
   },
   {
    "duration": 6,
    "start_time": "2021-12-20T07:47:26.236Z"
   },
   {
    "duration": 40,
    "start_time": "2021-12-20T07:48:29.949Z"
   },
   {
    "duration": 36,
    "start_time": "2021-12-20T07:57:25.309Z"
   },
   {
    "duration": 29,
    "start_time": "2021-12-20T07:57:45.669Z"
   },
   {
    "duration": 33,
    "start_time": "2021-12-20T07:57:55.204Z"
   },
   {
    "duration": 4,
    "start_time": "2021-12-20T08:02:31.989Z"
   },
   {
    "duration": 23,
    "start_time": "2021-12-20T08:04:40.943Z"
   },
   {
    "duration": 30,
    "start_time": "2021-12-20T08:04:56.549Z"
   },
   {
    "duration": 106,
    "start_time": "2021-12-20T08:07:19.589Z"
   },
   {
    "duration": 92,
    "start_time": "2021-12-20T08:09:29.150Z"
   },
   {
    "duration": 81,
    "start_time": "2021-12-20T08:10:34.712Z"
   },
   {
    "duration": 79,
    "start_time": "2021-12-20T08:10:48.190Z"
   },
   {
    "duration": 81,
    "start_time": "2021-12-20T08:10:54.432Z"
   },
   {
    "duration": 90,
    "start_time": "2021-12-20T08:11:05.551Z"
   },
   {
    "duration": 97,
    "start_time": "2021-12-20T08:11:12.310Z"
   },
   {
    "duration": 85,
    "start_time": "2021-12-20T08:11:21.791Z"
   },
   {
    "duration": 4,
    "start_time": "2021-12-20T08:13:07.067Z"
   },
   {
    "duration": 208,
    "start_time": "2021-12-20T08:13:08.190Z"
   },
   {
    "duration": 20,
    "start_time": "2021-12-20T08:13:09.553Z"
   },
   {
    "duration": 33,
    "start_time": "2021-12-20T08:13:13.589Z"
   },
   {
    "duration": 7,
    "start_time": "2021-12-20T08:13:21.028Z"
   },
   {
    "duration": 16,
    "start_time": "2021-12-20T08:13:23.990Z"
   },
   {
    "duration": 6,
    "start_time": "2021-12-20T08:13:28.435Z"
   },
   {
    "duration": 29,
    "start_time": "2021-12-20T08:13:38.590Z"
   },
   {
    "duration": 21,
    "start_time": "2021-12-20T08:13:43.590Z"
   },
   {
    "duration": 28,
    "start_time": "2021-12-20T08:13:45.550Z"
   },
   {
    "duration": 77,
    "start_time": "2021-12-20T08:13:49.349Z"
   },
   {
    "duration": 89,
    "start_time": "2021-12-20T08:13:53.870Z"
   },
   {
    "duration": 72,
    "start_time": "2021-12-20T08:13:58.350Z"
   },
   {
    "duration": 8,
    "start_time": "2021-12-20T08:17:26.852Z"
   },
   {
    "duration": 11,
    "start_time": "2021-12-20T08:21:47.245Z"
   },
   {
    "duration": 71,
    "start_time": "2021-12-20T08:23:36.627Z"
   },
   {
    "duration": 63,
    "start_time": "2021-12-20T08:24:07.897Z"
   },
   {
    "duration": 5,
    "start_time": "2021-12-20T08:30:42.243Z"
   },
   {
    "duration": 32,
    "start_time": "2021-12-20T08:33:11.667Z"
   },
   {
    "duration": 71,
    "start_time": "2021-12-20T08:33:41.505Z"
   },
   {
    "duration": 59,
    "start_time": "2021-12-20T08:39:12.920Z"
   },
   {
    "duration": 48,
    "start_time": "2021-12-20T08:41:27.238Z"
   },
   {
    "duration": 95,
    "start_time": "2021-12-20T08:54:07.413Z"
   },
   {
    "duration": 122,
    "start_time": "2021-12-20T08:55:06.651Z"
   },
   {
    "duration": 133,
    "start_time": "2021-12-20T08:55:53.381Z"
   },
   {
    "duration": 295,
    "start_time": "2021-12-20T08:57:28.135Z"
   },
   {
    "duration": 186,
    "start_time": "2021-12-20T08:57:55.972Z"
   },
   {
    "duration": 391,
    "start_time": "2021-12-20T08:58:14.028Z"
   },
   {
    "duration": 5,
    "start_time": "2021-12-20T08:58:22.158Z"
   },
   {
    "duration": 13916,
    "start_time": "2021-12-20T08:58:27.522Z"
   },
   {
    "duration": 568,
    "start_time": "2021-12-20T08:59:19.582Z"
   },
   {
    "duration": 559,
    "start_time": "2021-12-20T08:59:46.941Z"
   },
   {
    "duration": 344,
    "start_time": "2021-12-20T09:00:06.695Z"
   },
   {
    "duration": 538,
    "start_time": "2021-12-20T09:00:34.815Z"
   },
   {
    "duration": 5,
    "start_time": "2021-12-20T09:01:40.272Z"
   },
   {
    "duration": 7318,
    "start_time": "2021-12-20T09:01:42.179Z"
   },
   {
    "duration": 5,
    "start_time": "2021-12-20T09:02:46.293Z"
   },
   {
    "duration": 5,
    "start_time": "2021-12-20T09:03:28.309Z"
   },
   {
    "duration": 7842,
    "start_time": "2021-12-20T09:03:36.233Z"
   },
   {
    "duration": 4,
    "start_time": "2021-12-20T09:06:01.367Z"
   },
   {
    "duration": 10460,
    "start_time": "2021-12-20T09:07:25.941Z"
   },
   {
    "duration": 5,
    "start_time": "2021-12-20T09:09:30.175Z"
   },
   {
    "duration": 2926,
    "start_time": "2021-12-20T09:09:35.122Z"
   },
   {
    "duration": 4,
    "start_time": "2021-12-20T09:18:16.273Z"
   },
   {
    "duration": 580,
    "start_time": "2021-12-20T09:18:29.103Z"
   },
   {
    "duration": 5,
    "start_time": "2021-12-20T09:19:36.075Z"
   },
   {
    "duration": 751,
    "start_time": "2021-12-20T09:19:38.873Z"
   },
   {
    "duration": 10,
    "start_time": "2021-12-20T09:29:18.235Z"
   },
   {
    "duration": 26,
    "start_time": "2021-12-20T09:29:21.665Z"
   },
   {
    "duration": 21,
    "start_time": "2021-12-20T09:30:28.181Z"
   },
   {
    "duration": 24,
    "start_time": "2021-12-20T09:30:29.942Z"
   },
   {
    "duration": 5,
    "start_time": "2021-12-20T09:31:47.592Z"
   },
   {
    "duration": 11,
    "start_time": "2021-12-20T09:31:49.704Z"
   },
   {
    "duration": 11,
    "start_time": "2021-12-20T09:31:54.863Z"
   },
   {
    "duration": 5,
    "start_time": "2021-12-20T09:43:54.157Z"
   },
   {
    "duration": 21,
    "start_time": "2021-12-20T09:43:56.977Z"
   },
   {
    "duration": 6,
    "start_time": "2021-12-20T09:44:17.788Z"
   },
   {
    "duration": 16,
    "start_time": "2021-12-20T09:44:22.733Z"
   },
   {
    "duration": 6,
    "start_time": "2021-12-20T09:45:45.021Z"
   },
   {
    "duration": 11,
    "start_time": "2021-12-20T09:45:47.376Z"
   },
   {
    "duration": 4,
    "start_time": "2021-12-20T09:50:51.266Z"
   },
   {
    "duration": 16,
    "start_time": "2021-12-20T09:50:54.655Z"
   },
   {
    "duration": 5,
    "start_time": "2021-12-20T09:55:10.522Z"
   },
   {
    "duration": 602,
    "start_time": "2021-12-20T09:55:11.741Z"
   },
   {
    "duration": 5,
    "start_time": "2021-12-20T10:19:56.873Z"
   },
   {
    "duration": 3075,
    "start_time": "2021-12-20T10:19:59.305Z"
   },
   {
    "duration": 10,
    "start_time": "2021-12-20T10:20:28.035Z"
   },
   {
    "duration": 13,
    "start_time": "2021-12-20T10:20:30.192Z"
   },
   {
    "duration": 7,
    "start_time": "2021-12-20T10:21:43.718Z"
   },
   {
    "duration": 670,
    "start_time": "2021-12-20T10:21:45.180Z"
   },
   {
    "duration": 5,
    "start_time": "2021-12-20T10:22:09.812Z"
   },
   {
    "duration": 17,
    "start_time": "2021-12-20T10:22:11.764Z"
   },
   {
    "duration": 18,
    "start_time": "2021-12-20T10:22:18.643Z"
   },
   {
    "duration": 7,
    "start_time": "2021-12-20T10:36:59.820Z"
   },
   {
    "duration": 17,
    "start_time": "2021-12-20T10:37:01.231Z"
   },
   {
    "duration": 14,
    "start_time": "2021-12-20T10:37:41.801Z"
   },
   {
    "duration": 7,
    "start_time": "2021-12-20T10:38:28.740Z"
   },
   {
    "duration": 12,
    "start_time": "2021-12-20T10:38:30.552Z"
   },
   {
    "duration": 394,
    "start_time": "2021-12-20T10:48:01.727Z"
   },
   {
    "duration": 13,
    "start_time": "2021-12-20T10:48:39.347Z"
   },
   {
    "duration": 18,
    "start_time": "2021-12-20T10:48:59.546Z"
   },
   {
    "duration": 25,
    "start_time": "2021-12-20T10:59:51.446Z"
   },
   {
    "duration": 6,
    "start_time": "2021-12-20T11:13:49.537Z"
   },
   {
    "duration": 57,
    "start_time": "2021-12-20T11:13:53.728Z"
   },
   {
    "duration": 6,
    "start_time": "2021-12-20T11:14:22.058Z"
   },
   {
    "duration": 59,
    "start_time": "2021-12-20T11:14:23.994Z"
   },
   {
    "duration": 50,
    "start_time": "2021-12-20T11:14:28.948Z"
   },
   {
    "duration": 5,
    "start_time": "2021-12-20T11:14:38.267Z"
   },
   {
    "duration": 5,
    "start_time": "2021-12-20T11:14:49.401Z"
   },
   {
    "duration": 26,
    "start_time": "2021-12-20T11:14:51.229Z"
   },
   {
    "duration": 22,
    "start_time": "2021-12-20T11:15:15.949Z"
   },
   {
    "duration": 26,
    "start_time": "2021-12-20T11:16:07.514Z"
   },
   {
    "duration": 21,
    "start_time": "2021-12-20T11:16:31.576Z"
   },
   {
    "duration": 34,
    "start_time": "2021-12-20T11:17:10.519Z"
   },
   {
    "duration": 22,
    "start_time": "2021-12-20T11:17:11.436Z"
   },
   {
    "duration": 277,
    "start_time": "2021-12-20T11:18:37.476Z"
   },
   {
    "duration": 101,
    "start_time": "2021-12-20T11:26:04.948Z"
   },
   {
    "duration": 5,
    "start_time": "2021-12-20T12:26:35.379Z"
   },
   {
    "duration": 23,
    "start_time": "2021-12-20T12:26:38.950Z"
   },
   {
    "duration": 6,
    "start_time": "2021-12-20T12:26:52.440Z"
   },
   {
    "duration": 21,
    "start_time": "2021-12-20T12:26:53.761Z"
   },
   {
    "duration": 874,
    "start_time": "2021-12-20T12:30:05.103Z"
   },
   {
    "duration": 291,
    "start_time": "2021-12-20T12:32:42.708Z"
   },
   {
    "duration": 296,
    "start_time": "2021-12-20T12:44:52.790Z"
   },
   {
    "duration": 293,
    "start_time": "2021-12-20T12:45:50.909Z"
   },
   {
    "duration": 326,
    "start_time": "2021-12-20T12:47:21.052Z"
   },
   {
    "duration": 357,
    "start_time": "2021-12-20T12:47:40.090Z"
   },
   {
    "duration": 296,
    "start_time": "2021-12-20T12:54:16.929Z"
   },
   {
    "duration": 11,
    "start_time": "2021-12-20T12:56:51.076Z"
   },
   {
    "duration": 12,
    "start_time": "2021-12-20T12:57:19.311Z"
   },
   {
    "duration": 15,
    "start_time": "2021-12-20T12:59:14.770Z"
   },
   {
    "duration": 5,
    "start_time": "2021-12-20T13:09:10.618Z"
   },
   {
    "duration": 6,
    "start_time": "2021-12-20T13:13:42.062Z"
   },
   {
    "duration": 282,
    "start_time": "2021-12-20T19:22:09.719Z"
   },
   {
    "duration": 4,
    "start_time": "2021-12-20T19:22:37.109Z"
   },
   {
    "duration": 342,
    "start_time": "2021-12-20T19:22:39.303Z"
   },
   {
    "duration": 249,
    "start_time": "2021-12-20T19:23:07.075Z"
   },
   {
    "duration": 274,
    "start_time": "2021-12-20T19:23:42.548Z"
   },
   {
    "duration": 276,
    "start_time": "2021-12-20T19:51:16.863Z"
   },
   {
    "duration": 238,
    "start_time": "2021-12-20T19:51:29.623Z"
   },
   {
    "duration": 3,
    "start_time": "2021-12-20T19:59:54.049Z"
   },
   {
    "duration": 639,
    "start_time": "2021-12-20T20:00:00.347Z"
   },
   {
    "duration": 587,
    "start_time": "2021-12-20T20:00:48.221Z"
   },
   {
    "duration": 141,
    "start_time": "2021-12-20T20:00:48.810Z"
   },
   {
    "duration": 17,
    "start_time": "2021-12-20T20:00:48.954Z"
   },
   {
    "duration": 34,
    "start_time": "2021-12-20T20:00:48.972Z"
   },
   {
    "duration": 10,
    "start_time": "2021-12-20T20:00:49.008Z"
   },
   {
    "duration": 21,
    "start_time": "2021-12-20T20:00:49.020Z"
   },
   {
    "duration": 4,
    "start_time": "2021-12-20T20:00:49.043Z"
   },
   {
    "duration": 23,
    "start_time": "2021-12-20T20:00:49.062Z"
   },
   {
    "duration": 20,
    "start_time": "2021-12-20T20:00:49.087Z"
   },
   {
    "duration": 23,
    "start_time": "2021-12-20T20:00:49.108Z"
   },
   {
    "duration": 79,
    "start_time": "2021-12-20T20:00:49.132Z"
   },
   {
    "duration": 71,
    "start_time": "2021-12-20T20:00:49.213Z"
   },
   {
    "duration": 52,
    "start_time": "2021-12-20T20:00:49.285Z"
   },
   {
    "duration": 49,
    "start_time": "2021-12-20T20:00:49.338Z"
   },
   {
    "duration": 3,
    "start_time": "2021-12-20T20:00:49.389Z"
   },
   {
    "duration": 31,
    "start_time": "2021-12-20T20:00:49.393Z"
   },
   {
    "duration": 45,
    "start_time": "2021-12-20T20:00:49.425Z"
   },
   {
    "duration": 34,
    "start_time": "2021-12-20T20:00:49.471Z"
   },
   {
    "duration": 32,
    "start_time": "2021-12-20T20:00:49.507Z"
   },
   {
    "duration": 20,
    "start_time": "2021-12-20T20:00:49.541Z"
   },
   {
    "duration": 29,
    "start_time": "2021-12-20T20:00:49.563Z"
   },
   {
    "duration": 19,
    "start_time": "2021-12-20T20:00:49.594Z"
   },
   {
    "duration": 44,
    "start_time": "2021-12-20T20:00:49.616Z"
   },
   {
    "duration": 17,
    "start_time": "2021-12-20T20:00:49.663Z"
   },
   {
    "duration": 22,
    "start_time": "2021-12-20T20:00:49.682Z"
   },
   {
    "duration": 17,
    "start_time": "2021-12-20T20:00:49.705Z"
   },
   {
    "duration": 8,
    "start_time": "2021-12-20T20:00:49.723Z"
   },
   {
    "duration": 11,
    "start_time": "2021-12-20T20:00:49.761Z"
   },
   {
    "duration": 19,
    "start_time": "2021-12-20T20:00:49.774Z"
   },
   {
    "duration": 124,
    "start_time": "2021-12-20T20:00:49.795Z"
   },
   {
    "duration": 1860,
    "start_time": "2021-12-20T20:00:48.061Z"
   },
   {
    "duration": 1856,
    "start_time": "2021-12-20T20:00:48.066Z"
   },
   {
    "duration": 1850,
    "start_time": "2021-12-20T20:00:48.072Z"
   },
   {
    "duration": 1845,
    "start_time": "2021-12-20T20:00:48.078Z"
   },
   {
    "duration": 1840,
    "start_time": "2021-12-20T20:00:48.084Z"
   },
   {
    "duration": 1835,
    "start_time": "2021-12-20T20:00:48.090Z"
   },
   {
    "duration": 1830,
    "start_time": "2021-12-20T20:00:48.096Z"
   },
   {
    "duration": 1825,
    "start_time": "2021-12-20T20:00:48.102Z"
   },
   {
    "duration": 4,
    "start_time": "2021-12-20T20:01:39.160Z"
   },
   {
    "duration": 18,
    "start_time": "2021-12-20T20:01:43.421Z"
   },
   {
    "duration": 5,
    "start_time": "2021-12-20T20:04:03.962Z"
   },
   {
    "duration": 4,
    "start_time": "2021-12-20T20:04:29.517Z"
   },
   {
    "duration": 19,
    "start_time": "2021-12-20T20:04:33.111Z"
   },
   {
    "duration": 4,
    "start_time": "2021-12-20T20:05:47.764Z"
   },
   {
    "duration": 16,
    "start_time": "2021-12-20T20:05:50.181Z"
   },
   {
    "duration": 15,
    "start_time": "2021-12-20T20:05:52.197Z"
   },
   {
    "duration": 16,
    "start_time": "2021-12-20T20:05:53.061Z"
   },
   {
    "duration": 16,
    "start_time": "2021-12-20T20:05:53.789Z"
   },
   {
    "duration": 17,
    "start_time": "2021-12-20T20:05:54.590Z"
   },
   {
    "duration": 16,
    "start_time": "2021-12-20T20:05:55.302Z"
   },
   {
    "duration": 15,
    "start_time": "2021-12-20T20:08:37.743Z"
   },
   {
    "duration": 16,
    "start_time": "2021-12-20T20:08:51.662Z"
   },
   {
    "duration": 16,
    "start_time": "2021-12-20T20:08:52.190Z"
   },
   {
    "duration": 14,
    "start_time": "2021-12-20T20:08:52.703Z"
   },
   {
    "duration": 15,
    "start_time": "2021-12-20T20:08:55.624Z"
   },
   {
    "duration": 18,
    "start_time": "2021-12-20T20:08:57.502Z"
   },
   {
    "duration": 9,
    "start_time": "2021-12-20T20:10:01.067Z"
   },
   {
    "duration": 292,
    "start_time": "2021-12-20T20:18:47.868Z"
   },
   {
    "duration": 37,
    "start_time": "2021-12-20T20:22:04.551Z"
   },
   {
    "duration": 8,
    "start_time": "2021-12-20T20:22:30.669Z"
   },
   {
    "duration": 15,
    "start_time": "2021-12-20T20:22:37.823Z"
   },
   {
    "duration": 66,
    "start_time": "2021-12-20T20:22:59.108Z"
   },
   {
    "duration": 68,
    "start_time": "2021-12-20T20:23:26.864Z"
   },
   {
    "duration": 14,
    "start_time": "2021-12-20T20:24:29.461Z"
   },
   {
    "duration": 10,
    "start_time": "2021-12-20T20:24:32.184Z"
   },
   {
    "duration": 100,
    "start_time": "2021-12-20T20:26:01.592Z"
   },
   {
    "duration": 84,
    "start_time": "2021-12-20T20:26:10.989Z"
   },
   {
    "duration": 4,
    "start_time": "2021-12-20T20:26:50.048Z"
   },
   {
    "duration": 576,
    "start_time": "2021-12-20T20:26:58.352Z"
   },
   {
    "duration": 5,
    "start_time": "2021-12-20T20:28:49.279Z"
   },
   {
    "duration": 479,
    "start_time": "2021-12-20T20:28:53.790Z"
   },
   {
    "duration": 86,
    "start_time": "2021-12-20T20:31:44.196Z"
   },
   {
    "duration": 4,
    "start_time": "2021-12-20T20:31:50.238Z"
   },
   {
    "duration": 1009,
    "start_time": "2021-12-20T20:31:52.307Z"
   },
   {
    "duration": 7,
    "start_time": "2021-12-20T20:32:34.161Z"
   },
   {
    "duration": 676,
    "start_time": "2021-12-20T20:32:35.704Z"
   },
   {
    "duration": 4,
    "start_time": "2021-12-20T20:33:55.675Z"
   },
   {
    "duration": 29,
    "start_time": "2021-12-20T20:33:57.671Z"
   },
   {
    "duration": 4,
    "start_time": "2021-12-20T20:34:08.796Z"
   },
   {
    "duration": 19,
    "start_time": "2021-12-20T20:34:10.588Z"
   },
   {
    "duration": 107,
    "start_time": "2021-12-20T20:50:48.193Z"
   },
   {
    "duration": 4,
    "start_time": "2021-12-20T20:52:54.516Z"
   },
   {
    "duration": 19,
    "start_time": "2021-12-20T20:52:59.501Z"
   },
   {
    "duration": 13,
    "start_time": "2021-12-20T20:53:55.343Z"
   },
   {
    "duration": 18,
    "start_time": "2021-12-20T20:57:40.750Z"
   },
   {
    "duration": 12,
    "start_time": "2021-12-20T20:58:12.748Z"
   },
   {
    "duration": 12,
    "start_time": "2021-12-20T21:04:04.846Z"
   },
   {
    "duration": 14,
    "start_time": "2021-12-20T21:04:20.348Z"
   },
   {
    "duration": 18,
    "start_time": "2021-12-20T21:04:22.744Z"
   },
   {
    "duration": 13,
    "start_time": "2021-12-20T21:04:23.191Z"
   },
   {
    "duration": 9,
    "start_time": "2021-12-20T21:05:18.341Z"
   },
   {
    "duration": 21,
    "start_time": "2021-12-20T21:20:01.875Z"
   },
   {
    "duration": 13,
    "start_time": "2021-12-20T21:20:13.862Z"
   },
   {
    "duration": 19,
    "start_time": "2021-12-20T21:24:02.194Z"
   },
   {
    "duration": 13,
    "start_time": "2021-12-20T21:24:11.782Z"
   },
   {
    "duration": 727,
    "start_time": "2021-12-21T07:07:24.273Z"
   },
   {
    "duration": 170,
    "start_time": "2021-12-21T07:07:25.004Z"
   },
   {
    "duration": 25,
    "start_time": "2021-12-21T07:07:25.177Z"
   },
   {
    "duration": 65,
    "start_time": "2021-12-21T07:07:25.205Z"
   },
   {
    "duration": 36,
    "start_time": "2021-12-21T07:07:25.273Z"
   },
   {
    "duration": 50,
    "start_time": "2021-12-21T07:07:25.311Z"
   },
   {
    "duration": 43,
    "start_time": "2021-12-21T07:07:25.363Z"
   },
   {
    "duration": 52,
    "start_time": "2021-12-21T07:07:25.409Z"
   },
   {
    "duration": 50,
    "start_time": "2021-12-21T07:07:25.464Z"
   },
   {
    "duration": 44,
    "start_time": "2021-12-21T07:07:25.517Z"
   },
   {
    "duration": 94,
    "start_time": "2021-12-21T07:07:25.563Z"
   },
   {
    "duration": 98,
    "start_time": "2021-12-21T07:07:25.660Z"
   },
   {
    "duration": 78,
    "start_time": "2021-12-21T07:07:25.761Z"
   },
   {
    "duration": 54,
    "start_time": "2021-12-21T07:07:25.841Z"
   },
   {
    "duration": 22,
    "start_time": "2021-12-21T07:07:25.897Z"
   },
   {
    "duration": 50,
    "start_time": "2021-12-21T07:07:25.923Z"
   },
   {
    "duration": 74,
    "start_time": "2021-12-21T07:07:25.975Z"
   },
   {
    "duration": 79,
    "start_time": "2021-12-21T07:07:26.051Z"
   },
   {
    "duration": 40,
    "start_time": "2021-12-21T07:07:26.132Z"
   },
   {
    "duration": 4,
    "start_time": "2021-12-21T07:07:26.175Z"
   },
   {
    "duration": 53,
    "start_time": "2021-12-21T07:07:26.181Z"
   },
   {
    "duration": 41,
    "start_time": "2021-12-21T07:07:26.236Z"
   },
   {
    "duration": 52,
    "start_time": "2021-12-21T07:07:26.281Z"
   },
   {
    "duration": 18,
    "start_time": "2021-12-21T07:07:26.336Z"
   },
   {
    "duration": 34,
    "start_time": "2021-12-21T07:07:26.356Z"
   },
   {
    "duration": 18,
    "start_time": "2021-12-21T07:07:26.392Z"
   },
   {
    "duration": 89,
    "start_time": "2021-12-21T07:07:26.424Z"
   },
   {
    "duration": 14,
    "start_time": "2021-12-21T07:07:26.523Z"
   },
   {
    "duration": 54,
    "start_time": "2021-12-21T07:07:26.539Z"
   },
   {
    "duration": 38,
    "start_time": "2021-12-21T07:07:26.596Z"
   },
   {
    "duration": 53,
    "start_time": "2021-12-21T07:07:26.636Z"
   },
   {
    "duration": 367,
    "start_time": "2021-12-21T07:07:26.692Z"
   },
   {
    "duration": 1035,
    "start_time": "2021-12-21T07:07:26.027Z"
   },
   {
    "duration": 1030,
    "start_time": "2021-12-21T07:07:26.033Z"
   },
   {
    "duration": 1012,
    "start_time": "2021-12-21T07:07:26.053Z"
   },
   {
    "duration": 1008,
    "start_time": "2021-12-21T07:07:26.058Z"
   },
   {
    "duration": 1003,
    "start_time": "2021-12-21T07:07:26.065Z"
   },
   {
    "duration": 999,
    "start_time": "2021-12-21T07:07:26.070Z"
   },
   {
    "duration": 18,
    "start_time": "2021-12-21T07:36:55.095Z"
   },
   {
    "duration": 24,
    "start_time": "2021-12-21T07:36:59.856Z"
   },
   {
    "duration": 18,
    "start_time": "2021-12-21T07:37:00.936Z"
   },
   {
    "duration": 13,
    "start_time": "2021-12-21T07:39:21.372Z"
   },
   {
    "duration": 7,
    "start_time": "2021-12-21T07:39:27.062Z"
   },
   {
    "duration": 8,
    "start_time": "2021-12-21T07:40:18.677Z"
   },
   {
    "duration": 7,
    "start_time": "2021-12-21T07:40:19.814Z"
   },
   {
    "duration": 756,
    "start_time": "2021-12-21T07:42:33.160Z"
   },
   {
    "duration": 175,
    "start_time": "2021-12-21T07:42:33.919Z"
   },
   {
    "duration": 27,
    "start_time": "2021-12-21T07:42:34.098Z"
   },
   {
    "duration": 53,
    "start_time": "2021-12-21T07:42:34.129Z"
   },
   {
    "duration": 6,
    "start_time": "2021-12-21T07:42:34.185Z"
   },
   {
    "duration": 46,
    "start_time": "2021-12-21T07:42:34.194Z"
   },
   {
    "duration": 35,
    "start_time": "2021-12-21T07:42:34.243Z"
   },
   {
    "duration": 32,
    "start_time": "2021-12-21T07:42:34.283Z"
   },
   {
    "duration": 21,
    "start_time": "2021-12-21T07:42:34.319Z"
   },
   {
    "duration": 27,
    "start_time": "2021-12-21T07:42:34.343Z"
   },
   {
    "duration": 105,
    "start_time": "2021-12-21T07:42:34.374Z"
   },
   {
    "duration": 105,
    "start_time": "2021-12-21T07:42:34.482Z"
   },
   {
    "duration": 76,
    "start_time": "2021-12-21T07:42:34.590Z"
   },
   {
    "duration": 64,
    "start_time": "2021-12-21T07:42:34.668Z"
   },
   {
    "duration": 5,
    "start_time": "2021-12-21T07:42:34.735Z"
   },
   {
    "duration": 21,
    "start_time": "2021-12-21T07:42:34.743Z"
   },
   {
    "duration": 88,
    "start_time": "2021-12-21T07:42:34.766Z"
   },
   {
    "duration": 66,
    "start_time": "2021-12-21T07:42:34.857Z"
   },
   {
    "duration": 40,
    "start_time": "2021-12-21T07:42:34.926Z"
   },
   {
    "duration": 5,
    "start_time": "2021-12-21T07:42:34.969Z"
   },
   {
    "duration": 50,
    "start_time": "2021-12-21T07:42:34.977Z"
   },
   {
    "duration": 18,
    "start_time": "2021-12-21T07:42:35.030Z"
   },
   {
    "duration": 19,
    "start_time": "2021-12-21T07:42:35.054Z"
   },
   {
    "duration": 60,
    "start_time": "2021-12-21T07:42:35.077Z"
   },
   {
    "duration": 30,
    "start_time": "2021-12-21T07:42:35.141Z"
   },
   {
    "duration": 20,
    "start_time": "2021-12-21T07:42:35.174Z"
   },
   {
    "duration": 100,
    "start_time": "2021-12-21T07:42:35.225Z"
   },
   {
    "duration": 13,
    "start_time": "2021-12-21T07:42:35.327Z"
   },
   {
    "duration": 10,
    "start_time": "2021-12-21T07:42:35.343Z"
   },
   {
    "duration": 6,
    "start_time": "2021-12-21T07:42:35.355Z"
   },
   {
    "duration": 61,
    "start_time": "2021-12-21T07:42:35.363Z"
   },
   {
    "duration": 16,
    "start_time": "2021-12-21T07:42:35.427Z"
   },
   {
    "duration": 21,
    "start_time": "2021-12-21T07:42:35.445Z"
   },
   {
    "duration": 15,
    "start_time": "2021-12-21T07:42:35.468Z"
   },
   {
    "duration": 45,
    "start_time": "2021-12-21T07:42:35.485Z"
   },
   {
    "duration": 28,
    "start_time": "2021-12-21T07:42:35.532Z"
   },
   {
    "duration": 25,
    "start_time": "2021-12-21T07:42:35.562Z"
   },
   {
    "duration": 27,
    "start_time": "2021-12-21T07:42:35.589Z"
   },
   {
    "duration": 387,
    "start_time": "2021-12-21T07:50:37.149Z"
   },
   {
    "duration": 15,
    "start_time": "2021-12-21T07:50:44.950Z"
   },
   {
    "duration": 13,
    "start_time": "2021-12-21T07:51:31.830Z"
   },
   {
    "duration": 579,
    "start_time": "2021-12-21T15:26:44.140Z"
   },
   {
    "duration": 136,
    "start_time": "2021-12-21T15:26:44.721Z"
   },
   {
    "duration": 16,
    "start_time": "2021-12-21T15:26:44.859Z"
   },
   {
    "duration": 27,
    "start_time": "2021-12-21T15:26:44.877Z"
   },
   {
    "duration": 4,
    "start_time": "2021-12-21T15:26:44.905Z"
   },
   {
    "duration": 32,
    "start_time": "2021-12-21T15:26:44.911Z"
   },
   {
    "duration": 3,
    "start_time": "2021-12-21T15:26:44.945Z"
   },
   {
    "duration": 30,
    "start_time": "2021-12-21T15:26:44.950Z"
   },
   {
    "duration": 17,
    "start_time": "2021-12-21T15:26:44.983Z"
   },
   {
    "duration": 26,
    "start_time": "2021-12-21T15:26:45.002Z"
   },
   {
    "duration": 68,
    "start_time": "2021-12-21T15:26:45.030Z"
   },
   {
    "duration": 73,
    "start_time": "2021-12-21T15:26:45.099Z"
   },
   {
    "duration": 68,
    "start_time": "2021-12-21T15:26:45.174Z"
   },
   {
    "duration": 49,
    "start_time": "2021-12-21T15:26:45.244Z"
   },
   {
    "duration": 3,
    "start_time": "2021-12-21T15:26:45.295Z"
   },
   {
    "duration": 21,
    "start_time": "2021-12-21T15:26:45.299Z"
   },
   {
    "duration": 54,
    "start_time": "2021-12-21T15:26:45.321Z"
   },
   {
    "duration": 10,
    "start_time": "2021-12-21T15:26:45.377Z"
   },
   {
    "duration": 9,
    "start_time": "2021-12-21T15:26:45.389Z"
   },
   {
    "duration": 3,
    "start_time": "2021-12-21T15:26:45.400Z"
   },
   {
    "duration": 24,
    "start_time": "2021-12-21T15:26:45.405Z"
   },
   {
    "duration": 15,
    "start_time": "2021-12-21T15:26:45.441Z"
   },
   {
    "duration": 13,
    "start_time": "2021-12-21T15:26:45.458Z"
   },
   {
    "duration": 13,
    "start_time": "2021-12-21T15:26:45.472Z"
   },
   {
    "duration": 17,
    "start_time": "2021-12-21T15:26:45.486Z"
   },
   {
    "duration": 13,
    "start_time": "2021-12-21T15:26:45.505Z"
   },
   {
    "duration": 68,
    "start_time": "2021-12-21T15:26:45.542Z"
   },
   {
    "duration": 10,
    "start_time": "2021-12-21T15:26:45.612Z"
   },
   {
    "duration": 19,
    "start_time": "2021-12-21T15:26:45.623Z"
   },
   {
    "duration": 7,
    "start_time": "2021-12-21T15:26:45.644Z"
   },
   {
    "duration": 24,
    "start_time": "2021-12-21T15:26:45.652Z"
   },
   {
    "duration": 12,
    "start_time": "2021-12-21T15:26:45.678Z"
   },
   {
    "duration": 23,
    "start_time": "2021-12-21T15:26:45.692Z"
   },
   {
    "duration": 11,
    "start_time": "2021-12-21T15:26:45.716Z"
   },
   {
    "duration": 17,
    "start_time": "2021-12-21T15:26:45.729Z"
   },
   {
    "duration": 4,
    "start_time": "2021-12-21T15:26:45.748Z"
   },
   {
    "duration": 13,
    "start_time": "2021-12-21T15:26:45.753Z"
   },
   {
    "duration": 17,
    "start_time": "2021-12-21T15:26:45.767Z"
   },
   {
    "duration": 6,
    "start_time": "2021-12-21T19:51:16.010Z"
   },
   {
    "duration": 460,
    "start_time": "2021-12-21T19:51:24.744Z"
   },
   {
    "duration": 791,
    "start_time": "2021-12-21T19:51:41.095Z"
   },
   {
    "duration": 187,
    "start_time": "2021-12-21T19:51:41.889Z"
   },
   {
    "duration": 25,
    "start_time": "2021-12-21T19:51:42.079Z"
   },
   {
    "duration": 60,
    "start_time": "2021-12-21T19:51:42.107Z"
   },
   {
    "duration": 6,
    "start_time": "2021-12-21T19:51:42.170Z"
   },
   {
    "duration": 25,
    "start_time": "2021-12-21T19:51:42.178Z"
   },
   {
    "duration": 7,
    "start_time": "2021-12-21T19:51:42.205Z"
   },
   {
    "duration": 61,
    "start_time": "2021-12-21T19:51:42.215Z"
   },
   {
    "duration": 22,
    "start_time": "2021-12-21T19:51:42.280Z"
   },
   {
    "duration": 30,
    "start_time": "2021-12-21T19:51:42.305Z"
   },
   {
    "duration": 85,
    "start_time": "2021-12-21T19:51:42.361Z"
   },
   {
    "duration": 119,
    "start_time": "2021-12-21T19:51:42.449Z"
   },
   {
    "duration": 88,
    "start_time": "2021-12-21T19:51:42.571Z"
   },
   {
    "duration": 58,
    "start_time": "2021-12-21T19:51:42.672Z"
   },
   {
    "duration": 4,
    "start_time": "2021-12-21T19:51:42.732Z"
   },
   {
    "duration": 44,
    "start_time": "2021-12-21T19:51:42.738Z"
   },
   {
    "duration": 58,
    "start_time": "2021-12-21T19:51:42.785Z"
   },
   {
    "duration": 32,
    "start_time": "2021-12-21T19:51:42.845Z"
   },
   {
    "duration": 14,
    "start_time": "2021-12-21T19:51:42.879Z"
   },
   {
    "duration": 5,
    "start_time": "2021-12-21T19:51:42.895Z"
   },
   {
    "duration": 57,
    "start_time": "2021-12-21T19:51:42.902Z"
   },
   {
    "duration": 24,
    "start_time": "2021-12-21T19:51:42.963Z"
   },
   {
    "duration": 19,
    "start_time": "2021-12-21T19:51:42.989Z"
   },
   {
    "duration": 17,
    "start_time": "2021-12-21T19:51:43.010Z"
   },
   {
    "duration": 26,
    "start_time": "2021-12-21T19:51:43.059Z"
   },
   {
    "duration": 21,
    "start_time": "2021-12-21T19:51:43.088Z"
   },
   {
    "duration": 132,
    "start_time": "2021-12-21T19:51:43.114Z"
   },
   {
    "duration": 15,
    "start_time": "2021-12-21T19:51:43.248Z"
   },
   {
    "duration": 32,
    "start_time": "2021-12-21T19:51:43.267Z"
   },
   {
    "duration": 8,
    "start_time": "2021-12-21T19:51:43.302Z"
   },
   {
    "duration": 29,
    "start_time": "2021-12-21T19:51:43.313Z"
   },
   {
    "duration": 28,
    "start_time": "2021-12-21T19:51:43.345Z"
   },
   {
    "duration": 24,
    "start_time": "2021-12-21T19:51:43.376Z"
   },
   {
    "duration": 15,
    "start_time": "2021-12-21T19:51:43.403Z"
   },
   {
    "duration": 51,
    "start_time": "2021-12-21T19:51:43.420Z"
   },
   {
    "duration": 6,
    "start_time": "2021-12-21T19:51:43.473Z"
   },
   {
    "duration": 13,
    "start_time": "2021-12-21T19:51:43.481Z"
   },
   {
    "duration": 6,
    "start_time": "2021-12-21T19:51:43.496Z"
   },
   {
    "duration": 463,
    "start_time": "2021-12-21T19:51:43.504Z"
   },
   {
    "duration": 930,
    "start_time": "2021-12-21T20:12:20.793Z"
   },
   {
    "duration": 209,
    "start_time": "2021-12-21T20:12:21.726Z"
   },
   {
    "duration": 29,
    "start_time": "2021-12-21T20:12:21.939Z"
   },
   {
    "duration": 34,
    "start_time": "2021-12-21T20:12:21.971Z"
   },
   {
    "duration": 5,
    "start_time": "2021-12-21T20:12:22.008Z"
   },
   {
    "duration": 65,
    "start_time": "2021-12-21T20:12:22.016Z"
   },
   {
    "duration": 6,
    "start_time": "2021-12-21T20:12:22.084Z"
   },
   {
    "duration": 31,
    "start_time": "2021-12-21T20:12:22.094Z"
   },
   {
    "duration": 54,
    "start_time": "2021-12-21T20:12:22.129Z"
   },
   {
    "duration": 36,
    "start_time": "2021-12-21T20:12:22.186Z"
   },
   {
    "duration": 148,
    "start_time": "2021-12-21T20:12:22.225Z"
   },
   {
    "duration": 114,
    "start_time": "2021-12-21T20:12:22.376Z"
   },
   {
    "duration": 88,
    "start_time": "2021-12-21T20:12:22.492Z"
   },
   {
    "duration": 59,
    "start_time": "2021-12-21T20:12:22.582Z"
   },
   {
    "duration": 5,
    "start_time": "2021-12-21T20:12:22.660Z"
   },
   {
    "duration": 31,
    "start_time": "2021-12-21T20:12:22.667Z"
   },
   {
    "duration": 81,
    "start_time": "2021-12-21T20:12:22.701Z"
   },
   {
    "duration": 15,
    "start_time": "2021-12-21T20:12:22.785Z"
   },
   {
    "duration": 19,
    "start_time": "2021-12-21T20:12:22.803Z"
   },
   {
    "duration": 39,
    "start_time": "2021-12-21T20:12:22.825Z"
   },
   {
    "duration": 37,
    "start_time": "2021-12-21T20:12:22.867Z"
   },
   {
    "duration": 23,
    "start_time": "2021-12-21T20:12:22.907Z"
   },
   {
    "duration": 30,
    "start_time": "2021-12-21T20:12:22.964Z"
   },
   {
    "duration": 24,
    "start_time": "2021-12-21T20:12:22.998Z"
   },
   {
    "duration": 51,
    "start_time": "2021-12-21T20:12:23.025Z"
   },
   {
    "duration": 20,
    "start_time": "2021-12-21T20:12:23.079Z"
   },
   {
    "duration": 138,
    "start_time": "2021-12-21T20:12:23.102Z"
   },
   {
    "duration": 23,
    "start_time": "2021-12-21T20:12:23.243Z"
   },
   {
    "duration": 13,
    "start_time": "2021-12-21T20:12:23.269Z"
   },
   {
    "duration": 6,
    "start_time": "2021-12-21T20:12:23.284Z"
   },
   {
    "duration": 26,
    "start_time": "2021-12-21T20:12:23.292Z"
   },
   {
    "duration": 50,
    "start_time": "2021-12-21T20:12:23.320Z"
   },
   {
    "duration": 24,
    "start_time": "2021-12-21T20:12:23.373Z"
   },
   {
    "duration": 19,
    "start_time": "2021-12-21T20:12:23.400Z"
   },
   {
    "duration": 48,
    "start_time": "2021-12-21T20:12:23.421Z"
   },
   {
    "duration": 8,
    "start_time": "2021-12-21T20:12:23.472Z"
   },
   {
    "duration": 11,
    "start_time": "2021-12-21T20:12:23.483Z"
   },
   {
    "duration": 8,
    "start_time": "2021-12-21T20:12:23.497Z"
   },
   {
    "duration": 4,
    "start_time": "2021-12-21T20:48:38.237Z"
   },
   {
    "duration": 811,
    "start_time": "2021-12-21T21:03:46.393Z"
   },
   {
    "duration": 200,
    "start_time": "2021-12-21T21:03:47.208Z"
   },
   {
    "duration": 29,
    "start_time": "2021-12-21T21:03:47.412Z"
   },
   {
    "duration": 34,
    "start_time": "2021-12-21T21:03:47.460Z"
   },
   {
    "duration": 6,
    "start_time": "2021-12-21T21:03:47.497Z"
   },
   {
    "duration": 55,
    "start_time": "2021-12-21T21:03:47.505Z"
   },
   {
    "duration": 7,
    "start_time": "2021-12-21T21:03:47.563Z"
   },
   {
    "duration": 32,
    "start_time": "2021-12-21T21:03:47.573Z"
   },
   {
    "duration": 52,
    "start_time": "2021-12-21T21:03:47.610Z"
   },
   {
    "duration": 32,
    "start_time": "2021-12-21T21:03:47.665Z"
   },
   {
    "duration": 109,
    "start_time": "2021-12-21T21:03:47.699Z"
   },
   {
    "duration": 119,
    "start_time": "2021-12-21T21:03:47.811Z"
   },
   {
    "duration": 91,
    "start_time": "2021-12-21T21:03:47.932Z"
   },
   {
    "duration": 65,
    "start_time": "2021-12-21T21:03:48.026Z"
   },
   {
    "duration": 5,
    "start_time": "2021-12-21T21:03:48.093Z"
   },
   {
    "duration": 25,
    "start_time": "2021-12-21T21:03:48.101Z"
   },
   {
    "duration": 84,
    "start_time": "2021-12-21T21:03:48.129Z"
   },
   {
    "duration": 16,
    "start_time": "2021-12-21T21:03:48.215Z"
   },
   {
    "duration": 40,
    "start_time": "2021-12-21T21:03:48.233Z"
   },
   {
    "duration": 5,
    "start_time": "2021-12-21T21:03:48.276Z"
   },
   {
    "duration": 28,
    "start_time": "2021-12-21T21:03:48.283Z"
   },
   {
    "duration": 51,
    "start_time": "2021-12-21T21:03:48.313Z"
   },
   {
    "duration": 21,
    "start_time": "2021-12-21T21:03:48.366Z"
   },
   {
    "duration": 20,
    "start_time": "2021-12-21T21:03:48.389Z"
   },
   {
    "duration": 57,
    "start_time": "2021-12-21T21:03:48.411Z"
   },
   {
    "duration": 21,
    "start_time": "2021-12-21T21:03:48.471Z"
   },
   {
    "duration": 121,
    "start_time": "2021-12-21T21:03:48.497Z"
   },
   {
    "duration": 14,
    "start_time": "2021-12-21T21:03:48.621Z"
   },
   {
    "duration": 27,
    "start_time": "2021-12-21T21:03:48.638Z"
   },
   {
    "duration": 6,
    "start_time": "2021-12-21T21:03:48.667Z"
   },
   {
    "duration": 28,
    "start_time": "2021-12-21T21:03:48.676Z"
   },
   {
    "duration": 17,
    "start_time": "2021-12-21T21:03:48.706Z"
   },
   {
    "duration": 57,
    "start_time": "2021-12-21T21:03:48.725Z"
   },
   {
    "duration": 17,
    "start_time": "2021-12-21T21:03:48.784Z"
   },
   {
    "duration": 12,
    "start_time": "2021-12-21T21:03:48.803Z"
   },
   {
    "duration": 6,
    "start_time": "2021-12-21T21:03:48.818Z"
   },
   {
    "duration": 9,
    "start_time": "2021-12-21T21:03:48.860Z"
   },
   {
    "duration": 7,
    "start_time": "2021-12-21T21:03:48.871Z"
   },
   {
    "duration": 685,
    "start_time": "2021-12-21T22:09:55.131Z"
   },
   {
    "duration": 152,
    "start_time": "2021-12-21T22:09:55.818Z"
   },
   {
    "duration": 18,
    "start_time": "2021-12-21T22:09:55.972Z"
   },
   {
    "duration": 29,
    "start_time": "2021-12-21T22:09:55.993Z"
   },
   {
    "duration": 4,
    "start_time": "2021-12-21T22:09:56.024Z"
   },
   {
    "duration": 20,
    "start_time": "2021-12-21T22:09:56.042Z"
   },
   {
    "duration": 5,
    "start_time": "2021-12-21T22:09:56.064Z"
   },
   {
    "duration": 25,
    "start_time": "2021-12-21T22:09:56.071Z"
   },
   {
    "duration": 48,
    "start_time": "2021-12-21T22:09:56.098Z"
   },
   {
    "duration": 22,
    "start_time": "2021-12-21T22:09:56.148Z"
   },
   {
    "duration": 75,
    "start_time": "2021-12-21T22:09:56.171Z"
   },
   {
    "duration": 63,
    "start_time": "2021-12-21T22:09:56.247Z"
   },
   {
    "duration": 63,
    "start_time": "2021-12-21T22:09:56.312Z"
   },
   {
    "duration": 40,
    "start_time": "2021-12-21T22:09:56.377Z"
   },
   {
    "duration": 2,
    "start_time": "2021-12-21T22:09:56.419Z"
   },
   {
    "duration": 31,
    "start_time": "2021-12-21T22:09:56.423Z"
   },
   {
    "duration": 42,
    "start_time": "2021-12-21T22:09:56.455Z"
   },
   {
    "duration": 11,
    "start_time": "2021-12-21T22:09:56.499Z"
   },
   {
    "duration": 39,
    "start_time": "2021-12-21T22:09:56.512Z"
   },
   {
    "duration": 4,
    "start_time": "2021-12-21T22:09:56.553Z"
   },
   {
    "duration": 25,
    "start_time": "2021-12-21T22:09:56.559Z"
   },
   {
    "duration": 16,
    "start_time": "2021-12-21T22:09:56.586Z"
   },
   {
    "duration": 46,
    "start_time": "2021-12-21T22:09:56.604Z"
   },
   {
    "duration": 13,
    "start_time": "2021-12-21T22:09:56.652Z"
   },
   {
    "duration": 16,
    "start_time": "2021-12-21T22:09:56.667Z"
   },
   {
    "duration": 14,
    "start_time": "2021-12-21T22:09:56.685Z"
   },
   {
    "duration": 97,
    "start_time": "2021-12-21T22:09:56.701Z"
   },
   {
    "duration": 10,
    "start_time": "2021-12-21T22:09:56.800Z"
   },
   {
    "duration": 8,
    "start_time": "2021-12-21T22:09:56.811Z"
   },
   {
    "duration": 20,
    "start_time": "2021-12-21T22:09:56.821Z"
   },
   {
    "duration": 17,
    "start_time": "2021-12-21T22:09:56.842Z"
   },
   {
    "duration": 11,
    "start_time": "2021-12-21T22:09:56.860Z"
   },
   {
    "duration": 15,
    "start_time": "2021-12-21T22:09:56.873Z"
   },
   {
    "duration": 11,
    "start_time": "2021-12-21T22:09:56.890Z"
   },
   {
    "duration": 39,
    "start_time": "2021-12-21T22:09:56.902Z"
   },
   {
    "duration": 6,
    "start_time": "2021-12-21T22:09:56.943Z"
   },
   {
    "duration": 12,
    "start_time": "2021-12-21T22:09:56.951Z"
   },
   {
    "duration": 4,
    "start_time": "2021-12-21T22:09:56.965Z"
   },
   {
    "duration": 723,
    "start_time": "2021-12-22T07:07:48.116Z"
   },
   {
    "duration": 189,
    "start_time": "2021-12-22T07:07:48.842Z"
   },
   {
    "duration": 37,
    "start_time": "2021-12-22T07:07:49.034Z"
   },
   {
    "duration": 50,
    "start_time": "2021-12-22T07:07:49.074Z"
   },
   {
    "duration": 6,
    "start_time": "2021-12-22T07:07:49.127Z"
   },
   {
    "duration": 58,
    "start_time": "2021-12-22T07:07:49.136Z"
   },
   {
    "duration": 6,
    "start_time": "2021-12-22T07:07:49.196Z"
   },
   {
    "duration": 36,
    "start_time": "2021-12-22T07:07:49.204Z"
   },
   {
    "duration": 43,
    "start_time": "2021-12-22T07:07:49.244Z"
   },
   {
    "duration": 30,
    "start_time": "2021-12-22T07:07:49.290Z"
   },
   {
    "duration": 117,
    "start_time": "2021-12-22T07:07:49.322Z"
   },
   {
    "duration": 109,
    "start_time": "2021-12-22T07:07:49.442Z"
   },
   {
    "duration": 85,
    "start_time": "2021-12-22T07:07:49.553Z"
   },
   {
    "duration": 76,
    "start_time": "2021-12-22T07:07:49.640Z"
   },
   {
    "duration": 5,
    "start_time": "2021-12-22T07:07:49.718Z"
   },
   {
    "duration": 19,
    "start_time": "2021-12-22T07:07:49.725Z"
   },
   {
    "duration": 75,
    "start_time": "2021-12-22T07:07:49.746Z"
   },
   {
    "duration": 14,
    "start_time": "2021-12-22T07:07:49.824Z"
   },
   {
    "duration": 15,
    "start_time": "2021-12-22T07:07:49.868Z"
   },
   {
    "duration": 5,
    "start_time": "2021-12-22T07:07:49.885Z"
   },
   {
    "duration": 28,
    "start_time": "2021-12-22T07:07:49.893Z"
   },
   {
    "duration": 46,
    "start_time": "2021-12-22T07:07:49.924Z"
   },
   {
    "duration": 22,
    "start_time": "2021-12-22T07:07:49.973Z"
   },
   {
    "duration": 19,
    "start_time": "2021-12-22T07:07:49.997Z"
   },
   {
    "duration": 61,
    "start_time": "2021-12-22T07:07:50.018Z"
   },
   {
    "duration": 21,
    "start_time": "2021-12-22T07:07:50.081Z"
   },
   {
    "duration": 122,
    "start_time": "2021-12-22T07:07:50.107Z"
   },
   {
    "duration": 13,
    "start_time": "2021-12-22T07:07:50.232Z"
   },
   {
    "duration": 24,
    "start_time": "2021-12-22T07:07:50.248Z"
   },
   {
    "duration": 6,
    "start_time": "2021-12-22T07:07:50.274Z"
   },
   {
    "duration": 26,
    "start_time": "2021-12-22T07:07:50.283Z"
   },
   {
    "duration": 27,
    "start_time": "2021-12-22T07:07:50.312Z"
   },
   {
    "duration": 52,
    "start_time": "2021-12-22T07:07:50.341Z"
   },
   {
    "duration": 23,
    "start_time": "2021-12-22T07:07:50.396Z"
   },
   {
    "duration": 12,
    "start_time": "2021-12-22T07:07:50.421Z"
   },
   {
    "duration": 7,
    "start_time": "2021-12-22T07:07:50.467Z"
   },
   {
    "duration": 12,
    "start_time": "2021-12-22T07:07:50.477Z"
   },
   {
    "duration": 7,
    "start_time": "2021-12-22T07:07:50.492Z"
   },
   {
    "duration": 14,
    "start_time": "2021-12-22T07:08:37.636Z"
   },
   {
    "duration": 4,
    "start_time": "2021-12-22T07:08:48.178Z"
   },
   {
    "duration": 4,
    "start_time": "2021-12-22T07:09:03.697Z"
   },
   {
    "duration": 13,
    "start_time": "2021-12-22T07:09:09.092Z"
   },
   {
    "duration": 59,
    "start_time": "2021-12-22T07:09:19.915Z"
   },
   {
    "duration": 4,
    "start_time": "2021-12-22T07:09:45.097Z"
   },
   {
    "duration": 22,
    "start_time": "2021-12-22T07:09:50.378Z"
   },
   {
    "duration": 96,
    "start_time": "2021-12-22T07:09:58.992Z"
   },
   {
    "duration": 4,
    "start_time": "2021-12-22T07:10:04.558Z"
   },
   {
    "duration": 4,
    "start_time": "2021-12-22T07:10:10.098Z"
   },
   {
    "duration": 14,
    "start_time": "2021-12-22T07:10:14.287Z"
   },
   {
    "duration": 1149,
    "start_time": "2021-12-22T07:18:23.236Z"
   },
   {
    "duration": 1019,
    "start_time": "2021-12-22T07:18:28.521Z"
   }
  ],
  "colab": {
   "collapsed_sections": [
    "E0vqbgi9ay0H",
    "VUC88oWjTJw2"
   ],
   "name": "yandex_music_project_2021.2.ipynb",
   "provenance": []
  },
  "kernelspec": {
   "display_name": "Python 3 (ipykernel)",
   "language": "python",
   "name": "python3"
  },
  "language_info": {
   "codemirror_mode": {
    "name": "ipython",
    "version": 3
   },
   "file_extension": ".py",
   "mimetype": "text/x-python",
   "name": "python",
   "nbconvert_exporter": "python",
   "pygments_lexer": "ipython3",
   "version": "3.9.7"
  },
  "toc": {
   "base_numbering": 1,
   "nav_menu": {},
   "number_sections": true,
   "sideBar": true,
   "skip_h1_title": true,
   "title_cell": "Table of Contents",
   "title_sidebar": "Contents",
   "toc_cell": false,
   "toc_position": {
    "height": "calc(100% - 180px)",
    "left": "10px",
    "top": "150px",
    "width": "165px"
   },
   "toc_section_display": true,
   "toc_window_display": false
  }
 },
 "nbformat": 4,
 "nbformat_minor": 1
}
