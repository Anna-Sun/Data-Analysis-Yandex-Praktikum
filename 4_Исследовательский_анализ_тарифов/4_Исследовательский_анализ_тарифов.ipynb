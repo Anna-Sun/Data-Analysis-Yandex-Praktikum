{
 "cells": [
  {
   "cell_type": "markdown",
   "metadata": {
    "id": "E0vqbgi9ay0H"
   },
   "source": [
    "# Исследовательский анализ тарифов"
   ]
  },
  {
   "cell_type": "markdown",
   "metadata": {
    "id": "VUC88oWjTJw2"
   },
   "source": [
    "Заказчик исследования — коммерческий департамент компании «Мегалайн».\n",
    "\n",
    "**Цель исследования** — Анализ поведения клиентов для определения более прибыльного тарифного плана.\n",
    "\n",
    "Для этого нужно проверить две гипотезы:\n",
    "\n",
    "1. Средняя выручка пользователей тарифов «Ультра» и «Смарт» различается.\n",
    "2. Средняя выручка пользователией из Москвы отличается от выручки пользователей из других регионов.\n",
    "\n",
    "Результаты исследования будут учтены при формировании рекламного бюджета.\n",
    "\n",
    "***Описание тарифов***\n",
    "\n",
    "*Тариф «Смарт»*\n",
    "Ежемесячная плата: 550 рублей\n",
    "Включено 500 минут разговора, 50 сообщений и 15 Гб интернет-трафика\n",
    "Стоимость услуг сверх тарифного пакета: 1. минута разговора: 3 рубля («Мегалайн» всегда округляет вверх значения минут и мегабайтов. Если пользователь проговорил всего 1 секунду, в тарифе засчитывается целая минута); 2. сообщение: 3 рубля; 3. 1 Гб интернет-трафика: 200 рублей.  \n",
    "\n",
    "*Тариф «Ультра»*\n",
    "Ежемесячная плата: 1950 рублей\n",
    "Включено 3000 минут разговора, 1000 сообщений и 30 Гб интернет-трафика\n",
    "Стоимость услуг сверх тарифного пакета: 1. минута разговора: 1 рубль; 2. сообщение: 1 рубль; 3. 1 Гб интернет-трафика: 150 рублей.  \n",
    "\n",
    "Примечание:\n",
    "«Мегалайн» всегда округляет секунды до минут, а мегабайты — до гигабайт. Каждый звонок округляется отдельно: даже если он длился всего 1 секунду, будет засчитан как 1 минута.\n",
    "Для веб-трафика отдельные сессии не считаются. Вместо этого общая сумма за месяц округляется в бо́льшую сторону.\n",
    "\n",
    "**Ход исследования**\n",
    "\n",
    "Входные данные от коммерческого департамента:\n",
    "\n",
    "- информация о пользователях  \n",
    "- информация о звонках \n",
    "- информация о сообщения\n",
    "- информация об интернет-сессиях\n",
    "- информация о тарифах\n",
    "\n",
    "\n",
    "Перед анализом данных и проверкой гипотез понадобится обзор данных для проверки их качества.\n",
    "\n",
    "Данные будут проверены на ошибки. На этапе предобработки будет рассмотрена возможность исправить самые критичные ошибки данных.Также будут произведены дополнительные расчеты.\n",
    " \n",
    "Таким образом, исследование пройдёт в пять этапов:\n",
    "\n",
    " 1. Обзор данных.\n",
    " 2. Предобработка данных.\n",
    " 3. Дополнительные расчеты.\n",
    " 4. Анализ даных.\n",
    " 5. Проверка гипотез."
   ]
  },
  {
   "cell_type": "markdown",
   "metadata": {
    "id": "Ml1hmfXC_Zcs"
   },
   "source": [
    "## Обзор данных"
   ]
  },
  {
   "cell_type": "code",
   "execution_count": 1,
   "metadata": {},
   "outputs": [],
   "source": [
    "# импорт библиотек\n",
    "import pandas as pd\n",
    "import seaborn as sns\n",
    "from scipy import stats as st\n",
    "import numpy as np\n",
    "import datetime\n",
    "import matplotlib.pyplot as plt\n"
   ]
  },
  {
   "cell_type": "code",
   "execution_count": 2,
   "metadata": {},
   "outputs": [],
   "source": [
    "try: # Локальный путь\n",
    "    df_users = pd.read_csv('users.csv') \n",
    "    df_calls = pd.read_csv('calls.csv')  \n",
    "    df_messages = pd.read_csv('messages.csv') \n",
    "    df_internet =pd.read_csv('internet.csv', index_col=0)\n",
    "    df_tariffs = pd.read_csv('tariffs.csv') \n",
    "except:  \n",
    "    df_users = pd.read_csv('/datasets/users.csv') \n",
    "    df_calls = pd.read_csv('/datasets/calls.csv') \n",
    "    df_messages = pd.read_csv('/datasets/messages.csv')\n",
    "    df_internet = pd.read_csv('/datasets/internet.csv', index_col=0)\n",
    "    df_tariffs = pd.read_csv('/datasets/tariffs.csv') \n",
    "# 0 знаков после точки для формата float    \n",
    "pd.options.display.float_format ='{:,.0f}'.format \n",
    "# вывод на экран всех столбцов\n",
    "pd.set_option('display.max_columns', 500)"
   ]
  },
  {
   "cell_type": "markdown",
   "metadata": {
    "id": "rDoOMd3uTqnZ"
   },
   "source": [
    "**Информация о пользователях**\n",
    "\n",
    "Вывожу на экран первые десять строк таблицы `df_calls`:"
   ]
  },
  {
   "cell_type": "code",
   "execution_count": 3,
   "metadata": {
    "id": "oWTVX3gW_Zct",
    "scrolled": true
   },
   "outputs": [
    {
     "data": {
      "text/html": [
       "<div>\n",
       "<style scoped>\n",
       "    .dataframe tbody tr th:only-of-type {\n",
       "        vertical-align: middle;\n",
       "    }\n",
       "\n",
       "    .dataframe tbody tr th {\n",
       "        vertical-align: top;\n",
       "    }\n",
       "\n",
       "    .dataframe thead th {\n",
       "        text-align: right;\n",
       "    }\n",
       "</style>\n",
       "<table border=\"1\" class=\"dataframe\">\n",
       "  <thead>\n",
       "    <tr style=\"text-align: right;\">\n",
       "      <th></th>\n",
       "      <th>user_id</th>\n",
       "      <th>age</th>\n",
       "      <th>churn_date</th>\n",
       "      <th>city</th>\n",
       "      <th>first_name</th>\n",
       "      <th>last_name</th>\n",
       "      <th>reg_date</th>\n",
       "      <th>tariff</th>\n",
       "    </tr>\n",
       "  </thead>\n",
       "  <tbody>\n",
       "    <tr>\n",
       "      <td>0</td>\n",
       "      <td>1000</td>\n",
       "      <td>52</td>\n",
       "      <td>NaN</td>\n",
       "      <td>Краснодар</td>\n",
       "      <td>Рафаил</td>\n",
       "      <td>Верещагин</td>\n",
       "      <td>2018-05-25</td>\n",
       "      <td>ultra</td>\n",
       "    </tr>\n",
       "    <tr>\n",
       "      <td>1</td>\n",
       "      <td>1001</td>\n",
       "      <td>41</td>\n",
       "      <td>NaN</td>\n",
       "      <td>Москва</td>\n",
       "      <td>Иван</td>\n",
       "      <td>Ежов</td>\n",
       "      <td>2018-11-01</td>\n",
       "      <td>smart</td>\n",
       "    </tr>\n",
       "    <tr>\n",
       "      <td>2</td>\n",
       "      <td>1002</td>\n",
       "      <td>59</td>\n",
       "      <td>NaN</td>\n",
       "      <td>Стерлитамак</td>\n",
       "      <td>Евгений</td>\n",
       "      <td>Абрамович</td>\n",
       "      <td>2018-06-17</td>\n",
       "      <td>smart</td>\n",
       "    </tr>\n",
       "    <tr>\n",
       "      <td>3</td>\n",
       "      <td>1003</td>\n",
       "      <td>23</td>\n",
       "      <td>NaN</td>\n",
       "      <td>Москва</td>\n",
       "      <td>Белла</td>\n",
       "      <td>Белякова</td>\n",
       "      <td>2018-08-17</td>\n",
       "      <td>ultra</td>\n",
       "    </tr>\n",
       "    <tr>\n",
       "      <td>4</td>\n",
       "      <td>1004</td>\n",
       "      <td>68</td>\n",
       "      <td>NaN</td>\n",
       "      <td>Новокузнецк</td>\n",
       "      <td>Татьяна</td>\n",
       "      <td>Авдеенко</td>\n",
       "      <td>2018-05-14</td>\n",
       "      <td>ultra</td>\n",
       "    </tr>\n",
       "    <tr>\n",
       "      <td>5</td>\n",
       "      <td>1005</td>\n",
       "      <td>67</td>\n",
       "      <td>NaN</td>\n",
       "      <td>Набережные Челны</td>\n",
       "      <td>Афанасий</td>\n",
       "      <td>Горлов</td>\n",
       "      <td>2018-01-25</td>\n",
       "      <td>smart</td>\n",
       "    </tr>\n",
       "    <tr>\n",
       "      <td>6</td>\n",
       "      <td>1006</td>\n",
       "      <td>21</td>\n",
       "      <td>NaN</td>\n",
       "      <td>Ульяновск</td>\n",
       "      <td>Леонид</td>\n",
       "      <td>Ермолаев</td>\n",
       "      <td>2018-02-26</td>\n",
       "      <td>smart</td>\n",
       "    </tr>\n",
       "    <tr>\n",
       "      <td>7</td>\n",
       "      <td>1007</td>\n",
       "      <td>65</td>\n",
       "      <td>NaN</td>\n",
       "      <td>Москва</td>\n",
       "      <td>Юна</td>\n",
       "      <td>Березина</td>\n",
       "      <td>2018-04-19</td>\n",
       "      <td>smart</td>\n",
       "    </tr>\n",
       "    <tr>\n",
       "      <td>8</td>\n",
       "      <td>1008</td>\n",
       "      <td>63</td>\n",
       "      <td>NaN</td>\n",
       "      <td>Челябинск</td>\n",
       "      <td>Рустэм</td>\n",
       "      <td>Пономарёв</td>\n",
       "      <td>2018-12-19</td>\n",
       "      <td>smart</td>\n",
       "    </tr>\n",
       "    <tr>\n",
       "      <td>9</td>\n",
       "      <td>1009</td>\n",
       "      <td>24</td>\n",
       "      <td>NaN</td>\n",
       "      <td>Пермь</td>\n",
       "      <td>Василиса</td>\n",
       "      <td>Блинова</td>\n",
       "      <td>2018-03-22</td>\n",
       "      <td>smart</td>\n",
       "    </tr>\n",
       "  </tbody>\n",
       "</table>\n",
       "</div>"
      ],
      "text/plain": [
       "   user_id  age churn_date              city first_name  last_name  \\\n",
       "0     1000   52        NaN         Краснодар     Рафаил  Верещагин   \n",
       "1     1001   41        NaN            Москва       Иван       Ежов   \n",
       "2     1002   59        NaN       Стерлитамак    Евгений  Абрамович   \n",
       "3     1003   23        NaN            Москва      Белла   Белякова   \n",
       "4     1004   68        NaN       Новокузнецк    Татьяна   Авдеенко   \n",
       "5     1005   67        NaN  Набережные Челны   Афанасий     Горлов   \n",
       "6     1006   21        NaN         Ульяновск     Леонид   Ермолаев   \n",
       "7     1007   65        NaN            Москва        Юна   Березина   \n",
       "8     1008   63        NaN         Челябинск     Рустэм  Пономарёв   \n",
       "9     1009   24        NaN             Пермь   Василиса    Блинова   \n",
       "\n",
       "     reg_date tariff  \n",
       "0  2018-05-25  ultra  \n",
       "1  2018-11-01  smart  \n",
       "2  2018-06-17  smart  \n",
       "3  2018-08-17  ultra  \n",
       "4  2018-05-14  ultra  \n",
       "5  2018-01-25  smart  \n",
       "6  2018-02-26  smart  \n",
       "7  2018-04-19  smart  \n",
       "8  2018-12-19  smart  \n",
       "9  2018-03-22  smart  "
      ]
     },
     "execution_count": 3,
     "metadata": {},
     "output_type": "execute_result"
    }
   ],
   "source": [
    "df_users.head(10) "
   ]
  },
  {
   "cell_type": "code",
   "execution_count": 4,
   "metadata": {},
   "outputs": [
    {
     "data": {
      "text/plain": [
       "Москва             99\n",
       "Санкт-Петербург    39\n",
       "Новосибирск        16\n",
       "Омск               14\n",
       "Казань             14\n",
       "                   ..\n",
       "Иваново             1\n",
       "Нижневартовск       1\n",
       "Химки               1\n",
       "Подольск            1\n",
       "Архангельск         1\n",
       "Name: city, Length: 76, dtype: int64"
      ]
     },
     "execution_count": 4,
     "metadata": {},
     "output_type": "execute_result"
    }
   ],
   "source": [
    "df_users['city'].value_counts()"
   ]
  },
  {
   "cell_type": "code",
   "execution_count": 5,
   "metadata": {},
   "outputs": [
    {
     "data": {
      "text/plain": [
       "1000"
      ]
     },
     "execution_count": 5,
     "metadata": {},
     "output_type": "execute_result"
    }
   ],
   "source": [
    "df_users['user_id'].unique().min()"
   ]
  },
  {
   "cell_type": "code",
   "execution_count": 6,
   "metadata": {},
   "outputs": [
    {
     "data": {
      "text/plain": [
       "1499"
      ]
     },
     "execution_count": 6,
     "metadata": {},
     "output_type": "execute_result"
    }
   ],
   "source": [
    "df_users['user_id'].unique().max()"
   ]
  },
  {
   "cell_type": "markdown",
   "metadata": {
    "id": "EO73Kwic_Zct"
   },
   "source": [
    "Получаю общую информацию о таблице:"
   ]
  },
  {
   "cell_type": "code",
   "execution_count": 7,
   "metadata": {
    "id": "DSf2kIb-_Zct"
   },
   "outputs": [
    {
     "name": "stdout",
     "output_type": "stream",
     "text": [
      "<class 'pandas.core.frame.DataFrame'>\n",
      "RangeIndex: 500 entries, 0 to 499\n",
      "Data columns (total 8 columns):\n",
      "user_id       500 non-null int64\n",
      "age           500 non-null int64\n",
      "churn_date    38 non-null object\n",
      "city          500 non-null object\n",
      "first_name    500 non-null object\n",
      "last_name     500 non-null object\n",
      "reg_date      500 non-null object\n",
      "tariff        500 non-null object\n",
      "dtypes: int64(2), object(6)\n",
      "memory usage: 31.4+ KB\n"
     ]
    }
   ],
   "source": [
    "df_users.info() "
   ]
  },
  {
   "cell_type": "markdown",
   "metadata": {},
   "source": [
    "В таблице **`df_users`** восемь столбцов. В столбцах два типа данных — `int64` и `object`.\n",
    "\n",
    "Согласно документации к данным:\n",
    "\n",
    "`user_id` — уникальный идентификатор пользователя  \n",
    "`first_name` — имя пользователя  \n",
    "`last_name` — фамилия пользователя  \n",
    "`age` — возраст пользователя (годы)  \n",
    "`reg_date` — дата подключения тарифа (день, месяц, год)  \n",
    "`churn_date` — дата прекращения пользования тарифом (если значение пропущено, то тариф ещё действовал на момент выгрузки данных)  \n",
    "`city` — город проживания пользователя  \n",
    "`tarif` — название тарифного плана\n",
    "\n",
    "Названия колонок соответствуют стилю написания названий колонок.   \n",
    "Количество значений в столбцах совпадает, за исключением столбца `churn_date`. Но есть пояснение, что пропущенное значение означает действие тарифа на момент выгрузки данных. В остальных столбцах пропущенных значений нет."
   ]
  },
  {
   "cell_type": "markdown",
   "metadata": {
    "id": "rDoOMd3uTqnZ"
   },
   "source": [
    "**Информация о звонках**\n",
    "\n",
    "Вывожу на экран первые десять строк таблицы `df_calls`:"
   ]
  },
  {
   "cell_type": "code",
   "execution_count": 8,
   "metadata": {},
   "outputs": [
    {
     "data": {
      "text/html": [
       "<div>\n",
       "<style scoped>\n",
       "    .dataframe tbody tr th:only-of-type {\n",
       "        vertical-align: middle;\n",
       "    }\n",
       "\n",
       "    .dataframe tbody tr th {\n",
       "        vertical-align: top;\n",
       "    }\n",
       "\n",
       "    .dataframe thead th {\n",
       "        text-align: right;\n",
       "    }\n",
       "</style>\n",
       "<table border=\"1\" class=\"dataframe\">\n",
       "  <thead>\n",
       "    <tr style=\"text-align: right;\">\n",
       "      <th></th>\n",
       "      <th>id</th>\n",
       "      <th>call_date</th>\n",
       "      <th>duration</th>\n",
       "      <th>user_id</th>\n",
       "    </tr>\n",
       "  </thead>\n",
       "  <tbody>\n",
       "    <tr>\n",
       "      <td>0</td>\n",
       "      <td>1000_0</td>\n",
       "      <td>2018-07-25</td>\n",
       "      <td>0</td>\n",
       "      <td>1000</td>\n",
       "    </tr>\n",
       "    <tr>\n",
       "      <td>1</td>\n",
       "      <td>1000_1</td>\n",
       "      <td>2018-08-17</td>\n",
       "      <td>0</td>\n",
       "      <td>1000</td>\n",
       "    </tr>\n",
       "    <tr>\n",
       "      <td>2</td>\n",
       "      <td>1000_2</td>\n",
       "      <td>2018-06-11</td>\n",
       "      <td>3</td>\n",
       "      <td>1000</td>\n",
       "    </tr>\n",
       "    <tr>\n",
       "      <td>3</td>\n",
       "      <td>1000_3</td>\n",
       "      <td>2018-09-21</td>\n",
       "      <td>14</td>\n",
       "      <td>1000</td>\n",
       "    </tr>\n",
       "    <tr>\n",
       "      <td>4</td>\n",
       "      <td>1000_4</td>\n",
       "      <td>2018-12-15</td>\n",
       "      <td>5</td>\n",
       "      <td>1000</td>\n",
       "    </tr>\n",
       "    <tr>\n",
       "      <td>5</td>\n",
       "      <td>1000_5</td>\n",
       "      <td>2018-11-02</td>\n",
       "      <td>0</td>\n",
       "      <td>1000</td>\n",
       "    </tr>\n",
       "    <tr>\n",
       "      <td>6</td>\n",
       "      <td>1000_6</td>\n",
       "      <td>2018-10-18</td>\n",
       "      <td>0</td>\n",
       "      <td>1000</td>\n",
       "    </tr>\n",
       "    <tr>\n",
       "      <td>7</td>\n",
       "      <td>1000_7</td>\n",
       "      <td>2018-08-22</td>\n",
       "      <td>18</td>\n",
       "      <td>1000</td>\n",
       "    </tr>\n",
       "    <tr>\n",
       "      <td>8</td>\n",
       "      <td>1000_8</td>\n",
       "      <td>2018-09-15</td>\n",
       "      <td>18</td>\n",
       "      <td>1000</td>\n",
       "    </tr>\n",
       "    <tr>\n",
       "      <td>9</td>\n",
       "      <td>1000_9</td>\n",
       "      <td>2018-08-15</td>\n",
       "      <td>0</td>\n",
       "      <td>1000</td>\n",
       "    </tr>\n",
       "  </tbody>\n",
       "</table>\n",
       "</div>"
      ],
      "text/plain": [
       "       id   call_date  duration  user_id\n",
       "0  1000_0  2018-07-25         0     1000\n",
       "1  1000_1  2018-08-17         0     1000\n",
       "2  1000_2  2018-06-11         3     1000\n",
       "3  1000_3  2018-09-21        14     1000\n",
       "4  1000_4  2018-12-15         5     1000\n",
       "5  1000_5  2018-11-02         0     1000\n",
       "6  1000_6  2018-10-18         0     1000\n",
       "7  1000_7  2018-08-22        18     1000\n",
       "8  1000_8  2018-09-15        18     1000\n",
       "9  1000_9  2018-08-15         0     1000"
      ]
     },
     "execution_count": 8,
     "metadata": {},
     "output_type": "execute_result"
    }
   ],
   "source": [
    "df_calls.head(10)"
   ]
  },
  {
   "cell_type": "markdown",
   "metadata": {
    "id": "EO73Kwic_Zct"
   },
   "source": [
    "Получаю общую информацию о таблице:"
   ]
  },
  {
   "cell_type": "code",
   "execution_count": 9,
   "metadata": {},
   "outputs": [
    {
     "name": "stdout",
     "output_type": "stream",
     "text": [
      "<class 'pandas.core.frame.DataFrame'>\n",
      "RangeIndex: 202607 entries, 0 to 202606\n",
      "Data columns (total 4 columns):\n",
      "id           202607 non-null object\n",
      "call_date    202607 non-null object\n",
      "duration     202607 non-null float64\n",
      "user_id      202607 non-null int64\n",
      "dtypes: float64(1), int64(1), object(2)\n",
      "memory usage: 6.2+ MB\n"
     ]
    }
   ],
   "source": [
    "df_calls.info()"
   ]
  },
  {
   "cell_type": "markdown",
   "metadata": {},
   "source": [
    "Итак, в таблице **`df_calls`** четыре столбца. В столбцах три типа данных — `int64`, `float64`, `object`.\n",
    "\n",
    "Согласно документации к данным:\n",
    "\n",
    "`id` — уникальный номер звонка  \n",
    "`call_date` — дата звонка  \n",
    "`duration` — длительность звонка в минутах  \n",
    "`user_id` — идентификатор пользователя, сделавшего звонок\n",
    "\n",
    "Названия колонок соответствуют стилю написания названий колонок. \n",
    "Количество значений в столбцах совпадает. Значит, в данных нет пропущенных значений."
   ]
  },
  {
   "cell_type": "markdown",
   "metadata": {
    "id": "rDoOMd3uTqnZ"
   },
   "source": [
    "**Информация о сообщениях**\n",
    "\n",
    "Вывожу на экран первые десять строк таблицы `df_messages`:"
   ]
  },
  {
   "cell_type": "code",
   "execution_count": 10,
   "metadata": {},
   "outputs": [
    {
     "data": {
      "text/html": [
       "<div>\n",
       "<style scoped>\n",
       "    .dataframe tbody tr th:only-of-type {\n",
       "        vertical-align: middle;\n",
       "    }\n",
       "\n",
       "    .dataframe tbody tr th {\n",
       "        vertical-align: top;\n",
       "    }\n",
       "\n",
       "    .dataframe thead th {\n",
       "        text-align: right;\n",
       "    }\n",
       "</style>\n",
       "<table border=\"1\" class=\"dataframe\">\n",
       "  <thead>\n",
       "    <tr style=\"text-align: right;\">\n",
       "      <th></th>\n",
       "      <th>id</th>\n",
       "      <th>message_date</th>\n",
       "      <th>user_id</th>\n",
       "    </tr>\n",
       "  </thead>\n",
       "  <tbody>\n",
       "    <tr>\n",
       "      <td>0</td>\n",
       "      <td>1000_0</td>\n",
       "      <td>2018-06-27</td>\n",
       "      <td>1000</td>\n",
       "    </tr>\n",
       "    <tr>\n",
       "      <td>1</td>\n",
       "      <td>1000_1</td>\n",
       "      <td>2018-10-08</td>\n",
       "      <td>1000</td>\n",
       "    </tr>\n",
       "    <tr>\n",
       "      <td>2</td>\n",
       "      <td>1000_2</td>\n",
       "      <td>2018-08-04</td>\n",
       "      <td>1000</td>\n",
       "    </tr>\n",
       "    <tr>\n",
       "      <td>3</td>\n",
       "      <td>1000_3</td>\n",
       "      <td>2018-06-16</td>\n",
       "      <td>1000</td>\n",
       "    </tr>\n",
       "    <tr>\n",
       "      <td>4</td>\n",
       "      <td>1000_4</td>\n",
       "      <td>2018-12-05</td>\n",
       "      <td>1000</td>\n",
       "    </tr>\n",
       "    <tr>\n",
       "      <td>5</td>\n",
       "      <td>1000_5</td>\n",
       "      <td>2018-06-20</td>\n",
       "      <td>1000</td>\n",
       "    </tr>\n",
       "    <tr>\n",
       "      <td>6</td>\n",
       "      <td>1000_6</td>\n",
       "      <td>2018-11-19</td>\n",
       "      <td>1000</td>\n",
       "    </tr>\n",
       "    <tr>\n",
       "      <td>7</td>\n",
       "      <td>1000_7</td>\n",
       "      <td>2018-10-29</td>\n",
       "      <td>1000</td>\n",
       "    </tr>\n",
       "    <tr>\n",
       "      <td>8</td>\n",
       "      <td>1000_8</td>\n",
       "      <td>2018-06-25</td>\n",
       "      <td>1000</td>\n",
       "    </tr>\n",
       "    <tr>\n",
       "      <td>9</td>\n",
       "      <td>1000_9</td>\n",
       "      <td>2018-12-18</td>\n",
       "      <td>1000</td>\n",
       "    </tr>\n",
       "  </tbody>\n",
       "</table>\n",
       "</div>"
      ],
      "text/plain": [
       "       id message_date  user_id\n",
       "0  1000_0   2018-06-27     1000\n",
       "1  1000_1   2018-10-08     1000\n",
       "2  1000_2   2018-08-04     1000\n",
       "3  1000_3   2018-06-16     1000\n",
       "4  1000_4   2018-12-05     1000\n",
       "5  1000_5   2018-06-20     1000\n",
       "6  1000_6   2018-11-19     1000\n",
       "7  1000_7   2018-10-29     1000\n",
       "8  1000_8   2018-06-25     1000\n",
       "9  1000_9   2018-12-18     1000"
      ]
     },
     "execution_count": 10,
     "metadata": {},
     "output_type": "execute_result"
    }
   ],
   "source": [
    "df_messages.head(10)"
   ]
  },
  {
   "cell_type": "markdown",
   "metadata": {
    "id": "EO73Kwic_Zct"
   },
   "source": [
    "Получаю общую информацию о таблице:"
   ]
  },
  {
   "cell_type": "code",
   "execution_count": 11,
   "metadata": {},
   "outputs": [
    {
     "name": "stdout",
     "output_type": "stream",
     "text": [
      "<class 'pandas.core.frame.DataFrame'>\n",
      "RangeIndex: 123036 entries, 0 to 123035\n",
      "Data columns (total 3 columns):\n",
      "id              123036 non-null object\n",
      "message_date    123036 non-null object\n",
      "user_id         123036 non-null int64\n",
      "dtypes: int64(1), object(2)\n",
      "memory usage: 2.8+ MB\n"
     ]
    }
   ],
   "source": [
    "df_messages.info()"
   ]
  },
  {
   "cell_type": "markdown",
   "metadata": {},
   "source": [
    "Итак, в таблице **`df_messages`** три столбца. В столбцах два типа данных — `int64` и `object`.\n",
    "\n",
    "Согласно документации к данным:\n",
    "\n",
    "`id` — уникальный номер сообщения  \n",
    "`message_date` — дата сообщения  \n",
    "`user_id` — идентификатор пользователя, отправившего сообщение\n",
    "\n",
    "Названия колонок соответствуют стилю написания названий колонок. \n",
    "Количество значений в столбцах совпадает. Значит, в данных нет пропущенных значений."
   ]
  },
  {
   "cell_type": "markdown",
   "metadata": {
    "id": "rDoOMd3uTqnZ"
   },
   "source": [
    "**Информация об интернет-сессиях**\n",
    "\n",
    "Вывожу на экран первые десять строк таблицы `df_internet`:"
   ]
  },
  {
   "cell_type": "code",
   "execution_count": 12,
   "metadata": {},
   "outputs": [
    {
     "data": {
      "text/html": [
       "<div>\n",
       "<style scoped>\n",
       "    .dataframe tbody tr th:only-of-type {\n",
       "        vertical-align: middle;\n",
       "    }\n",
       "\n",
       "    .dataframe tbody tr th {\n",
       "        vertical-align: top;\n",
       "    }\n",
       "\n",
       "    .dataframe thead th {\n",
       "        text-align: right;\n",
       "    }\n",
       "</style>\n",
       "<table border=\"1\" class=\"dataframe\">\n",
       "  <thead>\n",
       "    <tr style=\"text-align: right;\">\n",
       "      <th></th>\n",
       "      <th>id</th>\n",
       "      <th>mb_used</th>\n",
       "      <th>session_date</th>\n",
       "      <th>user_id</th>\n",
       "    </tr>\n",
       "  </thead>\n",
       "  <tbody>\n",
       "    <tr>\n",
       "      <td>0</td>\n",
       "      <td>1000_0</td>\n",
       "      <td>113</td>\n",
       "      <td>2018-11-25</td>\n",
       "      <td>1000</td>\n",
       "    </tr>\n",
       "    <tr>\n",
       "      <td>1</td>\n",
       "      <td>1000_1</td>\n",
       "      <td>1,053</td>\n",
       "      <td>2018-09-07</td>\n",
       "      <td>1000</td>\n",
       "    </tr>\n",
       "    <tr>\n",
       "      <td>2</td>\n",
       "      <td>1000_2</td>\n",
       "      <td>1,197</td>\n",
       "      <td>2018-06-25</td>\n",
       "      <td>1000</td>\n",
       "    </tr>\n",
       "    <tr>\n",
       "      <td>3</td>\n",
       "      <td>1000_3</td>\n",
       "      <td>550</td>\n",
       "      <td>2018-08-22</td>\n",
       "      <td>1000</td>\n",
       "    </tr>\n",
       "    <tr>\n",
       "      <td>4</td>\n",
       "      <td>1000_4</td>\n",
       "      <td>303</td>\n",
       "      <td>2018-09-24</td>\n",
       "      <td>1000</td>\n",
       "    </tr>\n",
       "    <tr>\n",
       "      <td>5</td>\n",
       "      <td>1000_5</td>\n",
       "      <td>400</td>\n",
       "      <td>2018-10-02</td>\n",
       "      <td>1000</td>\n",
       "    </tr>\n",
       "    <tr>\n",
       "      <td>6</td>\n",
       "      <td>1000_6</td>\n",
       "      <td>540</td>\n",
       "      <td>2018-09-07</td>\n",
       "      <td>1000</td>\n",
       "    </tr>\n",
       "    <tr>\n",
       "      <td>7</td>\n",
       "      <td>1000_7</td>\n",
       "      <td>416</td>\n",
       "      <td>2018-07-11</td>\n",
       "      <td>1000</td>\n",
       "    </tr>\n",
       "    <tr>\n",
       "      <td>8</td>\n",
       "      <td>1000_8</td>\n",
       "      <td>505</td>\n",
       "      <td>2018-10-08</td>\n",
       "      <td>1000</td>\n",
       "    </tr>\n",
       "    <tr>\n",
       "      <td>9</td>\n",
       "      <td>1000_9</td>\n",
       "      <td>346</td>\n",
       "      <td>2018-09-03</td>\n",
       "      <td>1000</td>\n",
       "    </tr>\n",
       "  </tbody>\n",
       "</table>\n",
       "</div>"
      ],
      "text/plain": [
       "       id  mb_used session_date  user_id\n",
       "0  1000_0      113   2018-11-25     1000\n",
       "1  1000_1    1,053   2018-09-07     1000\n",
       "2  1000_2    1,197   2018-06-25     1000\n",
       "3  1000_3      550   2018-08-22     1000\n",
       "4  1000_4      303   2018-09-24     1000\n",
       "5  1000_5      400   2018-10-02     1000\n",
       "6  1000_6      540   2018-09-07     1000\n",
       "7  1000_7      416   2018-07-11     1000\n",
       "8  1000_8      505   2018-10-08     1000\n",
       "9  1000_9      346   2018-09-03     1000"
      ]
     },
     "execution_count": 12,
     "metadata": {},
     "output_type": "execute_result"
    }
   ],
   "source": [
    "df_internet.head(10)"
   ]
  },
  {
   "cell_type": "markdown",
   "metadata": {
    "id": "EO73Kwic_Zct"
   },
   "source": [
    "Получаю общую информацию о таблице:"
   ]
  },
  {
   "cell_type": "code",
   "execution_count": 13,
   "metadata": {},
   "outputs": [
    {
     "name": "stdout",
     "output_type": "stream",
     "text": [
      "<class 'pandas.core.frame.DataFrame'>\n",
      "Int64Index: 149396 entries, 0 to 149395\n",
      "Data columns (total 4 columns):\n",
      "id              149396 non-null object\n",
      "mb_used         149396 non-null float64\n",
      "session_date    149396 non-null object\n",
      "user_id         149396 non-null int64\n",
      "dtypes: float64(1), int64(1), object(2)\n",
      "memory usage: 5.7+ MB\n"
     ]
    }
   ],
   "source": [
    "df_internet.info()"
   ]
  },
  {
   "cell_type": "markdown",
   "metadata": {},
   "source": [
    "Итак, в таблице **`df_internet`** пять столбцов. В столбцах три типа данных — `int64`, `float64`, `object`.\n",
    "\n",
    "Согласно документации к данным:\n",
    "\n",
    "`id` — уникальный номер сессии  \n",
    "`mb_used` — объём потраченного за сессию интернет-трафика (в мегабайтах)  \n",
    "`session_date` — дата интернет-сессии  \n",
    "`user_id` — идентификатор пользователя\n",
    "\n",
    "В таблице первая колонка `Unnamed: 0` повторяет значение индекса в каждой строке, ее в дальнейшем удалю.\n",
    "Названия остальных колонок соответствуют стилю написания названий колонок. \n",
    "Количество значений в столбцах совпадает. Значит, в данных нет пропущенных значений."
   ]
  },
  {
   "cell_type": "markdown",
   "metadata": {
    "id": "rDoOMd3uTqnZ"
   },
   "source": [
    "**Информация о тарифах**\n",
    "\n",
    "Вывожу на экран первые десять строк таблицы `df_tariffs`:"
   ]
  },
  {
   "cell_type": "code",
   "execution_count": 14,
   "metadata": {},
   "outputs": [
    {
     "data": {
      "text/html": [
       "<div>\n",
       "<style scoped>\n",
       "    .dataframe tbody tr th:only-of-type {\n",
       "        vertical-align: middle;\n",
       "    }\n",
       "\n",
       "    .dataframe tbody tr th {\n",
       "        vertical-align: top;\n",
       "    }\n",
       "\n",
       "    .dataframe thead th {\n",
       "        text-align: right;\n",
       "    }\n",
       "</style>\n",
       "<table border=\"1\" class=\"dataframe\">\n",
       "  <thead>\n",
       "    <tr style=\"text-align: right;\">\n",
       "      <th></th>\n",
       "      <th>messages_included</th>\n",
       "      <th>mb_per_month_included</th>\n",
       "      <th>minutes_included</th>\n",
       "      <th>rub_monthly_fee</th>\n",
       "      <th>rub_per_gb</th>\n",
       "      <th>rub_per_message</th>\n",
       "      <th>rub_per_minute</th>\n",
       "      <th>tariff_name</th>\n",
       "    </tr>\n",
       "  </thead>\n",
       "  <tbody>\n",
       "    <tr>\n",
       "      <td>0</td>\n",
       "      <td>50</td>\n",
       "      <td>15360</td>\n",
       "      <td>500</td>\n",
       "      <td>550</td>\n",
       "      <td>200</td>\n",
       "      <td>3</td>\n",
       "      <td>3</td>\n",
       "      <td>smart</td>\n",
       "    </tr>\n",
       "    <tr>\n",
       "      <td>1</td>\n",
       "      <td>1000</td>\n",
       "      <td>30720</td>\n",
       "      <td>3000</td>\n",
       "      <td>1950</td>\n",
       "      <td>150</td>\n",
       "      <td>1</td>\n",
       "      <td>1</td>\n",
       "      <td>ultra</td>\n",
       "    </tr>\n",
       "  </tbody>\n",
       "</table>\n",
       "</div>"
      ],
      "text/plain": [
       "   messages_included  mb_per_month_included  minutes_included  \\\n",
       "0                 50                  15360               500   \n",
       "1               1000                  30720              3000   \n",
       "\n",
       "   rub_monthly_fee  rub_per_gb  rub_per_message  rub_per_minute tariff_name  \n",
       "0              550         200                3               3       smart  \n",
       "1             1950         150                1               1       ultra  "
      ]
     },
     "execution_count": 14,
     "metadata": {},
     "output_type": "execute_result"
    }
   ],
   "source": [
    "df_tariffs.head(10)"
   ]
  },
  {
   "cell_type": "markdown",
   "metadata": {
    "id": "EO73Kwic_Zct"
   },
   "source": [
    "Получаю общую информацию о таблице:"
   ]
  },
  {
   "cell_type": "code",
   "execution_count": 15,
   "metadata": {},
   "outputs": [
    {
     "name": "stdout",
     "output_type": "stream",
     "text": [
      "<class 'pandas.core.frame.DataFrame'>\n",
      "RangeIndex: 2 entries, 0 to 1\n",
      "Data columns (total 8 columns):\n",
      "messages_included        2 non-null int64\n",
      "mb_per_month_included    2 non-null int64\n",
      "minutes_included         2 non-null int64\n",
      "rub_monthly_fee          2 non-null int64\n",
      "rub_per_gb               2 non-null int64\n",
      "rub_per_message          2 non-null int64\n",
      "rub_per_minute           2 non-null int64\n",
      "tariff_name              2 non-null object\n",
      "dtypes: int64(7), object(1)\n",
      "memory usage: 256.0+ bytes\n"
     ]
    }
   ],
   "source": [
    "df_tariffs.info()"
   ]
  },
  {
   "cell_type": "markdown",
   "metadata": {},
   "source": [
    "Итак, в таблице **`df_tariffs`** восемь столбцов и всего две строки. В столбцах два типа данных — `int64` и `object`.\n",
    "\n",
    "Согласно документации к данным:\n",
    "\n",
    "`tariff_name` — название тарифа  \n",
    "`rub_monthly_fee` — ежемесячная абонентская плата в рублях  \n",
    "`minutes_included` — количество минут разговора в месяц, включённых в абонентскую плату  \n",
    "`messages_included` — количество сообщений в месяц, включённых в абонентскую плату  \n",
    "`mb_per_month_included` — объём интернет-трафика, включённого в абонентскую плату (в мегабайтах)  \n",
    "`rub_per_minute `— стоимость минуты разговора сверх тарифного пакета (например, если в тарифе 100 минут разговора в месяц, то со 101 минуты будет взиматься плата)  \n",
    "`rub_per_message` — стоимость отправки сообщения сверх тарифного пакета  \n",
    "`rub_per_gb` — стоимость дополнительного гигабайта интернет-трафика сверх тарифного пакета (1 гигабайт = 1024 мегабайта)\n",
    "\n",
    "Названия колонок соответствуют стилю написания названий колонок. \n",
    "В данных нет пропущенных значений."
   ]
  },
  {
   "cell_type": "markdown",
   "metadata": {
    "id": "MCB6-dXG_Zct"
   },
   "source": [
    "**Выводы**\n",
    "\n",
    "В таблицах содержатся сведения о пользователях, тарифах, информация о совершенных звонках, отправленных сообщениях и об интернет-трафике. \n",
    "\n",
    "Названия колонок в таблицах соответствуют стилю написания названий колонок. В данных нет пропущенных значений.  \n",
    "В таблице с информацией об интернет-сессиях присутствует дублирующий индексы столбец.\n",
    "\n",
    "Для анализа данных и проверки гипотез необходимо изменить типы данных некоторых столбцов, произвести расчеты и добавить новые столбцы, составить сводные таблицы и объединить их."
   ]
  },
  {
   "cell_type": "markdown",
   "metadata": {
    "id": "SjYF6Ub9_Zct"
   },
   "source": [
    "## Предобработка данных\n",
    "\n",
    "### Изменение типа данных\n",
    "\n",
    "Перевожу значения столбцов с датами в четырех таблицах в формат даты.\n",
    "\n",
    "Напишу функцию для смены формата значений столбца в формат даты."
   ]
  },
  {
   "cell_type": "code",
   "execution_count": 16,
   "metadata": {},
   "outputs": [],
   "source": [
    "# создание функции для изменения формата в формат даты\n",
    "def to_datetime(dataframe, column): \n",
    "    dataframe[column] = pd.to_datetime(dataframe[column], format='%Y-%m-%d')"
   ]
  },
  {
   "cell_type": "markdown",
   "metadata": {},
   "source": [
    "С помощью функции *to_datetime* изменю формат значений столбца `call_date` в таблице **`df_calls`** и сразу проверю это:"
   ]
  },
  {
   "cell_type": "code",
   "execution_count": 17,
   "metadata": {},
   "outputs": [
    {
     "name": "stdout",
     "output_type": "stream",
     "text": [
      "<class 'pandas.core.frame.DataFrame'>\n",
      "RangeIndex: 202607 entries, 0 to 202606\n",
      "Data columns (total 4 columns):\n",
      "id           202607 non-null object\n",
      "call_date    202607 non-null datetime64[ns]\n",
      "duration     202607 non-null float64\n",
      "user_id      202607 non-null int64\n",
      "dtypes: datetime64[ns](1), float64(1), int64(1), object(1)\n",
      "memory usage: 6.2+ MB\n"
     ]
    }
   ],
   "source": [
    "# применение созданной функции для изменения в форматы даты\n",
    "to_datetime(df_calls,'call_date') \n",
    "df_calls.info()"
   ]
  },
  {
   "cell_type": "markdown",
   "metadata": {},
   "source": [
    "С помощью функции *to_datetime* изменю формат значений столбца `message_date` в таблице **`df_messages`** и сразу проверю это:"
   ]
  },
  {
   "cell_type": "code",
   "execution_count": 18,
   "metadata": {},
   "outputs": [
    {
     "name": "stdout",
     "output_type": "stream",
     "text": [
      "<class 'pandas.core.frame.DataFrame'>\n",
      "RangeIndex: 123036 entries, 0 to 123035\n",
      "Data columns (total 3 columns):\n",
      "id              123036 non-null object\n",
      "message_date    123036 non-null datetime64[ns]\n",
      "user_id         123036 non-null int64\n",
      "dtypes: datetime64[ns](1), int64(1), object(1)\n",
      "memory usage: 2.8+ MB\n"
     ]
    }
   ],
   "source": [
    "# применение созданной функции для изменения в форматы даты\n",
    "to_datetime(df_messages,'message_date') \n",
    "df_messages.info()"
   ]
  },
  {
   "cell_type": "markdown",
   "metadata": {},
   "source": [
    "С помощью функции *to_datetime* изменю формат значений столбца `session_date` в таблице **`df_internet`** и сразу проверю это:"
   ]
  },
  {
   "cell_type": "code",
   "execution_count": 19,
   "metadata": {},
   "outputs": [
    {
     "name": "stdout",
     "output_type": "stream",
     "text": [
      "<class 'pandas.core.frame.DataFrame'>\n",
      "Int64Index: 149396 entries, 0 to 149395\n",
      "Data columns (total 4 columns):\n",
      "id              149396 non-null object\n",
      "mb_used         149396 non-null float64\n",
      "session_date    149396 non-null datetime64[ns]\n",
      "user_id         149396 non-null int64\n",
      "dtypes: datetime64[ns](1), float64(1), int64(1), object(1)\n",
      "memory usage: 5.7+ MB\n"
     ]
    }
   ],
   "source": [
    "# применение созданной функции для изменения в форматы даты\n",
    "to_datetime(df_internet,'session_date') \n",
    "df_internet.info()"
   ]
  },
  {
   "cell_type": "markdown",
   "metadata": {},
   "source": [
    "С помощью функции *to_datetime* изменю формат значений столбцов `reg_date` и `churn_date`  в таблице **`df_users`** и сразу проверю это:"
   ]
  },
  {
   "cell_type": "code",
   "execution_count": 20,
   "metadata": {},
   "outputs": [
    {
     "name": "stdout",
     "output_type": "stream",
     "text": [
      "<class 'pandas.core.frame.DataFrame'>\n",
      "RangeIndex: 500 entries, 0 to 499\n",
      "Data columns (total 8 columns):\n",
      "user_id       500 non-null int64\n",
      "age           500 non-null int64\n",
      "churn_date    38 non-null object\n",
      "city          500 non-null object\n",
      "first_name    500 non-null object\n",
      "last_name     500 non-null object\n",
      "reg_date      500 non-null datetime64[ns]\n",
      "tariff        500 non-null object\n",
      "dtypes: datetime64[ns](1), int64(2), object(5)\n",
      "memory usage: 31.4+ KB\n"
     ]
    }
   ],
   "source": [
    "# применение созданной функции для изменения в форматы даты\n",
    "to_datetime(df_users,'reg_date') \n",
    "df_users.info()"
   ]
  },
  {
   "cell_type": "code",
   "execution_count": 21,
   "metadata": {},
   "outputs": [
    {
     "name": "stdout",
     "output_type": "stream",
     "text": [
      "<class 'pandas.core.frame.DataFrame'>\n",
      "RangeIndex: 500 entries, 0 to 499\n",
      "Data columns (total 8 columns):\n",
      "user_id       500 non-null int64\n",
      "age           500 non-null int64\n",
      "churn_date    38 non-null datetime64[ns]\n",
      "city          500 non-null object\n",
      "first_name    500 non-null object\n",
      "last_name     500 non-null object\n",
      "reg_date      500 non-null datetime64[ns]\n",
      "tariff        500 non-null object\n",
      "dtypes: datetime64[ns](2), int64(2), object(4)\n",
      "memory usage: 31.4+ KB\n"
     ]
    }
   ],
   "source": [
    "# применение созданной функции для изменения в форматы даты\n",
    "to_datetime(df_users,'churn_date') \n",
    "df_users.info()"
   ]
  },
  {
   "cell_type": "markdown",
   "metadata": {},
   "source": [
    "**Выводы**\n",
    "\n",
    "В четырех таблицах в столбцах с датами изменен тип данных на формат даты для дальнейшего использования значения месяца."
   ]
  },
  {
   "cell_type": "markdown",
   "metadata": {},
   "source": [
    "### Переименование столбца\n",
    "\n",
    "Сокращу название столбца `tariff_name` в таблице **`df_tariffs`**, это пригодится в дальнейшем при объединении таблиц:"
   ]
  },
  {
   "cell_type": "code",
   "execution_count": 22,
   "metadata": {},
   "outputs": [],
   "source": [
    "df_tariffs = df_tariffs.rename(columns={'tariff_name':'tariff'})"
   ]
  },
  {
   "cell_type": "markdown",
   "metadata": {},
   "source": [
    "### Дубликаты\n",
    "\n",
    "Проверю данные в четырех таблицах на дубликаты, автоматизирую процесс."
   ]
  },
  {
   "cell_type": "code",
   "execution_count": 24,
   "metadata": {},
   "outputs": [],
   "source": [
    "# функция для проверки дубликатов\n",
    "def dupl(frame):\n",
    "    dupl = frame.duplicated().sum() \n",
    "    return dupl"
   ]
  },
  {
   "cell_type": "code",
   "execution_count": 25,
   "metadata": {},
   "outputs": [
    {
     "data": {
      "text/plain": [
       "0"
      ]
     },
     "execution_count": 25,
     "metadata": {},
     "output_type": "execute_result"
    }
   ],
   "source": [
    "# подсчёт явных дубликатов с помощью функции\n",
    "dupl(df_users)"
   ]
  },
  {
   "cell_type": "code",
   "execution_count": 26,
   "metadata": {},
   "outputs": [
    {
     "data": {
      "text/plain": [
       "0"
      ]
     },
     "execution_count": 26,
     "metadata": {},
     "output_type": "execute_result"
    }
   ],
   "source": [
    "# подсчёт явных дубликатов с помощью функции\n",
    "dupl(df_calls)"
   ]
  },
  {
   "cell_type": "code",
   "execution_count": 27,
   "metadata": {},
   "outputs": [
    {
     "data": {
      "text/plain": [
       "0"
      ]
     },
     "execution_count": 27,
     "metadata": {},
     "output_type": "execute_result"
    }
   ],
   "source": [
    "# подсчёт явных дубликатов с помощью функции\n",
    "dupl(df_messages)"
   ]
  },
  {
   "cell_type": "code",
   "execution_count": 28,
   "metadata": {},
   "outputs": [
    {
     "data": {
      "text/plain": [
       "0"
      ]
     },
     "execution_count": 28,
     "metadata": {},
     "output_type": "execute_result"
    }
   ],
   "source": [
    "# подсчёт явных дубликатов с помощью функции\n",
    "dupl(df_internet)"
   ]
  },
  {
   "cell_type": "markdown",
   "metadata": {},
   "source": [
    "Дубликатов не обнаружено."
   ]
  },
  {
   "cell_type": "markdown",
   "metadata": {},
   "source": [
    "### Изучение данных таблиц.\n",
    "\n",
    "Посмотрю на значения таблиц с информацией о звонках и интернет-трафике для выявления аномальных значений."
   ]
  },
  {
   "cell_type": "code",
   "execution_count": 29,
   "metadata": {},
   "outputs": [],
   "source": [
    "def des (frame):\n",
    "    des = frame.describe()\n",
    "    return des"
   ]
  },
  {
   "cell_type": "code",
   "execution_count": 30,
   "metadata": {},
   "outputs": [
    {
     "data": {
      "text/html": [
       "<div>\n",
       "<style scoped>\n",
       "    .dataframe tbody tr th:only-of-type {\n",
       "        vertical-align: middle;\n",
       "    }\n",
       "\n",
       "    .dataframe tbody tr th {\n",
       "        vertical-align: top;\n",
       "    }\n",
       "\n",
       "    .dataframe thead th {\n",
       "        text-align: right;\n",
       "    }\n",
       "</style>\n",
       "<table border=\"1\" class=\"dataframe\">\n",
       "  <thead>\n",
       "    <tr style=\"text-align: right;\">\n",
       "      <th></th>\n",
       "      <th>duration</th>\n",
       "      <th>user_id</th>\n",
       "    </tr>\n",
       "  </thead>\n",
       "  <tbody>\n",
       "    <tr>\n",
       "      <td>count</td>\n",
       "      <td>202,607</td>\n",
       "      <td>202,607</td>\n",
       "    </tr>\n",
       "    <tr>\n",
       "      <td>mean</td>\n",
       "      <td>7</td>\n",
       "      <td>1,254</td>\n",
       "    </tr>\n",
       "    <tr>\n",
       "      <td>std</td>\n",
       "      <td>6</td>\n",
       "      <td>145</td>\n",
       "    </tr>\n",
       "    <tr>\n",
       "      <td>min</td>\n",
       "      <td>0</td>\n",
       "      <td>1,000</td>\n",
       "    </tr>\n",
       "    <tr>\n",
       "      <td>25%</td>\n",
       "      <td>1</td>\n",
       "      <td>1,126</td>\n",
       "    </tr>\n",
       "    <tr>\n",
       "      <td>50%</td>\n",
       "      <td>6</td>\n",
       "      <td>1,260</td>\n",
       "    </tr>\n",
       "    <tr>\n",
       "      <td>75%</td>\n",
       "      <td>11</td>\n",
       "      <td>1,379</td>\n",
       "    </tr>\n",
       "    <tr>\n",
       "      <td>max</td>\n",
       "      <td>38</td>\n",
       "      <td>1,499</td>\n",
       "    </tr>\n",
       "  </tbody>\n",
       "</table>\n",
       "</div>"
      ],
      "text/plain": [
       "       duration  user_id\n",
       "count   202,607  202,607\n",
       "mean          7    1,254\n",
       "std           6      145\n",
       "min           0    1,000\n",
       "25%           1    1,126\n",
       "50%           6    1,260\n",
       "75%          11    1,379\n",
       "max          38    1,499"
      ]
     },
     "execution_count": 30,
     "metadata": {},
     "output_type": "execute_result"
    }
   ],
   "source": [
    "des(df_calls)"
   ]
  },
  {
   "cell_type": "markdown",
   "metadata": {},
   "source": [
    "Средняя продолжительность звонков составляет 6 мин, максимальная 38 мин. Минимальная продолжительность звонков составляет 0 мин. Это похоже на пропущенные абонентом звонки и на звонки, на которые абонент не дождался ответа на другом конце линии."
   ]
  },
  {
   "cell_type": "code",
   "execution_count": 31,
   "metadata": {},
   "outputs": [
    {
     "data": {
      "text/html": [
       "<div>\n",
       "<style scoped>\n",
       "    .dataframe tbody tr th:only-of-type {\n",
       "        vertical-align: middle;\n",
       "    }\n",
       "\n",
       "    .dataframe tbody tr th {\n",
       "        vertical-align: top;\n",
       "    }\n",
       "\n",
       "    .dataframe thead th {\n",
       "        text-align: right;\n",
       "    }\n",
       "</style>\n",
       "<table border=\"1\" class=\"dataframe\">\n",
       "  <thead>\n",
       "    <tr style=\"text-align: right;\">\n",
       "      <th></th>\n",
       "      <th>mb_used</th>\n",
       "      <th>user_id</th>\n",
       "    </tr>\n",
       "  </thead>\n",
       "  <tbody>\n",
       "    <tr>\n",
       "      <td>count</td>\n",
       "      <td>149,396</td>\n",
       "      <td>149,396</td>\n",
       "    </tr>\n",
       "    <tr>\n",
       "      <td>mean</td>\n",
       "      <td>370</td>\n",
       "      <td>1,252</td>\n",
       "    </tr>\n",
       "    <tr>\n",
       "      <td>std</td>\n",
       "      <td>278</td>\n",
       "      <td>144</td>\n",
       "    </tr>\n",
       "    <tr>\n",
       "      <td>min</td>\n",
       "      <td>0</td>\n",
       "      <td>1,000</td>\n",
       "    </tr>\n",
       "    <tr>\n",
       "      <td>25%</td>\n",
       "      <td>138</td>\n",
       "      <td>1,130</td>\n",
       "    </tr>\n",
       "    <tr>\n",
       "      <td>50%</td>\n",
       "      <td>348</td>\n",
       "      <td>1,251</td>\n",
       "    </tr>\n",
       "    <tr>\n",
       "      <td>75%</td>\n",
       "      <td>560</td>\n",
       "      <td>1,380</td>\n",
       "    </tr>\n",
       "    <tr>\n",
       "      <td>max</td>\n",
       "      <td>1,725</td>\n",
       "      <td>1,499</td>\n",
       "    </tr>\n",
       "  </tbody>\n",
       "</table>\n",
       "</div>"
      ],
      "text/plain": [
       "       mb_used  user_id\n",
       "count  149,396  149,396\n",
       "mean       370    1,252\n",
       "std        278      144\n",
       "min          0    1,000\n",
       "25%        138    1,130\n",
       "50%        348    1,251\n",
       "75%        560    1,380\n",
       "max      1,725    1,499"
      ]
     },
     "execution_count": 31,
     "metadata": {},
     "output_type": "execute_result"
    }
   ],
   "source": [
    "des(df_internet)"
   ]
  },
  {
   "cell_type": "markdown",
   "metadata": {},
   "source": [
    "Средний объем интернет-сессии составляет 370 Мб, максимальный - 1,725 Мб.\n",
    "Минимальный объем интернет-сессии составляет 0 Мб. Это похоже на неуспешные попытки выйти в сеть. Оставлю нули, они не повлияют на анализ данных, т.к. объемы интернет-сессий будут суммироваться по каждому пользователю за месяц."
   ]
  },
  {
   "cell_type": "markdown",
   "metadata": {},
   "source": [
    "### Расчеты и добавление результатов в таблицу.\n",
    "\n",
    "#### Столбец со значением месяца.\n",
    "\n",
    "Добавлю в таблицы с информацией о звонках, сообщениях и интернет-сессиях стоблец в месяцем совершения действия.\n",
    "В таблицу с информацией о пользователях также добавлю столбцы с месяцем заключения и расторжения договора. \n",
    "\n",
    "Напишу функцию для добавления столбца месяца `month`:"
   ]
  },
  {
   "cell_type": "code",
   "execution_count": 32,
   "metadata": {
    "scrolled": true
   },
   "outputs": [],
   "source": [
    "# создание функции для выделения месяца в новый столбец\n",
    "def add_month(df, column): \n",
    "    df['month'] = df[column].dt.month"
   ]
  },
  {
   "cell_type": "markdown",
   "metadata": {},
   "source": [
    "Добавлю с помощью созданой функции столбец `month` в таблицы."
   ]
  },
  {
   "cell_type": "code",
   "execution_count": 33,
   "metadata": {},
   "outputs": [],
   "source": [
    "# выделения месяца в новый столбец с помощью созданной функции \n",
    "add_month(df_calls,'call_date') "
   ]
  },
  {
   "cell_type": "code",
   "execution_count": 34,
   "metadata": {},
   "outputs": [],
   "source": [
    "# выделения месяца в новый столбец с помощью созданной функции \n",
    "add_month(df_messages,'message_date') "
   ]
  },
  {
   "cell_type": "code",
   "execution_count": 35,
   "metadata": {},
   "outputs": [],
   "source": [
    " # выделения месяца в новый столбец с помощью созданной функции \n",
    "add_month(df_internet,'session_date')"
   ]
  },
  {
   "cell_type": "code",
   "execution_count": 36,
   "metadata": {},
   "outputs": [],
   "source": [
    "# выделения месяца в новый столбец с помощью созданной функции \n",
    "df_users['reg_month'] = df_users['reg_date'].dt.month \n",
    "df_users['churn_month'] = df_users['churn_date'].dt.month"
   ]
  },
  {
   "cell_type": "markdown",
   "metadata": {},
   "source": [
    "#### Подготовка таблицы с информацией о пользователях к объединению с другими таблицами\n",
    "\n",
    "Для дальнейшего анализа необходимо рассмотреть ситуацию, когда клиент заключил договор на обслуживание, но при этом в течение того или иного месяца не пользовался услугами связи. С таких клиентов в любом случае взималась ежемесячная плата. Чтобы учеть эту абонентскую плату, сделаю несколько шагов:  \n",
    "\n",
    "1. Создам вспомогательную таблицу **`month`** с двенадцатью месяцами года и столбцом с ключом в значении 1.\n",
    "2. В таблицу `**df_users**` также добавлю столбец с ключом в значении 1. \n",
    "3. По ключу объединю эти две таблицы.\n",
    "4. Изменю значение столбца `month` с вида \"2018-01-01\" на вид \"1\", где \"1\" - значение месяца.\n",
    "\n",
    "Таким образом, для каждого клиента из таблицы **`df_users`** будут созданы 12 строк со значением всех месяцев года. В дальнейшем, после объединения всех данных, при расчете выручки будут учтены даты заключения и расторжения договора, а также факт наличия/отсутствия звонков, сообщений и интернет-сессий в каждом месяце.  \n",
    "\n",
    "1. Создаю таблицу **`month`** с двенадцатью месяцами года и столбцом с ключом в значении 1."
   ]
  },
  {
   "cell_type": "code",
   "execution_count": 37,
   "metadata": {},
   "outputs": [
    {
     "data": {
      "text/html": [
       "<div>\n",
       "<style scoped>\n",
       "    .dataframe tbody tr th:only-of-type {\n",
       "        vertical-align: middle;\n",
       "    }\n",
       "\n",
       "    .dataframe tbody tr th {\n",
       "        vertical-align: top;\n",
       "    }\n",
       "\n",
       "    .dataframe thead th {\n",
       "        text-align: right;\n",
       "    }\n",
       "</style>\n",
       "<table border=\"1\" class=\"dataframe\">\n",
       "  <thead>\n",
       "    <tr style=\"text-align: right;\">\n",
       "      <th></th>\n",
       "      <th>month</th>\n",
       "      <th>key</th>\n",
       "    </tr>\n",
       "  </thead>\n",
       "  <tbody>\n",
       "    <tr>\n",
       "      <td>0</td>\n",
       "      <td>2018-01-01</td>\n",
       "      <td>1</td>\n",
       "    </tr>\n",
       "    <tr>\n",
       "      <td>1</td>\n",
       "      <td>2018-02-01</td>\n",
       "      <td>1</td>\n",
       "    </tr>\n",
       "    <tr>\n",
       "      <td>2</td>\n",
       "      <td>2018-03-01</td>\n",
       "      <td>1</td>\n",
       "    </tr>\n",
       "    <tr>\n",
       "      <td>3</td>\n",
       "      <td>2018-04-01</td>\n",
       "      <td>1</td>\n",
       "    </tr>\n",
       "    <tr>\n",
       "      <td>4</td>\n",
       "      <td>2018-05-01</td>\n",
       "      <td>1</td>\n",
       "    </tr>\n",
       "    <tr>\n",
       "      <td>5</td>\n",
       "      <td>2018-06-01</td>\n",
       "      <td>1</td>\n",
       "    </tr>\n",
       "    <tr>\n",
       "      <td>6</td>\n",
       "      <td>2018-07-01</td>\n",
       "      <td>1</td>\n",
       "    </tr>\n",
       "    <tr>\n",
       "      <td>7</td>\n",
       "      <td>2018-08-01</td>\n",
       "      <td>1</td>\n",
       "    </tr>\n",
       "    <tr>\n",
       "      <td>8</td>\n",
       "      <td>2018-09-01</td>\n",
       "      <td>1</td>\n",
       "    </tr>\n",
       "    <tr>\n",
       "      <td>9</td>\n",
       "      <td>2018-10-01</td>\n",
       "      <td>1</td>\n",
       "    </tr>\n",
       "    <tr>\n",
       "      <td>10</td>\n",
       "      <td>2018-11-01</td>\n",
       "      <td>1</td>\n",
       "    </tr>\n",
       "    <tr>\n",
       "      <td>11</td>\n",
       "      <td>2018-12-01</td>\n",
       "      <td>1</td>\n",
       "    </tr>\n",
       "  </tbody>\n",
       "</table>\n",
       "</div>"
      ],
      "text/plain": [
       "        month  key\n",
       "0  2018-01-01    1\n",
       "1  2018-02-01    1\n",
       "2  2018-03-01    1\n",
       "3  2018-04-01    1\n",
       "4  2018-05-01    1\n",
       "5  2018-06-01    1\n",
       "6  2018-07-01    1\n",
       "7  2018-08-01    1\n",
       "8  2018-09-01    1\n",
       "9  2018-10-01    1\n",
       "10 2018-11-01    1\n",
       "11 2018-12-01    1"
      ]
     },
     "execution_count": 37,
     "metadata": {},
     "output_type": "execute_result"
    }
   ],
   "source": [
    "# создание таблицы\n",
    "month = pd.DataFrame(pd.date_range('2018-01-01', '2018-12-01', freq='MS')) \n",
    "month.columns = ['month']\n",
    "month['key'] = 1\n",
    "month"
   ]
  },
  {
   "cell_type": "markdown",
   "metadata": {},
   "source": [
    "2. В таблицу **`df_users`** добавлю столбец с ключом в значении 1. "
   ]
  },
  {
   "cell_type": "code",
   "execution_count": 38,
   "metadata": {
    "scrolled": true
   },
   "outputs": [
    {
     "data": {
      "text/html": [
       "<div>\n",
       "<style scoped>\n",
       "    .dataframe tbody tr th:only-of-type {\n",
       "        vertical-align: middle;\n",
       "    }\n",
       "\n",
       "    .dataframe tbody tr th {\n",
       "        vertical-align: top;\n",
       "    }\n",
       "\n",
       "    .dataframe thead th {\n",
       "        text-align: right;\n",
       "    }\n",
       "</style>\n",
       "<table border=\"1\" class=\"dataframe\">\n",
       "  <thead>\n",
       "    <tr style=\"text-align: right;\">\n",
       "      <th></th>\n",
       "      <th>user_id</th>\n",
       "      <th>age</th>\n",
       "      <th>churn_date</th>\n",
       "      <th>city</th>\n",
       "      <th>first_name</th>\n",
       "      <th>last_name</th>\n",
       "      <th>reg_date</th>\n",
       "      <th>tariff</th>\n",
       "      <th>reg_month</th>\n",
       "      <th>churn_month</th>\n",
       "      <th>key</th>\n",
       "    </tr>\n",
       "  </thead>\n",
       "  <tbody>\n",
       "    <tr>\n",
       "      <td>0</td>\n",
       "      <td>1000</td>\n",
       "      <td>52</td>\n",
       "      <td>NaT</td>\n",
       "      <td>Краснодар</td>\n",
       "      <td>Рафаил</td>\n",
       "      <td>Верещагин</td>\n",
       "      <td>2018-05-25</td>\n",
       "      <td>ultra</td>\n",
       "      <td>5</td>\n",
       "      <td>nan</td>\n",
       "      <td>1</td>\n",
       "    </tr>\n",
       "    <tr>\n",
       "      <td>1</td>\n",
       "      <td>1001</td>\n",
       "      <td>41</td>\n",
       "      <td>NaT</td>\n",
       "      <td>Москва</td>\n",
       "      <td>Иван</td>\n",
       "      <td>Ежов</td>\n",
       "      <td>2018-11-01</td>\n",
       "      <td>smart</td>\n",
       "      <td>11</td>\n",
       "      <td>nan</td>\n",
       "      <td>1</td>\n",
       "    </tr>\n",
       "    <tr>\n",
       "      <td>2</td>\n",
       "      <td>1002</td>\n",
       "      <td>59</td>\n",
       "      <td>NaT</td>\n",
       "      <td>Стерлитамак</td>\n",
       "      <td>Евгений</td>\n",
       "      <td>Абрамович</td>\n",
       "      <td>2018-06-17</td>\n",
       "      <td>smart</td>\n",
       "      <td>6</td>\n",
       "      <td>nan</td>\n",
       "      <td>1</td>\n",
       "    </tr>\n",
       "    <tr>\n",
       "      <td>3</td>\n",
       "      <td>1003</td>\n",
       "      <td>23</td>\n",
       "      <td>NaT</td>\n",
       "      <td>Москва</td>\n",
       "      <td>Белла</td>\n",
       "      <td>Белякова</td>\n",
       "      <td>2018-08-17</td>\n",
       "      <td>ultra</td>\n",
       "      <td>8</td>\n",
       "      <td>nan</td>\n",
       "      <td>1</td>\n",
       "    </tr>\n",
       "    <tr>\n",
       "      <td>4</td>\n",
       "      <td>1004</td>\n",
       "      <td>68</td>\n",
       "      <td>NaT</td>\n",
       "      <td>Новокузнецк</td>\n",
       "      <td>Татьяна</td>\n",
       "      <td>Авдеенко</td>\n",
       "      <td>2018-05-14</td>\n",
       "      <td>ultra</td>\n",
       "      <td>5</td>\n",
       "      <td>nan</td>\n",
       "      <td>1</td>\n",
       "    </tr>\n",
       "    <tr>\n",
       "      <td>...</td>\n",
       "      <td>...</td>\n",
       "      <td>...</td>\n",
       "      <td>...</td>\n",
       "      <td>...</td>\n",
       "      <td>...</td>\n",
       "      <td>...</td>\n",
       "      <td>...</td>\n",
       "      <td>...</td>\n",
       "      <td>...</td>\n",
       "      <td>...</td>\n",
       "      <td>...</td>\n",
       "    </tr>\n",
       "    <tr>\n",
       "      <td>495</td>\n",
       "      <td>1495</td>\n",
       "      <td>65</td>\n",
       "      <td>NaT</td>\n",
       "      <td>Иркутск</td>\n",
       "      <td>Авксентий</td>\n",
       "      <td>Фокин</td>\n",
       "      <td>2018-08-28</td>\n",
       "      <td>ultra</td>\n",
       "      <td>8</td>\n",
       "      <td>nan</td>\n",
       "      <td>1</td>\n",
       "    </tr>\n",
       "    <tr>\n",
       "      <td>496</td>\n",
       "      <td>1496</td>\n",
       "      <td>36</td>\n",
       "      <td>NaT</td>\n",
       "      <td>Вологда</td>\n",
       "      <td>Трифон</td>\n",
       "      <td>Блохин</td>\n",
       "      <td>2018-01-27</td>\n",
       "      <td>smart</td>\n",
       "      <td>1</td>\n",
       "      <td>nan</td>\n",
       "      <td>1</td>\n",
       "    </tr>\n",
       "    <tr>\n",
       "      <td>497</td>\n",
       "      <td>1497</td>\n",
       "      <td>32</td>\n",
       "      <td>NaT</td>\n",
       "      <td>Челябинск</td>\n",
       "      <td>Каролина</td>\n",
       "      <td>Агеева</td>\n",
       "      <td>2018-10-09</td>\n",
       "      <td>smart</td>\n",
       "      <td>10</td>\n",
       "      <td>nan</td>\n",
       "      <td>1</td>\n",
       "    </tr>\n",
       "    <tr>\n",
       "      <td>498</td>\n",
       "      <td>1498</td>\n",
       "      <td>68</td>\n",
       "      <td>2018-10-25</td>\n",
       "      <td>Владикавказ</td>\n",
       "      <td>Всеволод</td>\n",
       "      <td>Акимчин</td>\n",
       "      <td>2018-07-19</td>\n",
       "      <td>smart</td>\n",
       "      <td>7</td>\n",
       "      <td>10</td>\n",
       "      <td>1</td>\n",
       "    </tr>\n",
       "    <tr>\n",
       "      <td>499</td>\n",
       "      <td>1499</td>\n",
       "      <td>35</td>\n",
       "      <td>NaT</td>\n",
       "      <td>Пермь</td>\n",
       "      <td>Гектор</td>\n",
       "      <td>Корнилов</td>\n",
       "      <td>2018-09-27</td>\n",
       "      <td>smart</td>\n",
       "      <td>9</td>\n",
       "      <td>nan</td>\n",
       "      <td>1</td>\n",
       "    </tr>\n",
       "  </tbody>\n",
       "</table>\n",
       "<p>500 rows × 11 columns</p>\n",
       "</div>"
      ],
      "text/plain": [
       "     user_id  age churn_date         city first_name  last_name   reg_date  \\\n",
       "0       1000   52        NaT    Краснодар     Рафаил  Верещагин 2018-05-25   \n",
       "1       1001   41        NaT       Москва       Иван       Ежов 2018-11-01   \n",
       "2       1002   59        NaT  Стерлитамак    Евгений  Абрамович 2018-06-17   \n",
       "3       1003   23        NaT       Москва      Белла   Белякова 2018-08-17   \n",
       "4       1004   68        NaT  Новокузнецк    Татьяна   Авдеенко 2018-05-14   \n",
       "..       ...  ...        ...          ...        ...        ...        ...   \n",
       "495     1495   65        NaT      Иркутск  Авксентий      Фокин 2018-08-28   \n",
       "496     1496   36        NaT      Вологда     Трифон     Блохин 2018-01-27   \n",
       "497     1497   32        NaT    Челябинск   Каролина     Агеева 2018-10-09   \n",
       "498     1498   68 2018-10-25  Владикавказ   Всеволод    Акимчин 2018-07-19   \n",
       "499     1499   35        NaT        Пермь     Гектор   Корнилов 2018-09-27   \n",
       "\n",
       "    tariff  reg_month  churn_month  key  \n",
       "0    ultra          5          nan    1  \n",
       "1    smart         11          nan    1  \n",
       "2    smart          6          nan    1  \n",
       "3    ultra          8          nan    1  \n",
       "4    ultra          5          nan    1  \n",
       "..     ...        ...          ...  ...  \n",
       "495  ultra          8          nan    1  \n",
       "496  smart          1          nan    1  \n",
       "497  smart         10          nan    1  \n",
       "498  smart          7           10    1  \n",
       "499  smart          9          nan    1  \n",
       "\n",
       "[500 rows x 11 columns]"
      ]
     },
     "execution_count": 38,
     "metadata": {},
     "output_type": "execute_result"
    }
   ],
   "source": [
    "# добавление столбца со значением ключа\n",
    "df_users['key'] = 1 \n",
    "df_users"
   ]
  },
  {
   "cell_type": "markdown",
   "metadata": {},
   "source": [
    "3. Объединю таблицы **`df_users`** и month по сначениям столбца `key`."
   ]
  },
  {
   "cell_type": "code",
   "execution_count": 39,
   "metadata": {},
   "outputs": [
    {
     "data": {
      "text/html": [
       "<div>\n",
       "<style scoped>\n",
       "    .dataframe tbody tr th:only-of-type {\n",
       "        vertical-align: middle;\n",
       "    }\n",
       "\n",
       "    .dataframe tbody tr th {\n",
       "        vertical-align: top;\n",
       "    }\n",
       "\n",
       "    .dataframe thead th {\n",
       "        text-align: right;\n",
       "    }\n",
       "</style>\n",
       "<table border=\"1\" class=\"dataframe\">\n",
       "  <thead>\n",
       "    <tr style=\"text-align: right;\">\n",
       "      <th></th>\n",
       "      <th>user_id</th>\n",
       "      <th>age</th>\n",
       "      <th>churn_date</th>\n",
       "      <th>city</th>\n",
       "      <th>first_name</th>\n",
       "      <th>last_name</th>\n",
       "      <th>reg_date</th>\n",
       "      <th>tariff</th>\n",
       "      <th>reg_month</th>\n",
       "      <th>churn_month</th>\n",
       "      <th>key</th>\n",
       "      <th>month</th>\n",
       "    </tr>\n",
       "  </thead>\n",
       "  <tbody>\n",
       "    <tr>\n",
       "      <td>0</td>\n",
       "      <td>1000</td>\n",
       "      <td>52</td>\n",
       "      <td>NaT</td>\n",
       "      <td>Краснодар</td>\n",
       "      <td>Рафаил</td>\n",
       "      <td>Верещагин</td>\n",
       "      <td>2018-05-25</td>\n",
       "      <td>ultra</td>\n",
       "      <td>5</td>\n",
       "      <td>nan</td>\n",
       "      <td>1</td>\n",
       "      <td>2018-01-01</td>\n",
       "    </tr>\n",
       "    <tr>\n",
       "      <td>1</td>\n",
       "      <td>1000</td>\n",
       "      <td>52</td>\n",
       "      <td>NaT</td>\n",
       "      <td>Краснодар</td>\n",
       "      <td>Рафаил</td>\n",
       "      <td>Верещагин</td>\n",
       "      <td>2018-05-25</td>\n",
       "      <td>ultra</td>\n",
       "      <td>5</td>\n",
       "      <td>nan</td>\n",
       "      <td>1</td>\n",
       "      <td>2018-02-01</td>\n",
       "    </tr>\n",
       "    <tr>\n",
       "      <td>2</td>\n",
       "      <td>1000</td>\n",
       "      <td>52</td>\n",
       "      <td>NaT</td>\n",
       "      <td>Краснодар</td>\n",
       "      <td>Рафаил</td>\n",
       "      <td>Верещагин</td>\n",
       "      <td>2018-05-25</td>\n",
       "      <td>ultra</td>\n",
       "      <td>5</td>\n",
       "      <td>nan</td>\n",
       "      <td>1</td>\n",
       "      <td>2018-03-01</td>\n",
       "    </tr>\n",
       "    <tr>\n",
       "      <td>3</td>\n",
       "      <td>1000</td>\n",
       "      <td>52</td>\n",
       "      <td>NaT</td>\n",
       "      <td>Краснодар</td>\n",
       "      <td>Рафаил</td>\n",
       "      <td>Верещагин</td>\n",
       "      <td>2018-05-25</td>\n",
       "      <td>ultra</td>\n",
       "      <td>5</td>\n",
       "      <td>nan</td>\n",
       "      <td>1</td>\n",
       "      <td>2018-04-01</td>\n",
       "    </tr>\n",
       "    <tr>\n",
       "      <td>4</td>\n",
       "      <td>1000</td>\n",
       "      <td>52</td>\n",
       "      <td>NaT</td>\n",
       "      <td>Краснодар</td>\n",
       "      <td>Рафаил</td>\n",
       "      <td>Верещагин</td>\n",
       "      <td>2018-05-25</td>\n",
       "      <td>ultra</td>\n",
       "      <td>5</td>\n",
       "      <td>nan</td>\n",
       "      <td>1</td>\n",
       "      <td>2018-05-01</td>\n",
       "    </tr>\n",
       "    <tr>\n",
       "      <td>...</td>\n",
       "      <td>...</td>\n",
       "      <td>...</td>\n",
       "      <td>...</td>\n",
       "      <td>...</td>\n",
       "      <td>...</td>\n",
       "      <td>...</td>\n",
       "      <td>...</td>\n",
       "      <td>...</td>\n",
       "      <td>...</td>\n",
       "      <td>...</td>\n",
       "      <td>...</td>\n",
       "      <td>...</td>\n",
       "    </tr>\n",
       "    <tr>\n",
       "      <td>5995</td>\n",
       "      <td>1499</td>\n",
       "      <td>35</td>\n",
       "      <td>NaT</td>\n",
       "      <td>Пермь</td>\n",
       "      <td>Гектор</td>\n",
       "      <td>Корнилов</td>\n",
       "      <td>2018-09-27</td>\n",
       "      <td>smart</td>\n",
       "      <td>9</td>\n",
       "      <td>nan</td>\n",
       "      <td>1</td>\n",
       "      <td>2018-08-01</td>\n",
       "    </tr>\n",
       "    <tr>\n",
       "      <td>5996</td>\n",
       "      <td>1499</td>\n",
       "      <td>35</td>\n",
       "      <td>NaT</td>\n",
       "      <td>Пермь</td>\n",
       "      <td>Гектор</td>\n",
       "      <td>Корнилов</td>\n",
       "      <td>2018-09-27</td>\n",
       "      <td>smart</td>\n",
       "      <td>9</td>\n",
       "      <td>nan</td>\n",
       "      <td>1</td>\n",
       "      <td>2018-09-01</td>\n",
       "    </tr>\n",
       "    <tr>\n",
       "      <td>5997</td>\n",
       "      <td>1499</td>\n",
       "      <td>35</td>\n",
       "      <td>NaT</td>\n",
       "      <td>Пермь</td>\n",
       "      <td>Гектор</td>\n",
       "      <td>Корнилов</td>\n",
       "      <td>2018-09-27</td>\n",
       "      <td>smart</td>\n",
       "      <td>9</td>\n",
       "      <td>nan</td>\n",
       "      <td>1</td>\n",
       "      <td>2018-10-01</td>\n",
       "    </tr>\n",
       "    <tr>\n",
       "      <td>5998</td>\n",
       "      <td>1499</td>\n",
       "      <td>35</td>\n",
       "      <td>NaT</td>\n",
       "      <td>Пермь</td>\n",
       "      <td>Гектор</td>\n",
       "      <td>Корнилов</td>\n",
       "      <td>2018-09-27</td>\n",
       "      <td>smart</td>\n",
       "      <td>9</td>\n",
       "      <td>nan</td>\n",
       "      <td>1</td>\n",
       "      <td>2018-11-01</td>\n",
       "    </tr>\n",
       "    <tr>\n",
       "      <td>5999</td>\n",
       "      <td>1499</td>\n",
       "      <td>35</td>\n",
       "      <td>NaT</td>\n",
       "      <td>Пермь</td>\n",
       "      <td>Гектор</td>\n",
       "      <td>Корнилов</td>\n",
       "      <td>2018-09-27</td>\n",
       "      <td>smart</td>\n",
       "      <td>9</td>\n",
       "      <td>nan</td>\n",
       "      <td>1</td>\n",
       "      <td>2018-12-01</td>\n",
       "    </tr>\n",
       "  </tbody>\n",
       "</table>\n",
       "<p>6000 rows × 12 columns</p>\n",
       "</div>"
      ],
      "text/plain": [
       "      user_id  age churn_date       city first_name  last_name   reg_date  \\\n",
       "0        1000   52        NaT  Краснодар     Рафаил  Верещагин 2018-05-25   \n",
       "1        1000   52        NaT  Краснодар     Рафаил  Верещагин 2018-05-25   \n",
       "2        1000   52        NaT  Краснодар     Рафаил  Верещагин 2018-05-25   \n",
       "3        1000   52        NaT  Краснодар     Рафаил  Верещагин 2018-05-25   \n",
       "4        1000   52        NaT  Краснодар     Рафаил  Верещагин 2018-05-25   \n",
       "...       ...  ...        ...        ...        ...        ...        ...   \n",
       "5995     1499   35        NaT      Пермь     Гектор   Корнилов 2018-09-27   \n",
       "5996     1499   35        NaT      Пермь     Гектор   Корнилов 2018-09-27   \n",
       "5997     1499   35        NaT      Пермь     Гектор   Корнилов 2018-09-27   \n",
       "5998     1499   35        NaT      Пермь     Гектор   Корнилов 2018-09-27   \n",
       "5999     1499   35        NaT      Пермь     Гектор   Корнилов 2018-09-27   \n",
       "\n",
       "     tariff  reg_month  churn_month  key      month  \n",
       "0     ultra          5          nan    1 2018-01-01  \n",
       "1     ultra          5          nan    1 2018-02-01  \n",
       "2     ultra          5          nan    1 2018-03-01  \n",
       "3     ultra          5          nan    1 2018-04-01  \n",
       "4     ultra          5          nan    1 2018-05-01  \n",
       "...     ...        ...          ...  ...        ...  \n",
       "5995  smart          9          nan    1 2018-08-01  \n",
       "5996  smart          9          nan    1 2018-09-01  \n",
       "5997  smart          9          nan    1 2018-10-01  \n",
       "5998  smart          9          nan    1 2018-11-01  \n",
       "5999  smart          9          nan    1 2018-12-01  \n",
       "\n",
       "[6000 rows x 12 columns]"
      ]
     },
     "execution_count": 39,
     "metadata": {},
     "output_type": "execute_result"
    }
   ],
   "source": [
    "# объединение таблиц\n",
    "users = df_users.merge(month, on = 'key') \n",
    "users"
   ]
  },
  {
   "cell_type": "markdown",
   "metadata": {},
   "source": [
    "После объединения в таблице получилось 6000 строк, все верно: 500 клиентов * 12 месяцев.\n",
    "\n",
    "4. Изменю значение столбца `month` с вида \"2018-01-01\" на вид \"1\", где \"1\" - значение месяца.  \n",
    "Удалю столбец `key`, далее он не пригодится."
   ]
  },
  {
   "cell_type": "code",
   "execution_count": 40,
   "metadata": {},
   "outputs": [
    {
     "data": {
      "text/html": [
       "<div>\n",
       "<style scoped>\n",
       "    .dataframe tbody tr th:only-of-type {\n",
       "        vertical-align: middle;\n",
       "    }\n",
       "\n",
       "    .dataframe tbody tr th {\n",
       "        vertical-align: top;\n",
       "    }\n",
       "\n",
       "    .dataframe thead th {\n",
       "        text-align: right;\n",
       "    }\n",
       "</style>\n",
       "<table border=\"1\" class=\"dataframe\">\n",
       "  <thead>\n",
       "    <tr style=\"text-align: right;\">\n",
       "      <th></th>\n",
       "      <th>user_id</th>\n",
       "      <th>age</th>\n",
       "      <th>churn_date</th>\n",
       "      <th>city</th>\n",
       "      <th>first_name</th>\n",
       "      <th>last_name</th>\n",
       "      <th>reg_date</th>\n",
       "      <th>tariff</th>\n",
       "      <th>reg_month</th>\n",
       "      <th>churn_month</th>\n",
       "      <th>month</th>\n",
       "    </tr>\n",
       "  </thead>\n",
       "  <tbody>\n",
       "    <tr>\n",
       "      <td>0</td>\n",
       "      <td>1000</td>\n",
       "      <td>52</td>\n",
       "      <td>NaT</td>\n",
       "      <td>Краснодар</td>\n",
       "      <td>Рафаил</td>\n",
       "      <td>Верещагин</td>\n",
       "      <td>2018-05-25</td>\n",
       "      <td>ultra</td>\n",
       "      <td>5</td>\n",
       "      <td>nan</td>\n",
       "      <td>1</td>\n",
       "    </tr>\n",
       "    <tr>\n",
       "      <td>1</td>\n",
       "      <td>1000</td>\n",
       "      <td>52</td>\n",
       "      <td>NaT</td>\n",
       "      <td>Краснодар</td>\n",
       "      <td>Рафаил</td>\n",
       "      <td>Верещагин</td>\n",
       "      <td>2018-05-25</td>\n",
       "      <td>ultra</td>\n",
       "      <td>5</td>\n",
       "      <td>nan</td>\n",
       "      <td>2</td>\n",
       "    </tr>\n",
       "    <tr>\n",
       "      <td>2</td>\n",
       "      <td>1000</td>\n",
       "      <td>52</td>\n",
       "      <td>NaT</td>\n",
       "      <td>Краснодар</td>\n",
       "      <td>Рафаил</td>\n",
       "      <td>Верещагин</td>\n",
       "      <td>2018-05-25</td>\n",
       "      <td>ultra</td>\n",
       "      <td>5</td>\n",
       "      <td>nan</td>\n",
       "      <td>3</td>\n",
       "    </tr>\n",
       "    <tr>\n",
       "      <td>3</td>\n",
       "      <td>1000</td>\n",
       "      <td>52</td>\n",
       "      <td>NaT</td>\n",
       "      <td>Краснодар</td>\n",
       "      <td>Рафаил</td>\n",
       "      <td>Верещагин</td>\n",
       "      <td>2018-05-25</td>\n",
       "      <td>ultra</td>\n",
       "      <td>5</td>\n",
       "      <td>nan</td>\n",
       "      <td>4</td>\n",
       "    </tr>\n",
       "    <tr>\n",
       "      <td>4</td>\n",
       "      <td>1000</td>\n",
       "      <td>52</td>\n",
       "      <td>NaT</td>\n",
       "      <td>Краснодар</td>\n",
       "      <td>Рафаил</td>\n",
       "      <td>Верещагин</td>\n",
       "      <td>2018-05-25</td>\n",
       "      <td>ultra</td>\n",
       "      <td>5</td>\n",
       "      <td>nan</td>\n",
       "      <td>5</td>\n",
       "    </tr>\n",
       "    <tr>\n",
       "      <td>...</td>\n",
       "      <td>...</td>\n",
       "      <td>...</td>\n",
       "      <td>...</td>\n",
       "      <td>...</td>\n",
       "      <td>...</td>\n",
       "      <td>...</td>\n",
       "      <td>...</td>\n",
       "      <td>...</td>\n",
       "      <td>...</td>\n",
       "      <td>...</td>\n",
       "      <td>...</td>\n",
       "    </tr>\n",
       "    <tr>\n",
       "      <td>5995</td>\n",
       "      <td>1499</td>\n",
       "      <td>35</td>\n",
       "      <td>NaT</td>\n",
       "      <td>Пермь</td>\n",
       "      <td>Гектор</td>\n",
       "      <td>Корнилов</td>\n",
       "      <td>2018-09-27</td>\n",
       "      <td>smart</td>\n",
       "      <td>9</td>\n",
       "      <td>nan</td>\n",
       "      <td>8</td>\n",
       "    </tr>\n",
       "    <tr>\n",
       "      <td>5996</td>\n",
       "      <td>1499</td>\n",
       "      <td>35</td>\n",
       "      <td>NaT</td>\n",
       "      <td>Пермь</td>\n",
       "      <td>Гектор</td>\n",
       "      <td>Корнилов</td>\n",
       "      <td>2018-09-27</td>\n",
       "      <td>smart</td>\n",
       "      <td>9</td>\n",
       "      <td>nan</td>\n",
       "      <td>9</td>\n",
       "    </tr>\n",
       "    <tr>\n",
       "      <td>5997</td>\n",
       "      <td>1499</td>\n",
       "      <td>35</td>\n",
       "      <td>NaT</td>\n",
       "      <td>Пермь</td>\n",
       "      <td>Гектор</td>\n",
       "      <td>Корнилов</td>\n",
       "      <td>2018-09-27</td>\n",
       "      <td>smart</td>\n",
       "      <td>9</td>\n",
       "      <td>nan</td>\n",
       "      <td>10</td>\n",
       "    </tr>\n",
       "    <tr>\n",
       "      <td>5998</td>\n",
       "      <td>1499</td>\n",
       "      <td>35</td>\n",
       "      <td>NaT</td>\n",
       "      <td>Пермь</td>\n",
       "      <td>Гектор</td>\n",
       "      <td>Корнилов</td>\n",
       "      <td>2018-09-27</td>\n",
       "      <td>smart</td>\n",
       "      <td>9</td>\n",
       "      <td>nan</td>\n",
       "      <td>11</td>\n",
       "    </tr>\n",
       "    <tr>\n",
       "      <td>5999</td>\n",
       "      <td>1499</td>\n",
       "      <td>35</td>\n",
       "      <td>NaT</td>\n",
       "      <td>Пермь</td>\n",
       "      <td>Гектор</td>\n",
       "      <td>Корнилов</td>\n",
       "      <td>2018-09-27</td>\n",
       "      <td>smart</td>\n",
       "      <td>9</td>\n",
       "      <td>nan</td>\n",
       "      <td>12</td>\n",
       "    </tr>\n",
       "  </tbody>\n",
       "</table>\n",
       "<p>6000 rows × 11 columns</p>\n",
       "</div>"
      ],
      "text/plain": [
       "      user_id  age churn_date       city first_name  last_name   reg_date  \\\n",
       "0        1000   52        NaT  Краснодар     Рафаил  Верещагин 2018-05-25   \n",
       "1        1000   52        NaT  Краснодар     Рафаил  Верещагин 2018-05-25   \n",
       "2        1000   52        NaT  Краснодар     Рафаил  Верещагин 2018-05-25   \n",
       "3        1000   52        NaT  Краснодар     Рафаил  Верещагин 2018-05-25   \n",
       "4        1000   52        NaT  Краснодар     Рафаил  Верещагин 2018-05-25   \n",
       "...       ...  ...        ...        ...        ...        ...        ...   \n",
       "5995     1499   35        NaT      Пермь     Гектор   Корнилов 2018-09-27   \n",
       "5996     1499   35        NaT      Пермь     Гектор   Корнилов 2018-09-27   \n",
       "5997     1499   35        NaT      Пермь     Гектор   Корнилов 2018-09-27   \n",
       "5998     1499   35        NaT      Пермь     Гектор   Корнилов 2018-09-27   \n",
       "5999     1499   35        NaT      Пермь     Гектор   Корнилов 2018-09-27   \n",
       "\n",
       "     tariff  reg_month  churn_month  month  \n",
       "0     ultra          5          nan      1  \n",
       "1     ultra          5          nan      2  \n",
       "2     ultra          5          nan      3  \n",
       "3     ultra          5          nan      4  \n",
       "4     ultra          5          nan      5  \n",
       "...     ...        ...          ...    ...  \n",
       "5995  smart          9          nan      8  \n",
       "5996  smart          9          nan      9  \n",
       "5997  smart          9          nan     10  \n",
       "5998  smart          9          nan     11  \n",
       "5999  smart          9          nan     12  \n",
       "\n",
       "[6000 rows x 11 columns]"
      ]
     },
     "execution_count": 40,
     "metadata": {},
     "output_type": "execute_result"
    }
   ],
   "source": [
    "# изменение вида значения столбца\n",
    "users['month'] = users['month'].dt.month \n",
    "# удаление столбца\n",
    "users.drop('key', axis=1, inplace=True) \n",
    "users"
   ]
  },
  {
   "cell_type": "markdown",
   "metadata": {},
   "source": [
    "#### Столбец со значением Гбайт\n",
    "\n",
    "Создам столбец `gb_included` в таблице **`df_tariffs`** со значением интернет-трафика, включенного в тариф, в гигабайтах:"
   ]
  },
  {
   "cell_type": "code",
   "execution_count": 41,
   "metadata": {},
   "outputs": [],
   "source": [
    "# перевод в гигабайты\n",
    "df_tariffs['gb_included']=df_tariffs['mb_per_month_included']/1024 "
   ]
  },
  {
   "cell_type": "markdown",
   "metadata": {},
   "source": [
    "#### Округление данных\n",
    "\n",
    "Округлю значения столбца duration в таблице **`users`** в бОльшую сторону согласно тарифа, изменю тип данных на целочисленный."
   ]
  },
  {
   "cell_type": "code",
   "execution_count": 42,
   "metadata": {},
   "outputs": [],
   "source": [
    "# округление в бОльшую сторону и изменение типа данных \n",
    "df_calls['duration'] = np.ceil(df_calls['duration']).astype('int64') "
   ]
  },
  {
   "cell_type": "markdown",
   "metadata": {},
   "source": [
    "#### Количество сделанных звонков и израсходованных минут разговора по месяцам\n",
    "\n",
    "Создам сводную таблицу **`calls_pivot`** на основе таблицы **`df_calls`** с разбивкой по месяцам по каждому клиенту с количеством совершенных звонков и суммой звонков в минутах. Изменю названия столбцов."
   ]
  },
  {
   "cell_type": "code",
   "execution_count": 43,
   "metadata": {},
   "outputs": [
    {
     "data": {
      "text/html": [
       "<div>\n",
       "<style scoped>\n",
       "    .dataframe tbody tr th:only-of-type {\n",
       "        vertical-align: middle;\n",
       "    }\n",
       "\n",
       "    .dataframe tbody tr th {\n",
       "        vertical-align: top;\n",
       "    }\n",
       "\n",
       "    .dataframe thead th {\n",
       "        text-align: right;\n",
       "    }\n",
       "</style>\n",
       "<table border=\"1\" class=\"dataframe\">\n",
       "  <thead>\n",
       "    <tr style=\"text-align: right;\">\n",
       "      <th></th>\n",
       "      <th>user_id</th>\n",
       "      <th>month</th>\n",
       "      <th>calls_count</th>\n",
       "      <th>calls_sum</th>\n",
       "    </tr>\n",
       "  </thead>\n",
       "  <tbody>\n",
       "    <tr>\n",
       "      <td>0</td>\n",
       "      <td>1000</td>\n",
       "      <td>5</td>\n",
       "      <td>22</td>\n",
       "      <td>159</td>\n",
       "    </tr>\n",
       "    <tr>\n",
       "      <td>1</td>\n",
       "      <td>1000</td>\n",
       "      <td>6</td>\n",
       "      <td>43</td>\n",
       "      <td>172</td>\n",
       "    </tr>\n",
       "    <tr>\n",
       "      <td>2</td>\n",
       "      <td>1000</td>\n",
       "      <td>7</td>\n",
       "      <td>47</td>\n",
       "      <td>340</td>\n",
       "    </tr>\n",
       "    <tr>\n",
       "      <td>3</td>\n",
       "      <td>1000</td>\n",
       "      <td>8</td>\n",
       "      <td>52</td>\n",
       "      <td>408</td>\n",
       "    </tr>\n",
       "    <tr>\n",
       "      <td>4</td>\n",
       "      <td>1000</td>\n",
       "      <td>9</td>\n",
       "      <td>58</td>\n",
       "      <td>466</td>\n",
       "    </tr>\n",
       "    <tr>\n",
       "      <td>...</td>\n",
       "      <td>...</td>\n",
       "      <td>...</td>\n",
       "      <td>...</td>\n",
       "      <td>...</td>\n",
       "    </tr>\n",
       "    <tr>\n",
       "      <td>3169</td>\n",
       "      <td>1498</td>\n",
       "      <td>10</td>\n",
       "      <td>41</td>\n",
       "      <td>247</td>\n",
       "    </tr>\n",
       "    <tr>\n",
       "      <td>3170</td>\n",
       "      <td>1499</td>\n",
       "      <td>9</td>\n",
       "      <td>9</td>\n",
       "      <td>70</td>\n",
       "    </tr>\n",
       "    <tr>\n",
       "      <td>3171</td>\n",
       "      <td>1499</td>\n",
       "      <td>10</td>\n",
       "      <td>68</td>\n",
       "      <td>449</td>\n",
       "    </tr>\n",
       "    <tr>\n",
       "      <td>3172</td>\n",
       "      <td>1499</td>\n",
       "      <td>11</td>\n",
       "      <td>74</td>\n",
       "      <td>612</td>\n",
       "    </tr>\n",
       "    <tr>\n",
       "      <td>3173</td>\n",
       "      <td>1499</td>\n",
       "      <td>12</td>\n",
       "      <td>69</td>\n",
       "      <td>492</td>\n",
       "    </tr>\n",
       "  </tbody>\n",
       "</table>\n",
       "<p>3174 rows × 4 columns</p>\n",
       "</div>"
      ],
      "text/plain": [
       "      user_id  month  calls_count  calls_sum\n",
       "0        1000      5           22        159\n",
       "1        1000      6           43        172\n",
       "2        1000      7           47        340\n",
       "3        1000      8           52        408\n",
       "4        1000      9           58        466\n",
       "...       ...    ...          ...        ...\n",
       "3169     1498     10           41        247\n",
       "3170     1499      9            9         70\n",
       "3171     1499     10           68        449\n",
       "3172     1499     11           74        612\n",
       "3173     1499     12           69        492\n",
       "\n",
       "[3174 rows x 4 columns]"
      ]
     },
     "execution_count": 43,
     "metadata": {},
     "output_type": "execute_result"
    }
   ],
   "source": [
    "# создание сводной таблицы\n",
    "calls_pivot = df_calls.pivot_table(\n",
    "    index = ('user_id', 'month'),  \n",
    "    values = 'duration', \n",
    "    aggfunc = ('sum', 'count')\n",
    ")\n",
    "#сброс индекса\n",
    "calls_pivot.reset_index(inplace=True) \n",
    "# изменение названия столбцов\n",
    "calls_pivot = calls_pivot.rename(columns={'count':'calls_count','sum':'calls_sum'}) \n",
    "calls_pivot"
   ]
  },
  {
   "cell_type": "markdown",
   "metadata": {},
   "source": [
    "#### Количество отправленных сообщений по месяцам\n",
    "\n",
    "Создам сводную таблицу **`messages_pivot`** на основе таблицы **`df_messages`** с разбивкой по месяцам по каждому клиенту с количеством отправленных сообщений. Изменю название столбца."
   ]
  },
  {
   "cell_type": "code",
   "execution_count": 44,
   "metadata": {},
   "outputs": [
    {
     "data": {
      "text/html": [
       "<div>\n",
       "<style scoped>\n",
       "    .dataframe tbody tr th:only-of-type {\n",
       "        vertical-align: middle;\n",
       "    }\n",
       "\n",
       "    .dataframe tbody tr th {\n",
       "        vertical-align: top;\n",
       "    }\n",
       "\n",
       "    .dataframe thead th {\n",
       "        text-align: right;\n",
       "    }\n",
       "</style>\n",
       "<table border=\"1\" class=\"dataframe\">\n",
       "  <thead>\n",
       "    <tr style=\"text-align: right;\">\n",
       "      <th></th>\n",
       "      <th>user_id</th>\n",
       "      <th>month</th>\n",
       "      <th>messages_count</th>\n",
       "    </tr>\n",
       "  </thead>\n",
       "  <tbody>\n",
       "    <tr>\n",
       "      <td>0</td>\n",
       "      <td>1000</td>\n",
       "      <td>5</td>\n",
       "      <td>22</td>\n",
       "    </tr>\n",
       "    <tr>\n",
       "      <td>1</td>\n",
       "      <td>1000</td>\n",
       "      <td>6</td>\n",
       "      <td>60</td>\n",
       "    </tr>\n",
       "    <tr>\n",
       "      <td>2</td>\n",
       "      <td>1000</td>\n",
       "      <td>7</td>\n",
       "      <td>75</td>\n",
       "    </tr>\n",
       "    <tr>\n",
       "      <td>3</td>\n",
       "      <td>1000</td>\n",
       "      <td>8</td>\n",
       "      <td>81</td>\n",
       "    </tr>\n",
       "    <tr>\n",
       "      <td>4</td>\n",
       "      <td>1000</td>\n",
       "      <td>9</td>\n",
       "      <td>57</td>\n",
       "    </tr>\n",
       "    <tr>\n",
       "      <td>...</td>\n",
       "      <td>...</td>\n",
       "      <td>...</td>\n",
       "      <td>...</td>\n",
       "    </tr>\n",
       "    <tr>\n",
       "      <td>2712</td>\n",
       "      <td>1498</td>\n",
       "      <td>10</td>\n",
       "      <td>42</td>\n",
       "    </tr>\n",
       "    <tr>\n",
       "      <td>2713</td>\n",
       "      <td>1499</td>\n",
       "      <td>9</td>\n",
       "      <td>11</td>\n",
       "    </tr>\n",
       "    <tr>\n",
       "      <td>2714</td>\n",
       "      <td>1499</td>\n",
       "      <td>10</td>\n",
       "      <td>48</td>\n",
       "    </tr>\n",
       "    <tr>\n",
       "      <td>2715</td>\n",
       "      <td>1499</td>\n",
       "      <td>11</td>\n",
       "      <td>59</td>\n",
       "    </tr>\n",
       "    <tr>\n",
       "      <td>2716</td>\n",
       "      <td>1499</td>\n",
       "      <td>12</td>\n",
       "      <td>66</td>\n",
       "    </tr>\n",
       "  </tbody>\n",
       "</table>\n",
       "<p>2717 rows × 3 columns</p>\n",
       "</div>"
      ],
      "text/plain": [
       "      user_id  month  messages_count\n",
       "0        1000      5              22\n",
       "1        1000      6              60\n",
       "2        1000      7              75\n",
       "3        1000      8              81\n",
       "4        1000      9              57\n",
       "...       ...    ...             ...\n",
       "2712     1498     10              42\n",
       "2713     1499      9              11\n",
       "2714     1499     10              48\n",
       "2715     1499     11              59\n",
       "2716     1499     12              66\n",
       "\n",
       "[2717 rows x 3 columns]"
      ]
     },
     "execution_count": 44,
     "metadata": {},
     "output_type": "execute_result"
    }
   ],
   "source": [
    "# создание сводной таблицы\n",
    "messages_pivot = df_messages.pivot_table(\n",
    "    index = ('user_id', 'month'),  \n",
    "    values = 'id', \n",
    "    aggfunc = 'count'\n",
    ")\n",
    "#сброс индекса\n",
    "messages_pivot.reset_index(inplace=True) \n",
    "# изменение названия столбца\n",
    "messages_pivot = messages_pivot.rename(columns={'id':'messages_count'})\n",
    "messages_pivot"
   ]
  },
  {
   "cell_type": "markdown",
   "metadata": {},
   "source": [
    "#### Объем израсходованного интернет-трафика по месяцам\n",
    "\n",
    "Создам сводную таблицу **`internet_pivot`** на основе таблицы **`df_internet`** с разбивкой по месяцам по каждому клиенту с количеством использованного интернет-трафика в мегабайтах."
   ]
  },
  {
   "cell_type": "code",
   "execution_count": 45,
   "metadata": {},
   "outputs": [
    {
     "data": {
      "text/html": [
       "<div>\n",
       "<style scoped>\n",
       "    .dataframe tbody tr th:only-of-type {\n",
       "        vertical-align: middle;\n",
       "    }\n",
       "\n",
       "    .dataframe tbody tr th {\n",
       "        vertical-align: top;\n",
       "    }\n",
       "\n",
       "    .dataframe thead th {\n",
       "        text-align: right;\n",
       "    }\n",
       "</style>\n",
       "<table border=\"1\" class=\"dataframe\">\n",
       "  <thead>\n",
       "    <tr style=\"text-align: right;\">\n",
       "      <th></th>\n",
       "      <th></th>\n",
       "      <th>mb_used</th>\n",
       "    </tr>\n",
       "    <tr>\n",
       "      <th>user_id</th>\n",
       "      <th>month</th>\n",
       "      <th></th>\n",
       "    </tr>\n",
       "  </thead>\n",
       "  <tbody>\n",
       "    <tr>\n",
       "      <td rowspan=\"5\" valign=\"top\">1000</td>\n",
       "      <td>5</td>\n",
       "      <td>2,253</td>\n",
       "    </tr>\n",
       "    <tr>\n",
       "      <td>6</td>\n",
       "      <td>23,234</td>\n",
       "    </tr>\n",
       "    <tr>\n",
       "      <td>7</td>\n",
       "      <td>14,004</td>\n",
       "    </tr>\n",
       "    <tr>\n",
       "      <td>8</td>\n",
       "      <td>14,056</td>\n",
       "    </tr>\n",
       "    <tr>\n",
       "      <td>9</td>\n",
       "      <td>14,569</td>\n",
       "    </tr>\n",
       "    <tr>\n",
       "      <td>...</td>\n",
       "      <td>...</td>\n",
       "      <td>...</td>\n",
       "    </tr>\n",
       "    <tr>\n",
       "      <td>1498</td>\n",
       "      <td>10</td>\n",
       "      <td>20,579</td>\n",
       "    </tr>\n",
       "    <tr>\n",
       "      <td rowspan=\"4\" valign=\"top\">1499</td>\n",
       "      <td>9</td>\n",
       "      <td>1,846</td>\n",
       "    </tr>\n",
       "    <tr>\n",
       "      <td>10</td>\n",
       "      <td>17,789</td>\n",
       "    </tr>\n",
       "    <tr>\n",
       "      <td>11</td>\n",
       "      <td>17,963</td>\n",
       "    </tr>\n",
       "    <tr>\n",
       "      <td>12</td>\n",
       "      <td>13,056</td>\n",
       "    </tr>\n",
       "  </tbody>\n",
       "</table>\n",
       "<p>3203 rows × 1 columns</p>\n",
       "</div>"
      ],
      "text/plain": [
       "               mb_used\n",
       "user_id month         \n",
       "1000    5        2,253\n",
       "        6       23,234\n",
       "        7       14,004\n",
       "        8       14,056\n",
       "        9       14,569\n",
       "...                ...\n",
       "1498    10      20,579\n",
       "1499    9        1,846\n",
       "        10      17,789\n",
       "        11      17,963\n",
       "        12      13,056\n",
       "\n",
       "[3203 rows x 1 columns]"
      ]
     },
     "execution_count": 45,
     "metadata": {},
     "output_type": "execute_result"
    }
   ],
   "source": [
    "# создание сводной таблицы\n",
    "internet_pivot = df_internet.pivot_table(\n",
    "    index = ('user_id', 'month'),  \n",
    "    values = 'mb_used', \n",
    "    aggfunc = 'sum'\n",
    ")\n",
    "internet_pivot"
   ]
  },
  {
   "cell_type": "markdown",
   "metadata": {},
   "source": [
    "Переведу значения столбца **`mb_used`** в гигабайты."
   ]
  },
  {
   "cell_type": "code",
   "execution_count": 46,
   "metadata": {},
   "outputs": [
    {
     "data": {
      "text/html": [
       "<div>\n",
       "<style scoped>\n",
       "    .dataframe tbody tr th:only-of-type {\n",
       "        vertical-align: middle;\n",
       "    }\n",
       "\n",
       "    .dataframe tbody tr th {\n",
       "        vertical-align: top;\n",
       "    }\n",
       "\n",
       "    .dataframe thead th {\n",
       "        text-align: right;\n",
       "    }\n",
       "</style>\n",
       "<table border=\"1\" class=\"dataframe\">\n",
       "  <thead>\n",
       "    <tr style=\"text-align: right;\">\n",
       "      <th></th>\n",
       "      <th></th>\n",
       "      <th>mb_used</th>\n",
       "    </tr>\n",
       "    <tr>\n",
       "      <th>user_id</th>\n",
       "      <th>month</th>\n",
       "      <th></th>\n",
       "    </tr>\n",
       "  </thead>\n",
       "  <tbody>\n",
       "    <tr>\n",
       "      <td rowspan=\"5\" valign=\"top\">1000</td>\n",
       "      <td>5</td>\n",
       "      <td>2</td>\n",
       "    </tr>\n",
       "    <tr>\n",
       "      <td>6</td>\n",
       "      <td>23</td>\n",
       "    </tr>\n",
       "    <tr>\n",
       "      <td>7</td>\n",
       "      <td>14</td>\n",
       "    </tr>\n",
       "    <tr>\n",
       "      <td>8</td>\n",
       "      <td>14</td>\n",
       "    </tr>\n",
       "    <tr>\n",
       "      <td>9</td>\n",
       "      <td>14</td>\n",
       "    </tr>\n",
       "    <tr>\n",
       "      <td>...</td>\n",
       "      <td>...</td>\n",
       "      <td>...</td>\n",
       "    </tr>\n",
       "    <tr>\n",
       "      <td>1498</td>\n",
       "      <td>10</td>\n",
       "      <td>20</td>\n",
       "    </tr>\n",
       "    <tr>\n",
       "      <td rowspan=\"4\" valign=\"top\">1499</td>\n",
       "      <td>9</td>\n",
       "      <td>2</td>\n",
       "    </tr>\n",
       "    <tr>\n",
       "      <td>10</td>\n",
       "      <td>17</td>\n",
       "    </tr>\n",
       "    <tr>\n",
       "      <td>11</td>\n",
       "      <td>18</td>\n",
       "    </tr>\n",
       "    <tr>\n",
       "      <td>12</td>\n",
       "      <td>13</td>\n",
       "    </tr>\n",
       "  </tbody>\n",
       "</table>\n",
       "<p>3203 rows × 1 columns</p>\n",
       "</div>"
      ],
      "text/plain": [
       "               mb_used\n",
       "user_id month         \n",
       "1000    5            2\n",
       "        6           23\n",
       "        7           14\n",
       "        8           14\n",
       "        9           14\n",
       "...                ...\n",
       "1498    10          20\n",
       "1499    9            2\n",
       "        10          17\n",
       "        11          18\n",
       "        12          13\n",
       "\n",
       "[3203 rows x 1 columns]"
      ]
     },
     "execution_count": 46,
     "metadata": {},
     "output_type": "execute_result"
    }
   ],
   "source": [
    "# перевод в гигабайты\n",
    "internet_pivot['mb_used'] = internet_pivot['mb_used']/1024 \n",
    "internet_pivot"
   ]
  },
  {
   "cell_type": "markdown",
   "metadata": {},
   "source": [
    "Округлю в бОльшую сторону значения гигабайтов, израсходованных за месяц, согласно тарифа."
   ]
  },
  {
   "cell_type": "code",
   "execution_count": 47,
   "metadata": {},
   "outputs": [
    {
     "data": {
      "text/html": [
       "<div>\n",
       "<style scoped>\n",
       "    .dataframe tbody tr th:only-of-type {\n",
       "        vertical-align: middle;\n",
       "    }\n",
       "\n",
       "    .dataframe tbody tr th {\n",
       "        vertical-align: top;\n",
       "    }\n",
       "\n",
       "    .dataframe thead th {\n",
       "        text-align: right;\n",
       "    }\n",
       "</style>\n",
       "<table border=\"1\" class=\"dataframe\">\n",
       "  <thead>\n",
       "    <tr style=\"text-align: right;\">\n",
       "      <th></th>\n",
       "      <th>user_id</th>\n",
       "      <th>month</th>\n",
       "      <th>gb_used</th>\n",
       "    </tr>\n",
       "  </thead>\n",
       "  <tbody>\n",
       "    <tr>\n",
       "      <td>0</td>\n",
       "      <td>1000</td>\n",
       "      <td>5</td>\n",
       "      <td>3</td>\n",
       "    </tr>\n",
       "    <tr>\n",
       "      <td>1</td>\n",
       "      <td>1000</td>\n",
       "      <td>6</td>\n",
       "      <td>23</td>\n",
       "    </tr>\n",
       "    <tr>\n",
       "      <td>2</td>\n",
       "      <td>1000</td>\n",
       "      <td>7</td>\n",
       "      <td>14</td>\n",
       "    </tr>\n",
       "    <tr>\n",
       "      <td>3</td>\n",
       "      <td>1000</td>\n",
       "      <td>8</td>\n",
       "      <td>14</td>\n",
       "    </tr>\n",
       "    <tr>\n",
       "      <td>4</td>\n",
       "      <td>1000</td>\n",
       "      <td>9</td>\n",
       "      <td>15</td>\n",
       "    </tr>\n",
       "    <tr>\n",
       "      <td>...</td>\n",
       "      <td>...</td>\n",
       "      <td>...</td>\n",
       "      <td>...</td>\n",
       "    </tr>\n",
       "    <tr>\n",
       "      <td>3198</td>\n",
       "      <td>1498</td>\n",
       "      <td>10</td>\n",
       "      <td>21</td>\n",
       "    </tr>\n",
       "    <tr>\n",
       "      <td>3199</td>\n",
       "      <td>1499</td>\n",
       "      <td>9</td>\n",
       "      <td>2</td>\n",
       "    </tr>\n",
       "    <tr>\n",
       "      <td>3200</td>\n",
       "      <td>1499</td>\n",
       "      <td>10</td>\n",
       "      <td>18</td>\n",
       "    </tr>\n",
       "    <tr>\n",
       "      <td>3201</td>\n",
       "      <td>1499</td>\n",
       "      <td>11</td>\n",
       "      <td>18</td>\n",
       "    </tr>\n",
       "    <tr>\n",
       "      <td>3202</td>\n",
       "      <td>1499</td>\n",
       "      <td>12</td>\n",
       "      <td>13</td>\n",
       "    </tr>\n",
       "  </tbody>\n",
       "</table>\n",
       "<p>3203 rows × 3 columns</p>\n",
       "</div>"
      ],
      "text/plain": [
       "      user_id  month  gb_used\n",
       "0        1000      5        3\n",
       "1        1000      6       23\n",
       "2        1000      7       14\n",
       "3        1000      8       14\n",
       "4        1000      9       15\n",
       "...       ...    ...      ...\n",
       "3198     1498     10       21\n",
       "3199     1499      9        2\n",
       "3200     1499     10       18\n",
       "3201     1499     11       18\n",
       "3202     1499     12       13\n",
       "\n",
       "[3203 rows x 3 columns]"
      ]
     },
     "execution_count": 47,
     "metadata": {},
     "output_type": "execute_result"
    }
   ],
   "source": [
    "# округление в бОльшую сторону\n",
    "internet_pivot['mb_used'] = np.ceil(internet_pivot['mb_used'])\n",
    "# изменение названия столбца\n",
    "internet_pivot = internet_pivot.rename(columns={'mb_used':'gb_used'})\n",
    "#сброс индекса\n",
    "internet_pivot.reset_index(inplace=True)\n",
    "internet_pivot"
   ]
  },
  {
   "cell_type": "markdown",
   "metadata": {},
   "source": [
    "**Выводы**\n",
    "\n",
    "В четырех таблицах созданы столбцы со значением месяца совершения звонка, отправки сообщения, выхода в интернет, а также месяца заключения и расторжения договора.\n",
    "\n",
    "Таблица с информацией о пользователях подготовлена к объединению с остальными данными.\n",
    "\n",
    "Округлены необходимые данные.\n",
    "\n",
    "Созданы сводные таблицы по клиентам с разбивкой по месяцам совершения звонков, отправки сообщений, выхода в интернет."
   ]
  },
  {
   "cell_type": "markdown",
   "metadata": {},
   "source": [
    "### Категоризация данных\n",
    "\n",
    "Добавлю в таблицу **`users`** столбец `region` с категориями \"Москва\" и \"регион\", они пригодятся для проверки одной из гипотез. Города Химки, Балашиха и Подольск отнесу к категории \"Москва\", т.к. они находятся в ближайшем Подмосковье."
   ]
  },
  {
   "cell_type": "code",
   "execution_count": 48,
   "metadata": {},
   "outputs": [],
   "source": [
    "# функция для группировки городов\n",
    "def create_category_city(users): \n",
    "\n",
    "    if users['city'] == 'Москва' \\\n",
    "    or users['city'] == 'Химки' \\\n",
    "    or users['city'] == 'Балашиха'\\\n",
    "    or users['city'] == 'Подольск':\n",
    "        return 'Москва'\n",
    "    \n",
    "    return 'регион'\n",
    "# добавление столбца с группировкой городов     \n",
    "users['region'] = users.apply(create_category_city, axis = 1) "
   ]
  },
  {
   "cell_type": "markdown",
   "metadata": {},
   "source": [
    "Проверю создание столбца."
   ]
  },
  {
   "cell_type": "code",
   "execution_count": 49,
   "metadata": {},
   "outputs": [
    {
     "data": {
      "text/html": [
       "<div>\n",
       "<style scoped>\n",
       "    .dataframe tbody tr th:only-of-type {\n",
       "        vertical-align: middle;\n",
       "    }\n",
       "\n",
       "    .dataframe tbody tr th {\n",
       "        vertical-align: top;\n",
       "    }\n",
       "\n",
       "    .dataframe thead th {\n",
       "        text-align: right;\n",
       "    }\n",
       "</style>\n",
       "<table border=\"1\" class=\"dataframe\">\n",
       "  <thead>\n",
       "    <tr style=\"text-align: right;\">\n",
       "      <th></th>\n",
       "      <th>user_id</th>\n",
       "      <th>age</th>\n",
       "      <th>churn_date</th>\n",
       "      <th>city</th>\n",
       "      <th>first_name</th>\n",
       "      <th>last_name</th>\n",
       "      <th>reg_date</th>\n",
       "      <th>tariff</th>\n",
       "      <th>reg_month</th>\n",
       "      <th>churn_month</th>\n",
       "      <th>month</th>\n",
       "      <th>region</th>\n",
       "    </tr>\n",
       "  </thead>\n",
       "  <tbody>\n",
       "    <tr>\n",
       "      <td>0</td>\n",
       "      <td>1000</td>\n",
       "      <td>52</td>\n",
       "      <td>NaT</td>\n",
       "      <td>Краснодар</td>\n",
       "      <td>Рафаил</td>\n",
       "      <td>Верещагин</td>\n",
       "      <td>2018-05-25</td>\n",
       "      <td>ultra</td>\n",
       "      <td>5</td>\n",
       "      <td>nan</td>\n",
       "      <td>1</td>\n",
       "      <td>регион</td>\n",
       "    </tr>\n",
       "    <tr>\n",
       "      <td>1</td>\n",
       "      <td>1000</td>\n",
       "      <td>52</td>\n",
       "      <td>NaT</td>\n",
       "      <td>Краснодар</td>\n",
       "      <td>Рафаил</td>\n",
       "      <td>Верещагин</td>\n",
       "      <td>2018-05-25</td>\n",
       "      <td>ultra</td>\n",
       "      <td>5</td>\n",
       "      <td>nan</td>\n",
       "      <td>2</td>\n",
       "      <td>регион</td>\n",
       "    </tr>\n",
       "    <tr>\n",
       "      <td>2</td>\n",
       "      <td>1000</td>\n",
       "      <td>52</td>\n",
       "      <td>NaT</td>\n",
       "      <td>Краснодар</td>\n",
       "      <td>Рафаил</td>\n",
       "      <td>Верещагин</td>\n",
       "      <td>2018-05-25</td>\n",
       "      <td>ultra</td>\n",
       "      <td>5</td>\n",
       "      <td>nan</td>\n",
       "      <td>3</td>\n",
       "      <td>регион</td>\n",
       "    </tr>\n",
       "    <tr>\n",
       "      <td>3</td>\n",
       "      <td>1000</td>\n",
       "      <td>52</td>\n",
       "      <td>NaT</td>\n",
       "      <td>Краснодар</td>\n",
       "      <td>Рафаил</td>\n",
       "      <td>Верещагин</td>\n",
       "      <td>2018-05-25</td>\n",
       "      <td>ultra</td>\n",
       "      <td>5</td>\n",
       "      <td>nan</td>\n",
       "      <td>4</td>\n",
       "      <td>регион</td>\n",
       "    </tr>\n",
       "    <tr>\n",
       "      <td>4</td>\n",
       "      <td>1000</td>\n",
       "      <td>52</td>\n",
       "      <td>NaT</td>\n",
       "      <td>Краснодар</td>\n",
       "      <td>Рафаил</td>\n",
       "      <td>Верещагин</td>\n",
       "      <td>2018-05-25</td>\n",
       "      <td>ultra</td>\n",
       "      <td>5</td>\n",
       "      <td>nan</td>\n",
       "      <td>5</td>\n",
       "      <td>регион</td>\n",
       "    </tr>\n",
       "  </tbody>\n",
       "</table>\n",
       "</div>"
      ],
      "text/plain": [
       "   user_id  age churn_date       city first_name  last_name   reg_date tariff  \\\n",
       "0     1000   52        NaT  Краснодар     Рафаил  Верещагин 2018-05-25  ultra   \n",
       "1     1000   52        NaT  Краснодар     Рафаил  Верещагин 2018-05-25  ultra   \n",
       "2     1000   52        NaT  Краснодар     Рафаил  Верещагин 2018-05-25  ultra   \n",
       "3     1000   52        NaT  Краснодар     Рафаил  Верещагин 2018-05-25  ultra   \n",
       "4     1000   52        NaT  Краснодар     Рафаил  Верещагин 2018-05-25  ultra   \n",
       "\n",
       "   reg_month  churn_month  month  region  \n",
       "0          5          nan      1  регион  \n",
       "1          5          nan      2  регион  \n",
       "2          5          nan      3  регион  \n",
       "3          5          nan      4  регион  \n",
       "4          5          nan      5  регион  "
      ]
     },
     "execution_count": 49,
     "metadata": {},
     "output_type": "execute_result"
    }
   ],
   "source": [
    "users.head()"
   ]
  },
  {
   "cell_type": "markdown",
   "metadata": {},
   "source": [
    "### Объединение таблиц\n",
    "\n",
    "Объединю в таблицу **`df_all`** таблицы **`calls_pivot`** и **`messages_pivot`** по ID пользователя и месяцу."
   ]
  },
  {
   "cell_type": "code",
   "execution_count": 50,
   "metadata": {},
   "outputs": [
    {
     "data": {
      "text/html": [
       "<div>\n",
       "<style scoped>\n",
       "    .dataframe tbody tr th:only-of-type {\n",
       "        vertical-align: middle;\n",
       "    }\n",
       "\n",
       "    .dataframe tbody tr th {\n",
       "        vertical-align: top;\n",
       "    }\n",
       "\n",
       "    .dataframe thead th {\n",
       "        text-align: right;\n",
       "    }\n",
       "</style>\n",
       "<table border=\"1\" class=\"dataframe\">\n",
       "  <thead>\n",
       "    <tr style=\"text-align: right;\">\n",
       "      <th></th>\n",
       "      <th>user_id</th>\n",
       "      <th>month</th>\n",
       "      <th>calls_count</th>\n",
       "      <th>calls_sum</th>\n",
       "      <th>messages_count</th>\n",
       "    </tr>\n",
       "  </thead>\n",
       "  <tbody>\n",
       "    <tr>\n",
       "      <td>0</td>\n",
       "      <td>1000</td>\n",
       "      <td>5</td>\n",
       "      <td>22</td>\n",
       "      <td>159</td>\n",
       "      <td>22</td>\n",
       "    </tr>\n",
       "    <tr>\n",
       "      <td>1</td>\n",
       "      <td>1000</td>\n",
       "      <td>6</td>\n",
       "      <td>43</td>\n",
       "      <td>172</td>\n",
       "      <td>60</td>\n",
       "    </tr>\n",
       "    <tr>\n",
       "      <td>2</td>\n",
       "      <td>1000</td>\n",
       "      <td>7</td>\n",
       "      <td>47</td>\n",
       "      <td>340</td>\n",
       "      <td>75</td>\n",
       "    </tr>\n",
       "    <tr>\n",
       "      <td>3</td>\n",
       "      <td>1000</td>\n",
       "      <td>8</td>\n",
       "      <td>52</td>\n",
       "      <td>408</td>\n",
       "      <td>81</td>\n",
       "    </tr>\n",
       "    <tr>\n",
       "      <td>4</td>\n",
       "      <td>1000</td>\n",
       "      <td>9</td>\n",
       "      <td>58</td>\n",
       "      <td>466</td>\n",
       "      <td>57</td>\n",
       "    </tr>\n",
       "  </tbody>\n",
       "</table>\n",
       "</div>"
      ],
      "text/plain": [
       "   user_id  month  calls_count  calls_sum  messages_count\n",
       "0     1000      5           22        159              22\n",
       "1     1000      6           43        172              60\n",
       "2     1000      7           47        340              75\n",
       "3     1000      8           52        408              81\n",
       "4     1000      9           58        466              57"
      ]
     },
     "execution_count": 50,
     "metadata": {},
     "output_type": "execute_result"
    }
   ],
   "source": [
    "# объединение таблиц \n",
    "df_all = calls_pivot.merge(messages_pivot, how='outer', on =('user_id', 'month'))\n",
    "df_all.head()"
   ]
  },
  {
   "cell_type": "markdown",
   "metadata": {},
   "source": [
    "Добавлю в таблицу **`df_all`** таблицу **`internet_pivot`**, объединение произведу по ID пользователя и месяцу."
   ]
  },
  {
   "cell_type": "code",
   "execution_count": 51,
   "metadata": {},
   "outputs": [
    {
     "data": {
      "text/html": [
       "<div>\n",
       "<style scoped>\n",
       "    .dataframe tbody tr th:only-of-type {\n",
       "        vertical-align: middle;\n",
       "    }\n",
       "\n",
       "    .dataframe tbody tr th {\n",
       "        vertical-align: top;\n",
       "    }\n",
       "\n",
       "    .dataframe thead th {\n",
       "        text-align: right;\n",
       "    }\n",
       "</style>\n",
       "<table border=\"1\" class=\"dataframe\">\n",
       "  <thead>\n",
       "    <tr style=\"text-align: right;\">\n",
       "      <th></th>\n",
       "      <th>user_id</th>\n",
       "      <th>month</th>\n",
       "      <th>calls_count</th>\n",
       "      <th>calls_sum</th>\n",
       "      <th>messages_count</th>\n",
       "      <th>gb_used</th>\n",
       "    </tr>\n",
       "  </thead>\n",
       "  <tbody>\n",
       "    <tr>\n",
       "      <td>0</td>\n",
       "      <td>1000</td>\n",
       "      <td>5</td>\n",
       "      <td>22</td>\n",
       "      <td>159</td>\n",
       "      <td>22</td>\n",
       "      <td>3</td>\n",
       "    </tr>\n",
       "    <tr>\n",
       "      <td>1</td>\n",
       "      <td>1000</td>\n",
       "      <td>6</td>\n",
       "      <td>43</td>\n",
       "      <td>172</td>\n",
       "      <td>60</td>\n",
       "      <td>23</td>\n",
       "    </tr>\n",
       "    <tr>\n",
       "      <td>2</td>\n",
       "      <td>1000</td>\n",
       "      <td>7</td>\n",
       "      <td>47</td>\n",
       "      <td>340</td>\n",
       "      <td>75</td>\n",
       "      <td>14</td>\n",
       "    </tr>\n",
       "    <tr>\n",
       "      <td>3</td>\n",
       "      <td>1000</td>\n",
       "      <td>8</td>\n",
       "      <td>52</td>\n",
       "      <td>408</td>\n",
       "      <td>81</td>\n",
       "      <td>14</td>\n",
       "    </tr>\n",
       "    <tr>\n",
       "      <td>4</td>\n",
       "      <td>1000</td>\n",
       "      <td>9</td>\n",
       "      <td>58</td>\n",
       "      <td>466</td>\n",
       "      <td>57</td>\n",
       "      <td>15</td>\n",
       "    </tr>\n",
       "    <tr>\n",
       "      <td>...</td>\n",
       "      <td>...</td>\n",
       "      <td>...</td>\n",
       "      <td>...</td>\n",
       "      <td>...</td>\n",
       "      <td>...</td>\n",
       "      <td>...</td>\n",
       "    </tr>\n",
       "    <tr>\n",
       "      <td>3209</td>\n",
       "      <td>1489</td>\n",
       "      <td>9</td>\n",
       "      <td>nan</td>\n",
       "      <td>nan</td>\n",
       "      <td>32</td>\n",
       "      <td>17</td>\n",
       "    </tr>\n",
       "    <tr>\n",
       "      <td>3210</td>\n",
       "      <td>1489</td>\n",
       "      <td>10</td>\n",
       "      <td>nan</td>\n",
       "      <td>nan</td>\n",
       "      <td>21</td>\n",
       "      <td>20</td>\n",
       "    </tr>\n",
       "    <tr>\n",
       "      <td>3211</td>\n",
       "      <td>1489</td>\n",
       "      <td>11</td>\n",
       "      <td>nan</td>\n",
       "      <td>nan</td>\n",
       "      <td>20</td>\n",
       "      <td>18</td>\n",
       "    </tr>\n",
       "    <tr>\n",
       "      <td>3212</td>\n",
       "      <td>1489</td>\n",
       "      <td>12</td>\n",
       "      <td>nan</td>\n",
       "      <td>nan</td>\n",
       "      <td>35</td>\n",
       "      <td>17</td>\n",
       "    </tr>\n",
       "    <tr>\n",
       "      <td>3213</td>\n",
       "      <td>1476</td>\n",
       "      <td>4</td>\n",
       "      <td>nan</td>\n",
       "      <td>nan</td>\n",
       "      <td>nan</td>\n",
       "      <td>1</td>\n",
       "    </tr>\n",
       "  </tbody>\n",
       "</table>\n",
       "<p>3214 rows × 6 columns</p>\n",
       "</div>"
      ],
      "text/plain": [
       "      user_id  month  calls_count  calls_sum  messages_count  gb_used\n",
       "0        1000      5           22        159              22        3\n",
       "1        1000      6           43        172              60       23\n",
       "2        1000      7           47        340              75       14\n",
       "3        1000      8           52        408              81       14\n",
       "4        1000      9           58        466              57       15\n",
       "...       ...    ...          ...        ...             ...      ...\n",
       "3209     1489      9          nan        nan              32       17\n",
       "3210     1489     10          nan        nan              21       20\n",
       "3211     1489     11          nan        nan              20       18\n",
       "3212     1489     12          nan        nan              35       17\n",
       "3213     1476      4          nan        nan             nan        1\n",
       "\n",
       "[3214 rows x 6 columns]"
      ]
     },
     "execution_count": 51,
     "metadata": {},
     "output_type": "execute_result"
    }
   ],
   "source": [
    "# объединение таблиц \n",
    "df_all = df_all.merge(internet_pivot, how='outer', on =('user_id', 'month'))\n",
    "df_all"
   ]
  },
  {
   "cell_type": "markdown",
   "metadata": {},
   "source": [
    "В таблице **`users`** сейчас 3214 строк.\n",
    "\n",
    "Объединю таблицу **`users`**  и таблицу **`df_all`** по ID пользователя и месяцу."
   ]
  },
  {
   "cell_type": "code",
   "execution_count": 52,
   "metadata": {},
   "outputs": [
    {
     "data": {
      "text/html": [
       "<div>\n",
       "<style scoped>\n",
       "    .dataframe tbody tr th:only-of-type {\n",
       "        vertical-align: middle;\n",
       "    }\n",
       "\n",
       "    .dataframe tbody tr th {\n",
       "        vertical-align: top;\n",
       "    }\n",
       "\n",
       "    .dataframe thead th {\n",
       "        text-align: right;\n",
       "    }\n",
       "</style>\n",
       "<table border=\"1\" class=\"dataframe\">\n",
       "  <thead>\n",
       "    <tr style=\"text-align: right;\">\n",
       "      <th></th>\n",
       "      <th>user_id</th>\n",
       "      <th>age</th>\n",
       "      <th>churn_date</th>\n",
       "      <th>city</th>\n",
       "      <th>first_name</th>\n",
       "      <th>last_name</th>\n",
       "      <th>reg_date</th>\n",
       "      <th>tariff</th>\n",
       "      <th>reg_month</th>\n",
       "      <th>churn_month</th>\n",
       "      <th>month</th>\n",
       "      <th>region</th>\n",
       "      <th>calls_count</th>\n",
       "      <th>calls_sum</th>\n",
       "      <th>messages_count</th>\n",
       "      <th>gb_used</th>\n",
       "    </tr>\n",
       "  </thead>\n",
       "  <tbody>\n",
       "    <tr>\n",
       "      <td>0</td>\n",
       "      <td>1000</td>\n",
       "      <td>52</td>\n",
       "      <td>NaT</td>\n",
       "      <td>Краснодар</td>\n",
       "      <td>Рафаил</td>\n",
       "      <td>Верещагин</td>\n",
       "      <td>2018-05-25</td>\n",
       "      <td>ultra</td>\n",
       "      <td>5</td>\n",
       "      <td>nan</td>\n",
       "      <td>1</td>\n",
       "      <td>регион</td>\n",
       "      <td>nan</td>\n",
       "      <td>nan</td>\n",
       "      <td>nan</td>\n",
       "      <td>nan</td>\n",
       "    </tr>\n",
       "    <tr>\n",
       "      <td>1</td>\n",
       "      <td>1000</td>\n",
       "      <td>52</td>\n",
       "      <td>NaT</td>\n",
       "      <td>Краснодар</td>\n",
       "      <td>Рафаил</td>\n",
       "      <td>Верещагин</td>\n",
       "      <td>2018-05-25</td>\n",
       "      <td>ultra</td>\n",
       "      <td>5</td>\n",
       "      <td>nan</td>\n",
       "      <td>2</td>\n",
       "      <td>регион</td>\n",
       "      <td>nan</td>\n",
       "      <td>nan</td>\n",
       "      <td>nan</td>\n",
       "      <td>nan</td>\n",
       "    </tr>\n",
       "    <tr>\n",
       "      <td>2</td>\n",
       "      <td>1000</td>\n",
       "      <td>52</td>\n",
       "      <td>NaT</td>\n",
       "      <td>Краснодар</td>\n",
       "      <td>Рафаил</td>\n",
       "      <td>Верещагин</td>\n",
       "      <td>2018-05-25</td>\n",
       "      <td>ultra</td>\n",
       "      <td>5</td>\n",
       "      <td>nan</td>\n",
       "      <td>3</td>\n",
       "      <td>регион</td>\n",
       "      <td>nan</td>\n",
       "      <td>nan</td>\n",
       "      <td>nan</td>\n",
       "      <td>nan</td>\n",
       "    </tr>\n",
       "    <tr>\n",
       "      <td>3</td>\n",
       "      <td>1000</td>\n",
       "      <td>52</td>\n",
       "      <td>NaT</td>\n",
       "      <td>Краснодар</td>\n",
       "      <td>Рафаил</td>\n",
       "      <td>Верещагин</td>\n",
       "      <td>2018-05-25</td>\n",
       "      <td>ultra</td>\n",
       "      <td>5</td>\n",
       "      <td>nan</td>\n",
       "      <td>4</td>\n",
       "      <td>регион</td>\n",
       "      <td>nan</td>\n",
       "      <td>nan</td>\n",
       "      <td>nan</td>\n",
       "      <td>nan</td>\n",
       "    </tr>\n",
       "    <tr>\n",
       "      <td>4</td>\n",
       "      <td>1000</td>\n",
       "      <td>52</td>\n",
       "      <td>NaT</td>\n",
       "      <td>Краснодар</td>\n",
       "      <td>Рафаил</td>\n",
       "      <td>Верещагин</td>\n",
       "      <td>2018-05-25</td>\n",
       "      <td>ultra</td>\n",
       "      <td>5</td>\n",
       "      <td>nan</td>\n",
       "      <td>5</td>\n",
       "      <td>регион</td>\n",
       "      <td>22</td>\n",
       "      <td>159</td>\n",
       "      <td>22</td>\n",
       "      <td>3</td>\n",
       "    </tr>\n",
       "    <tr>\n",
       "      <td>...</td>\n",
       "      <td>...</td>\n",
       "      <td>...</td>\n",
       "      <td>...</td>\n",
       "      <td>...</td>\n",
       "      <td>...</td>\n",
       "      <td>...</td>\n",
       "      <td>...</td>\n",
       "      <td>...</td>\n",
       "      <td>...</td>\n",
       "      <td>...</td>\n",
       "      <td>...</td>\n",
       "      <td>...</td>\n",
       "      <td>...</td>\n",
       "      <td>...</td>\n",
       "      <td>...</td>\n",
       "      <td>...</td>\n",
       "    </tr>\n",
       "    <tr>\n",
       "      <td>5995</td>\n",
       "      <td>1499</td>\n",
       "      <td>35</td>\n",
       "      <td>NaT</td>\n",
       "      <td>Пермь</td>\n",
       "      <td>Гектор</td>\n",
       "      <td>Корнилов</td>\n",
       "      <td>2018-09-27</td>\n",
       "      <td>smart</td>\n",
       "      <td>9</td>\n",
       "      <td>nan</td>\n",
       "      <td>8</td>\n",
       "      <td>регион</td>\n",
       "      <td>nan</td>\n",
       "      <td>nan</td>\n",
       "      <td>nan</td>\n",
       "      <td>nan</td>\n",
       "    </tr>\n",
       "    <tr>\n",
       "      <td>5996</td>\n",
       "      <td>1499</td>\n",
       "      <td>35</td>\n",
       "      <td>NaT</td>\n",
       "      <td>Пермь</td>\n",
       "      <td>Гектор</td>\n",
       "      <td>Корнилов</td>\n",
       "      <td>2018-09-27</td>\n",
       "      <td>smart</td>\n",
       "      <td>9</td>\n",
       "      <td>nan</td>\n",
       "      <td>9</td>\n",
       "      <td>регион</td>\n",
       "      <td>9</td>\n",
       "      <td>70</td>\n",
       "      <td>11</td>\n",
       "      <td>2</td>\n",
       "    </tr>\n",
       "    <tr>\n",
       "      <td>5997</td>\n",
       "      <td>1499</td>\n",
       "      <td>35</td>\n",
       "      <td>NaT</td>\n",
       "      <td>Пермь</td>\n",
       "      <td>Гектор</td>\n",
       "      <td>Корнилов</td>\n",
       "      <td>2018-09-27</td>\n",
       "      <td>smart</td>\n",
       "      <td>9</td>\n",
       "      <td>nan</td>\n",
       "      <td>10</td>\n",
       "      <td>регион</td>\n",
       "      <td>68</td>\n",
       "      <td>449</td>\n",
       "      <td>48</td>\n",
       "      <td>18</td>\n",
       "    </tr>\n",
       "    <tr>\n",
       "      <td>5998</td>\n",
       "      <td>1499</td>\n",
       "      <td>35</td>\n",
       "      <td>NaT</td>\n",
       "      <td>Пермь</td>\n",
       "      <td>Гектор</td>\n",
       "      <td>Корнилов</td>\n",
       "      <td>2018-09-27</td>\n",
       "      <td>smart</td>\n",
       "      <td>9</td>\n",
       "      <td>nan</td>\n",
       "      <td>11</td>\n",
       "      <td>регион</td>\n",
       "      <td>74</td>\n",
       "      <td>612</td>\n",
       "      <td>59</td>\n",
       "      <td>18</td>\n",
       "    </tr>\n",
       "    <tr>\n",
       "      <td>5999</td>\n",
       "      <td>1499</td>\n",
       "      <td>35</td>\n",
       "      <td>NaT</td>\n",
       "      <td>Пермь</td>\n",
       "      <td>Гектор</td>\n",
       "      <td>Корнилов</td>\n",
       "      <td>2018-09-27</td>\n",
       "      <td>smart</td>\n",
       "      <td>9</td>\n",
       "      <td>nan</td>\n",
       "      <td>12</td>\n",
       "      <td>регион</td>\n",
       "      <td>69</td>\n",
       "      <td>492</td>\n",
       "      <td>66</td>\n",
       "      <td>13</td>\n",
       "    </tr>\n",
       "  </tbody>\n",
       "</table>\n",
       "<p>6000 rows × 16 columns</p>\n",
       "</div>"
      ],
      "text/plain": [
       "      user_id  age churn_date       city first_name  last_name   reg_date  \\\n",
       "0        1000   52        NaT  Краснодар     Рафаил  Верещагин 2018-05-25   \n",
       "1        1000   52        NaT  Краснодар     Рафаил  Верещагин 2018-05-25   \n",
       "2        1000   52        NaT  Краснодар     Рафаил  Верещагин 2018-05-25   \n",
       "3        1000   52        NaT  Краснодар     Рафаил  Верещагин 2018-05-25   \n",
       "4        1000   52        NaT  Краснодар     Рафаил  Верещагин 2018-05-25   \n",
       "...       ...  ...        ...        ...        ...        ...        ...   \n",
       "5995     1499   35        NaT      Пермь     Гектор   Корнилов 2018-09-27   \n",
       "5996     1499   35        NaT      Пермь     Гектор   Корнилов 2018-09-27   \n",
       "5997     1499   35        NaT      Пермь     Гектор   Корнилов 2018-09-27   \n",
       "5998     1499   35        NaT      Пермь     Гектор   Корнилов 2018-09-27   \n",
       "5999     1499   35        NaT      Пермь     Гектор   Корнилов 2018-09-27   \n",
       "\n",
       "     tariff  reg_month  churn_month  month  region  calls_count  calls_sum  \\\n",
       "0     ultra          5          nan      1  регион          nan        nan   \n",
       "1     ultra          5          nan      2  регион          nan        nan   \n",
       "2     ultra          5          nan      3  регион          nan        nan   \n",
       "3     ultra          5          nan      4  регион          nan        nan   \n",
       "4     ultra          5          nan      5  регион           22        159   \n",
       "...     ...        ...          ...    ...     ...          ...        ...   \n",
       "5995  smart          9          nan      8  регион          nan        nan   \n",
       "5996  smart          9          nan      9  регион            9         70   \n",
       "5997  smart          9          nan     10  регион           68        449   \n",
       "5998  smart          9          nan     11  регион           74        612   \n",
       "5999  smart          9          nan     12  регион           69        492   \n",
       "\n",
       "      messages_count  gb_used  \n",
       "0                nan      nan  \n",
       "1                nan      nan  \n",
       "2                nan      nan  \n",
       "3                nan      nan  \n",
       "4                 22        3  \n",
       "...              ...      ...  \n",
       "5995             nan      nan  \n",
       "5996              11        2  \n",
       "5997              48       18  \n",
       "5998              59       18  \n",
       "5999              66       13  \n",
       "\n",
       "[6000 rows x 16 columns]"
      ]
     },
     "execution_count": 52,
     "metadata": {},
     "output_type": "execute_result"
    }
   ],
   "source": [
    "# объединение таблиц \n",
    "df_all = users.merge(df_all, how='outer',on =('user_id', 'month'))\n",
    "df_all"
   ]
  },
  {
   "cell_type": "markdown",
   "metadata": {},
   "source": [
    "В таблице **`users`** стало 6000 строк. Это те самые 500 пользователей * 12 месяцев, все верно.\n",
    "\n",
    "Добавлю в таблицу **`users`** значения таблицы **`df_tariffs`**, объединение произведу по столбцу `tariff`."
   ]
  },
  {
   "cell_type": "code",
   "execution_count": 53,
   "metadata": {},
   "outputs": [
    {
     "data": {
      "text/html": [
       "<div>\n",
       "<style scoped>\n",
       "    .dataframe tbody tr th:only-of-type {\n",
       "        vertical-align: middle;\n",
       "    }\n",
       "\n",
       "    .dataframe tbody tr th {\n",
       "        vertical-align: top;\n",
       "    }\n",
       "\n",
       "    .dataframe thead th {\n",
       "        text-align: right;\n",
       "    }\n",
       "</style>\n",
       "<table border=\"1\" class=\"dataframe\">\n",
       "  <thead>\n",
       "    <tr style=\"text-align: right;\">\n",
       "      <th></th>\n",
       "      <th>user_id</th>\n",
       "      <th>age</th>\n",
       "      <th>churn_date</th>\n",
       "      <th>city</th>\n",
       "      <th>first_name</th>\n",
       "      <th>last_name</th>\n",
       "      <th>reg_date</th>\n",
       "      <th>tariff</th>\n",
       "      <th>reg_month</th>\n",
       "      <th>churn_month</th>\n",
       "      <th>month</th>\n",
       "      <th>region</th>\n",
       "      <th>calls_count</th>\n",
       "      <th>calls_sum</th>\n",
       "      <th>messages_count</th>\n",
       "      <th>gb_used</th>\n",
       "      <th>messages_included</th>\n",
       "      <th>mb_per_month_included</th>\n",
       "      <th>minutes_included</th>\n",
       "      <th>rub_monthly_fee</th>\n",
       "      <th>rub_per_gb</th>\n",
       "      <th>rub_per_message</th>\n",
       "      <th>rub_per_minute</th>\n",
       "      <th>gb_included</th>\n",
       "    </tr>\n",
       "  </thead>\n",
       "  <tbody>\n",
       "    <tr>\n",
       "      <td>0</td>\n",
       "      <td>1000</td>\n",
       "      <td>52</td>\n",
       "      <td>NaT</td>\n",
       "      <td>Краснодар</td>\n",
       "      <td>Рафаил</td>\n",
       "      <td>Верещагин</td>\n",
       "      <td>2018-05-25</td>\n",
       "      <td>ultra</td>\n",
       "      <td>5</td>\n",
       "      <td>nan</td>\n",
       "      <td>1</td>\n",
       "      <td>регион</td>\n",
       "      <td>nan</td>\n",
       "      <td>nan</td>\n",
       "      <td>nan</td>\n",
       "      <td>nan</td>\n",
       "      <td>1000</td>\n",
       "      <td>30720</td>\n",
       "      <td>3000</td>\n",
       "      <td>1950</td>\n",
       "      <td>150</td>\n",
       "      <td>1</td>\n",
       "      <td>1</td>\n",
       "      <td>30</td>\n",
       "    </tr>\n",
       "    <tr>\n",
       "      <td>1</td>\n",
       "      <td>1000</td>\n",
       "      <td>52</td>\n",
       "      <td>NaT</td>\n",
       "      <td>Краснодар</td>\n",
       "      <td>Рафаил</td>\n",
       "      <td>Верещагин</td>\n",
       "      <td>2018-05-25</td>\n",
       "      <td>ultra</td>\n",
       "      <td>5</td>\n",
       "      <td>nan</td>\n",
       "      <td>2</td>\n",
       "      <td>регион</td>\n",
       "      <td>nan</td>\n",
       "      <td>nan</td>\n",
       "      <td>nan</td>\n",
       "      <td>nan</td>\n",
       "      <td>1000</td>\n",
       "      <td>30720</td>\n",
       "      <td>3000</td>\n",
       "      <td>1950</td>\n",
       "      <td>150</td>\n",
       "      <td>1</td>\n",
       "      <td>1</td>\n",
       "      <td>30</td>\n",
       "    </tr>\n",
       "    <tr>\n",
       "      <td>2</td>\n",
       "      <td>1000</td>\n",
       "      <td>52</td>\n",
       "      <td>NaT</td>\n",
       "      <td>Краснодар</td>\n",
       "      <td>Рафаил</td>\n",
       "      <td>Верещагин</td>\n",
       "      <td>2018-05-25</td>\n",
       "      <td>ultra</td>\n",
       "      <td>5</td>\n",
       "      <td>nan</td>\n",
       "      <td>3</td>\n",
       "      <td>регион</td>\n",
       "      <td>nan</td>\n",
       "      <td>nan</td>\n",
       "      <td>nan</td>\n",
       "      <td>nan</td>\n",
       "      <td>1000</td>\n",
       "      <td>30720</td>\n",
       "      <td>3000</td>\n",
       "      <td>1950</td>\n",
       "      <td>150</td>\n",
       "      <td>1</td>\n",
       "      <td>1</td>\n",
       "      <td>30</td>\n",
       "    </tr>\n",
       "    <tr>\n",
       "      <td>3</td>\n",
       "      <td>1000</td>\n",
       "      <td>52</td>\n",
       "      <td>NaT</td>\n",
       "      <td>Краснодар</td>\n",
       "      <td>Рафаил</td>\n",
       "      <td>Верещагин</td>\n",
       "      <td>2018-05-25</td>\n",
       "      <td>ultra</td>\n",
       "      <td>5</td>\n",
       "      <td>nan</td>\n",
       "      <td>4</td>\n",
       "      <td>регион</td>\n",
       "      <td>nan</td>\n",
       "      <td>nan</td>\n",
       "      <td>nan</td>\n",
       "      <td>nan</td>\n",
       "      <td>1000</td>\n",
       "      <td>30720</td>\n",
       "      <td>3000</td>\n",
       "      <td>1950</td>\n",
       "      <td>150</td>\n",
       "      <td>1</td>\n",
       "      <td>1</td>\n",
       "      <td>30</td>\n",
       "    </tr>\n",
       "    <tr>\n",
       "      <td>4</td>\n",
       "      <td>1000</td>\n",
       "      <td>52</td>\n",
       "      <td>NaT</td>\n",
       "      <td>Краснодар</td>\n",
       "      <td>Рафаил</td>\n",
       "      <td>Верещагин</td>\n",
       "      <td>2018-05-25</td>\n",
       "      <td>ultra</td>\n",
       "      <td>5</td>\n",
       "      <td>nan</td>\n",
       "      <td>5</td>\n",
       "      <td>регион</td>\n",
       "      <td>22</td>\n",
       "      <td>159</td>\n",
       "      <td>22</td>\n",
       "      <td>3</td>\n",
       "      <td>1000</td>\n",
       "      <td>30720</td>\n",
       "      <td>3000</td>\n",
       "      <td>1950</td>\n",
       "      <td>150</td>\n",
       "      <td>1</td>\n",
       "      <td>1</td>\n",
       "      <td>30</td>\n",
       "    </tr>\n",
       "    <tr>\n",
       "      <td>...</td>\n",
       "      <td>...</td>\n",
       "      <td>...</td>\n",
       "      <td>...</td>\n",
       "      <td>...</td>\n",
       "      <td>...</td>\n",
       "      <td>...</td>\n",
       "      <td>...</td>\n",
       "      <td>...</td>\n",
       "      <td>...</td>\n",
       "      <td>...</td>\n",
       "      <td>...</td>\n",
       "      <td>...</td>\n",
       "      <td>...</td>\n",
       "      <td>...</td>\n",
       "      <td>...</td>\n",
       "      <td>...</td>\n",
       "      <td>...</td>\n",
       "      <td>...</td>\n",
       "      <td>...</td>\n",
       "      <td>...</td>\n",
       "      <td>...</td>\n",
       "      <td>...</td>\n",
       "      <td>...</td>\n",
       "      <td>...</td>\n",
       "    </tr>\n",
       "    <tr>\n",
       "      <td>5995</td>\n",
       "      <td>1499</td>\n",
       "      <td>35</td>\n",
       "      <td>NaT</td>\n",
       "      <td>Пермь</td>\n",
       "      <td>Гектор</td>\n",
       "      <td>Корнилов</td>\n",
       "      <td>2018-09-27</td>\n",
       "      <td>smart</td>\n",
       "      <td>9</td>\n",
       "      <td>nan</td>\n",
       "      <td>8</td>\n",
       "      <td>регион</td>\n",
       "      <td>nan</td>\n",
       "      <td>nan</td>\n",
       "      <td>nan</td>\n",
       "      <td>nan</td>\n",
       "      <td>50</td>\n",
       "      <td>15360</td>\n",
       "      <td>500</td>\n",
       "      <td>550</td>\n",
       "      <td>200</td>\n",
       "      <td>3</td>\n",
       "      <td>3</td>\n",
       "      <td>15</td>\n",
       "    </tr>\n",
       "    <tr>\n",
       "      <td>5996</td>\n",
       "      <td>1499</td>\n",
       "      <td>35</td>\n",
       "      <td>NaT</td>\n",
       "      <td>Пермь</td>\n",
       "      <td>Гектор</td>\n",
       "      <td>Корнилов</td>\n",
       "      <td>2018-09-27</td>\n",
       "      <td>smart</td>\n",
       "      <td>9</td>\n",
       "      <td>nan</td>\n",
       "      <td>9</td>\n",
       "      <td>регион</td>\n",
       "      <td>9</td>\n",
       "      <td>70</td>\n",
       "      <td>11</td>\n",
       "      <td>2</td>\n",
       "      <td>50</td>\n",
       "      <td>15360</td>\n",
       "      <td>500</td>\n",
       "      <td>550</td>\n",
       "      <td>200</td>\n",
       "      <td>3</td>\n",
       "      <td>3</td>\n",
       "      <td>15</td>\n",
       "    </tr>\n",
       "    <tr>\n",
       "      <td>5997</td>\n",
       "      <td>1499</td>\n",
       "      <td>35</td>\n",
       "      <td>NaT</td>\n",
       "      <td>Пермь</td>\n",
       "      <td>Гектор</td>\n",
       "      <td>Корнилов</td>\n",
       "      <td>2018-09-27</td>\n",
       "      <td>smart</td>\n",
       "      <td>9</td>\n",
       "      <td>nan</td>\n",
       "      <td>10</td>\n",
       "      <td>регион</td>\n",
       "      <td>68</td>\n",
       "      <td>449</td>\n",
       "      <td>48</td>\n",
       "      <td>18</td>\n",
       "      <td>50</td>\n",
       "      <td>15360</td>\n",
       "      <td>500</td>\n",
       "      <td>550</td>\n",
       "      <td>200</td>\n",
       "      <td>3</td>\n",
       "      <td>3</td>\n",
       "      <td>15</td>\n",
       "    </tr>\n",
       "    <tr>\n",
       "      <td>5998</td>\n",
       "      <td>1499</td>\n",
       "      <td>35</td>\n",
       "      <td>NaT</td>\n",
       "      <td>Пермь</td>\n",
       "      <td>Гектор</td>\n",
       "      <td>Корнилов</td>\n",
       "      <td>2018-09-27</td>\n",
       "      <td>smart</td>\n",
       "      <td>9</td>\n",
       "      <td>nan</td>\n",
       "      <td>11</td>\n",
       "      <td>регион</td>\n",
       "      <td>74</td>\n",
       "      <td>612</td>\n",
       "      <td>59</td>\n",
       "      <td>18</td>\n",
       "      <td>50</td>\n",
       "      <td>15360</td>\n",
       "      <td>500</td>\n",
       "      <td>550</td>\n",
       "      <td>200</td>\n",
       "      <td>3</td>\n",
       "      <td>3</td>\n",
       "      <td>15</td>\n",
       "    </tr>\n",
       "    <tr>\n",
       "      <td>5999</td>\n",
       "      <td>1499</td>\n",
       "      <td>35</td>\n",
       "      <td>NaT</td>\n",
       "      <td>Пермь</td>\n",
       "      <td>Гектор</td>\n",
       "      <td>Корнилов</td>\n",
       "      <td>2018-09-27</td>\n",
       "      <td>smart</td>\n",
       "      <td>9</td>\n",
       "      <td>nan</td>\n",
       "      <td>12</td>\n",
       "      <td>регион</td>\n",
       "      <td>69</td>\n",
       "      <td>492</td>\n",
       "      <td>66</td>\n",
       "      <td>13</td>\n",
       "      <td>50</td>\n",
       "      <td>15360</td>\n",
       "      <td>500</td>\n",
       "      <td>550</td>\n",
       "      <td>200</td>\n",
       "      <td>3</td>\n",
       "      <td>3</td>\n",
       "      <td>15</td>\n",
       "    </tr>\n",
       "  </tbody>\n",
       "</table>\n",
       "<p>6000 rows × 24 columns</p>\n",
       "</div>"
      ],
      "text/plain": [
       "      user_id  age churn_date       city first_name  last_name   reg_date  \\\n",
       "0        1000   52        NaT  Краснодар     Рафаил  Верещагин 2018-05-25   \n",
       "1        1000   52        NaT  Краснодар     Рафаил  Верещагин 2018-05-25   \n",
       "2        1000   52        NaT  Краснодар     Рафаил  Верещагин 2018-05-25   \n",
       "3        1000   52        NaT  Краснодар     Рафаил  Верещагин 2018-05-25   \n",
       "4        1000   52        NaT  Краснодар     Рафаил  Верещагин 2018-05-25   \n",
       "...       ...  ...        ...        ...        ...        ...        ...   \n",
       "5995     1499   35        NaT      Пермь     Гектор   Корнилов 2018-09-27   \n",
       "5996     1499   35        NaT      Пермь     Гектор   Корнилов 2018-09-27   \n",
       "5997     1499   35        NaT      Пермь     Гектор   Корнилов 2018-09-27   \n",
       "5998     1499   35        NaT      Пермь     Гектор   Корнилов 2018-09-27   \n",
       "5999     1499   35        NaT      Пермь     Гектор   Корнилов 2018-09-27   \n",
       "\n",
       "     tariff  reg_month  churn_month  month  region  calls_count  calls_sum  \\\n",
       "0     ultra          5          nan      1  регион          nan        nan   \n",
       "1     ultra          5          nan      2  регион          nan        nan   \n",
       "2     ultra          5          nan      3  регион          nan        nan   \n",
       "3     ultra          5          nan      4  регион          nan        nan   \n",
       "4     ultra          5          nan      5  регион           22        159   \n",
       "...     ...        ...          ...    ...     ...          ...        ...   \n",
       "5995  smart          9          nan      8  регион          nan        nan   \n",
       "5996  smart          9          nan      9  регион            9         70   \n",
       "5997  smart          9          nan     10  регион           68        449   \n",
       "5998  smart          9          nan     11  регион           74        612   \n",
       "5999  smart          9          nan     12  регион           69        492   \n",
       "\n",
       "      messages_count  gb_used  messages_included  mb_per_month_included  \\\n",
       "0                nan      nan               1000                  30720   \n",
       "1                nan      nan               1000                  30720   \n",
       "2                nan      nan               1000                  30720   \n",
       "3                nan      nan               1000                  30720   \n",
       "4                 22        3               1000                  30720   \n",
       "...              ...      ...                ...                    ...   \n",
       "5995             nan      nan                 50                  15360   \n",
       "5996              11        2                 50                  15360   \n",
       "5997              48       18                 50                  15360   \n",
       "5998              59       18                 50                  15360   \n",
       "5999              66       13                 50                  15360   \n",
       "\n",
       "      minutes_included  rub_monthly_fee  rub_per_gb  rub_per_message  \\\n",
       "0                 3000             1950         150                1   \n",
       "1                 3000             1950         150                1   \n",
       "2                 3000             1950         150                1   \n",
       "3                 3000             1950         150                1   \n",
       "4                 3000             1950         150                1   \n",
       "...                ...              ...         ...              ...   \n",
       "5995               500              550         200                3   \n",
       "5996               500              550         200                3   \n",
       "5997               500              550         200                3   \n",
       "5998               500              550         200                3   \n",
       "5999               500              550         200                3   \n",
       "\n",
       "      rub_per_minute  gb_included  \n",
       "0                  1           30  \n",
       "1                  1           30  \n",
       "2                  1           30  \n",
       "3                  1           30  \n",
       "4                  1           30  \n",
       "...              ...          ...  \n",
       "5995               3           15  \n",
       "5996               3           15  \n",
       "5997               3           15  \n",
       "5998               3           15  \n",
       "5999               3           15  \n",
       "\n",
       "[6000 rows x 24 columns]"
      ]
     },
     "execution_count": 53,
     "metadata": {},
     "output_type": "execute_result"
    }
   ],
   "source": [
    "# объединение таблиц \n",
    "df_all = df_all.merge(df_tariffs, how='outer', on ='tariff')\n",
    "df_all"
   ]
  },
  {
   "cell_type": "markdown",
   "metadata": {},
   "source": [
    "Заполню образовавшиеся пропуски в столбцах 0, это необходимо для дальнейших рассчетов. "
   ]
  },
  {
   "cell_type": "code",
   "execution_count": 54,
   "metadata": {},
   "outputs": [
    {
     "data": {
      "text/html": [
       "<div>\n",
       "<style scoped>\n",
       "    .dataframe tbody tr th:only-of-type {\n",
       "        vertical-align: middle;\n",
       "    }\n",
       "\n",
       "    .dataframe tbody tr th {\n",
       "        vertical-align: top;\n",
       "    }\n",
       "\n",
       "    .dataframe thead th {\n",
       "        text-align: right;\n",
       "    }\n",
       "</style>\n",
       "<table border=\"1\" class=\"dataframe\">\n",
       "  <thead>\n",
       "    <tr style=\"text-align: right;\">\n",
       "      <th></th>\n",
       "      <th>user_id</th>\n",
       "      <th>age</th>\n",
       "      <th>churn_date</th>\n",
       "      <th>city</th>\n",
       "      <th>first_name</th>\n",
       "      <th>last_name</th>\n",
       "      <th>reg_date</th>\n",
       "      <th>tariff</th>\n",
       "      <th>reg_month</th>\n",
       "      <th>churn_month</th>\n",
       "      <th>month</th>\n",
       "      <th>region</th>\n",
       "      <th>calls_count</th>\n",
       "      <th>calls_sum</th>\n",
       "      <th>messages_count</th>\n",
       "      <th>gb_used</th>\n",
       "      <th>messages_included</th>\n",
       "      <th>mb_per_month_included</th>\n",
       "      <th>minutes_included</th>\n",
       "      <th>rub_monthly_fee</th>\n",
       "      <th>rub_per_gb</th>\n",
       "      <th>rub_per_message</th>\n",
       "      <th>rub_per_minute</th>\n",
       "      <th>gb_included</th>\n",
       "    </tr>\n",
       "  </thead>\n",
       "  <tbody>\n",
       "    <tr>\n",
       "      <td>0</td>\n",
       "      <td>1000</td>\n",
       "      <td>52</td>\n",
       "      <td>NaT</td>\n",
       "      <td>Краснодар</td>\n",
       "      <td>Рафаил</td>\n",
       "      <td>Верещагин</td>\n",
       "      <td>2018-05-25</td>\n",
       "      <td>ultra</td>\n",
       "      <td>5</td>\n",
       "      <td>0</td>\n",
       "      <td>1</td>\n",
       "      <td>регион</td>\n",
       "      <td>0</td>\n",
       "      <td>0</td>\n",
       "      <td>0</td>\n",
       "      <td>0</td>\n",
       "      <td>1000</td>\n",
       "      <td>30720</td>\n",
       "      <td>3000</td>\n",
       "      <td>1950</td>\n",
       "      <td>150</td>\n",
       "      <td>1</td>\n",
       "      <td>1</td>\n",
       "      <td>30</td>\n",
       "    </tr>\n",
       "    <tr>\n",
       "      <td>1</td>\n",
       "      <td>1000</td>\n",
       "      <td>52</td>\n",
       "      <td>NaT</td>\n",
       "      <td>Краснодар</td>\n",
       "      <td>Рафаил</td>\n",
       "      <td>Верещагин</td>\n",
       "      <td>2018-05-25</td>\n",
       "      <td>ultra</td>\n",
       "      <td>5</td>\n",
       "      <td>0</td>\n",
       "      <td>2</td>\n",
       "      <td>регион</td>\n",
       "      <td>0</td>\n",
       "      <td>0</td>\n",
       "      <td>0</td>\n",
       "      <td>0</td>\n",
       "      <td>1000</td>\n",
       "      <td>30720</td>\n",
       "      <td>3000</td>\n",
       "      <td>1950</td>\n",
       "      <td>150</td>\n",
       "      <td>1</td>\n",
       "      <td>1</td>\n",
       "      <td>30</td>\n",
       "    </tr>\n",
       "    <tr>\n",
       "      <td>2</td>\n",
       "      <td>1000</td>\n",
       "      <td>52</td>\n",
       "      <td>NaT</td>\n",
       "      <td>Краснодар</td>\n",
       "      <td>Рафаил</td>\n",
       "      <td>Верещагин</td>\n",
       "      <td>2018-05-25</td>\n",
       "      <td>ultra</td>\n",
       "      <td>5</td>\n",
       "      <td>0</td>\n",
       "      <td>3</td>\n",
       "      <td>регион</td>\n",
       "      <td>0</td>\n",
       "      <td>0</td>\n",
       "      <td>0</td>\n",
       "      <td>0</td>\n",
       "      <td>1000</td>\n",
       "      <td>30720</td>\n",
       "      <td>3000</td>\n",
       "      <td>1950</td>\n",
       "      <td>150</td>\n",
       "      <td>1</td>\n",
       "      <td>1</td>\n",
       "      <td>30</td>\n",
       "    </tr>\n",
       "    <tr>\n",
       "      <td>3</td>\n",
       "      <td>1000</td>\n",
       "      <td>52</td>\n",
       "      <td>NaT</td>\n",
       "      <td>Краснодар</td>\n",
       "      <td>Рафаил</td>\n",
       "      <td>Верещагин</td>\n",
       "      <td>2018-05-25</td>\n",
       "      <td>ultra</td>\n",
       "      <td>5</td>\n",
       "      <td>0</td>\n",
       "      <td>4</td>\n",
       "      <td>регион</td>\n",
       "      <td>0</td>\n",
       "      <td>0</td>\n",
       "      <td>0</td>\n",
       "      <td>0</td>\n",
       "      <td>1000</td>\n",
       "      <td>30720</td>\n",
       "      <td>3000</td>\n",
       "      <td>1950</td>\n",
       "      <td>150</td>\n",
       "      <td>1</td>\n",
       "      <td>1</td>\n",
       "      <td>30</td>\n",
       "    </tr>\n",
       "    <tr>\n",
       "      <td>4</td>\n",
       "      <td>1000</td>\n",
       "      <td>52</td>\n",
       "      <td>NaT</td>\n",
       "      <td>Краснодар</td>\n",
       "      <td>Рафаил</td>\n",
       "      <td>Верещагин</td>\n",
       "      <td>2018-05-25</td>\n",
       "      <td>ultra</td>\n",
       "      <td>5</td>\n",
       "      <td>0</td>\n",
       "      <td>5</td>\n",
       "      <td>регион</td>\n",
       "      <td>22</td>\n",
       "      <td>159</td>\n",
       "      <td>22</td>\n",
       "      <td>3</td>\n",
       "      <td>1000</td>\n",
       "      <td>30720</td>\n",
       "      <td>3000</td>\n",
       "      <td>1950</td>\n",
       "      <td>150</td>\n",
       "      <td>1</td>\n",
       "      <td>1</td>\n",
       "      <td>30</td>\n",
       "    </tr>\n",
       "    <tr>\n",
       "      <td>...</td>\n",
       "      <td>...</td>\n",
       "      <td>...</td>\n",
       "      <td>...</td>\n",
       "      <td>...</td>\n",
       "      <td>...</td>\n",
       "      <td>...</td>\n",
       "      <td>...</td>\n",
       "      <td>...</td>\n",
       "      <td>...</td>\n",
       "      <td>...</td>\n",
       "      <td>...</td>\n",
       "      <td>...</td>\n",
       "      <td>...</td>\n",
       "      <td>...</td>\n",
       "      <td>...</td>\n",
       "      <td>...</td>\n",
       "      <td>...</td>\n",
       "      <td>...</td>\n",
       "      <td>...</td>\n",
       "      <td>...</td>\n",
       "      <td>...</td>\n",
       "      <td>...</td>\n",
       "      <td>...</td>\n",
       "      <td>...</td>\n",
       "    </tr>\n",
       "    <tr>\n",
       "      <td>5995</td>\n",
       "      <td>1499</td>\n",
       "      <td>35</td>\n",
       "      <td>NaT</td>\n",
       "      <td>Пермь</td>\n",
       "      <td>Гектор</td>\n",
       "      <td>Корнилов</td>\n",
       "      <td>2018-09-27</td>\n",
       "      <td>smart</td>\n",
       "      <td>9</td>\n",
       "      <td>0</td>\n",
       "      <td>8</td>\n",
       "      <td>регион</td>\n",
       "      <td>0</td>\n",
       "      <td>0</td>\n",
       "      <td>0</td>\n",
       "      <td>0</td>\n",
       "      <td>50</td>\n",
       "      <td>15360</td>\n",
       "      <td>500</td>\n",
       "      <td>550</td>\n",
       "      <td>200</td>\n",
       "      <td>3</td>\n",
       "      <td>3</td>\n",
       "      <td>15</td>\n",
       "    </tr>\n",
       "    <tr>\n",
       "      <td>5996</td>\n",
       "      <td>1499</td>\n",
       "      <td>35</td>\n",
       "      <td>NaT</td>\n",
       "      <td>Пермь</td>\n",
       "      <td>Гектор</td>\n",
       "      <td>Корнилов</td>\n",
       "      <td>2018-09-27</td>\n",
       "      <td>smart</td>\n",
       "      <td>9</td>\n",
       "      <td>0</td>\n",
       "      <td>9</td>\n",
       "      <td>регион</td>\n",
       "      <td>9</td>\n",
       "      <td>70</td>\n",
       "      <td>11</td>\n",
       "      <td>2</td>\n",
       "      <td>50</td>\n",
       "      <td>15360</td>\n",
       "      <td>500</td>\n",
       "      <td>550</td>\n",
       "      <td>200</td>\n",
       "      <td>3</td>\n",
       "      <td>3</td>\n",
       "      <td>15</td>\n",
       "    </tr>\n",
       "    <tr>\n",
       "      <td>5997</td>\n",
       "      <td>1499</td>\n",
       "      <td>35</td>\n",
       "      <td>NaT</td>\n",
       "      <td>Пермь</td>\n",
       "      <td>Гектор</td>\n",
       "      <td>Корнилов</td>\n",
       "      <td>2018-09-27</td>\n",
       "      <td>smart</td>\n",
       "      <td>9</td>\n",
       "      <td>0</td>\n",
       "      <td>10</td>\n",
       "      <td>регион</td>\n",
       "      <td>68</td>\n",
       "      <td>449</td>\n",
       "      <td>48</td>\n",
       "      <td>18</td>\n",
       "      <td>50</td>\n",
       "      <td>15360</td>\n",
       "      <td>500</td>\n",
       "      <td>550</td>\n",
       "      <td>200</td>\n",
       "      <td>3</td>\n",
       "      <td>3</td>\n",
       "      <td>15</td>\n",
       "    </tr>\n",
       "    <tr>\n",
       "      <td>5998</td>\n",
       "      <td>1499</td>\n",
       "      <td>35</td>\n",
       "      <td>NaT</td>\n",
       "      <td>Пермь</td>\n",
       "      <td>Гектор</td>\n",
       "      <td>Корнилов</td>\n",
       "      <td>2018-09-27</td>\n",
       "      <td>smart</td>\n",
       "      <td>9</td>\n",
       "      <td>0</td>\n",
       "      <td>11</td>\n",
       "      <td>регион</td>\n",
       "      <td>74</td>\n",
       "      <td>612</td>\n",
       "      <td>59</td>\n",
       "      <td>18</td>\n",
       "      <td>50</td>\n",
       "      <td>15360</td>\n",
       "      <td>500</td>\n",
       "      <td>550</td>\n",
       "      <td>200</td>\n",
       "      <td>3</td>\n",
       "      <td>3</td>\n",
       "      <td>15</td>\n",
       "    </tr>\n",
       "    <tr>\n",
       "      <td>5999</td>\n",
       "      <td>1499</td>\n",
       "      <td>35</td>\n",
       "      <td>NaT</td>\n",
       "      <td>Пермь</td>\n",
       "      <td>Гектор</td>\n",
       "      <td>Корнилов</td>\n",
       "      <td>2018-09-27</td>\n",
       "      <td>smart</td>\n",
       "      <td>9</td>\n",
       "      <td>0</td>\n",
       "      <td>12</td>\n",
       "      <td>регион</td>\n",
       "      <td>69</td>\n",
       "      <td>492</td>\n",
       "      <td>66</td>\n",
       "      <td>13</td>\n",
       "      <td>50</td>\n",
       "      <td>15360</td>\n",
       "      <td>500</td>\n",
       "      <td>550</td>\n",
       "      <td>200</td>\n",
       "      <td>3</td>\n",
       "      <td>3</td>\n",
       "      <td>15</td>\n",
       "    </tr>\n",
       "  </tbody>\n",
       "</table>\n",
       "<p>6000 rows × 24 columns</p>\n",
       "</div>"
      ],
      "text/plain": [
       "      user_id  age churn_date       city first_name  last_name   reg_date  \\\n",
       "0        1000   52        NaT  Краснодар     Рафаил  Верещагин 2018-05-25   \n",
       "1        1000   52        NaT  Краснодар     Рафаил  Верещагин 2018-05-25   \n",
       "2        1000   52        NaT  Краснодар     Рафаил  Верещагин 2018-05-25   \n",
       "3        1000   52        NaT  Краснодар     Рафаил  Верещагин 2018-05-25   \n",
       "4        1000   52        NaT  Краснодар     Рафаил  Верещагин 2018-05-25   \n",
       "...       ...  ...        ...        ...        ...        ...        ...   \n",
       "5995     1499   35        NaT      Пермь     Гектор   Корнилов 2018-09-27   \n",
       "5996     1499   35        NaT      Пермь     Гектор   Корнилов 2018-09-27   \n",
       "5997     1499   35        NaT      Пермь     Гектор   Корнилов 2018-09-27   \n",
       "5998     1499   35        NaT      Пермь     Гектор   Корнилов 2018-09-27   \n",
       "5999     1499   35        NaT      Пермь     Гектор   Корнилов 2018-09-27   \n",
       "\n",
       "     tariff  reg_month  churn_month  month  region  calls_count  calls_sum  \\\n",
       "0     ultra          5            0      1  регион            0          0   \n",
       "1     ultra          5            0      2  регион            0          0   \n",
       "2     ultra          5            0      3  регион            0          0   \n",
       "3     ultra          5            0      4  регион            0          0   \n",
       "4     ultra          5            0      5  регион           22        159   \n",
       "...     ...        ...          ...    ...     ...          ...        ...   \n",
       "5995  smart          9            0      8  регион            0          0   \n",
       "5996  smart          9            0      9  регион            9         70   \n",
       "5997  smart          9            0     10  регион           68        449   \n",
       "5998  smart          9            0     11  регион           74        612   \n",
       "5999  smart          9            0     12  регион           69        492   \n",
       "\n",
       "      messages_count  gb_used  messages_included  mb_per_month_included  \\\n",
       "0                  0        0               1000                  30720   \n",
       "1                  0        0               1000                  30720   \n",
       "2                  0        0               1000                  30720   \n",
       "3                  0        0               1000                  30720   \n",
       "4                 22        3               1000                  30720   \n",
       "...              ...      ...                ...                    ...   \n",
       "5995               0        0                 50                  15360   \n",
       "5996              11        2                 50                  15360   \n",
       "5997              48       18                 50                  15360   \n",
       "5998              59       18                 50                  15360   \n",
       "5999              66       13                 50                  15360   \n",
       "\n",
       "      minutes_included  rub_monthly_fee  rub_per_gb  rub_per_message  \\\n",
       "0                 3000             1950         150                1   \n",
       "1                 3000             1950         150                1   \n",
       "2                 3000             1950         150                1   \n",
       "3                 3000             1950         150                1   \n",
       "4                 3000             1950         150                1   \n",
       "...                ...              ...         ...              ...   \n",
       "5995               500              550         200                3   \n",
       "5996               500              550         200                3   \n",
       "5997               500              550         200                3   \n",
       "5998               500              550         200                3   \n",
       "5999               500              550         200                3   \n",
       "\n",
       "      rub_per_minute  gb_included  \n",
       "0                  1           30  \n",
       "1                  1           30  \n",
       "2                  1           30  \n",
       "3                  1           30  \n",
       "4                  1           30  \n",
       "...              ...          ...  \n",
       "5995               3           15  \n",
       "5996               3           15  \n",
       "5997               3           15  \n",
       "5998               3           15  \n",
       "5999               3           15  \n",
       "\n",
       "[6000 rows x 24 columns]"
      ]
     },
     "execution_count": 54,
     "metadata": {},
     "output_type": "execute_result"
    }
   ],
   "source": [
    "# заполнение пропусков\n",
    "df_all[\n",
    "    ['reg_month', 'churn_month', 'calls_count', 'calls_sum', 'messages_count', 'gb_used']\\\n",
    "] = \\\n",
    "df_all[\n",
    "    ['reg_month', 'churn_month', 'calls_count', 'calls_sum', 'messages_count', 'gb_used']\\\n",
    "].fillna(0)\n",
    "df_all"
   ]
  },
  {
   "cell_type": "markdown",
   "metadata": {},
   "source": [
    "Пропуски заполнились. Изменю тип данных столбца `churn_month` на целочисленный."
   ]
  },
  {
   "cell_type": "code",
   "execution_count": 55,
   "metadata": {},
   "outputs": [
    {
     "data": {
      "text/html": [
       "<div>\n",
       "<style scoped>\n",
       "    .dataframe tbody tr th:only-of-type {\n",
       "        vertical-align: middle;\n",
       "    }\n",
       "\n",
       "    .dataframe tbody tr th {\n",
       "        vertical-align: top;\n",
       "    }\n",
       "\n",
       "    .dataframe thead th {\n",
       "        text-align: right;\n",
       "    }\n",
       "</style>\n",
       "<table border=\"1\" class=\"dataframe\">\n",
       "  <thead>\n",
       "    <tr style=\"text-align: right;\">\n",
       "      <th></th>\n",
       "      <th>user_id</th>\n",
       "      <th>age</th>\n",
       "      <th>churn_date</th>\n",
       "      <th>city</th>\n",
       "      <th>first_name</th>\n",
       "      <th>last_name</th>\n",
       "      <th>reg_date</th>\n",
       "      <th>tariff</th>\n",
       "      <th>reg_month</th>\n",
       "      <th>churn_month</th>\n",
       "      <th>month</th>\n",
       "      <th>region</th>\n",
       "      <th>calls_count</th>\n",
       "      <th>calls_sum</th>\n",
       "      <th>messages_count</th>\n",
       "      <th>gb_used</th>\n",
       "      <th>messages_included</th>\n",
       "      <th>mb_per_month_included</th>\n",
       "      <th>minutes_included</th>\n",
       "      <th>rub_monthly_fee</th>\n",
       "      <th>rub_per_gb</th>\n",
       "      <th>rub_per_message</th>\n",
       "      <th>rub_per_minute</th>\n",
       "      <th>gb_included</th>\n",
       "    </tr>\n",
       "  </thead>\n",
       "  <tbody>\n",
       "    <tr>\n",
       "      <td>0</td>\n",
       "      <td>1000</td>\n",
       "      <td>52</td>\n",
       "      <td>NaT</td>\n",
       "      <td>Краснодар</td>\n",
       "      <td>Рафаил</td>\n",
       "      <td>Верещагин</td>\n",
       "      <td>2018-05-25</td>\n",
       "      <td>ultra</td>\n",
       "      <td>5</td>\n",
       "      <td>0</td>\n",
       "      <td>1</td>\n",
       "      <td>регион</td>\n",
       "      <td>0</td>\n",
       "      <td>0</td>\n",
       "      <td>0</td>\n",
       "      <td>0</td>\n",
       "      <td>1000</td>\n",
       "      <td>30720</td>\n",
       "      <td>3000</td>\n",
       "      <td>1950</td>\n",
       "      <td>150</td>\n",
       "      <td>1</td>\n",
       "      <td>1</td>\n",
       "      <td>30</td>\n",
       "    </tr>\n",
       "    <tr>\n",
       "      <td>1</td>\n",
       "      <td>1000</td>\n",
       "      <td>52</td>\n",
       "      <td>NaT</td>\n",
       "      <td>Краснодар</td>\n",
       "      <td>Рафаил</td>\n",
       "      <td>Верещагин</td>\n",
       "      <td>2018-05-25</td>\n",
       "      <td>ultra</td>\n",
       "      <td>5</td>\n",
       "      <td>0</td>\n",
       "      <td>2</td>\n",
       "      <td>регион</td>\n",
       "      <td>0</td>\n",
       "      <td>0</td>\n",
       "      <td>0</td>\n",
       "      <td>0</td>\n",
       "      <td>1000</td>\n",
       "      <td>30720</td>\n",
       "      <td>3000</td>\n",
       "      <td>1950</td>\n",
       "      <td>150</td>\n",
       "      <td>1</td>\n",
       "      <td>1</td>\n",
       "      <td>30</td>\n",
       "    </tr>\n",
       "    <tr>\n",
       "      <td>2</td>\n",
       "      <td>1000</td>\n",
       "      <td>52</td>\n",
       "      <td>NaT</td>\n",
       "      <td>Краснодар</td>\n",
       "      <td>Рафаил</td>\n",
       "      <td>Верещагин</td>\n",
       "      <td>2018-05-25</td>\n",
       "      <td>ultra</td>\n",
       "      <td>5</td>\n",
       "      <td>0</td>\n",
       "      <td>3</td>\n",
       "      <td>регион</td>\n",
       "      <td>0</td>\n",
       "      <td>0</td>\n",
       "      <td>0</td>\n",
       "      <td>0</td>\n",
       "      <td>1000</td>\n",
       "      <td>30720</td>\n",
       "      <td>3000</td>\n",
       "      <td>1950</td>\n",
       "      <td>150</td>\n",
       "      <td>1</td>\n",
       "      <td>1</td>\n",
       "      <td>30</td>\n",
       "    </tr>\n",
       "    <tr>\n",
       "      <td>3</td>\n",
       "      <td>1000</td>\n",
       "      <td>52</td>\n",
       "      <td>NaT</td>\n",
       "      <td>Краснодар</td>\n",
       "      <td>Рафаил</td>\n",
       "      <td>Верещагин</td>\n",
       "      <td>2018-05-25</td>\n",
       "      <td>ultra</td>\n",
       "      <td>5</td>\n",
       "      <td>0</td>\n",
       "      <td>4</td>\n",
       "      <td>регион</td>\n",
       "      <td>0</td>\n",
       "      <td>0</td>\n",
       "      <td>0</td>\n",
       "      <td>0</td>\n",
       "      <td>1000</td>\n",
       "      <td>30720</td>\n",
       "      <td>3000</td>\n",
       "      <td>1950</td>\n",
       "      <td>150</td>\n",
       "      <td>1</td>\n",
       "      <td>1</td>\n",
       "      <td>30</td>\n",
       "    </tr>\n",
       "    <tr>\n",
       "      <td>4</td>\n",
       "      <td>1000</td>\n",
       "      <td>52</td>\n",
       "      <td>NaT</td>\n",
       "      <td>Краснодар</td>\n",
       "      <td>Рафаил</td>\n",
       "      <td>Верещагин</td>\n",
       "      <td>2018-05-25</td>\n",
       "      <td>ultra</td>\n",
       "      <td>5</td>\n",
       "      <td>0</td>\n",
       "      <td>5</td>\n",
       "      <td>регион</td>\n",
       "      <td>22</td>\n",
       "      <td>159</td>\n",
       "      <td>22</td>\n",
       "      <td>3</td>\n",
       "      <td>1000</td>\n",
       "      <td>30720</td>\n",
       "      <td>3000</td>\n",
       "      <td>1950</td>\n",
       "      <td>150</td>\n",
       "      <td>1</td>\n",
       "      <td>1</td>\n",
       "      <td>30</td>\n",
       "    </tr>\n",
       "    <tr>\n",
       "      <td>...</td>\n",
       "      <td>...</td>\n",
       "      <td>...</td>\n",
       "      <td>...</td>\n",
       "      <td>...</td>\n",
       "      <td>...</td>\n",
       "      <td>...</td>\n",
       "      <td>...</td>\n",
       "      <td>...</td>\n",
       "      <td>...</td>\n",
       "      <td>...</td>\n",
       "      <td>...</td>\n",
       "      <td>...</td>\n",
       "      <td>...</td>\n",
       "      <td>...</td>\n",
       "      <td>...</td>\n",
       "      <td>...</td>\n",
       "      <td>...</td>\n",
       "      <td>...</td>\n",
       "      <td>...</td>\n",
       "      <td>...</td>\n",
       "      <td>...</td>\n",
       "      <td>...</td>\n",
       "      <td>...</td>\n",
       "      <td>...</td>\n",
       "    </tr>\n",
       "    <tr>\n",
       "      <td>5995</td>\n",
       "      <td>1499</td>\n",
       "      <td>35</td>\n",
       "      <td>NaT</td>\n",
       "      <td>Пермь</td>\n",
       "      <td>Гектор</td>\n",
       "      <td>Корнилов</td>\n",
       "      <td>2018-09-27</td>\n",
       "      <td>smart</td>\n",
       "      <td>9</td>\n",
       "      <td>0</td>\n",
       "      <td>8</td>\n",
       "      <td>регион</td>\n",
       "      <td>0</td>\n",
       "      <td>0</td>\n",
       "      <td>0</td>\n",
       "      <td>0</td>\n",
       "      <td>50</td>\n",
       "      <td>15360</td>\n",
       "      <td>500</td>\n",
       "      <td>550</td>\n",
       "      <td>200</td>\n",
       "      <td>3</td>\n",
       "      <td>3</td>\n",
       "      <td>15</td>\n",
       "    </tr>\n",
       "    <tr>\n",
       "      <td>5996</td>\n",
       "      <td>1499</td>\n",
       "      <td>35</td>\n",
       "      <td>NaT</td>\n",
       "      <td>Пермь</td>\n",
       "      <td>Гектор</td>\n",
       "      <td>Корнилов</td>\n",
       "      <td>2018-09-27</td>\n",
       "      <td>smart</td>\n",
       "      <td>9</td>\n",
       "      <td>0</td>\n",
       "      <td>9</td>\n",
       "      <td>регион</td>\n",
       "      <td>9</td>\n",
       "      <td>70</td>\n",
       "      <td>11</td>\n",
       "      <td>2</td>\n",
       "      <td>50</td>\n",
       "      <td>15360</td>\n",
       "      <td>500</td>\n",
       "      <td>550</td>\n",
       "      <td>200</td>\n",
       "      <td>3</td>\n",
       "      <td>3</td>\n",
       "      <td>15</td>\n",
       "    </tr>\n",
       "    <tr>\n",
       "      <td>5997</td>\n",
       "      <td>1499</td>\n",
       "      <td>35</td>\n",
       "      <td>NaT</td>\n",
       "      <td>Пермь</td>\n",
       "      <td>Гектор</td>\n",
       "      <td>Корнилов</td>\n",
       "      <td>2018-09-27</td>\n",
       "      <td>smart</td>\n",
       "      <td>9</td>\n",
       "      <td>0</td>\n",
       "      <td>10</td>\n",
       "      <td>регион</td>\n",
       "      <td>68</td>\n",
       "      <td>449</td>\n",
       "      <td>48</td>\n",
       "      <td>18</td>\n",
       "      <td>50</td>\n",
       "      <td>15360</td>\n",
       "      <td>500</td>\n",
       "      <td>550</td>\n",
       "      <td>200</td>\n",
       "      <td>3</td>\n",
       "      <td>3</td>\n",
       "      <td>15</td>\n",
       "    </tr>\n",
       "    <tr>\n",
       "      <td>5998</td>\n",
       "      <td>1499</td>\n",
       "      <td>35</td>\n",
       "      <td>NaT</td>\n",
       "      <td>Пермь</td>\n",
       "      <td>Гектор</td>\n",
       "      <td>Корнилов</td>\n",
       "      <td>2018-09-27</td>\n",
       "      <td>smart</td>\n",
       "      <td>9</td>\n",
       "      <td>0</td>\n",
       "      <td>11</td>\n",
       "      <td>регион</td>\n",
       "      <td>74</td>\n",
       "      <td>612</td>\n",
       "      <td>59</td>\n",
       "      <td>18</td>\n",
       "      <td>50</td>\n",
       "      <td>15360</td>\n",
       "      <td>500</td>\n",
       "      <td>550</td>\n",
       "      <td>200</td>\n",
       "      <td>3</td>\n",
       "      <td>3</td>\n",
       "      <td>15</td>\n",
       "    </tr>\n",
       "    <tr>\n",
       "      <td>5999</td>\n",
       "      <td>1499</td>\n",
       "      <td>35</td>\n",
       "      <td>NaT</td>\n",
       "      <td>Пермь</td>\n",
       "      <td>Гектор</td>\n",
       "      <td>Корнилов</td>\n",
       "      <td>2018-09-27</td>\n",
       "      <td>smart</td>\n",
       "      <td>9</td>\n",
       "      <td>0</td>\n",
       "      <td>12</td>\n",
       "      <td>регион</td>\n",
       "      <td>69</td>\n",
       "      <td>492</td>\n",
       "      <td>66</td>\n",
       "      <td>13</td>\n",
       "      <td>50</td>\n",
       "      <td>15360</td>\n",
       "      <td>500</td>\n",
       "      <td>550</td>\n",
       "      <td>200</td>\n",
       "      <td>3</td>\n",
       "      <td>3</td>\n",
       "      <td>15</td>\n",
       "    </tr>\n",
       "  </tbody>\n",
       "</table>\n",
       "<p>6000 rows × 24 columns</p>\n",
       "</div>"
      ],
      "text/plain": [
       "      user_id  age churn_date       city first_name  last_name   reg_date  \\\n",
       "0        1000   52        NaT  Краснодар     Рафаил  Верещагин 2018-05-25   \n",
       "1        1000   52        NaT  Краснодар     Рафаил  Верещагин 2018-05-25   \n",
       "2        1000   52        NaT  Краснодар     Рафаил  Верещагин 2018-05-25   \n",
       "3        1000   52        NaT  Краснодар     Рафаил  Верещагин 2018-05-25   \n",
       "4        1000   52        NaT  Краснодар     Рафаил  Верещагин 2018-05-25   \n",
       "...       ...  ...        ...        ...        ...        ...        ...   \n",
       "5995     1499   35        NaT      Пермь     Гектор   Корнилов 2018-09-27   \n",
       "5996     1499   35        NaT      Пермь     Гектор   Корнилов 2018-09-27   \n",
       "5997     1499   35        NaT      Пермь     Гектор   Корнилов 2018-09-27   \n",
       "5998     1499   35        NaT      Пермь     Гектор   Корнилов 2018-09-27   \n",
       "5999     1499   35        NaT      Пермь     Гектор   Корнилов 2018-09-27   \n",
       "\n",
       "     tariff  reg_month  churn_month  month  region  calls_count  calls_sum  \\\n",
       "0     ultra          5            0      1  регион            0          0   \n",
       "1     ultra          5            0      2  регион            0          0   \n",
       "2     ultra          5            0      3  регион            0          0   \n",
       "3     ultra          5            0      4  регион            0          0   \n",
       "4     ultra          5            0      5  регион           22        159   \n",
       "...     ...        ...          ...    ...     ...          ...        ...   \n",
       "5995  smart          9            0      8  регион            0          0   \n",
       "5996  smart          9            0      9  регион            9         70   \n",
       "5997  smart          9            0     10  регион           68        449   \n",
       "5998  smart          9            0     11  регион           74        612   \n",
       "5999  smart          9            0     12  регион           69        492   \n",
       "\n",
       "      messages_count  gb_used  messages_included  mb_per_month_included  \\\n",
       "0                  0        0               1000                  30720   \n",
       "1                  0        0               1000                  30720   \n",
       "2                  0        0               1000                  30720   \n",
       "3                  0        0               1000                  30720   \n",
       "4                 22        3               1000                  30720   \n",
       "...              ...      ...                ...                    ...   \n",
       "5995               0        0                 50                  15360   \n",
       "5996              11        2                 50                  15360   \n",
       "5997              48       18                 50                  15360   \n",
       "5998              59       18                 50                  15360   \n",
       "5999              66       13                 50                  15360   \n",
       "\n",
       "      minutes_included  rub_monthly_fee  rub_per_gb  rub_per_message  \\\n",
       "0                 3000             1950         150                1   \n",
       "1                 3000             1950         150                1   \n",
       "2                 3000             1950         150                1   \n",
       "3                 3000             1950         150                1   \n",
       "4                 3000             1950         150                1   \n",
       "...                ...              ...         ...              ...   \n",
       "5995               500              550         200                3   \n",
       "5996               500              550         200                3   \n",
       "5997               500              550         200                3   \n",
       "5998               500              550         200                3   \n",
       "5999               500              550         200                3   \n",
       "\n",
       "      rub_per_minute  gb_included  \n",
       "0                  1           30  \n",
       "1                  1           30  \n",
       "2                  1           30  \n",
       "3                  1           30  \n",
       "4                  1           30  \n",
       "...              ...          ...  \n",
       "5995               3           15  \n",
       "5996               3           15  \n",
       "5997               3           15  \n",
       "5998               3           15  \n",
       "5999               3           15  \n",
       "\n",
       "[6000 rows x 24 columns]"
      ]
     },
     "execution_count": 55,
     "metadata": {},
     "output_type": "execute_result"
    }
   ],
   "source": [
    "# изменение типа данных\n",
    "df_all['churn_month'] = df_all['churn_month'].astype('int32')\n",
    "df_all"
   ]
  },
  {
   "cell_type": "markdown",
   "metadata": {},
   "source": [
    "**Выводы**\n",
    "\n",
    "Объединены все таблицы, данные подготовлены для дальнейших рассчетов."
   ]
  },
  {
   "cell_type": "markdown",
   "metadata": {},
   "source": [
    "### Помесячная выручка с каждого пользователя "
   ]
  },
  {
   "cell_type": "markdown",
   "metadata": {},
   "source": [
    "Добавлю столбцы с превышением бесплатных лимитов израсходованных минут, СМС и интернет-трафика. Если лимит не превышен, проставлю значение 0. Если превышен, будет подсчитана разница между лимитом, входящим в тариф, и превышенным."
   ]
  },
  {
   "cell_type": "code",
   "execution_count": 56,
   "metadata": {},
   "outputs": [],
   "source": [
    "# рассчет превышения лимитов\n",
    "df_all['calls_sum_delta'] = np.where(df_all['calls_sum'] > df_all['minutes_included'],\\\n",
    "                                df_all['calls_sum'] - df_all['minutes_included'], 0)\n",
    "df_all['messages_count_delta'] = np.where(df_all['messages_count'] > df_all['messages_included'],\\\n",
    "                                df_all['messages_count'] - df_all['messages_included'], 0)\n",
    "df_all['gb_used_delta'] = np.where(df_all['gb_used'] > df_all['gb_included'],\\\n",
    "                               np.ceil(df_all['gb_used'] - df_all['gb_included']), 0)"
   ]
  },
  {
   "cell_type": "markdown",
   "metadata": {},
   "source": [
    "Проверю добавление столбцов."
   ]
  },
  {
   "cell_type": "code",
   "execution_count": 57,
   "metadata": {
    "scrolled": true
   },
   "outputs": [
    {
     "data": {
      "text/html": [
       "<div>\n",
       "<style scoped>\n",
       "    .dataframe tbody tr th:only-of-type {\n",
       "        vertical-align: middle;\n",
       "    }\n",
       "\n",
       "    .dataframe tbody tr th {\n",
       "        vertical-align: top;\n",
       "    }\n",
       "\n",
       "    .dataframe thead th {\n",
       "        text-align: right;\n",
       "    }\n",
       "</style>\n",
       "<table border=\"1\" class=\"dataframe\">\n",
       "  <thead>\n",
       "    <tr style=\"text-align: right;\">\n",
       "      <th></th>\n",
       "      <th>user_id</th>\n",
       "      <th>age</th>\n",
       "      <th>churn_date</th>\n",
       "      <th>city</th>\n",
       "      <th>first_name</th>\n",
       "      <th>last_name</th>\n",
       "      <th>reg_date</th>\n",
       "      <th>tariff</th>\n",
       "      <th>reg_month</th>\n",
       "      <th>churn_month</th>\n",
       "      <th>month</th>\n",
       "      <th>region</th>\n",
       "      <th>calls_count</th>\n",
       "      <th>calls_sum</th>\n",
       "      <th>messages_count</th>\n",
       "      <th>gb_used</th>\n",
       "      <th>messages_included</th>\n",
       "      <th>mb_per_month_included</th>\n",
       "      <th>minutes_included</th>\n",
       "      <th>rub_monthly_fee</th>\n",
       "      <th>rub_per_gb</th>\n",
       "      <th>rub_per_message</th>\n",
       "      <th>rub_per_minute</th>\n",
       "      <th>gb_included</th>\n",
       "      <th>calls_sum_delta</th>\n",
       "      <th>messages_count_delta</th>\n",
       "      <th>gb_used_delta</th>\n",
       "    </tr>\n",
       "  </thead>\n",
       "  <tbody>\n",
       "    <tr>\n",
       "      <td>0</td>\n",
       "      <td>1000</td>\n",
       "      <td>52</td>\n",
       "      <td>NaT</td>\n",
       "      <td>Краснодар</td>\n",
       "      <td>Рафаил</td>\n",
       "      <td>Верещагин</td>\n",
       "      <td>2018-05-25</td>\n",
       "      <td>ultra</td>\n",
       "      <td>5</td>\n",
       "      <td>0</td>\n",
       "      <td>1</td>\n",
       "      <td>регион</td>\n",
       "      <td>0</td>\n",
       "      <td>0</td>\n",
       "      <td>0</td>\n",
       "      <td>0</td>\n",
       "      <td>1000</td>\n",
       "      <td>30720</td>\n",
       "      <td>3000</td>\n",
       "      <td>1950</td>\n",
       "      <td>150</td>\n",
       "      <td>1</td>\n",
       "      <td>1</td>\n",
       "      <td>30</td>\n",
       "      <td>0</td>\n",
       "      <td>0</td>\n",
       "      <td>0</td>\n",
       "    </tr>\n",
       "    <tr>\n",
       "      <td>1</td>\n",
       "      <td>1000</td>\n",
       "      <td>52</td>\n",
       "      <td>NaT</td>\n",
       "      <td>Краснодар</td>\n",
       "      <td>Рафаил</td>\n",
       "      <td>Верещагин</td>\n",
       "      <td>2018-05-25</td>\n",
       "      <td>ultra</td>\n",
       "      <td>5</td>\n",
       "      <td>0</td>\n",
       "      <td>2</td>\n",
       "      <td>регион</td>\n",
       "      <td>0</td>\n",
       "      <td>0</td>\n",
       "      <td>0</td>\n",
       "      <td>0</td>\n",
       "      <td>1000</td>\n",
       "      <td>30720</td>\n",
       "      <td>3000</td>\n",
       "      <td>1950</td>\n",
       "      <td>150</td>\n",
       "      <td>1</td>\n",
       "      <td>1</td>\n",
       "      <td>30</td>\n",
       "      <td>0</td>\n",
       "      <td>0</td>\n",
       "      <td>0</td>\n",
       "    </tr>\n",
       "    <tr>\n",
       "      <td>2</td>\n",
       "      <td>1000</td>\n",
       "      <td>52</td>\n",
       "      <td>NaT</td>\n",
       "      <td>Краснодар</td>\n",
       "      <td>Рафаил</td>\n",
       "      <td>Верещагин</td>\n",
       "      <td>2018-05-25</td>\n",
       "      <td>ultra</td>\n",
       "      <td>5</td>\n",
       "      <td>0</td>\n",
       "      <td>3</td>\n",
       "      <td>регион</td>\n",
       "      <td>0</td>\n",
       "      <td>0</td>\n",
       "      <td>0</td>\n",
       "      <td>0</td>\n",
       "      <td>1000</td>\n",
       "      <td>30720</td>\n",
       "      <td>3000</td>\n",
       "      <td>1950</td>\n",
       "      <td>150</td>\n",
       "      <td>1</td>\n",
       "      <td>1</td>\n",
       "      <td>30</td>\n",
       "      <td>0</td>\n",
       "      <td>0</td>\n",
       "      <td>0</td>\n",
       "    </tr>\n",
       "    <tr>\n",
       "      <td>3</td>\n",
       "      <td>1000</td>\n",
       "      <td>52</td>\n",
       "      <td>NaT</td>\n",
       "      <td>Краснодар</td>\n",
       "      <td>Рафаил</td>\n",
       "      <td>Верещагин</td>\n",
       "      <td>2018-05-25</td>\n",
       "      <td>ultra</td>\n",
       "      <td>5</td>\n",
       "      <td>0</td>\n",
       "      <td>4</td>\n",
       "      <td>регион</td>\n",
       "      <td>0</td>\n",
       "      <td>0</td>\n",
       "      <td>0</td>\n",
       "      <td>0</td>\n",
       "      <td>1000</td>\n",
       "      <td>30720</td>\n",
       "      <td>3000</td>\n",
       "      <td>1950</td>\n",
       "      <td>150</td>\n",
       "      <td>1</td>\n",
       "      <td>1</td>\n",
       "      <td>30</td>\n",
       "      <td>0</td>\n",
       "      <td>0</td>\n",
       "      <td>0</td>\n",
       "    </tr>\n",
       "    <tr>\n",
       "      <td>4</td>\n",
       "      <td>1000</td>\n",
       "      <td>52</td>\n",
       "      <td>NaT</td>\n",
       "      <td>Краснодар</td>\n",
       "      <td>Рафаил</td>\n",
       "      <td>Верещагин</td>\n",
       "      <td>2018-05-25</td>\n",
       "      <td>ultra</td>\n",
       "      <td>5</td>\n",
       "      <td>0</td>\n",
       "      <td>5</td>\n",
       "      <td>регион</td>\n",
       "      <td>22</td>\n",
       "      <td>159</td>\n",
       "      <td>22</td>\n",
       "      <td>3</td>\n",
       "      <td>1000</td>\n",
       "      <td>30720</td>\n",
       "      <td>3000</td>\n",
       "      <td>1950</td>\n",
       "      <td>150</td>\n",
       "      <td>1</td>\n",
       "      <td>1</td>\n",
       "      <td>30</td>\n",
       "      <td>0</td>\n",
       "      <td>0</td>\n",
       "      <td>0</td>\n",
       "    </tr>\n",
       "  </tbody>\n",
       "</table>\n",
       "</div>"
      ],
      "text/plain": [
       "   user_id  age churn_date       city first_name  last_name   reg_date tariff  \\\n",
       "0     1000   52        NaT  Краснодар     Рафаил  Верещагин 2018-05-25  ultra   \n",
       "1     1000   52        NaT  Краснодар     Рафаил  Верещагин 2018-05-25  ultra   \n",
       "2     1000   52        NaT  Краснодар     Рафаил  Верещагин 2018-05-25  ultra   \n",
       "3     1000   52        NaT  Краснодар     Рафаил  Верещагин 2018-05-25  ultra   \n",
       "4     1000   52        NaT  Краснодар     Рафаил  Верещагин 2018-05-25  ultra   \n",
       "\n",
       "   reg_month  churn_month  month  region  calls_count  calls_sum  \\\n",
       "0          5            0      1  регион            0          0   \n",
       "1          5            0      2  регион            0          0   \n",
       "2          5            0      3  регион            0          0   \n",
       "3          5            0      4  регион            0          0   \n",
       "4          5            0      5  регион           22        159   \n",
       "\n",
       "   messages_count  gb_used  messages_included  mb_per_month_included  \\\n",
       "0               0        0               1000                  30720   \n",
       "1               0        0               1000                  30720   \n",
       "2               0        0               1000                  30720   \n",
       "3               0        0               1000                  30720   \n",
       "4              22        3               1000                  30720   \n",
       "\n",
       "   minutes_included  rub_monthly_fee  rub_per_gb  rub_per_message  \\\n",
       "0              3000             1950         150                1   \n",
       "1              3000             1950         150                1   \n",
       "2              3000             1950         150                1   \n",
       "3              3000             1950         150                1   \n",
       "4              3000             1950         150                1   \n",
       "\n",
       "   rub_per_minute  gb_included  calls_sum_delta  messages_count_delta  \\\n",
       "0               1           30                0                     0   \n",
       "1               1           30                0                     0   \n",
       "2               1           30                0                     0   \n",
       "3               1           30                0                     0   \n",
       "4               1           30                0                     0   \n",
       "\n",
       "   gb_used_delta  \n",
       "0              0  \n",
       "1              0  \n",
       "2              0  \n",
       "3              0  \n",
       "4              0  "
      ]
     },
     "execution_count": 57,
     "metadata": {},
     "output_type": "execute_result"
    }
   ],
   "source": [
    "df_all.head()"
   ]
  },
  {
   "cell_type": "markdown",
   "metadata": {},
   "source": [
    "Рассчитаю выручку по каждому клиенту помесячно. Для этого прибавлю к ежемесячному платежу все превышения лимитов в рублях с учетом тарифа."
   ]
  },
  {
   "cell_type": "code",
   "execution_count": 58,
   "metadata": {},
   "outputs": [
    {
     "data": {
      "text/html": [
       "<div>\n",
       "<style scoped>\n",
       "    .dataframe tbody tr th:only-of-type {\n",
       "        vertical-align: middle;\n",
       "    }\n",
       "\n",
       "    .dataframe tbody tr th {\n",
       "        vertical-align: top;\n",
       "    }\n",
       "\n",
       "    .dataframe thead th {\n",
       "        text-align: right;\n",
       "    }\n",
       "</style>\n",
       "<table border=\"1\" class=\"dataframe\">\n",
       "  <thead>\n",
       "    <tr style=\"text-align: right;\">\n",
       "      <th></th>\n",
       "      <th>user_id</th>\n",
       "      <th>age</th>\n",
       "      <th>churn_date</th>\n",
       "      <th>city</th>\n",
       "      <th>first_name</th>\n",
       "      <th>last_name</th>\n",
       "      <th>reg_date</th>\n",
       "      <th>tariff</th>\n",
       "      <th>reg_month</th>\n",
       "      <th>churn_month</th>\n",
       "      <th>month</th>\n",
       "      <th>region</th>\n",
       "      <th>calls_count</th>\n",
       "      <th>calls_sum</th>\n",
       "      <th>messages_count</th>\n",
       "      <th>gb_used</th>\n",
       "      <th>messages_included</th>\n",
       "      <th>mb_per_month_included</th>\n",
       "      <th>minutes_included</th>\n",
       "      <th>rub_monthly_fee</th>\n",
       "      <th>rub_per_gb</th>\n",
       "      <th>rub_per_message</th>\n",
       "      <th>rub_per_minute</th>\n",
       "      <th>gb_included</th>\n",
       "      <th>calls_sum_delta</th>\n",
       "      <th>messages_count_delta</th>\n",
       "      <th>gb_used_delta</th>\n",
       "      <th>revenue</th>\n",
       "    </tr>\n",
       "  </thead>\n",
       "  <tbody>\n",
       "    <tr>\n",
       "      <td>0</td>\n",
       "      <td>1000</td>\n",
       "      <td>52</td>\n",
       "      <td>NaT</td>\n",
       "      <td>Краснодар</td>\n",
       "      <td>Рафаил</td>\n",
       "      <td>Верещагин</td>\n",
       "      <td>2018-05-25</td>\n",
       "      <td>ultra</td>\n",
       "      <td>5</td>\n",
       "      <td>0</td>\n",
       "      <td>1</td>\n",
       "      <td>регион</td>\n",
       "      <td>0</td>\n",
       "      <td>0</td>\n",
       "      <td>0</td>\n",
       "      <td>0</td>\n",
       "      <td>1000</td>\n",
       "      <td>30720</td>\n",
       "      <td>3000</td>\n",
       "      <td>1950</td>\n",
       "      <td>150</td>\n",
       "      <td>1</td>\n",
       "      <td>1</td>\n",
       "      <td>30</td>\n",
       "      <td>0</td>\n",
       "      <td>0</td>\n",
       "      <td>0</td>\n",
       "      <td>1,950</td>\n",
       "    </tr>\n",
       "    <tr>\n",
       "      <td>1</td>\n",
       "      <td>1000</td>\n",
       "      <td>52</td>\n",
       "      <td>NaT</td>\n",
       "      <td>Краснодар</td>\n",
       "      <td>Рафаил</td>\n",
       "      <td>Верещагин</td>\n",
       "      <td>2018-05-25</td>\n",
       "      <td>ultra</td>\n",
       "      <td>5</td>\n",
       "      <td>0</td>\n",
       "      <td>2</td>\n",
       "      <td>регион</td>\n",
       "      <td>0</td>\n",
       "      <td>0</td>\n",
       "      <td>0</td>\n",
       "      <td>0</td>\n",
       "      <td>1000</td>\n",
       "      <td>30720</td>\n",
       "      <td>3000</td>\n",
       "      <td>1950</td>\n",
       "      <td>150</td>\n",
       "      <td>1</td>\n",
       "      <td>1</td>\n",
       "      <td>30</td>\n",
       "      <td>0</td>\n",
       "      <td>0</td>\n",
       "      <td>0</td>\n",
       "      <td>1,950</td>\n",
       "    </tr>\n",
       "    <tr>\n",
       "      <td>2</td>\n",
       "      <td>1000</td>\n",
       "      <td>52</td>\n",
       "      <td>NaT</td>\n",
       "      <td>Краснодар</td>\n",
       "      <td>Рафаил</td>\n",
       "      <td>Верещагин</td>\n",
       "      <td>2018-05-25</td>\n",
       "      <td>ultra</td>\n",
       "      <td>5</td>\n",
       "      <td>0</td>\n",
       "      <td>3</td>\n",
       "      <td>регион</td>\n",
       "      <td>0</td>\n",
       "      <td>0</td>\n",
       "      <td>0</td>\n",
       "      <td>0</td>\n",
       "      <td>1000</td>\n",
       "      <td>30720</td>\n",
       "      <td>3000</td>\n",
       "      <td>1950</td>\n",
       "      <td>150</td>\n",
       "      <td>1</td>\n",
       "      <td>1</td>\n",
       "      <td>30</td>\n",
       "      <td>0</td>\n",
       "      <td>0</td>\n",
       "      <td>0</td>\n",
       "      <td>1,950</td>\n",
       "    </tr>\n",
       "    <tr>\n",
       "      <td>3</td>\n",
       "      <td>1000</td>\n",
       "      <td>52</td>\n",
       "      <td>NaT</td>\n",
       "      <td>Краснодар</td>\n",
       "      <td>Рафаил</td>\n",
       "      <td>Верещагин</td>\n",
       "      <td>2018-05-25</td>\n",
       "      <td>ultra</td>\n",
       "      <td>5</td>\n",
       "      <td>0</td>\n",
       "      <td>4</td>\n",
       "      <td>регион</td>\n",
       "      <td>0</td>\n",
       "      <td>0</td>\n",
       "      <td>0</td>\n",
       "      <td>0</td>\n",
       "      <td>1000</td>\n",
       "      <td>30720</td>\n",
       "      <td>3000</td>\n",
       "      <td>1950</td>\n",
       "      <td>150</td>\n",
       "      <td>1</td>\n",
       "      <td>1</td>\n",
       "      <td>30</td>\n",
       "      <td>0</td>\n",
       "      <td>0</td>\n",
       "      <td>0</td>\n",
       "      <td>1,950</td>\n",
       "    </tr>\n",
       "    <tr>\n",
       "      <td>4</td>\n",
       "      <td>1000</td>\n",
       "      <td>52</td>\n",
       "      <td>NaT</td>\n",
       "      <td>Краснодар</td>\n",
       "      <td>Рафаил</td>\n",
       "      <td>Верещагин</td>\n",
       "      <td>2018-05-25</td>\n",
       "      <td>ultra</td>\n",
       "      <td>5</td>\n",
       "      <td>0</td>\n",
       "      <td>5</td>\n",
       "      <td>регион</td>\n",
       "      <td>22</td>\n",
       "      <td>159</td>\n",
       "      <td>22</td>\n",
       "      <td>3</td>\n",
       "      <td>1000</td>\n",
       "      <td>30720</td>\n",
       "      <td>3000</td>\n",
       "      <td>1950</td>\n",
       "      <td>150</td>\n",
       "      <td>1</td>\n",
       "      <td>1</td>\n",
       "      <td>30</td>\n",
       "      <td>0</td>\n",
       "      <td>0</td>\n",
       "      <td>0</td>\n",
       "      <td>1,950</td>\n",
       "    </tr>\n",
       "  </tbody>\n",
       "</table>\n",
       "</div>"
      ],
      "text/plain": [
       "   user_id  age churn_date       city first_name  last_name   reg_date tariff  \\\n",
       "0     1000   52        NaT  Краснодар     Рафаил  Верещагин 2018-05-25  ultra   \n",
       "1     1000   52        NaT  Краснодар     Рафаил  Верещагин 2018-05-25  ultra   \n",
       "2     1000   52        NaT  Краснодар     Рафаил  Верещагин 2018-05-25  ultra   \n",
       "3     1000   52        NaT  Краснодар     Рафаил  Верещагин 2018-05-25  ultra   \n",
       "4     1000   52        NaT  Краснодар     Рафаил  Верещагин 2018-05-25  ultra   \n",
       "\n",
       "   reg_month  churn_month  month  region  calls_count  calls_sum  \\\n",
       "0          5            0      1  регион            0          0   \n",
       "1          5            0      2  регион            0          0   \n",
       "2          5            0      3  регион            0          0   \n",
       "3          5            0      4  регион            0          0   \n",
       "4          5            0      5  регион           22        159   \n",
       "\n",
       "   messages_count  gb_used  messages_included  mb_per_month_included  \\\n",
       "0               0        0               1000                  30720   \n",
       "1               0        0               1000                  30720   \n",
       "2               0        0               1000                  30720   \n",
       "3               0        0               1000                  30720   \n",
       "4              22        3               1000                  30720   \n",
       "\n",
       "   minutes_included  rub_monthly_fee  rub_per_gb  rub_per_message  \\\n",
       "0              3000             1950         150                1   \n",
       "1              3000             1950         150                1   \n",
       "2              3000             1950         150                1   \n",
       "3              3000             1950         150                1   \n",
       "4              3000             1950         150                1   \n",
       "\n",
       "   rub_per_minute  gb_included  calls_sum_delta  messages_count_delta  \\\n",
       "0               1           30                0                     0   \n",
       "1               1           30                0                     0   \n",
       "2               1           30                0                     0   \n",
       "3               1           30                0                     0   \n",
       "4               1           30                0                     0   \n",
       "\n",
       "   gb_used_delta  revenue  \n",
       "0              0    1,950  \n",
       "1              0    1,950  \n",
       "2              0    1,950  \n",
       "3              0    1,950  \n",
       "4              0    1,950  "
      ]
     },
     "execution_count": 58,
     "metadata": {},
     "output_type": "execute_result"
    }
   ],
   "source": [
    "# рассчет выручки\n",
    "df_all['revenue'] = df_all['calls_sum_delta'] * df_all['rub_per_minute']\\\n",
    "            + df_all['messages_count_delta'] * df_all['rub_per_message']\\\n",
    "            + df_all['gb_used_delta'] * df_all['rub_per_gb']\\\n",
    "            + df_all['rub_monthly_fee']\n",
    "df_all.head()"
   ]
  },
  {
   "cell_type": "markdown",
   "metadata": {},
   "source": [
    "Разумеется, что пока подсчитана ежемесячная выручка без учета месяца подписания и расторжения договора. Изменю в столбце `revenue` значение на 0 в тех строках, где:\n",
    "\n",
    "- значение столбца `month` меньше месяца заключения договора\n",
    "- значение столбца `month` больше месяца расторжения договора и равно 0"
   ]
  },
  {
   "cell_type": "code",
   "execution_count": 59,
   "metadata": {},
   "outputs": [],
   "source": [
    "# присвоение значения 0 с условиями\n",
    "df_all.loc[(df_all.reg_month > df_all.month),'revenue'] = 0\n",
    "df_all.loc[(df_all.churn_month < df_all.month)&(df_all.churn_month != 0.0), 'revenue'] = 0"
   ]
  },
  {
   "cell_type": "markdown",
   "metadata": {},
   "source": [
    "Проверю изменения в столбце `revenue` на 0."
   ]
  },
  {
   "cell_type": "code",
   "execution_count": 60,
   "metadata": {},
   "outputs": [
    {
     "data": {
      "text/html": [
       "<div>\n",
       "<style scoped>\n",
       "    .dataframe tbody tr th:only-of-type {\n",
       "        vertical-align: middle;\n",
       "    }\n",
       "\n",
       "    .dataframe tbody tr th {\n",
       "        vertical-align: top;\n",
       "    }\n",
       "\n",
       "    .dataframe thead th {\n",
       "        text-align: right;\n",
       "    }\n",
       "</style>\n",
       "<table border=\"1\" class=\"dataframe\">\n",
       "  <thead>\n",
       "    <tr style=\"text-align: right;\">\n",
       "      <th></th>\n",
       "      <th>user_id</th>\n",
       "      <th>age</th>\n",
       "      <th>churn_date</th>\n",
       "      <th>city</th>\n",
       "      <th>first_name</th>\n",
       "      <th>last_name</th>\n",
       "      <th>reg_date</th>\n",
       "      <th>tariff</th>\n",
       "      <th>reg_month</th>\n",
       "      <th>churn_month</th>\n",
       "      <th>month</th>\n",
       "      <th>region</th>\n",
       "      <th>calls_count</th>\n",
       "      <th>calls_sum</th>\n",
       "      <th>messages_count</th>\n",
       "      <th>gb_used</th>\n",
       "      <th>messages_included</th>\n",
       "      <th>mb_per_month_included</th>\n",
       "      <th>minutes_included</th>\n",
       "      <th>rub_monthly_fee</th>\n",
       "      <th>rub_per_gb</th>\n",
       "      <th>rub_per_message</th>\n",
       "      <th>rub_per_minute</th>\n",
       "      <th>gb_included</th>\n",
       "      <th>calls_sum_delta</th>\n",
       "      <th>messages_count_delta</th>\n",
       "      <th>gb_used_delta</th>\n",
       "      <th>revenue</th>\n",
       "    </tr>\n",
       "  </thead>\n",
       "  <tbody>\n",
       "    <tr>\n",
       "      <td>0</td>\n",
       "      <td>1000</td>\n",
       "      <td>52</td>\n",
       "      <td>NaT</td>\n",
       "      <td>Краснодар</td>\n",
       "      <td>Рафаил</td>\n",
       "      <td>Верещагин</td>\n",
       "      <td>2018-05-25</td>\n",
       "      <td>ultra</td>\n",
       "      <td>5</td>\n",
       "      <td>0</td>\n",
       "      <td>1</td>\n",
       "      <td>регион</td>\n",
       "      <td>0</td>\n",
       "      <td>0</td>\n",
       "      <td>0</td>\n",
       "      <td>0</td>\n",
       "      <td>1000</td>\n",
       "      <td>30720</td>\n",
       "      <td>3000</td>\n",
       "      <td>1950</td>\n",
       "      <td>150</td>\n",
       "      <td>1</td>\n",
       "      <td>1</td>\n",
       "      <td>30</td>\n",
       "      <td>0</td>\n",
       "      <td>0</td>\n",
       "      <td>0</td>\n",
       "      <td>0</td>\n",
       "    </tr>\n",
       "    <tr>\n",
       "      <td>1</td>\n",
       "      <td>1000</td>\n",
       "      <td>52</td>\n",
       "      <td>NaT</td>\n",
       "      <td>Краснодар</td>\n",
       "      <td>Рафаил</td>\n",
       "      <td>Верещагин</td>\n",
       "      <td>2018-05-25</td>\n",
       "      <td>ultra</td>\n",
       "      <td>5</td>\n",
       "      <td>0</td>\n",
       "      <td>2</td>\n",
       "      <td>регион</td>\n",
       "      <td>0</td>\n",
       "      <td>0</td>\n",
       "      <td>0</td>\n",
       "      <td>0</td>\n",
       "      <td>1000</td>\n",
       "      <td>30720</td>\n",
       "      <td>3000</td>\n",
       "      <td>1950</td>\n",
       "      <td>150</td>\n",
       "      <td>1</td>\n",
       "      <td>1</td>\n",
       "      <td>30</td>\n",
       "      <td>0</td>\n",
       "      <td>0</td>\n",
       "      <td>0</td>\n",
       "      <td>0</td>\n",
       "    </tr>\n",
       "    <tr>\n",
       "      <td>2</td>\n",
       "      <td>1000</td>\n",
       "      <td>52</td>\n",
       "      <td>NaT</td>\n",
       "      <td>Краснодар</td>\n",
       "      <td>Рафаил</td>\n",
       "      <td>Верещагин</td>\n",
       "      <td>2018-05-25</td>\n",
       "      <td>ultra</td>\n",
       "      <td>5</td>\n",
       "      <td>0</td>\n",
       "      <td>3</td>\n",
       "      <td>регион</td>\n",
       "      <td>0</td>\n",
       "      <td>0</td>\n",
       "      <td>0</td>\n",
       "      <td>0</td>\n",
       "      <td>1000</td>\n",
       "      <td>30720</td>\n",
       "      <td>3000</td>\n",
       "      <td>1950</td>\n",
       "      <td>150</td>\n",
       "      <td>1</td>\n",
       "      <td>1</td>\n",
       "      <td>30</td>\n",
       "      <td>0</td>\n",
       "      <td>0</td>\n",
       "      <td>0</td>\n",
       "      <td>0</td>\n",
       "    </tr>\n",
       "    <tr>\n",
       "      <td>3</td>\n",
       "      <td>1000</td>\n",
       "      <td>52</td>\n",
       "      <td>NaT</td>\n",
       "      <td>Краснодар</td>\n",
       "      <td>Рафаил</td>\n",
       "      <td>Верещагин</td>\n",
       "      <td>2018-05-25</td>\n",
       "      <td>ultra</td>\n",
       "      <td>5</td>\n",
       "      <td>0</td>\n",
       "      <td>4</td>\n",
       "      <td>регион</td>\n",
       "      <td>0</td>\n",
       "      <td>0</td>\n",
       "      <td>0</td>\n",
       "      <td>0</td>\n",
       "      <td>1000</td>\n",
       "      <td>30720</td>\n",
       "      <td>3000</td>\n",
       "      <td>1950</td>\n",
       "      <td>150</td>\n",
       "      <td>1</td>\n",
       "      <td>1</td>\n",
       "      <td>30</td>\n",
       "      <td>0</td>\n",
       "      <td>0</td>\n",
       "      <td>0</td>\n",
       "      <td>0</td>\n",
       "    </tr>\n",
       "    <tr>\n",
       "      <td>4</td>\n",
       "      <td>1000</td>\n",
       "      <td>52</td>\n",
       "      <td>NaT</td>\n",
       "      <td>Краснодар</td>\n",
       "      <td>Рафаил</td>\n",
       "      <td>Верещагин</td>\n",
       "      <td>2018-05-25</td>\n",
       "      <td>ultra</td>\n",
       "      <td>5</td>\n",
       "      <td>0</td>\n",
       "      <td>5</td>\n",
       "      <td>регион</td>\n",
       "      <td>22</td>\n",
       "      <td>159</td>\n",
       "      <td>22</td>\n",
       "      <td>3</td>\n",
       "      <td>1000</td>\n",
       "      <td>30720</td>\n",
       "      <td>3000</td>\n",
       "      <td>1950</td>\n",
       "      <td>150</td>\n",
       "      <td>1</td>\n",
       "      <td>1</td>\n",
       "      <td>30</td>\n",
       "      <td>0</td>\n",
       "      <td>0</td>\n",
       "      <td>0</td>\n",
       "      <td>1,950</td>\n",
       "    </tr>\n",
       "    <tr>\n",
       "      <td>...</td>\n",
       "      <td>...</td>\n",
       "      <td>...</td>\n",
       "      <td>...</td>\n",
       "      <td>...</td>\n",
       "      <td>...</td>\n",
       "      <td>...</td>\n",
       "      <td>...</td>\n",
       "      <td>...</td>\n",
       "      <td>...</td>\n",
       "      <td>...</td>\n",
       "      <td>...</td>\n",
       "      <td>...</td>\n",
       "      <td>...</td>\n",
       "      <td>...</td>\n",
       "      <td>...</td>\n",
       "      <td>...</td>\n",
       "      <td>...</td>\n",
       "      <td>...</td>\n",
       "      <td>...</td>\n",
       "      <td>...</td>\n",
       "      <td>...</td>\n",
       "      <td>...</td>\n",
       "      <td>...</td>\n",
       "      <td>...</td>\n",
       "      <td>...</td>\n",
       "      <td>...</td>\n",
       "      <td>...</td>\n",
       "      <td>...</td>\n",
       "    </tr>\n",
       "    <tr>\n",
       "      <td>5995</td>\n",
       "      <td>1499</td>\n",
       "      <td>35</td>\n",
       "      <td>NaT</td>\n",
       "      <td>Пермь</td>\n",
       "      <td>Гектор</td>\n",
       "      <td>Корнилов</td>\n",
       "      <td>2018-09-27</td>\n",
       "      <td>smart</td>\n",
       "      <td>9</td>\n",
       "      <td>0</td>\n",
       "      <td>8</td>\n",
       "      <td>регион</td>\n",
       "      <td>0</td>\n",
       "      <td>0</td>\n",
       "      <td>0</td>\n",
       "      <td>0</td>\n",
       "      <td>50</td>\n",
       "      <td>15360</td>\n",
       "      <td>500</td>\n",
       "      <td>550</td>\n",
       "      <td>200</td>\n",
       "      <td>3</td>\n",
       "      <td>3</td>\n",
       "      <td>15</td>\n",
       "      <td>0</td>\n",
       "      <td>0</td>\n",
       "      <td>0</td>\n",
       "      <td>0</td>\n",
       "    </tr>\n",
       "    <tr>\n",
       "      <td>5996</td>\n",
       "      <td>1499</td>\n",
       "      <td>35</td>\n",
       "      <td>NaT</td>\n",
       "      <td>Пермь</td>\n",
       "      <td>Гектор</td>\n",
       "      <td>Корнилов</td>\n",
       "      <td>2018-09-27</td>\n",
       "      <td>smart</td>\n",
       "      <td>9</td>\n",
       "      <td>0</td>\n",
       "      <td>9</td>\n",
       "      <td>регион</td>\n",
       "      <td>9</td>\n",
       "      <td>70</td>\n",
       "      <td>11</td>\n",
       "      <td>2</td>\n",
       "      <td>50</td>\n",
       "      <td>15360</td>\n",
       "      <td>500</td>\n",
       "      <td>550</td>\n",
       "      <td>200</td>\n",
       "      <td>3</td>\n",
       "      <td>3</td>\n",
       "      <td>15</td>\n",
       "      <td>0</td>\n",
       "      <td>0</td>\n",
       "      <td>0</td>\n",
       "      <td>550</td>\n",
       "    </tr>\n",
       "    <tr>\n",
       "      <td>5997</td>\n",
       "      <td>1499</td>\n",
       "      <td>35</td>\n",
       "      <td>NaT</td>\n",
       "      <td>Пермь</td>\n",
       "      <td>Гектор</td>\n",
       "      <td>Корнилов</td>\n",
       "      <td>2018-09-27</td>\n",
       "      <td>smart</td>\n",
       "      <td>9</td>\n",
       "      <td>0</td>\n",
       "      <td>10</td>\n",
       "      <td>регион</td>\n",
       "      <td>68</td>\n",
       "      <td>449</td>\n",
       "      <td>48</td>\n",
       "      <td>18</td>\n",
       "      <td>50</td>\n",
       "      <td>15360</td>\n",
       "      <td>500</td>\n",
       "      <td>550</td>\n",
       "      <td>200</td>\n",
       "      <td>3</td>\n",
       "      <td>3</td>\n",
       "      <td>15</td>\n",
       "      <td>0</td>\n",
       "      <td>0</td>\n",
       "      <td>3</td>\n",
       "      <td>1,150</td>\n",
       "    </tr>\n",
       "    <tr>\n",
       "      <td>5998</td>\n",
       "      <td>1499</td>\n",
       "      <td>35</td>\n",
       "      <td>NaT</td>\n",
       "      <td>Пермь</td>\n",
       "      <td>Гектор</td>\n",
       "      <td>Корнилов</td>\n",
       "      <td>2018-09-27</td>\n",
       "      <td>smart</td>\n",
       "      <td>9</td>\n",
       "      <td>0</td>\n",
       "      <td>11</td>\n",
       "      <td>регион</td>\n",
       "      <td>74</td>\n",
       "      <td>612</td>\n",
       "      <td>59</td>\n",
       "      <td>18</td>\n",
       "      <td>50</td>\n",
       "      <td>15360</td>\n",
       "      <td>500</td>\n",
       "      <td>550</td>\n",
       "      <td>200</td>\n",
       "      <td>3</td>\n",
       "      <td>3</td>\n",
       "      <td>15</td>\n",
       "      <td>112</td>\n",
       "      <td>9</td>\n",
       "      <td>3</td>\n",
       "      <td>1,513</td>\n",
       "    </tr>\n",
       "    <tr>\n",
       "      <td>5999</td>\n",
       "      <td>1499</td>\n",
       "      <td>35</td>\n",
       "      <td>NaT</td>\n",
       "      <td>Пермь</td>\n",
       "      <td>Гектор</td>\n",
       "      <td>Корнилов</td>\n",
       "      <td>2018-09-27</td>\n",
       "      <td>smart</td>\n",
       "      <td>9</td>\n",
       "      <td>0</td>\n",
       "      <td>12</td>\n",
       "      <td>регион</td>\n",
       "      <td>69</td>\n",
       "      <td>492</td>\n",
       "      <td>66</td>\n",
       "      <td>13</td>\n",
       "      <td>50</td>\n",
       "      <td>15360</td>\n",
       "      <td>500</td>\n",
       "      <td>550</td>\n",
       "      <td>200</td>\n",
       "      <td>3</td>\n",
       "      <td>3</td>\n",
       "      <td>15</td>\n",
       "      <td>0</td>\n",
       "      <td>16</td>\n",
       "      <td>0</td>\n",
       "      <td>598</td>\n",
       "    </tr>\n",
       "  </tbody>\n",
       "</table>\n",
       "<p>6000 rows × 28 columns</p>\n",
       "</div>"
      ],
      "text/plain": [
       "      user_id  age churn_date       city first_name  last_name   reg_date  \\\n",
       "0        1000   52        NaT  Краснодар     Рафаил  Верещагин 2018-05-25   \n",
       "1        1000   52        NaT  Краснодар     Рафаил  Верещагин 2018-05-25   \n",
       "2        1000   52        NaT  Краснодар     Рафаил  Верещагин 2018-05-25   \n",
       "3        1000   52        NaT  Краснодар     Рафаил  Верещагин 2018-05-25   \n",
       "4        1000   52        NaT  Краснодар     Рафаил  Верещагин 2018-05-25   \n",
       "...       ...  ...        ...        ...        ...        ...        ...   \n",
       "5995     1499   35        NaT      Пермь     Гектор   Корнилов 2018-09-27   \n",
       "5996     1499   35        NaT      Пермь     Гектор   Корнилов 2018-09-27   \n",
       "5997     1499   35        NaT      Пермь     Гектор   Корнилов 2018-09-27   \n",
       "5998     1499   35        NaT      Пермь     Гектор   Корнилов 2018-09-27   \n",
       "5999     1499   35        NaT      Пермь     Гектор   Корнилов 2018-09-27   \n",
       "\n",
       "     tariff  reg_month  churn_month  month  region  calls_count  calls_sum  \\\n",
       "0     ultra          5            0      1  регион            0          0   \n",
       "1     ultra          5            0      2  регион            0          0   \n",
       "2     ultra          5            0      3  регион            0          0   \n",
       "3     ultra          5            0      4  регион            0          0   \n",
       "4     ultra          5            0      5  регион           22        159   \n",
       "...     ...        ...          ...    ...     ...          ...        ...   \n",
       "5995  smart          9            0      8  регион            0          0   \n",
       "5996  smart          9            0      9  регион            9         70   \n",
       "5997  smart          9            0     10  регион           68        449   \n",
       "5998  smart          9            0     11  регион           74        612   \n",
       "5999  smart          9            0     12  регион           69        492   \n",
       "\n",
       "      messages_count  gb_used  messages_included  mb_per_month_included  \\\n",
       "0                  0        0               1000                  30720   \n",
       "1                  0        0               1000                  30720   \n",
       "2                  0        0               1000                  30720   \n",
       "3                  0        0               1000                  30720   \n",
       "4                 22        3               1000                  30720   \n",
       "...              ...      ...                ...                    ...   \n",
       "5995               0        0                 50                  15360   \n",
       "5996              11        2                 50                  15360   \n",
       "5997              48       18                 50                  15360   \n",
       "5998              59       18                 50                  15360   \n",
       "5999              66       13                 50                  15360   \n",
       "\n",
       "      minutes_included  rub_monthly_fee  rub_per_gb  rub_per_message  \\\n",
       "0                 3000             1950         150                1   \n",
       "1                 3000             1950         150                1   \n",
       "2                 3000             1950         150                1   \n",
       "3                 3000             1950         150                1   \n",
       "4                 3000             1950         150                1   \n",
       "...                ...              ...         ...              ...   \n",
       "5995               500              550         200                3   \n",
       "5996               500              550         200                3   \n",
       "5997               500              550         200                3   \n",
       "5998               500              550         200                3   \n",
       "5999               500              550         200                3   \n",
       "\n",
       "      rub_per_minute  gb_included  calls_sum_delta  messages_count_delta  \\\n",
       "0                  1           30                0                     0   \n",
       "1                  1           30                0                     0   \n",
       "2                  1           30                0                     0   \n",
       "3                  1           30                0                     0   \n",
       "4                  1           30                0                     0   \n",
       "...              ...          ...              ...                   ...   \n",
       "5995               3           15                0                     0   \n",
       "5996               3           15                0                     0   \n",
       "5997               3           15                0                     0   \n",
       "5998               3           15              112                     9   \n",
       "5999               3           15                0                    16   \n",
       "\n",
       "      gb_used_delta  revenue  \n",
       "0                 0        0  \n",
       "1                 0        0  \n",
       "2                 0        0  \n",
       "3                 0        0  \n",
       "4                 0    1,950  \n",
       "...             ...      ...  \n",
       "5995              0        0  \n",
       "5996              0      550  \n",
       "5997              3    1,150  \n",
       "5998              3    1,513  \n",
       "5999              0      598  \n",
       "\n",
       "[6000 rows x 28 columns]"
      ]
     },
     "execution_count": 60,
     "metadata": {},
     "output_type": "execute_result"
    }
   ],
   "source": [
    "df_all"
   ]
  },
  {
   "cell_type": "markdown",
   "metadata": {},
   "source": [
    "Оставлю в таблице  **`df_all`** строки со значением не равном 0 в столбце `revenue`."
   ]
  },
  {
   "cell_type": "code",
   "execution_count": 61,
   "metadata": {},
   "outputs": [
    {
     "data": {
      "text/html": [
       "<div>\n",
       "<style scoped>\n",
       "    .dataframe tbody tr th:only-of-type {\n",
       "        vertical-align: middle;\n",
       "    }\n",
       "\n",
       "    .dataframe tbody tr th {\n",
       "        vertical-align: top;\n",
       "    }\n",
       "\n",
       "    .dataframe thead th {\n",
       "        text-align: right;\n",
       "    }\n",
       "</style>\n",
       "<table border=\"1\" class=\"dataframe\">\n",
       "  <thead>\n",
       "    <tr style=\"text-align: right;\">\n",
       "      <th></th>\n",
       "      <th>user_id</th>\n",
       "      <th>age</th>\n",
       "      <th>churn_date</th>\n",
       "      <th>city</th>\n",
       "      <th>first_name</th>\n",
       "      <th>last_name</th>\n",
       "      <th>reg_date</th>\n",
       "      <th>tariff</th>\n",
       "      <th>reg_month</th>\n",
       "      <th>churn_month</th>\n",
       "      <th>month</th>\n",
       "      <th>region</th>\n",
       "      <th>calls_count</th>\n",
       "      <th>calls_sum</th>\n",
       "      <th>messages_count</th>\n",
       "      <th>gb_used</th>\n",
       "      <th>messages_included</th>\n",
       "      <th>mb_per_month_included</th>\n",
       "      <th>minutes_included</th>\n",
       "      <th>rub_monthly_fee</th>\n",
       "      <th>rub_per_gb</th>\n",
       "      <th>rub_per_message</th>\n",
       "      <th>rub_per_minute</th>\n",
       "      <th>gb_included</th>\n",
       "      <th>calls_sum_delta</th>\n",
       "      <th>messages_count_delta</th>\n",
       "      <th>gb_used_delta</th>\n",
       "      <th>revenue</th>\n",
       "    </tr>\n",
       "  </thead>\n",
       "  <tbody>\n",
       "    <tr>\n",
       "      <td>4</td>\n",
       "      <td>1000</td>\n",
       "      <td>52</td>\n",
       "      <td>NaT</td>\n",
       "      <td>Краснодар</td>\n",
       "      <td>Рафаил</td>\n",
       "      <td>Верещагин</td>\n",
       "      <td>2018-05-25</td>\n",
       "      <td>ultra</td>\n",
       "      <td>5</td>\n",
       "      <td>0</td>\n",
       "      <td>5</td>\n",
       "      <td>регион</td>\n",
       "      <td>22</td>\n",
       "      <td>159</td>\n",
       "      <td>22</td>\n",
       "      <td>3</td>\n",
       "      <td>1000</td>\n",
       "      <td>30720</td>\n",
       "      <td>3000</td>\n",
       "      <td>1950</td>\n",
       "      <td>150</td>\n",
       "      <td>1</td>\n",
       "      <td>1</td>\n",
       "      <td>30</td>\n",
       "      <td>0</td>\n",
       "      <td>0</td>\n",
       "      <td>0</td>\n",
       "      <td>1,950</td>\n",
       "    </tr>\n",
       "    <tr>\n",
       "      <td>5</td>\n",
       "      <td>1000</td>\n",
       "      <td>52</td>\n",
       "      <td>NaT</td>\n",
       "      <td>Краснодар</td>\n",
       "      <td>Рафаил</td>\n",
       "      <td>Верещагин</td>\n",
       "      <td>2018-05-25</td>\n",
       "      <td>ultra</td>\n",
       "      <td>5</td>\n",
       "      <td>0</td>\n",
       "      <td>6</td>\n",
       "      <td>регион</td>\n",
       "      <td>43</td>\n",
       "      <td>172</td>\n",
       "      <td>60</td>\n",
       "      <td>23</td>\n",
       "      <td>1000</td>\n",
       "      <td>30720</td>\n",
       "      <td>3000</td>\n",
       "      <td>1950</td>\n",
       "      <td>150</td>\n",
       "      <td>1</td>\n",
       "      <td>1</td>\n",
       "      <td>30</td>\n",
       "      <td>0</td>\n",
       "      <td>0</td>\n",
       "      <td>0</td>\n",
       "      <td>1,950</td>\n",
       "    </tr>\n",
       "    <tr>\n",
       "      <td>6</td>\n",
       "      <td>1000</td>\n",
       "      <td>52</td>\n",
       "      <td>NaT</td>\n",
       "      <td>Краснодар</td>\n",
       "      <td>Рафаил</td>\n",
       "      <td>Верещагин</td>\n",
       "      <td>2018-05-25</td>\n",
       "      <td>ultra</td>\n",
       "      <td>5</td>\n",
       "      <td>0</td>\n",
       "      <td>7</td>\n",
       "      <td>регион</td>\n",
       "      <td>47</td>\n",
       "      <td>340</td>\n",
       "      <td>75</td>\n",
       "      <td>14</td>\n",
       "      <td>1000</td>\n",
       "      <td>30720</td>\n",
       "      <td>3000</td>\n",
       "      <td>1950</td>\n",
       "      <td>150</td>\n",
       "      <td>1</td>\n",
       "      <td>1</td>\n",
       "      <td>30</td>\n",
       "      <td>0</td>\n",
       "      <td>0</td>\n",
       "      <td>0</td>\n",
       "      <td>1,950</td>\n",
       "    </tr>\n",
       "    <tr>\n",
       "      <td>7</td>\n",
       "      <td>1000</td>\n",
       "      <td>52</td>\n",
       "      <td>NaT</td>\n",
       "      <td>Краснодар</td>\n",
       "      <td>Рафаил</td>\n",
       "      <td>Верещагин</td>\n",
       "      <td>2018-05-25</td>\n",
       "      <td>ultra</td>\n",
       "      <td>5</td>\n",
       "      <td>0</td>\n",
       "      <td>8</td>\n",
       "      <td>регион</td>\n",
       "      <td>52</td>\n",
       "      <td>408</td>\n",
       "      <td>81</td>\n",
       "      <td>14</td>\n",
       "      <td>1000</td>\n",
       "      <td>30720</td>\n",
       "      <td>3000</td>\n",
       "      <td>1950</td>\n",
       "      <td>150</td>\n",
       "      <td>1</td>\n",
       "      <td>1</td>\n",
       "      <td>30</td>\n",
       "      <td>0</td>\n",
       "      <td>0</td>\n",
       "      <td>0</td>\n",
       "      <td>1,950</td>\n",
       "    </tr>\n",
       "    <tr>\n",
       "      <td>8</td>\n",
       "      <td>1000</td>\n",
       "      <td>52</td>\n",
       "      <td>NaT</td>\n",
       "      <td>Краснодар</td>\n",
       "      <td>Рафаил</td>\n",
       "      <td>Верещагин</td>\n",
       "      <td>2018-05-25</td>\n",
       "      <td>ultra</td>\n",
       "      <td>5</td>\n",
       "      <td>0</td>\n",
       "      <td>9</td>\n",
       "      <td>регион</td>\n",
       "      <td>58</td>\n",
       "      <td>466</td>\n",
       "      <td>57</td>\n",
       "      <td>15</td>\n",
       "      <td>1000</td>\n",
       "      <td>30720</td>\n",
       "      <td>3000</td>\n",
       "      <td>1950</td>\n",
       "      <td>150</td>\n",
       "      <td>1</td>\n",
       "      <td>1</td>\n",
       "      <td>30</td>\n",
       "      <td>0</td>\n",
       "      <td>0</td>\n",
       "      <td>0</td>\n",
       "      <td>1,950</td>\n",
       "    </tr>\n",
       "    <tr>\n",
       "      <td>...</td>\n",
       "      <td>...</td>\n",
       "      <td>...</td>\n",
       "      <td>...</td>\n",
       "      <td>...</td>\n",
       "      <td>...</td>\n",
       "      <td>...</td>\n",
       "      <td>...</td>\n",
       "      <td>...</td>\n",
       "      <td>...</td>\n",
       "      <td>...</td>\n",
       "      <td>...</td>\n",
       "      <td>...</td>\n",
       "      <td>...</td>\n",
       "      <td>...</td>\n",
       "      <td>...</td>\n",
       "      <td>...</td>\n",
       "      <td>...</td>\n",
       "      <td>...</td>\n",
       "      <td>...</td>\n",
       "      <td>...</td>\n",
       "      <td>...</td>\n",
       "      <td>...</td>\n",
       "      <td>...</td>\n",
       "      <td>...</td>\n",
       "      <td>...</td>\n",
       "      <td>...</td>\n",
       "      <td>...</td>\n",
       "      <td>...</td>\n",
       "    </tr>\n",
       "    <tr>\n",
       "      <td>5985</td>\n",
       "      <td>1498</td>\n",
       "      <td>68</td>\n",
       "      <td>2018-10-25</td>\n",
       "      <td>Владикавказ</td>\n",
       "      <td>Всеволод</td>\n",
       "      <td>Акимчин</td>\n",
       "      <td>2018-07-19</td>\n",
       "      <td>smart</td>\n",
       "      <td>7</td>\n",
       "      <td>10</td>\n",
       "      <td>10</td>\n",
       "      <td>регион</td>\n",
       "      <td>41</td>\n",
       "      <td>247</td>\n",
       "      <td>42</td>\n",
       "      <td>21</td>\n",
       "      <td>50</td>\n",
       "      <td>15360</td>\n",
       "      <td>500</td>\n",
       "      <td>550</td>\n",
       "      <td>200</td>\n",
       "      <td>3</td>\n",
       "      <td>3</td>\n",
       "      <td>15</td>\n",
       "      <td>0</td>\n",
       "      <td>0</td>\n",
       "      <td>6</td>\n",
       "      <td>1,750</td>\n",
       "    </tr>\n",
       "    <tr>\n",
       "      <td>5996</td>\n",
       "      <td>1499</td>\n",
       "      <td>35</td>\n",
       "      <td>NaT</td>\n",
       "      <td>Пермь</td>\n",
       "      <td>Гектор</td>\n",
       "      <td>Корнилов</td>\n",
       "      <td>2018-09-27</td>\n",
       "      <td>smart</td>\n",
       "      <td>9</td>\n",
       "      <td>0</td>\n",
       "      <td>9</td>\n",
       "      <td>регион</td>\n",
       "      <td>9</td>\n",
       "      <td>70</td>\n",
       "      <td>11</td>\n",
       "      <td>2</td>\n",
       "      <td>50</td>\n",
       "      <td>15360</td>\n",
       "      <td>500</td>\n",
       "      <td>550</td>\n",
       "      <td>200</td>\n",
       "      <td>3</td>\n",
       "      <td>3</td>\n",
       "      <td>15</td>\n",
       "      <td>0</td>\n",
       "      <td>0</td>\n",
       "      <td>0</td>\n",
       "      <td>550</td>\n",
       "    </tr>\n",
       "    <tr>\n",
       "      <td>5997</td>\n",
       "      <td>1499</td>\n",
       "      <td>35</td>\n",
       "      <td>NaT</td>\n",
       "      <td>Пермь</td>\n",
       "      <td>Гектор</td>\n",
       "      <td>Корнилов</td>\n",
       "      <td>2018-09-27</td>\n",
       "      <td>smart</td>\n",
       "      <td>9</td>\n",
       "      <td>0</td>\n",
       "      <td>10</td>\n",
       "      <td>регион</td>\n",
       "      <td>68</td>\n",
       "      <td>449</td>\n",
       "      <td>48</td>\n",
       "      <td>18</td>\n",
       "      <td>50</td>\n",
       "      <td>15360</td>\n",
       "      <td>500</td>\n",
       "      <td>550</td>\n",
       "      <td>200</td>\n",
       "      <td>3</td>\n",
       "      <td>3</td>\n",
       "      <td>15</td>\n",
       "      <td>0</td>\n",
       "      <td>0</td>\n",
       "      <td>3</td>\n",
       "      <td>1,150</td>\n",
       "    </tr>\n",
       "    <tr>\n",
       "      <td>5998</td>\n",
       "      <td>1499</td>\n",
       "      <td>35</td>\n",
       "      <td>NaT</td>\n",
       "      <td>Пермь</td>\n",
       "      <td>Гектор</td>\n",
       "      <td>Корнилов</td>\n",
       "      <td>2018-09-27</td>\n",
       "      <td>smart</td>\n",
       "      <td>9</td>\n",
       "      <td>0</td>\n",
       "      <td>11</td>\n",
       "      <td>регион</td>\n",
       "      <td>74</td>\n",
       "      <td>612</td>\n",
       "      <td>59</td>\n",
       "      <td>18</td>\n",
       "      <td>50</td>\n",
       "      <td>15360</td>\n",
       "      <td>500</td>\n",
       "      <td>550</td>\n",
       "      <td>200</td>\n",
       "      <td>3</td>\n",
       "      <td>3</td>\n",
       "      <td>15</td>\n",
       "      <td>112</td>\n",
       "      <td>9</td>\n",
       "      <td>3</td>\n",
       "      <td>1,513</td>\n",
       "    </tr>\n",
       "    <tr>\n",
       "      <td>5999</td>\n",
       "      <td>1499</td>\n",
       "      <td>35</td>\n",
       "      <td>NaT</td>\n",
       "      <td>Пермь</td>\n",
       "      <td>Гектор</td>\n",
       "      <td>Корнилов</td>\n",
       "      <td>2018-09-27</td>\n",
       "      <td>smart</td>\n",
       "      <td>9</td>\n",
       "      <td>0</td>\n",
       "      <td>12</td>\n",
       "      <td>регион</td>\n",
       "      <td>69</td>\n",
       "      <td>492</td>\n",
       "      <td>66</td>\n",
       "      <td>13</td>\n",
       "      <td>50</td>\n",
       "      <td>15360</td>\n",
       "      <td>500</td>\n",
       "      <td>550</td>\n",
       "      <td>200</td>\n",
       "      <td>3</td>\n",
       "      <td>3</td>\n",
       "      <td>15</td>\n",
       "      <td>0</td>\n",
       "      <td>16</td>\n",
       "      <td>0</td>\n",
       "      <td>598</td>\n",
       "    </tr>\n",
       "  </tbody>\n",
       "</table>\n",
       "<p>3216 rows × 28 columns</p>\n",
       "</div>"
      ],
      "text/plain": [
       "      user_id  age churn_date         city first_name  last_name   reg_date  \\\n",
       "4        1000   52        NaT    Краснодар     Рафаил  Верещагин 2018-05-25   \n",
       "5        1000   52        NaT    Краснодар     Рафаил  Верещагин 2018-05-25   \n",
       "6        1000   52        NaT    Краснодар     Рафаил  Верещагин 2018-05-25   \n",
       "7        1000   52        NaT    Краснодар     Рафаил  Верещагин 2018-05-25   \n",
       "8        1000   52        NaT    Краснодар     Рафаил  Верещагин 2018-05-25   \n",
       "...       ...  ...        ...          ...        ...        ...        ...   \n",
       "5985     1498   68 2018-10-25  Владикавказ   Всеволод    Акимчин 2018-07-19   \n",
       "5996     1499   35        NaT        Пермь     Гектор   Корнилов 2018-09-27   \n",
       "5997     1499   35        NaT        Пермь     Гектор   Корнилов 2018-09-27   \n",
       "5998     1499   35        NaT        Пермь     Гектор   Корнилов 2018-09-27   \n",
       "5999     1499   35        NaT        Пермь     Гектор   Корнилов 2018-09-27   \n",
       "\n",
       "     tariff  reg_month  churn_month  month  region  calls_count  calls_sum  \\\n",
       "4     ultra          5            0      5  регион           22        159   \n",
       "5     ultra          5            0      6  регион           43        172   \n",
       "6     ultra          5            0      7  регион           47        340   \n",
       "7     ultra          5            0      8  регион           52        408   \n",
       "8     ultra          5            0      9  регион           58        466   \n",
       "...     ...        ...          ...    ...     ...          ...        ...   \n",
       "5985  smart          7           10     10  регион           41        247   \n",
       "5996  smart          9            0      9  регион            9         70   \n",
       "5997  smart          9            0     10  регион           68        449   \n",
       "5998  smart          9            0     11  регион           74        612   \n",
       "5999  smart          9            0     12  регион           69        492   \n",
       "\n",
       "      messages_count  gb_used  messages_included  mb_per_month_included  \\\n",
       "4                 22        3               1000                  30720   \n",
       "5                 60       23               1000                  30720   \n",
       "6                 75       14               1000                  30720   \n",
       "7                 81       14               1000                  30720   \n",
       "8                 57       15               1000                  30720   \n",
       "...              ...      ...                ...                    ...   \n",
       "5985              42       21                 50                  15360   \n",
       "5996              11        2                 50                  15360   \n",
       "5997              48       18                 50                  15360   \n",
       "5998              59       18                 50                  15360   \n",
       "5999              66       13                 50                  15360   \n",
       "\n",
       "      minutes_included  rub_monthly_fee  rub_per_gb  rub_per_message  \\\n",
       "4                 3000             1950         150                1   \n",
       "5                 3000             1950         150                1   \n",
       "6                 3000             1950         150                1   \n",
       "7                 3000             1950         150                1   \n",
       "8                 3000             1950         150                1   \n",
       "...                ...              ...         ...              ...   \n",
       "5985               500              550         200                3   \n",
       "5996               500              550         200                3   \n",
       "5997               500              550         200                3   \n",
       "5998               500              550         200                3   \n",
       "5999               500              550         200                3   \n",
       "\n",
       "      rub_per_minute  gb_included  calls_sum_delta  messages_count_delta  \\\n",
       "4                  1           30                0                     0   \n",
       "5                  1           30                0                     0   \n",
       "6                  1           30                0                     0   \n",
       "7                  1           30                0                     0   \n",
       "8                  1           30                0                     0   \n",
       "...              ...          ...              ...                   ...   \n",
       "5985               3           15                0                     0   \n",
       "5996               3           15                0                     0   \n",
       "5997               3           15                0                     0   \n",
       "5998               3           15              112                     9   \n",
       "5999               3           15                0                    16   \n",
       "\n",
       "      gb_used_delta  revenue  \n",
       "4                 0    1,950  \n",
       "5                 0    1,950  \n",
       "6                 0    1,950  \n",
       "7                 0    1,950  \n",
       "8                 0    1,950  \n",
       "...             ...      ...  \n",
       "5985              6    1,750  \n",
       "5996              0      550  \n",
       "5997              3    1,150  \n",
       "5998              3    1,513  \n",
       "5999              0      598  \n",
       "\n",
       "[3216 rows x 28 columns]"
      ]
     },
     "execution_count": 61,
     "metadata": {},
     "output_type": "execute_result"
    }
   ],
   "source": [
    "df_all = df_all.query('revenue != 0')\n",
    "df_all"
   ]
  },
  {
   "cell_type": "markdown",
   "metadata": {},
   "source": [
    "В таблице 3216 строк против 3214, которые были до учета месяца регистрации и расторжения договора. Таким образом, удалось вычленить всего двух клиентов, которые заплатили абонентскую плату, но не воспользовались услугами связи. Посмотрю на них."
   ]
  },
  {
   "cell_type": "code",
   "execution_count": 62,
   "metadata": {},
   "outputs": [
    {
     "data": {
      "text/html": [
       "<div>\n",
       "<style scoped>\n",
       "    .dataframe tbody tr th:only-of-type {\n",
       "        vertical-align: middle;\n",
       "    }\n",
       "\n",
       "    .dataframe tbody tr th {\n",
       "        vertical-align: top;\n",
       "    }\n",
       "\n",
       "    .dataframe thead th {\n",
       "        text-align: right;\n",
       "    }\n",
       "</style>\n",
       "<table border=\"1\" class=\"dataframe\">\n",
       "  <thead>\n",
       "    <tr style=\"text-align: right;\">\n",
       "      <th></th>\n",
       "      <th>user_id</th>\n",
       "      <th>age</th>\n",
       "      <th>churn_date</th>\n",
       "      <th>city</th>\n",
       "      <th>first_name</th>\n",
       "      <th>last_name</th>\n",
       "      <th>reg_date</th>\n",
       "      <th>tariff</th>\n",
       "      <th>reg_month</th>\n",
       "      <th>churn_month</th>\n",
       "      <th>month</th>\n",
       "      <th>region</th>\n",
       "      <th>calls_count</th>\n",
       "      <th>calls_sum</th>\n",
       "      <th>messages_count</th>\n",
       "      <th>gb_used</th>\n",
       "      <th>messages_included</th>\n",
       "      <th>mb_per_month_included</th>\n",
       "      <th>minutes_included</th>\n",
       "      <th>rub_monthly_fee</th>\n",
       "      <th>rub_per_gb</th>\n",
       "      <th>rub_per_message</th>\n",
       "      <th>rub_per_minute</th>\n",
       "      <th>gb_included</th>\n",
       "      <th>calls_sum_delta</th>\n",
       "      <th>messages_count_delta</th>\n",
       "      <th>gb_used_delta</th>\n",
       "      <th>revenue</th>\n",
       "    </tr>\n",
       "  </thead>\n",
       "  <tbody>\n",
       "    <tr>\n",
       "      <td>443</td>\n",
       "      <td>1128</td>\n",
       "      <td>51</td>\n",
       "      <td>2018-12-23</td>\n",
       "      <td>Волжский</td>\n",
       "      <td>Ксения</td>\n",
       "      <td>Агаева</td>\n",
       "      <td>2018-12-15</td>\n",
       "      <td>ultra</td>\n",
       "      <td>12</td>\n",
       "      <td>12</td>\n",
       "      <td>12</td>\n",
       "      <td>регион</td>\n",
       "      <td>0</td>\n",
       "      <td>0</td>\n",
       "      <td>0</td>\n",
       "      <td>0</td>\n",
       "      <td>1000</td>\n",
       "      <td>30720</td>\n",
       "      <td>3000</td>\n",
       "      <td>1950</td>\n",
       "      <td>150</td>\n",
       "      <td>1</td>\n",
       "      <td>1</td>\n",
       "      <td>30</td>\n",
       "      <td>0</td>\n",
       "      <td>0</td>\n",
       "      <td>0</td>\n",
       "      <td>1,950</td>\n",
       "    </tr>\n",
       "    <tr>\n",
       "      <td>4943</td>\n",
       "      <td>1371</td>\n",
       "      <td>50</td>\n",
       "      <td>2018-12-30</td>\n",
       "      <td>Омск</td>\n",
       "      <td>Ириней</td>\n",
       "      <td>Трофимов</td>\n",
       "      <td>2018-12-25</td>\n",
       "      <td>smart</td>\n",
       "      <td>12</td>\n",
       "      <td>12</td>\n",
       "      <td>12</td>\n",
       "      <td>регион</td>\n",
       "      <td>0</td>\n",
       "      <td>0</td>\n",
       "      <td>0</td>\n",
       "      <td>0</td>\n",
       "      <td>50</td>\n",
       "      <td>15360</td>\n",
       "      <td>500</td>\n",
       "      <td>550</td>\n",
       "      <td>200</td>\n",
       "      <td>3</td>\n",
       "      <td>3</td>\n",
       "      <td>15</td>\n",
       "      <td>0</td>\n",
       "      <td>0</td>\n",
       "      <td>0</td>\n",
       "      <td>550</td>\n",
       "    </tr>\n",
       "  </tbody>\n",
       "</table>\n",
       "</div>"
      ],
      "text/plain": [
       "      user_id  age churn_date      city first_name last_name   reg_date  \\\n",
       "443      1128   51 2018-12-23  Волжский     Ксения    Агаева 2018-12-15   \n",
       "4943     1371   50 2018-12-30      Омск     Ириней  Трофимов 2018-12-25   \n",
       "\n",
       "     tariff  reg_month  churn_month  month  region  calls_count  calls_sum  \\\n",
       "443   ultra         12           12     12  регион            0          0   \n",
       "4943  smart         12           12     12  регион            0          0   \n",
       "\n",
       "      messages_count  gb_used  messages_included  mb_per_month_included  \\\n",
       "443                0        0               1000                  30720   \n",
       "4943               0        0                 50                  15360   \n",
       "\n",
       "      minutes_included  rub_monthly_fee  rub_per_gb  rub_per_message  \\\n",
       "443               3000             1950         150                1   \n",
       "4943               500              550         200                3   \n",
       "\n",
       "      rub_per_minute  gb_included  calls_sum_delta  messages_count_delta  \\\n",
       "443                1           30                0                     0   \n",
       "4943               3           15                0                     0   \n",
       "\n",
       "      gb_used_delta  revenue  \n",
       "443               0    1,950  \n",
       "4943              0      550  "
      ]
     },
     "execution_count": 62,
     "metadata": {},
     "output_type": "execute_result"
    }
   ],
   "source": [
    "df_all.query('calls_sum == 0 and messages_count == 0 and gb_used == 0')"
   ]
  },
  {
   "cell_type": "markdown",
   "metadata": {},
   "source": [
    "Клиентами заключен договор в середине и конце декабря 2018 года, они еще могли успеть воспользоваться услугами в начале следующего года.\n",
    "\n",
    "**Выводы**\n",
    "\n",
    "Подсчитана помесячная выручка по каждому клиенту с учетом месяца регистрации и расторжения договора."
   ]
  },
  {
   "cell_type": "markdown",
   "metadata": {
    "id": "WttZHXH0SqKk"
   },
   "source": [
    "## Анализ данных\n",
    "\n",
    "Посмотрю распределение клиентов по тарифам."
   ]
  },
  {
   "cell_type": "code",
   "execution_count": 63,
   "metadata": {},
   "outputs": [
    {
     "data": {
      "image/png": "[encoded data removed]",
      "text/plain": [
       "<Figure size 432x288 with 1 Axes>"
      ]
     },
     "metadata": {},
     "output_type": "display_data"
    }
   ],
   "source": [
    " df_all.groupby('tariff')['user_id'].count().plot(kind='pie');"
   ]
  },
  {
   "cell_type": "markdown",
   "metadata": {},
   "source": [
    "Две трети клиентов выборки используют тариф «Смарт»."
   ]
  },
  {
   "cell_type": "markdown",
   "metadata": {
    "id": "Im936VVi_Zcu"
   },
   "source": [
    "### Гистограммы по звонкам, сообщениям и интернет-трафику"
   ]
  },
  {
   "cell_type": "markdown",
   "metadata": {},
   "source": [
    "Сделаю выборки из таблицы **`df_all`** в зависимости от тарифа и сохраню в отдельные переменные."
   ]
  },
  {
   "cell_type": "code",
   "execution_count": 64,
   "metadata": {},
   "outputs": [],
   "source": [
    "# выборка по типам тарифа\n",
    "month_smart = df_all.query('tariff == \"smart\"')\n",
    "month_ultra = df_all.query('tariff == \"ultra\"')"
   ]
  },
  {
   "cell_type": "markdown",
   "metadata": {},
   "source": [
    "На основе выборок **`month_smart`** и **`month_ultra`** построю гистограммы с использованием минут, сообщений и интернет-трафика пользователями отдельно по каждому тарифу."
   ]
  },
  {
   "cell_type": "code",
   "execution_count": 65,
   "metadata": {},
   "outputs": [
    {
     "data": {
      "image/png": "[encoded data removed]",
      "text/plain": [
       "<Figure size 720x360 with 1 Axes>"
      ]
     },
     "metadata": {
      "needs_background": "light"
     },
     "output_type": "display_data"
    }
   ],
   "source": [
    "# построение гистограмм по продолжительности звонков в месяц в среднем\n",
    "ax = month_smart['calls_sum'].hist(\n",
    "    bins=30, \n",
    "    range = (0,2000), \n",
    "    figsize = (10, 5)\n",
    ") \n",
    "plt.ticklabel_format(style = 'plain')\n",
    "ax = month_ultra['calls_sum'].hist(\n",
    "    bins=30, range = (0,2000), \n",
    "    figsize = (10, 5), \n",
    "    alpha=0.7\n",
    ") \n",
    "plt.ticklabel_format(style = 'plain')\n",
    "plt.title('Звонки, мин.')\n",
    "ax.legend(['Смарт', 'Ультра']);"
   ]
  },
  {
   "cell_type": "markdown",
   "metadata": {},
   "source": [
    "В ежемесячную плату тарифа \"Смарт\" входит 500 мин.разговора, тарифа \"Ультра\" - 3000 мин.разговора.   \n",
    "На полученной гистограмме отчетливо наблюдается, что пользователям тарифа \"Смарт\" достаточно часто не хватает 500 мин., порядка 1/4 часть клиентов доплачивает за использованные дополнительные минуты. Основная часть пользователей тарифа \"Смарт\" тратит на разговоры от 100 до 700 мин. в месяц.   \n",
    "Все пользователи тарифа \"Ультра\" укладываются в отведенный лимит с большим запасом. Основаная часть клиентов тратит на разговоры от 200 до 850 мин.  "
   ]
  },
  {
   "cell_type": "code",
   "execution_count": 66,
   "metadata": {},
   "outputs": [
    {
     "data": {
      "image/png": "[encoded data removed]",
      "text/plain": [
       "<Figure size 720x360 with 1 Axes>"
      ]
     },
     "metadata": {
      "needs_background": "light"
     },
     "output_type": "display_data"
    }
   ],
   "source": [
    "# построение гистограмм по количеству сообщений в месяц в среднем\n",
    "ax = month_smart['messages_count'].hist(\n",
    "    bins=30, \n",
    "    range = (0,250), \n",
    "    figsize = (10, 5)\n",
    ") # построение гистограммы\n",
    "plt.ticklabel_format(style = 'plain')\n",
    "ax = month_ultra['messages_count'].hist(\n",
    "    bins=30, \n",
    "    range = (0,250), \n",
    "    figsize = (10, 5), \n",
    "    alpha=0.7\n",
    ") # построение гистограммы\n",
    "plt.ticklabel_format(style = 'plain')\n",
    "plt.title('Сообщения')\n",
    "ax.legend(['Смарт', 'Ультра']);"
   ]
  },
  {
   "cell_type": "markdown",
   "metadata": {},
   "source": [
    "В ежемесячную плату тарифа \"Смарт\" входит 50 сообщений, тарифа \"Ультра\" - 1000 сообщений.  \n",
    "Основная часть пользователей тарифа \"Смарт\" укладывается в отведенный лимит, однако порядка 15-20% клиентов все же превышают его. Многие из них отправляют от 50 до 100 сообщений в месяц, есть и те, кто отправляет более 100 сообщений.  \n",
    "Все пользователи тарифа \"Ультра\" укладываются в отведенный лимит с большим запасом. Основная часть клиентов отправляет до 100 сообщений в месяц.\n",
    "Заметная часть клиентов обоих тарифов не пользуется сервисом отправки сообщений совсем.  Можно предположить, что эти клиенты отдаю предпочтение другим мессенджерам."
   ]
  },
  {
   "cell_type": "code",
   "execution_count": 67,
   "metadata": {},
   "outputs": [
    {
     "data": {
      "image/png": "[encoded data removed]",
      "text/plain": [
       "<Figure size 720x360 with 1 Axes>"
      ]
     },
     "metadata": {
      "needs_background": "light"
     },
     "output_type": "display_data"
    }
   ],
   "source": [
    "# построение гистограмм по использованному интернет-трафику в месяц в среднем\n",
    "ax = month_smart['gb_used'].hist(\n",
    "    bins=30,\n",
    "    range = (0,50),\n",
    "    figsize = (10, 5),\n",
    "    label='Смарт'\n",
    ") \n",
    "plt.ticklabel_format(style = 'plain')\n",
    "ax = month_ultra['gb_used'].hist(\n",
    "    bins=30, \n",
    "    range = (0,50), \n",
    "    figsize = (10, 5),\n",
    "    label='Ультра', \n",
    "    alpha=0.7\n",
    ") \n",
    "plt.ticklabel_format(style = 'plain')\n",
    "plt.title('Интернет-трафик')\n",
    "ax.legend(['Смарт', 'Ультра']);"
   ]
  },
  {
   "cell_type": "markdown",
   "metadata": {},
   "source": [
    "В ежемесячную плату тарифа \"Смарт\" входит 15 Гб интернет-трафика, тарифа \"Ультра\" - 30 Гб интернет-трафика.  \n",
    "Более половины пользователей тарифа \"Смарт\" превышают отведенный лимит.\n",
    "Основная часть пользователей тарифа \"Ультра\" укладывается в отведенный лимит, но есть и те, кто расходует более 30 Гб и даже чуть более 40 Гб трафика.  \n",
    "\n",
    "**Выводы**\n",
    "\n",
    "Построены гистограммы по звонкам, сообщениям и интернет-трафику по каждому тарифу.  \n",
    "\n",
    "- четверть пользователей тарифа \"Смарт\" выходит за рамки отведенного лимита минут в месяц, примерно пятая часть не укладывается в лимит сообщений\n",
    "- все пользователи тарифа \"Ультра\" укладываются в отведенный лимит по звонкам и соообщениям с большим запасом\n",
    "- более половины пользователей тарифа \"Смарт\" превышают отведенный лимит по интернет-трафику\n",
    "- основная часть пользователей тарифа \"Ультра\" укладывается в отведенный лимит по интернет-трафику"
   ]
  },
  {
   "cell_type": "markdown",
   "metadata": {},
   "source": [
    "### Диаграммы размаха по звонкам, сообщениям и интернет-трафику"
   ]
  },
  {
   "cell_type": "code",
   "execution_count": 68,
   "metadata": {},
   "outputs": [
    {
     "data": {
      "text/html": [
       "<div>\n",
       "<style scoped>\n",
       "    .dataframe tbody tr th:only-of-type {\n",
       "        vertical-align: middle;\n",
       "    }\n",
       "\n",
       "    .dataframe tbody tr th {\n",
       "        vertical-align: top;\n",
       "    }\n",
       "\n",
       "    .dataframe thead th {\n",
       "        text-align: right;\n",
       "    }\n",
       "</style>\n",
       "<table border=\"1\" class=\"dataframe\">\n",
       "  <thead>\n",
       "    <tr style=\"text-align: right;\">\n",
       "      <th></th>\n",
       "      <th>calls_sum</th>\n",
       "      <th>messages_count</th>\n",
       "      <th>gb_used</th>\n",
       "    </tr>\n",
       "  </thead>\n",
       "  <tbody>\n",
       "    <tr>\n",
       "      <td>count</td>\n",
       "      <td>2,230</td>\n",
       "      <td>2,230</td>\n",
       "      <td>2,230</td>\n",
       "    </tr>\n",
       "    <tr>\n",
       "      <td>mean</td>\n",
       "      <td>418</td>\n",
       "      <td>33</td>\n",
       "      <td>16</td>\n",
       "    </tr>\n",
       "    <tr>\n",
       "      <td>std</td>\n",
       "      <td>190</td>\n",
       "      <td>28</td>\n",
       "      <td>6</td>\n",
       "    </tr>\n",
       "    <tr>\n",
       "      <td>min</td>\n",
       "      <td>0</td>\n",
       "      <td>0</td>\n",
       "      <td>0</td>\n",
       "    </tr>\n",
       "    <tr>\n",
       "      <td>25%</td>\n",
       "      <td>282</td>\n",
       "      <td>10</td>\n",
       "      <td>13</td>\n",
       "    </tr>\n",
       "    <tr>\n",
       "      <td>50%</td>\n",
       "      <td>422</td>\n",
       "      <td>28</td>\n",
       "      <td>17</td>\n",
       "    </tr>\n",
       "    <tr>\n",
       "      <td>75%</td>\n",
       "      <td>545</td>\n",
       "      <td>51</td>\n",
       "      <td>20</td>\n",
       "    </tr>\n",
       "    <tr>\n",
       "      <td>max</td>\n",
       "      <td>1,435</td>\n",
       "      <td>143</td>\n",
       "      <td>38</td>\n",
       "    </tr>\n",
       "  </tbody>\n",
       "</table>\n",
       "</div>"
      ],
      "text/plain": [
       "       calls_sum  messages_count  gb_used\n",
       "count      2,230           2,230    2,230\n",
       "mean         418              33       16\n",
       "std          190              28        6\n",
       "min            0               0        0\n",
       "25%          282              10       13\n",
       "50%          422              28       17\n",
       "75%          545              51       20\n",
       "max        1,435             143       38"
      ]
     },
     "execution_count": 68,
     "metadata": {},
     "output_type": "execute_result"
    }
   ],
   "source": [
    "month_smart[['calls_sum', 'messages_count', 'gb_used']].describe()"
   ]
  },
  {
   "cell_type": "code",
   "execution_count": 69,
   "metadata": {},
   "outputs": [
    {
     "data": {
      "text/html": [
       "<div>\n",
       "<style scoped>\n",
       "    .dataframe tbody tr th:only-of-type {\n",
       "        vertical-align: middle;\n",
       "    }\n",
       "\n",
       "    .dataframe tbody tr th {\n",
       "        vertical-align: top;\n",
       "    }\n",
       "\n",
       "    .dataframe thead th {\n",
       "        text-align: right;\n",
       "    }\n",
       "</style>\n",
       "<table border=\"1\" class=\"dataframe\">\n",
       "  <thead>\n",
       "    <tr style=\"text-align: right;\">\n",
       "      <th></th>\n",
       "      <th>calls_sum</th>\n",
       "      <th>messages_count</th>\n",
       "      <th>gb_used</th>\n",
       "    </tr>\n",
       "  </thead>\n",
       "  <tbody>\n",
       "    <tr>\n",
       "      <td>count</td>\n",
       "      <td>986</td>\n",
       "      <td>986</td>\n",
       "      <td>986</td>\n",
       "    </tr>\n",
       "    <tr>\n",
       "      <td>mean</td>\n",
       "      <td>526</td>\n",
       "      <td>49</td>\n",
       "      <td>19</td>\n",
       "    </tr>\n",
       "    <tr>\n",
       "      <td>std</td>\n",
       "      <td>318</td>\n",
       "      <td>48</td>\n",
       "      <td>10</td>\n",
       "    </tr>\n",
       "    <tr>\n",
       "      <td>min</td>\n",
       "      <td>0</td>\n",
       "      <td>0</td>\n",
       "      <td>0</td>\n",
       "    </tr>\n",
       "    <tr>\n",
       "      <td>25%</td>\n",
       "      <td>282</td>\n",
       "      <td>6</td>\n",
       "      <td>12</td>\n",
       "    </tr>\n",
       "    <tr>\n",
       "      <td>50%</td>\n",
       "      <td>518</td>\n",
       "      <td>38</td>\n",
       "      <td>19</td>\n",
       "    </tr>\n",
       "    <tr>\n",
       "      <td>75%</td>\n",
       "      <td>752</td>\n",
       "      <td>79</td>\n",
       "      <td>27</td>\n",
       "    </tr>\n",
       "    <tr>\n",
       "      <td>max</td>\n",
       "      <td>1,673</td>\n",
       "      <td>224</td>\n",
       "      <td>49</td>\n",
       "    </tr>\n",
       "  </tbody>\n",
       "</table>\n",
       "</div>"
      ],
      "text/plain": [
       "       calls_sum  messages_count  gb_used\n",
       "count        986             986      986\n",
       "mean         526              49       19\n",
       "std          318              48       10\n",
       "min            0               0        0\n",
       "25%          282               6       12\n",
       "50%          518              38       19\n",
       "75%          752              79       27\n",
       "max        1,673             224       49"
      ]
     },
     "execution_count": 69,
     "metadata": {},
     "output_type": "execute_result"
    }
   ],
   "source": [
    "month_ultra[['calls_sum', 'messages_count', 'gb_used']].describe()"
   ]
  },
  {
   "cell_type": "markdown",
   "metadata": {},
   "source": [
    "Для просмотра распределения и наличия выбросов/редких значений построю диаграммы размаха (\"ящик с усами\") по продолжительности звонков, количеству сообщений и объему интернет-трафика для каждого тарифа."
   ]
  },
  {
   "cell_type": "code",
   "execution_count": 70,
   "metadata": {},
   "outputs": [
    {
     "data": {
      "image/png": "[encoded data removed]",
      "text/plain": [
       "<Figure size 360x360 with 1 Axes>"
      ]
     },
     "metadata": {
      "needs_background": "light"
     },
     "output_type": "display_data"
    },
    {
     "data": {
      "image/png": "[encoded data removed]",
      "text/plain": [
       "<Figure size 360x360 with 1 Axes>"
      ]
     },
     "metadata": {
      "needs_background": "light"
     },
     "output_type": "display_data"
    },
    {
     "data": {
      "image/png": "[encoded data removed]",
      "text/plain": [
       "<Figure size 360x360 with 1 Axes>"
      ]
     },
     "metadata": {
      "needs_background": "light"
     },
     "output_type": "display_data"
    }
   ],
   "source": [
    "# создание диаграмм размаха по трем значениям\n",
    "for column in ['calls_sum', 'messages_count', 'gb_used']:\n",
    "    sns.catplot(x='tariff', y=column, data=df_all, kind='box')\n",
    "    plt.title(column, fontsize=15)"
   ]
  },
  {
   "cell_type": "markdown",
   "metadata": {},
   "source": [
    "- медианные значения всех трех параметров (звонки, сообщения, трафик) по тарифу \"Ультра\" выше медианных значений тарифа \"Смарт\"\n",
    "- распределение по звонкам и интернет-трафику в обоих тарифах приближено к нормальному\n",
    "- распределение по сообщениям в обоих тарифах очень сильно скошено в бОльшую сторону, расстояние между первым квартилем и медианой значительно меньше, чем расстояние между медианой и третьим квартилем\n",
    "- интернет-трафик в тарифе \"Ультра\" не содержит выбросов\n",
    "- интернет-трафик в тарифе \"Смарт\" содержит выбросы как низких, так и высоких значений\n",
    "- по остальным параметрам в обоих тарифах наблюдаются выбросы высоких значений.  \n",
    "\n",
    "**Выводы**\n",
    "\n",
    "Построены диаграммы размаха по продолжительности звонков, количеству сообщений и объему интернет-трафика для каждого тарифа\n",
    "\n",
    "- распределение по звонкам и интернет-трафику в обоих тарифах приближено к нормальному\n",
    "- распределение по сообщениям в обоих тарифах очень сильно скошено в бОльшую сторону\n",
    "- интернет-трафик в тарифе \"Ультра\" не содержит выбросов\n",
    "- по остальным параметрам в обоих тарифах наблюдаются выбросы"
   ]
  },
  {
   "cell_type": "markdown",
   "metadata": {},
   "source": [
    "### Статистические данные\n",
    "\n",
    "Составлю сводную таблицу для каждого тарифа с суммой, средним, медианой, дисперсией и стандартным отклонением по звонкам, сообщениям и интернет-трафику."
   ]
  },
  {
   "cell_type": "code",
   "execution_count": 71,
   "metadata": {},
   "outputs": [
    {
     "data": {
      "text/html": [
       "<div>\n",
       "<style scoped>\n",
       "    .dataframe tbody tr th:only-of-type {\n",
       "        vertical-align: middle;\n",
       "    }\n",
       "\n",
       "    .dataframe tbody tr th {\n",
       "        vertical-align: top;\n",
       "    }\n",
       "\n",
       "    .dataframe thead tr th {\n",
       "        text-align: left;\n",
       "    }\n",
       "\n",
       "    .dataframe thead tr:last-of-type th {\n",
       "        text-align: right;\n",
       "    }\n",
       "</style>\n",
       "<table border=\"1\" class=\"dataframe\">\n",
       "  <thead>\n",
       "    <tr>\n",
       "      <th></th>\n",
       "      <th colspan=\"5\" halign=\"left\">calls_sum</th>\n",
       "      <th colspan=\"5\" halign=\"left\">gb_used</th>\n",
       "      <th colspan=\"5\" halign=\"left\">messages_count</th>\n",
       "    </tr>\n",
       "    <tr>\n",
       "      <th></th>\n",
       "      <th>mean</th>\n",
       "      <th>median</th>\n",
       "      <th>std</th>\n",
       "      <th>sum</th>\n",
       "      <th>var</th>\n",
       "      <th>mean</th>\n",
       "      <th>median</th>\n",
       "      <th>std</th>\n",
       "      <th>sum</th>\n",
       "      <th>var</th>\n",
       "      <th>mean</th>\n",
       "      <th>median</th>\n",
       "      <th>std</th>\n",
       "      <th>sum</th>\n",
       "      <th>var</th>\n",
       "    </tr>\n",
       "    <tr>\n",
       "      <th>tariff</th>\n",
       "      <th></th>\n",
       "      <th></th>\n",
       "      <th></th>\n",
       "      <th></th>\n",
       "      <th></th>\n",
       "      <th></th>\n",
       "      <th></th>\n",
       "      <th></th>\n",
       "      <th></th>\n",
       "      <th></th>\n",
       "      <th></th>\n",
       "      <th></th>\n",
       "      <th></th>\n",
       "      <th></th>\n",
       "      <th></th>\n",
       "    </tr>\n",
       "  </thead>\n",
       "  <tbody>\n",
       "    <tr>\n",
       "      <td>smart</td>\n",
       "      <td>418</td>\n",
       "      <td>422</td>\n",
       "      <td>190</td>\n",
       "      <td>931,577</td>\n",
       "      <td>36,281</td>\n",
       "      <td>16</td>\n",
       "      <td>17</td>\n",
       "      <td>6</td>\n",
       "      <td>36,397</td>\n",
       "      <td>33</td>\n",
       "      <td>33</td>\n",
       "      <td>28</td>\n",
       "      <td>28</td>\n",
       "      <td>74,413</td>\n",
       "      <td>797</td>\n",
       "    </tr>\n",
       "    <tr>\n",
       "      <td>ultra</td>\n",
       "      <td>526</td>\n",
       "      <td>518</td>\n",
       "      <td>318</td>\n",
       "      <td>518,724</td>\n",
       "      <td>101,052</td>\n",
       "      <td>19</td>\n",
       "      <td>19</td>\n",
       "      <td>10</td>\n",
       "      <td>19,202</td>\n",
       "      <td>97</td>\n",
       "      <td>49</td>\n",
       "      <td>38</td>\n",
       "      <td>48</td>\n",
       "      <td>48,623</td>\n",
       "      <td>2,285</td>\n",
       "    </tr>\n",
       "  </tbody>\n",
       "</table>\n",
       "</div>"
      ],
      "text/plain": [
       "       calls_sum                            gb_used                        \\\n",
       "            mean median std     sum     var    mean median std    sum var   \n",
       "tariff                                                                      \n",
       "smart        418    422 190 931,577  36,281      16     17   6 36,397  33   \n",
       "ultra        526    518 318 518,724 101,052      19     19  10 19,202  97   \n",
       "\n",
       "       messages_count                          \n",
       "                 mean median std    sum   var  \n",
       "tariff                                         \n",
       "smart              33     28  28 74,413   797  \n",
       "ultra              49     38  48 48,623 2,285  "
      ]
     },
     "execution_count": 71,
     "metadata": {},
     "output_type": "execute_result"
    }
   ],
   "source": [
    "# создание сводной таблицы \n",
    "stat = df_all.pivot_table(\n",
    "    index = 'tariff', \n",
    "    values = ('calls_sum', 'messages_count', 'gb_used'), \n",
    "    aggfunc = ('sum', 'mean', 'median', 'var', 'std' )\n",
    ")\n",
    "stat"
   ]
  },
  {
   "cell_type": "markdown",
   "metadata": {},
   "source": [
    "- в среднем пользователи тарифа \"Ультра\" расходуют больше минут разговора, сообщений и интернет-трафика, тогда как в целом за год пользователи тарифа \"Смарт\" использовали больше по каждому параметру в сумме. Это обусловено бОльшей долей пользователей тарифа \"Смарт\"\n",
    "- значения среднего и медианы по звонкам и интернет-трафику в обоих тарифах приближены друг к другу, что подтвердает стремление к нормальному распределению\n",
    "- значение среднего по сообщениям в обоих тарифах превышает значение медианы, что подтверждает распределение в бОльшую сторону\n",
    "- стандартное отклонение по всем тарифам и всем параметрам показывает, что все значения относительно среднего в нашей выборке достаточно сильно распределены. "
   ]
  },
  {
   "cell_type": "markdown",
   "metadata": {
    "id": "-EgPIHYu_Zcu"
   },
   "source": [
    "**Выводы**\n",
    "\n",
    "Составлена сводная таблица со статистическими данными по звонкам, сообщениям и интернет-трафику по каждому тарифу.\n",
    "\n",
    "- в среднем пользователи тарифа \"Ультра\" расходуют больше минут разговора, сообщений и интернет-трафика, пользователи тарифа \"Смарт\" использовали больше по каждому параметру в сумме за год\n",
    "- стандартное отклонение по всем тарифам и всем параметрам достаточно высокое"
   ]
  },
  {
   "cell_type": "markdown",
   "metadata": {
    "id": "ykKQ0N65_Zcv"
   },
   "source": [
    "## Проверка гипотез"
   ]
  },
  {
   "cell_type": "markdown",
   "metadata": {},
   "source": [
    "### Средняя выручка пользователей тарифов «Ультра» и «Смарт» различаются\n",
    "\n",
    "Для сравнения данных о неравенстве средних выручек сформулирую нулевую и альтернативную гипотезы. \n",
    "\n",
    "Нулевая гипотеза H₀:  \n",
    "средняя выручка пользователей тарифа «Смарт» **не отличается** от средней выручки пользователей тарифа «Ультра».\n",
    "\n",
    "Альтернативная гипотеза H₁:  \n",
    "средняя выручка пользователей тарифа «Смарт» **отличается** от средней выручки пользователей тарифа «Ультра».\n",
    "\n",
    "Применю *t-тест* для выборок по каждому тарифу. Поскольку указанные выборки независимы, укажу *equal_var = False*."
   ]
  },
  {
   "cell_type": "code",
   "execution_count": 72,
   "metadata": {},
   "outputs": [
    {
     "name": "stdout",
     "output_type": "stream",
     "text": [
      "p-значение:  1.927011394420941e-250\n"
     ]
    }
   ],
   "source": [
    "# рассчет p-критерия\n",
    "results = st.ttest_ind(df_all[df_all['tariff'] == 'smart']['revenue'],\\\n",
    "                       df_all[df_all['tariff'] == 'ultra']['revenue'], equal_var = False)\n",
    "\n",
    "print('p-значение: ', results.pvalue)"
   ]
  },
  {
   "cell_type": "markdown",
   "metadata": {},
   "source": [
    "Задам значение alpha = .05"
   ]
  },
  {
   "cell_type": "code",
   "execution_count": 73,
   "metadata": {},
   "outputs": [
    {
     "name": "stdout",
     "output_type": "stream",
     "text": [
      "Отвергаем нулевую гипотезу\n"
     ]
    }
   ],
   "source": [
    "# сравнение p-значения со значением alpha\n",
    "alpha = .05\n",
    "if (results.pvalue < alpha):\n",
    "    print(\"Отвергаем нулевую гипотезу\")\n",
    "else:\n",
    "    print(\"Не получилось отвергнуть нулевую гипотезу\")"
   ]
  },
  {
   "cell_type": "markdown",
   "metadata": {},
   "source": [
    "Полученное p-значение говорит о том, что вероятность получить случайно найденное или еще более экстремальное различие средней выручки между тарифами при условии, что нулевая гипотеза верна, крайне мала (стремится к нулю).  \n",
    "Выбранный критерий значимости не был превышен. Следовательно, делаю вывод о том, что нулевую гипотезу можно отвергнуть.  \n",
    "\n",
    "Проверю, какой тариф приносит бОльшую выручку оператору. Для этого рассчитаю среднее значение выручки по каждому тарифу."
   ]
  },
  {
   "cell_type": "code",
   "execution_count": 74,
   "metadata": {},
   "outputs": [
    {
     "data": {
      "text/html": [
       "<div>\n",
       "<style scoped>\n",
       "    .dataframe tbody tr th:only-of-type {\n",
       "        vertical-align: middle;\n",
       "    }\n",
       "\n",
       "    .dataframe tbody tr th {\n",
       "        vertical-align: top;\n",
       "    }\n",
       "\n",
       "    .dataframe thead th {\n",
       "        text-align: right;\n",
       "    }\n",
       "</style>\n",
       "<table border=\"1\" class=\"dataframe\">\n",
       "  <thead>\n",
       "    <tr style=\"text-align: right;\">\n",
       "      <th></th>\n",
       "      <th>revenue</th>\n",
       "    </tr>\n",
       "    <tr>\n",
       "      <th>tariff</th>\n",
       "      <th></th>\n",
       "    </tr>\n",
       "  </thead>\n",
       "  <tbody>\n",
       "    <tr>\n",
       "      <td>smart</td>\n",
       "      <td>1,290</td>\n",
       "    </tr>\n",
       "    <tr>\n",
       "      <td>ultra</td>\n",
       "      <td>2,070</td>\n",
       "    </tr>\n",
       "  </tbody>\n",
       "</table>\n",
       "</div>"
      ],
      "text/plain": [
       "        revenue\n",
       "tariff         \n",
       "smart     1,290\n",
       "ultra     2,070"
      ]
     },
     "execution_count": 74,
     "metadata": {},
     "output_type": "execute_result"
    }
   ],
   "source": [
    "# создание сводной таблицы\n",
    "revenue = df_all.pivot_table(\n",
    "    index = 'tariff', \n",
    "    values = 'revenue', \n",
    "    aggfunc = 'mean'\n",
    ")\n",
    "revenue"
   ]
  },
  {
   "cell_type": "markdown",
   "metadata": {},
   "source": [
    "Более выгодным для оператора является тариф \"Ультра\", несмотря на то, что пользователей этого тарифа значительно меньше. Достаточно высокий уровень ежемесячной платы по сравнению с тарифом \"Смарт\" позволил серьезно увеличить среднее значение выручки."
   ]
  },
  {
   "cell_type": "markdown",
   "metadata": {},
   "source": [
    "### Средняя выручка пользователей из Москвы отличается от выручки пользователей из других регионов\n",
    "\n",
    "Для сравнения данных о неравенстве средних выручек пользователей Москвы и других регионов сформулирую нулевую и альтернативную гипотезы.\n",
    "\n",
    "Нулевая гипотеза H₀:\n",
    "средняя выручка пользователей из Москвы *не отличается* от средней выручки пользователей из регионов.\n",
    "\n",
    "Альтернативная гипотеза H₁:\n",
    "средняя выручка пользователей из Москвы *отличается* от средней выручки пользователей из регионов.\n",
    "\n",
    "Применю *t-тест* для выборок по Москве и регионам. Поскольку указанные выборки независимы, укажу equal_var = False."
   ]
  },
  {
   "cell_type": "code",
   "execution_count": 75,
   "metadata": {},
   "outputs": [
    {
     "name": "stdout",
     "output_type": "stream",
     "text": [
      "p-значение:  0.8620805649132538\n"
     ]
    }
   ],
   "source": [
    "# рассчет p-критерия\n",
    "results = st.ttest_ind(df_all[df_all['region'] == 'Москва']['revenue'],\\\n",
    "                       df_all[df_all['region'] != 'Москва']['revenue'])\n",
    "\n",
    "print('p-значение: ', results.pvalue)"
   ]
  },
  {
   "cell_type": "markdown",
   "metadata": {},
   "source": [
    "Задам значение alpha = .05"
   ]
  },
  {
   "cell_type": "code",
   "execution_count": 76,
   "metadata": {},
   "outputs": [
    {
     "name": "stdout",
     "output_type": "stream",
     "text": [
      "Не получилось отвергнуть нулевую гипотезу\n"
     ]
    }
   ],
   "source": [
    "# сравнение p-значения со значением alpha\n",
    "alpha = .05\n",
    "if (results.pvalue < alpha):\n",
    "    print(\"Отвергаем нулевую гипотезу\")\n",
    "else:\n",
    "    print(\"Не получилось отвергнуть нулевую гипотезу\")"
   ]
  },
  {
   "cell_type": "markdown",
   "metadata": {},
   "source": [
    "Полученное p-значение говорит о том, что вероятность получить случайно найденное или еще более экстремальное различие средней выручки между Москвой и регионами при условии, что нулевая гипотеза верна, высока.  \n",
    "Выбранный критерий значимости сильно превышен. Следовательно, делаю вывод о том, данные о средней выручке в Москве и регионах не противоречат нулевой гипотезе.\n",
    "\n",
    "**Выводы**\n",
    "\n",
    "Проведенный t-тест позволил:\n",
    "\n",
    "- опровергнуть нулевую гипотезу и сделать вывод о значимом различии между средней выручкой пользователей тарифов «Ультра» и «Смарт» в пользу тарифа «Ультра»\n",
    "\n",
    "- подтвердить нулевую гипотезу об отсутствии отличия между средней выручкой пользователей в Москве и регионах"
   ]
  },
  {
   "cell_type": "markdown",
   "metadata": {
    "id": "ykKQ0N65_Zcv"
   },
   "source": [
    "## Итоги исследования"
   ]
  },
  {
   "cell_type": "markdown",
   "metadata": {},
   "source": [
    "Больше половины клиентов предпочитают тариф \"Смарт\" и расходуют при этом в среднем меньше минут разговора, сообщений и объема интернет-трафика, чем пользователи тарифа \"Ультра\".\n",
    "\n",
    "Опровергнута нулевая гипотезу и сделан вывод о значимом различии между средней выручкой пользователей тарифов «Ультра» и «Смарт».\n",
    "\n",
    "Подтверждена нулевая гипотеза об отсутствии отличия между средней выручкой пользователей в Москве и регионах.\n",
    "\n",
    "Более прибыльным для продвижения выглядит тариф \"Ультра\" вне зависимости от региона продвижения."
   ]
  }
 ],
 "metadata": {
  "ExecuteTimeLog": [
   {
    "duration": 383,
    "start_time": "2021-12-20T07:07:30.120Z"
   },
   {
    "duration": 98,
    "start_time": "2021-12-20T07:07:42.992Z"
   },
   {
    "duration": 287,
    "start_time": "2021-12-20T07:09:09.593Z"
   },
   {
    "duration": 277,
    "start_time": "2021-12-20T07:09:36.075Z"
   },
   {
    "duration": 282,
    "start_time": "2021-12-20T07:14:08.594Z"
   },
   {
    "duration": 830,
    "start_time": "2021-12-20T07:14:34.194Z"
   },
   {
    "duration": 274,
    "start_time": "2021-12-20T07:17:01.754Z"
   },
   {
    "duration": 727,
    "start_time": "2021-12-20T07:18:07.152Z"
   },
   {
    "duration": 182,
    "start_time": "2021-12-20T07:18:13.874Z"
   },
   {
    "duration": 3,
    "start_time": "2021-12-20T07:18:24.674Z"
   },
   {
    "duration": 197,
    "start_time": "2021-12-20T07:18:57.155Z"
   },
   {
    "duration": 25,
    "start_time": "2021-12-20T07:19:08.437Z"
   },
   {
    "duration": 366,
    "start_time": "2021-12-20T07:26:22.953Z"
   },
   {
    "duration": 3,
    "start_time": "2021-12-20T07:26:29.714Z"
   },
   {
    "duration": 190,
    "start_time": "2021-12-20T07:26:31.312Z"
   },
   {
    "duration": 38,
    "start_time": "2021-12-20T07:27:52.114Z"
   },
   {
    "duration": 5,
    "start_time": "2021-12-20T07:37:40.076Z"
   },
   {
    "duration": 343,
    "start_time": "2021-12-20T07:44:06.750Z"
   },
   {
    "duration": 338,
    "start_time": "2021-12-20T07:44:39.440Z"
   },
   {
    "duration": 6,
    "start_time": "2021-12-20T07:45:46.190Z"
   },
   {
    "duration": 23,
    "start_time": "2021-12-20T07:46:55.870Z"
   },
   {
    "duration": 6,
    "start_time": "2021-12-20T07:47:26.236Z"
   },
   {
    "duration": 40,
    "start_time": "2021-12-20T07:48:29.949Z"
   },
   {
    "duration": 36,
    "start_time": "2021-12-20T07:57:25.309Z"
   },
   {
    "duration": 29,
    "start_time": "2021-12-20T07:57:45.669Z"
   },
   {
    "duration": 33,
    "start_time": "2021-12-20T07:57:55.204Z"
   },
   {
    "duration": 4,
    "start_time": "2021-12-20T08:02:31.989Z"
   },
   {
    "duration": 23,
    "start_time": "2021-12-20T08:04:40.943Z"
   },
   {
    "duration": 30,
    "start_time": "2021-12-20T08:04:56.549Z"
   },
   {
    "duration": 106,
    "start_time": "2021-12-20T08:07:19.589Z"
   },
   {
    "duration": 92,
    "start_time": "2021-12-20T08:09:29.150Z"
   },
   {
    "duration": 81,
    "start_time": "2021-12-20T08:10:34.712Z"
   },
   {
    "duration": 79,
    "start_time": "2021-12-20T08:10:48.190Z"
   },
   {
    "duration": 81,
    "start_time": "2021-12-20T08:10:54.432Z"
   },
   {
    "duration": 90,
    "start_time": "2021-12-20T08:11:05.551Z"
   },
   {
    "duration": 97,
    "start_time": "2021-12-20T08:11:12.310Z"
   },
   {
    "duration": 85,
    "start_time": "2021-12-20T08:11:21.791Z"
   },
   {
    "duration": 4,
    "start_time": "2021-12-20T08:13:07.067Z"
   },
   {
    "duration": 208,
    "start_time": "2021-12-20T08:13:08.190Z"
   },
   {
    "duration": 20,
    "start_time": "2021-12-20T08:13:09.553Z"
   },
   {
    "duration": 33,
    "start_time": "2021-12-20T08:13:13.589Z"
   },
   {
    "duration": 7,
    "start_time": "2021-12-20T08:13:21.028Z"
   },
   {
    "duration": 16,
    "start_time": "2021-12-20T08:13:23.990Z"
   },
   {
    "duration": 6,
    "start_time": "2021-12-20T08:13:28.435Z"
   },
   {
    "duration": 29,
    "start_time": "2021-12-20T08:13:38.590Z"
   },
   {
    "duration": 21,
    "start_time": "2021-12-20T08:13:43.590Z"
   },
   {
    "duration": 28,
    "start_time": "2021-12-20T08:13:45.550Z"
   },
   {
    "duration": 77,
    "start_time": "2021-12-20T08:13:49.349Z"
   },
   {
    "duration": 89,
    "start_time": "2021-12-20T08:13:53.870Z"
   },
   {
    "duration": 72,
    "start_time": "2021-12-20T08:13:58.350Z"
   },
   {
    "duration": 8,
    "start_time": "2021-12-20T08:17:26.852Z"
   },
   {
    "duration": 11,
    "start_time": "2021-12-20T08:21:47.245Z"
   },
   {
    "duration": 71,
    "start_time": "2021-12-20T08:23:36.627Z"
   },
   {
    "duration": 63,
    "start_time": "2021-12-20T08:24:07.897Z"
   },
   {
    "duration": 5,
    "start_time": "2021-12-20T08:30:42.243Z"
   },
   {
    "duration": 32,
    "start_time": "2021-12-20T08:33:11.667Z"
   },
   {
    "duration": 71,
    "start_time": "2021-12-20T08:33:41.505Z"
   },
   {
    "duration": 59,
    "start_time": "2021-12-20T08:39:12.920Z"
   },
   {
    "duration": 48,
    "start_time": "2021-12-20T08:41:27.238Z"
   },
   {
    "duration": 95,
    "start_time": "2021-12-20T08:54:07.413Z"
   },
   {
    "duration": 122,
    "start_time": "2021-12-20T08:55:06.651Z"
   },
   {
    "duration": 133,
    "start_time": "2021-12-20T08:55:53.381Z"
   },
   {
    "duration": 295,
    "start_time": "2021-12-20T08:57:28.135Z"
   },
   {
    "duration": 186,
    "start_time": "2021-12-20T08:57:55.972Z"
   },
   {
    "duration": 391,
    "start_time": "2021-12-20T08:58:14.028Z"
   },
   {
    "duration": 5,
    "start_time": "2021-12-20T08:58:22.158Z"
   },
   {
    "duration": 13916,
    "start_time": "2021-12-20T08:58:27.522Z"
   },
   {
    "duration": 568,
    "start_time": "2021-12-20T08:59:19.582Z"
   },
   {
    "duration": 559,
    "start_time": "2021-12-20T08:59:46.941Z"
   },
   {
    "duration": 344,
    "start_time": "2021-12-20T09:00:06.695Z"
   },
   {
    "duration": 538,
    "start_time": "2021-12-20T09:00:34.815Z"
   },
   {
    "duration": 5,
    "start_time": "2021-12-20T09:01:40.272Z"
   },
   {
    "duration": 7318,
    "start_time": "2021-12-20T09:01:42.179Z"
   },
   {
    "duration": 5,
    "start_time": "2021-12-20T09:02:46.293Z"
   },
   {
    "duration": 5,
    "start_time": "2021-12-20T09:03:28.309Z"
   },
   {
    "duration": 7842,
    "start_time": "2021-12-20T09:03:36.233Z"
   },
   {
    "duration": 4,
    "start_time": "2021-12-20T09:06:01.367Z"
   },
   {
    "duration": 10460,
    "start_time": "2021-12-20T09:07:25.941Z"
   },
   {
    "duration": 5,
    "start_time": "2021-12-20T09:09:30.175Z"
   },
   {
    "duration": 2926,
    "start_time": "2021-12-20T09:09:35.122Z"
   },
   {
    "duration": 4,
    "start_time": "2021-12-20T09:18:16.273Z"
   },
   {
    "duration": 580,
    "start_time": "2021-12-20T09:18:29.103Z"
   },
   {
    "duration": 5,
    "start_time": "2021-12-20T09:19:36.075Z"
   },
   {
    "duration": 751,
    "start_time": "2021-12-20T09:19:38.873Z"
   },
   {
    "duration": 10,
    "start_time": "2021-12-20T09:29:18.235Z"
   },
   {
    "duration": 26,
    "start_time": "2021-12-20T09:29:21.665Z"
   },
   {
    "duration": 21,
    "start_time": "2021-12-20T09:30:28.181Z"
   },
   {
    "duration": 24,
    "start_time": "2021-12-20T09:30:29.942Z"
   },
   {
    "duration": 5,
    "start_time": "2021-12-20T09:31:47.592Z"
   },
   {
    "duration": 11,
    "start_time": "2021-12-20T09:31:49.704Z"
   },
   {
    "duration": 11,
    "start_time": "2021-12-20T09:31:54.863Z"
   },
   {
    "duration": 5,
    "start_time": "2021-12-20T09:43:54.157Z"
   },
   {
    "duration": 21,
    "start_time": "2021-12-20T09:43:56.977Z"
   },
   {
    "duration": 6,
    "start_time": "2021-12-20T09:44:17.788Z"
   },
   {
    "duration": 16,
    "start_time": "2021-12-20T09:44:22.733Z"
   },
   {
    "duration": 6,
    "start_time": "2021-12-20T09:45:45.021Z"
   },
   {
    "duration": 11,
    "start_time": "2021-12-20T09:45:47.376Z"
   },
   {
    "duration": 4,
    "start_time": "2021-12-20T09:50:51.266Z"
   },
   {
    "duration": 16,
    "start_time": "2021-12-20T09:50:54.655Z"
   },
   {
    "duration": 5,
    "start_time": "2021-12-20T09:55:10.522Z"
   },
   {
    "duration": 602,
    "start_time": "2021-12-20T09:55:11.741Z"
   },
   {
    "duration": 5,
    "start_time": "2021-12-20T10:19:56.873Z"
   },
   {
    "duration": 3075,
    "start_time": "2021-12-20T10:19:59.305Z"
   },
   {
    "duration": 10,
    "start_time": "2021-12-20T10:20:28.035Z"
   },
   {
    "duration": 13,
    "start_time": "2021-12-20T10:20:30.192Z"
   },
   {
    "duration": 7,
    "start_time": "2021-12-20T10:21:43.718Z"
   },
   {
    "duration": 670,
    "start_time": "2021-12-20T10:21:45.180Z"
   },
   {
    "duration": 5,
    "start_time": "2021-12-20T10:22:09.812Z"
   },
   {
    "duration": 17,
    "start_time": "2021-12-20T10:22:11.764Z"
   },
   {
    "duration": 18,
    "start_time": "2021-12-20T10:22:18.643Z"
   },
   {
    "duration": 7,
    "start_time": "2021-12-20T10:36:59.820Z"
   },
   {
    "duration": 17,
    "start_time": "2021-12-20T10:37:01.231Z"
   },
   {
    "duration": 14,
    "start_time": "2021-12-20T10:37:41.801Z"
   },
   {
    "duration": 7,
    "start_time": "2021-12-20T10:38:28.740Z"
   },
   {
    "duration": 12,
    "start_time": "2021-12-20T10:38:30.552Z"
   },
   {
    "duration": 394,
    "start_time": "2021-12-20T10:48:01.727Z"
   },
   {
    "duration": 13,
    "start_time": "2021-12-20T10:48:39.347Z"
   },
   {
    "duration": 18,
    "start_time": "2021-12-20T10:48:59.546Z"
   },
   {
    "duration": 25,
    "start_time": "2021-12-20T10:59:51.446Z"
   },
   {
    "duration": 6,
    "start_time": "2021-12-20T11:13:49.537Z"
   },
   {
    "duration": 57,
    "start_time": "2021-12-20T11:13:53.728Z"
   },
   {
    "duration": 6,
    "start_time": "2021-12-20T11:14:22.058Z"
   },
   {
    "duration": 59,
    "start_time": "2021-12-20T11:14:23.994Z"
   },
   {
    "duration": 50,
    "start_time": "2021-12-20T11:14:28.948Z"
   },
   {
    "duration": 5,
    "start_time": "2021-12-20T11:14:38.267Z"
   },
   {
    "duration": 5,
    "start_time": "2021-12-20T11:14:49.401Z"
   },
   {
    "duration": 26,
    "start_time": "2021-12-20T11:14:51.229Z"
   },
   {
    "duration": 22,
    "start_time": "2021-12-20T11:15:15.949Z"
   },
   {
    "duration": 26,
    "start_time": "2021-12-20T11:16:07.514Z"
   },
   {
    "duration": 21,
    "start_time": "2021-12-20T11:16:31.576Z"
   },
   {
    "duration": 34,
    "start_time": "2021-12-20T11:17:10.519Z"
   },
   {
    "duration": 22,
    "start_time": "2021-12-20T11:17:11.436Z"
   },
   {
    "duration": 277,
    "start_time": "2021-12-20T11:18:37.476Z"
   },
   {
    "duration": 101,
    "start_time": "2021-12-20T11:26:04.948Z"
   },
   {
    "duration": 5,
    "start_time": "2021-12-20T12:26:35.379Z"
   },
   {
    "duration": 23,
    "start_time": "2021-12-20T12:26:38.950Z"
   },
   {
    "duration": 6,
    "start_time": "2021-12-20T12:26:52.440Z"
   },
   {
    "duration": 21,
    "start_time": "2021-12-20T12:26:53.761Z"
   },
   {
    "duration": 874,
    "start_time": "2021-12-20T12:30:05.103Z"
   },
   {
    "duration": 291,
    "start_time": "2021-12-20T12:32:42.708Z"
   },
   {
    "duration": 296,
    "start_time": "2021-12-20T12:44:52.790Z"
   },
   {
    "duration": 293,
    "start_time": "2021-12-20T12:45:50.909Z"
   },
   {
    "duration": 326,
    "start_time": "2021-12-20T12:47:21.052Z"
   },
   {
    "duration": 357,
    "start_time": "2021-12-20T12:47:40.090Z"
   },
   {
    "duration": 296,
    "start_time": "2021-12-20T12:54:16.929Z"
   },
   {
    "duration": 11,
    "start_time": "2021-12-20T12:56:51.076Z"
   },
   {
    "duration": 12,
    "start_time": "2021-12-20T12:57:19.311Z"
   },
   {
    "duration": 15,
    "start_time": "2021-12-20T12:59:14.770Z"
   },
   {
    "duration": 5,
    "start_time": "2021-12-20T13:09:10.618Z"
   },
   {
    "duration": 6,
    "start_time": "2021-12-20T13:13:42.062Z"
   },
   {
    "duration": 282,
    "start_time": "2021-12-20T19:22:09.719Z"
   },
   {
    "duration": 4,
    "start_time": "2021-12-20T19:22:37.109Z"
   },
   {
    "duration": 342,
    "start_time": "2021-12-20T19:22:39.303Z"
   },
   {
    "duration": 249,
    "start_time": "2021-12-20T19:23:07.075Z"
   },
   {
    "duration": 274,
    "start_time": "2021-12-20T19:23:42.548Z"
   },
   {
    "duration": 276,
    "start_time": "2021-12-20T19:51:16.863Z"
   },
   {
    "duration": 238,
    "start_time": "2021-12-20T19:51:29.623Z"
   },
   {
    "duration": 3,
    "start_time": "2021-12-20T19:59:54.049Z"
   },
   {
    "duration": 639,
    "start_time": "2021-12-20T20:00:00.347Z"
   },
   {
    "duration": 587,
    "start_time": "2021-12-20T20:00:48.221Z"
   },
   {
    "duration": 141,
    "start_time": "2021-12-20T20:00:48.810Z"
   },
   {
    "duration": 17,
    "start_time": "2021-12-20T20:00:48.954Z"
   },
   {
    "duration": 34,
    "start_time": "2021-12-20T20:00:48.972Z"
   },
   {
    "duration": 10,
    "start_time": "2021-12-20T20:00:49.008Z"
   },
   {
    "duration": 21,
    "start_time": "2021-12-20T20:00:49.020Z"
   },
   {
    "duration": 4,
    "start_time": "2021-12-20T20:00:49.043Z"
   },
   {
    "duration": 23,
    "start_time": "2021-12-20T20:00:49.062Z"
   },
   {
    "duration": 20,
    "start_time": "2021-12-20T20:00:49.087Z"
   },
   {
    "duration": 23,
    "start_time": "2021-12-20T20:00:49.108Z"
   },
   {
    "duration": 79,
    "start_time": "2021-12-20T20:00:49.132Z"
   },
   {
    "duration": 71,
    "start_time": "2021-12-20T20:00:49.213Z"
   },
   {
    "duration": 52,
    "start_time": "2021-12-20T20:00:49.285Z"
   },
   {
    "duration": 49,
    "start_time": "2021-12-20T20:00:49.338Z"
   },
   {
    "duration": 3,
    "start_time": "2021-12-20T20:00:49.389Z"
   },
   {
    "duration": 31,
    "start_time": "2021-12-20T20:00:49.393Z"
   },
   {
    "duration": 45,
    "start_time": "2021-12-20T20:00:49.425Z"
   },
   {
    "duration": 34,
    "start_time": "2021-12-20T20:00:49.471Z"
   },
   {
    "duration": 32,
    "start_time": "2021-12-20T20:00:49.507Z"
   },
   {
    "duration": 20,
    "start_time": "2021-12-20T20:00:49.541Z"
   },
   {
    "duration": 29,
    "start_time": "2021-12-20T20:00:49.563Z"
   },
   {
    "duration": 19,
    "start_time": "2021-12-20T20:00:49.594Z"
   },
   {
    "duration": 44,
    "start_time": "2021-12-20T20:00:49.616Z"
   },
   {
    "duration": 17,
    "start_time": "2021-12-20T20:00:49.663Z"
   },
   {
    "duration": 22,
    "start_time": "2021-12-20T20:00:49.682Z"
   },
   {
    "duration": 17,
    "start_time": "2021-12-20T20:00:49.705Z"
   },
   {
    "duration": 8,
    "start_time": "2021-12-20T20:00:49.723Z"
   },
   {
    "duration": 11,
    "start_time": "2021-12-20T20:00:49.761Z"
   },
   {
    "duration": 19,
    "start_time": "2021-12-20T20:00:49.774Z"
   },
   {
    "duration": 124,
    "start_time": "2021-12-20T20:00:49.795Z"
   },
   {
    "duration": 1860,
    "start_time": "2021-12-20T20:00:48.061Z"
   },
   {
    "duration": 1856,
    "start_time": "2021-12-20T20:00:48.066Z"
   },
   {
    "duration": 1850,
    "start_time": "2021-12-20T20:00:48.072Z"
   },
   {
    "duration": 1845,
    "start_time": "2021-12-20T20:00:48.078Z"
   },
   {
    "duration": 1840,
    "start_time": "2021-12-20T20:00:48.084Z"
   },
   {
    "duration": 1835,
    "start_time": "2021-12-20T20:00:48.090Z"
   },
   {
    "duration": 1830,
    "start_time": "2021-12-20T20:00:48.096Z"
   },
   {
    "duration": 1825,
    "start_time": "2021-12-20T20:00:48.102Z"
   },
   {
    "duration": 4,
    "start_time": "2021-12-20T20:01:39.160Z"
   },
   {
    "duration": 18,
    "start_time": "2021-12-20T20:01:43.421Z"
   },
   {
    "duration": 5,
    "start_time": "2021-12-20T20:04:03.962Z"
   },
   {
    "duration": 4,
    "start_time": "2021-12-20T20:04:29.517Z"
   },
   {
    "duration": 19,
    "start_time": "2021-12-20T20:04:33.111Z"
   },
   {
    "duration": 4,
    "start_time": "2021-12-20T20:05:47.764Z"
   },
   {
    "duration": 16,
    "start_time": "2021-12-20T20:05:50.181Z"
   },
   {
    "duration": 15,
    "start_time": "2021-12-20T20:05:52.197Z"
   },
   {
    "duration": 16,
    "start_time": "2021-12-20T20:05:53.061Z"
   },
   {
    "duration": 16,
    "start_time": "2021-12-20T20:05:53.789Z"
   },
   {
    "duration": 17,
    "start_time": "2021-12-20T20:05:54.590Z"
   },
   {
    "duration": 16,
    "start_time": "2021-12-20T20:05:55.302Z"
   },
   {
    "duration": 15,
    "start_time": "2021-12-20T20:08:37.743Z"
   },
   {
    "duration": 16,
    "start_time": "2021-12-20T20:08:51.662Z"
   },
   {
    "duration": 16,
    "start_time": "2021-12-20T20:08:52.190Z"
   },
   {
    "duration": 14,
    "start_time": "2021-12-20T20:08:52.703Z"
   },
   {
    "duration": 15,
    "start_time": "2021-12-20T20:08:55.624Z"
   },
   {
    "duration": 18,
    "start_time": "2021-12-20T20:08:57.502Z"
   },
   {
    "duration": 9,
    "start_time": "2021-12-20T20:10:01.067Z"
   },
   {
    "duration": 292,
    "start_time": "2021-12-20T20:18:47.868Z"
   },
   {
    "duration": 37,
    "start_time": "2021-12-20T20:22:04.551Z"
   },
   {
    "duration": 8,
    "start_time": "2021-12-20T20:22:30.669Z"
   },
   {
    "duration": 15,
    "start_time": "2021-12-20T20:22:37.823Z"
   },
   {
    "duration": 66,
    "start_time": "2021-12-20T20:22:59.108Z"
   },
   {
    "duration": 68,
    "start_time": "2021-12-20T20:23:26.864Z"
   },
   {
    "duration": 14,
    "start_time": "2021-12-20T20:24:29.461Z"
   },
   {
    "duration": 10,
    "start_time": "2021-12-20T20:24:32.184Z"
   },
   {
    "duration": 100,
    "start_time": "2021-12-20T20:26:01.592Z"
   },
   {
    "duration": 84,
    "start_time": "2021-12-20T20:26:10.989Z"
   },
   {
    "duration": 4,
    "start_time": "2021-12-20T20:26:50.048Z"
   },
   {
    "duration": 576,
    "start_time": "2021-12-20T20:26:58.352Z"
   },
   {
    "duration": 5,
    "start_time": "2021-12-20T20:28:49.279Z"
   },
   {
    "duration": 479,
    "start_time": "2021-12-20T20:28:53.790Z"
   },
   {
    "duration": 86,
    "start_time": "2021-12-20T20:31:44.196Z"
   },
   {
    "duration": 4,
    "start_time": "2021-12-20T20:31:50.238Z"
   },
   {
    "duration": 1009,
    "start_time": "2021-12-20T20:31:52.307Z"
   },
   {
    "duration": 7,
    "start_time": "2021-12-20T20:32:34.161Z"
   },
   {
    "duration": 676,
    "start_time": "2021-12-20T20:32:35.704Z"
   },
   {
    "duration": 4,
    "start_time": "2021-12-20T20:33:55.675Z"
   },
   {
    "duration": 29,
    "start_time": "2021-12-20T20:33:57.671Z"
   },
   {
    "duration": 4,
    "start_time": "2021-12-20T20:34:08.796Z"
   },
   {
    "duration": 19,
    "start_time": "2021-12-20T20:34:10.588Z"
   },
   {
    "duration": 107,
    "start_time": "2021-12-20T20:50:48.193Z"
   },
   {
    "duration": 4,
    "start_time": "2021-12-20T20:52:54.516Z"
   },
   {
    "duration": 19,
    "start_time": "2021-12-20T20:52:59.501Z"
   },
   {
    "duration": 13,
    "start_time": "2021-12-20T20:53:55.343Z"
   },
   {
    "duration": 18,
    "start_time": "2021-12-20T20:57:40.750Z"
   },
   {
    "duration": 12,
    "start_time": "2021-12-20T20:58:12.748Z"
   },
   {
    "duration": 12,
    "start_time": "2021-12-20T21:04:04.846Z"
   },
   {
    "duration": 14,
    "start_time": "2021-12-20T21:04:20.348Z"
   },
   {
    "duration": 18,
    "start_time": "2021-12-20T21:04:22.744Z"
   },
   {
    "duration": 13,
    "start_time": "2021-12-20T21:04:23.191Z"
   },
   {
    "duration": 9,
    "start_time": "2021-12-20T21:05:18.341Z"
   },
   {
    "duration": 21,
    "start_time": "2021-12-20T21:20:01.875Z"
   },
   {
    "duration": 13,
    "start_time": "2021-12-20T21:20:13.862Z"
   },
   {
    "duration": 19,
    "start_time": "2021-12-20T21:24:02.194Z"
   },
   {
    "duration": 13,
    "start_time": "2021-12-20T21:24:11.782Z"
   },
   {
    "duration": 727,
    "start_time": "2021-12-21T07:07:24.273Z"
   },
   {
    "duration": 170,
    "start_time": "2021-12-21T07:07:25.004Z"
   },
   {
    "duration": 25,
    "start_time": "2021-12-21T07:07:25.177Z"
   },
   {
    "duration": 65,
    "start_time": "2021-12-21T07:07:25.205Z"
   },
   {
    "duration": 36,
    "start_time": "2021-12-21T07:07:25.273Z"
   },
   {
    "duration": 50,
    "start_time": "2021-12-21T07:07:25.311Z"
   },
   {
    "duration": 43,
    "start_time": "2021-12-21T07:07:25.363Z"
   },
   {
    "duration": 52,
    "start_time": "2021-12-21T07:07:25.409Z"
   },
   {
    "duration": 50,
    "start_time": "2021-12-21T07:07:25.464Z"
   },
   {
    "duration": 44,
    "start_time": "2021-12-21T07:07:25.517Z"
   },
   {
    "duration": 94,
    "start_time": "2021-12-21T07:07:25.563Z"
   },
   {
    "duration": 98,
    "start_time": "2021-12-21T07:07:25.660Z"
   },
   {
    "duration": 78,
    "start_time": "2021-12-21T07:07:25.761Z"
   },
   {
    "duration": 54,
    "start_time": "2021-12-21T07:07:25.841Z"
   },
   {
    "duration": 22,
    "start_time": "2021-12-21T07:07:25.897Z"
   },
   {
    "duration": 50,
    "start_time": "2021-12-21T07:07:25.923Z"
   },
   {
    "duration": 74,
    "start_time": "2021-12-21T07:07:25.975Z"
   },
   {
    "duration": 79,
    "start_time": "2021-12-21T07:07:26.051Z"
   },
   {
    "duration": 40,
    "start_time": "2021-12-21T07:07:26.132Z"
   },
   {
    "duration": 4,
    "start_time": "2021-12-21T07:07:26.175Z"
   },
   {
    "duration": 53,
    "start_time": "2021-12-21T07:07:26.181Z"
   },
   {
    "duration": 41,
    "start_time": "2021-12-21T07:07:26.236Z"
   },
   {
    "duration": 52,
    "start_time": "2021-12-21T07:07:26.281Z"
   },
   {
    "duration": 18,
    "start_time": "2021-12-21T07:07:26.336Z"
   },
   {
    "duration": 34,
    "start_time": "2021-12-21T07:07:26.356Z"
   },
   {
    "duration": 18,
    "start_time": "2021-12-21T07:07:26.392Z"
   },
   {
    "duration": 89,
    "start_time": "2021-12-21T07:07:26.424Z"
   },
   {
    "duration": 14,
    "start_time": "2021-12-21T07:07:26.523Z"
   },
   {
    "duration": 54,
    "start_time": "2021-12-21T07:07:26.539Z"
   },
   {
    "duration": 38,
    "start_time": "2021-12-21T07:07:26.596Z"
   },
   {
    "duration": 53,
    "start_time": "2021-12-21T07:07:26.636Z"
   },
   {
    "duration": 367,
    "start_time": "2021-12-21T07:07:26.692Z"
   },
   {
    "duration": 1035,
    "start_time": "2021-12-21T07:07:26.027Z"
   },
   {
    "duration": 1030,
    "start_time": "2021-12-21T07:07:26.033Z"
   },
   {
    "duration": 1012,
    "start_time": "2021-12-21T07:07:26.053Z"
   },
   {
    "duration": 1008,
    "start_time": "2021-12-21T07:07:26.058Z"
   },
   {
    "duration": 1003,
    "start_time": "2021-12-21T07:07:26.065Z"
   },
   {
    "duration": 999,
    "start_time": "2021-12-21T07:07:26.070Z"
   },
   {
    "duration": 18,
    "start_time": "2021-12-21T07:36:55.095Z"
   },
   {
    "duration": 24,
    "start_time": "2021-12-21T07:36:59.856Z"
   },
   {
    "duration": 18,
    "start_time": "2021-12-21T07:37:00.936Z"
   },
   {
    "duration": 13,
    "start_time": "2021-12-21T07:39:21.372Z"
   },
   {
    "duration": 7,
    "start_time": "2021-12-21T07:39:27.062Z"
   },
   {
    "duration": 8,
    "start_time": "2021-12-21T07:40:18.677Z"
   },
   {
    "duration": 7,
    "start_time": "2021-12-21T07:40:19.814Z"
   },
   {
    "duration": 756,
    "start_time": "2021-12-21T07:42:33.160Z"
   },
   {
    "duration": 175,
    "start_time": "2021-12-21T07:42:33.919Z"
   },
   {
    "duration": 27,
    "start_time": "2021-12-21T07:42:34.098Z"
   },
   {
    "duration": 53,
    "start_time": "2021-12-21T07:42:34.129Z"
   },
   {
    "duration": 6,
    "start_time": "2021-12-21T07:42:34.185Z"
   },
   {
    "duration": 46,
    "start_time": "2021-12-21T07:42:34.194Z"
   },
   {
    "duration": 35,
    "start_time": "2021-12-21T07:42:34.243Z"
   },
   {
    "duration": 32,
    "start_time": "2021-12-21T07:42:34.283Z"
   },
   {
    "duration": 21,
    "start_time": "2021-12-21T07:42:34.319Z"
   },
   {
    "duration": 27,
    "start_time": "2021-12-21T07:42:34.343Z"
   },
   {
    "duration": 105,
    "start_time": "2021-12-21T07:42:34.374Z"
   },
   {
    "duration": 105,
    "start_time": "2021-12-21T07:42:34.482Z"
   },
   {
    "duration": 76,
    "start_time": "2021-12-21T07:42:34.590Z"
   },
   {
    "duration": 64,
    "start_time": "2021-12-21T07:42:34.668Z"
   },
   {
    "duration": 5,
    "start_time": "2021-12-21T07:42:34.735Z"
   },
   {
    "duration": 21,
    "start_time": "2021-12-21T07:42:34.743Z"
   },
   {
    "duration": 88,
    "start_time": "2021-12-21T07:42:34.766Z"
   },
   {
    "duration": 66,
    "start_time": "2021-12-21T07:42:34.857Z"
   },
   {
    "duration": 40,
    "start_time": "2021-12-21T07:42:34.926Z"
   },
   {
    "duration": 5,
    "start_time": "2021-12-21T07:42:34.969Z"
   },
   {
    "duration": 50,
    "start_time": "2021-12-21T07:42:34.977Z"
   },
   {
    "duration": 18,
    "start_time": "2021-12-21T07:42:35.030Z"
   },
   {
    "duration": 19,
    "start_time": "2021-12-21T07:42:35.054Z"
   },
   {
    "duration": 60,
    "start_time": "2021-12-21T07:42:35.077Z"
   },
   {
    "duration": 30,
    "start_time": "2021-12-21T07:42:35.141Z"
   },
   {
    "duration": 20,
    "start_time": "2021-12-21T07:42:35.174Z"
   },
   {
    "duration": 100,
    "start_time": "2021-12-21T07:42:35.225Z"
   },
   {
    "duration": 13,
    "start_time": "2021-12-21T07:42:35.327Z"
   },
   {
    "duration": 10,
    "start_time": "2021-12-21T07:42:35.343Z"
   },
   {
    "duration": 6,
    "start_time": "2021-12-21T07:42:35.355Z"
   },
   {
    "duration": 61,
    "start_time": "2021-12-21T07:42:35.363Z"
   },
   {
    "duration": 16,
    "start_time": "2021-12-21T07:42:35.427Z"
   },
   {
    "duration": 21,
    "start_time": "2021-12-21T07:42:35.445Z"
   },
   {
    "duration": 15,
    "start_time": "2021-12-21T07:42:35.468Z"
   },
   {
    "duration": 45,
    "start_time": "2021-12-21T07:42:35.485Z"
   },
   {
    "duration": 28,
    "start_time": "2021-12-21T07:42:35.532Z"
   },
   {
    "duration": 25,
    "start_time": "2021-12-21T07:42:35.562Z"
   },
   {
    "duration": 27,
    "start_time": "2021-12-21T07:42:35.589Z"
   },
   {
    "duration": 387,
    "start_time": "2021-12-21T07:50:37.149Z"
   },
   {
    "duration": 15,
    "start_time": "2021-12-21T07:50:44.950Z"
   },
   {
    "duration": 13,
    "start_time": "2021-12-21T07:51:31.830Z"
   },
   {
    "duration": 579,
    "start_time": "2021-12-21T15:26:44.140Z"
   },
   {
    "duration": 136,
    "start_time": "2021-12-21T15:26:44.721Z"
   },
   {
    "duration": 16,
    "start_time": "2021-12-21T15:26:44.859Z"
   },
   {
    "duration": 27,
    "start_time": "2021-12-21T15:26:44.877Z"
   },
   {
    "duration": 4,
    "start_time": "2021-12-21T15:26:44.905Z"
   },
   {
    "duration": 32,
    "start_time": "2021-12-21T15:26:44.911Z"
   },
   {
    "duration": 3,
    "start_time": "2021-12-21T15:26:44.945Z"
   },
   {
    "duration": 30,
    "start_time": "2021-12-21T15:26:44.950Z"
   },
   {
    "duration": 17,
    "start_time": "2021-12-21T15:26:44.983Z"
   },
   {
    "duration": 26,
    "start_time": "2021-12-21T15:26:45.002Z"
   },
   {
    "duration": 68,
    "start_time": "2021-12-21T15:26:45.030Z"
   },
   {
    "duration": 73,
    "start_time": "2021-12-21T15:26:45.099Z"
   },
   {
    "duration": 68,
    "start_time": "2021-12-21T15:26:45.174Z"
   },
   {
    "duration": 49,
    "start_time": "2021-12-21T15:26:45.244Z"
   },
   {
    "duration": 3,
    "start_time": "2021-12-21T15:26:45.295Z"
   },
   {
    "duration": 21,
    "start_time": "2021-12-21T15:26:45.299Z"
   },
   {
    "duration": 54,
    "start_time": "2021-12-21T15:26:45.321Z"
   },
   {
    "duration": 10,
    "start_time": "2021-12-21T15:26:45.377Z"
   },
   {
    "duration": 9,
    "start_time": "2021-12-21T15:26:45.389Z"
   },
   {
    "duration": 3,
    "start_time": "2021-12-21T15:26:45.400Z"
   },
   {
    "duration": 24,
    "start_time": "2021-12-21T15:26:45.405Z"
   },
   {
    "duration": 15,
    "start_time": "2021-12-21T15:26:45.441Z"
   },
   {
    "duration": 13,
    "start_time": "2021-12-21T15:26:45.458Z"
   },
   {
    "duration": 13,
    "start_time": "2021-12-21T15:26:45.472Z"
   },
   {
    "duration": 17,
    "start_time": "2021-12-21T15:26:45.486Z"
   },
   {
    "duration": 13,
    "start_time": "2021-12-21T15:26:45.505Z"
   },
   {
    "duration": 68,
    "start_time": "2021-12-21T15:26:45.542Z"
   },
   {
    "duration": 10,
    "start_time": "2021-12-21T15:26:45.612Z"
   },
   {
    "duration": 19,
    "start_time": "2021-12-21T15:26:45.623Z"
   },
   {
    "duration": 7,
    "start_time": "2021-12-21T15:26:45.644Z"
   },
   {
    "duration": 24,
    "start_time": "2021-12-21T15:26:45.652Z"
   },
   {
    "duration": 12,
    "start_time": "2021-12-21T15:26:45.678Z"
   },
   {
    "duration": 23,
    "start_time": "2021-12-21T15:26:45.692Z"
   },
   {
    "duration": 11,
    "start_time": "2021-12-21T15:26:45.716Z"
   },
   {
    "duration": 17,
    "start_time": "2021-12-21T15:26:45.729Z"
   },
   {
    "duration": 4,
    "start_time": "2021-12-21T15:26:45.748Z"
   },
   {
    "duration": 13,
    "start_time": "2021-12-21T15:26:45.753Z"
   },
   {
    "duration": 17,
    "start_time": "2021-12-21T15:26:45.767Z"
   },
   {
    "duration": 6,
    "start_time": "2021-12-21T19:51:16.010Z"
   },
   {
    "duration": 460,
    "start_time": "2021-12-21T19:51:24.744Z"
   },
   {
    "duration": 791,
    "start_time": "2021-12-21T19:51:41.095Z"
   },
   {
    "duration": 187,
    "start_time": "2021-12-21T19:51:41.889Z"
   },
   {
    "duration": 25,
    "start_time": "2021-12-21T19:51:42.079Z"
   },
   {
    "duration": 60,
    "start_time": "2021-12-21T19:51:42.107Z"
   },
   {
    "duration": 6,
    "start_time": "2021-12-21T19:51:42.170Z"
   },
   {
    "duration": 25,
    "start_time": "2021-12-21T19:51:42.178Z"
   },
   {
    "duration": 7,
    "start_time": "2021-12-21T19:51:42.205Z"
   },
   {
    "duration": 61,
    "start_time": "2021-12-21T19:51:42.215Z"
   },
   {
    "duration": 22,
    "start_time": "2021-12-21T19:51:42.280Z"
   },
   {
    "duration": 30,
    "start_time": "2021-12-21T19:51:42.305Z"
   },
   {
    "duration": 85,
    "start_time": "2021-12-21T19:51:42.361Z"
   },
   {
    "duration": 119,
    "start_time": "2021-12-21T19:51:42.449Z"
   },
   {
    "duration": 88,
    "start_time": "2021-12-21T19:51:42.571Z"
   },
   {
    "duration": 58,
    "start_time": "2021-12-21T19:51:42.672Z"
   },
   {
    "duration": 4,
    "start_time": "2021-12-21T19:51:42.732Z"
   },
   {
    "duration": 44,
    "start_time": "2021-12-21T19:51:42.738Z"
   },
   {
    "duration": 58,
    "start_time": "2021-12-21T19:51:42.785Z"
   },
   {
    "duration": 32,
    "start_time": "2021-12-21T19:51:42.845Z"
   },
   {
    "duration": 14,
    "start_time": "2021-12-21T19:51:42.879Z"
   },
   {
    "duration": 5,
    "start_time": "2021-12-21T19:51:42.895Z"
   },
   {
    "duration": 57,
    "start_time": "2021-12-21T19:51:42.902Z"
   },
   {
    "duration": 24,
    "start_time": "2021-12-21T19:51:42.963Z"
   },
   {
    "duration": 19,
    "start_time": "2021-12-21T19:51:42.989Z"
   },
   {
    "duration": 17,
    "start_time": "2021-12-21T19:51:43.010Z"
   },
   {
    "duration": 26,
    "start_time": "2021-12-21T19:51:43.059Z"
   },
   {
    "duration": 21,
    "start_time": "2021-12-21T19:51:43.088Z"
   },
   {
    "duration": 132,
    "start_time": "2021-12-21T19:51:43.114Z"
   },
   {
    "duration": 15,
    "start_time": "2021-12-21T19:51:43.248Z"
   },
   {
    "duration": 32,
    "start_time": "2021-12-21T19:51:43.267Z"
   },
   {
    "duration": 8,
    "start_time": "2021-12-21T19:51:43.302Z"
   },
   {
    "duration": 29,
    "start_time": "2021-12-21T19:51:43.313Z"
   },
   {
    "duration": 28,
    "start_time": "2021-12-21T19:51:43.345Z"
   },
   {
    "duration": 24,
    "start_time": "2021-12-21T19:51:43.376Z"
   },
   {
    "duration": 15,
    "start_time": "2021-12-21T19:51:43.403Z"
   },
   {
    "duration": 51,
    "start_time": "2021-12-21T19:51:43.420Z"
   },
   {
    "duration": 6,
    "start_time": "2021-12-21T19:51:43.473Z"
   },
   {
    "duration": 13,
    "start_time": "2021-12-21T19:51:43.481Z"
   },
   {
    "duration": 6,
    "start_time": "2021-12-21T19:51:43.496Z"
   },
   {
    "duration": 463,
    "start_time": "2021-12-21T19:51:43.504Z"
   },
   {
    "duration": 930,
    "start_time": "2021-12-21T20:12:20.793Z"
   },
   {
    "duration": 209,
    "start_time": "2021-12-21T20:12:21.726Z"
   },
   {
    "duration": 29,
    "start_time": "2021-12-21T20:12:21.939Z"
   },
   {
    "duration": 34,
    "start_time": "2021-12-21T20:12:21.971Z"
   },
   {
    "duration": 5,
    "start_time": "2021-12-21T20:12:22.008Z"
   },
   {
    "duration": 65,
    "start_time": "2021-12-21T20:12:22.016Z"
   },
   {
    "duration": 6,
    "start_time": "2021-12-21T20:12:22.084Z"
   },
   {
    "duration": 31,
    "start_time": "2021-12-21T20:12:22.094Z"
   },
   {
    "duration": 54,
    "start_time": "2021-12-21T20:12:22.129Z"
   },
   {
    "duration": 36,
    "start_time": "2021-12-21T20:12:22.186Z"
   },
   {
    "duration": 148,
    "start_time": "2021-12-21T20:12:22.225Z"
   },
   {
    "duration": 114,
    "start_time": "2021-12-21T20:12:22.376Z"
   },
   {
    "duration": 88,
    "start_time": "2021-12-21T20:12:22.492Z"
   },
   {
    "duration": 59,
    "start_time": "2021-12-21T20:12:22.582Z"
   },
   {
    "duration": 5,
    "start_time": "2021-12-21T20:12:22.660Z"
   },
   {
    "duration": 31,
    "start_time": "2021-12-21T20:12:22.667Z"
   },
   {
    "duration": 81,
    "start_time": "2021-12-21T20:12:22.701Z"
   },
   {
    "duration": 15,
    "start_time": "2021-12-21T20:12:22.785Z"
   },
   {
    "duration": 19,
    "start_time": "2021-12-21T20:12:22.803Z"
   },
   {
    "duration": 39,
    "start_time": "2021-12-21T20:12:22.825Z"
   },
   {
    "duration": 37,
    "start_time": "2021-12-21T20:12:22.867Z"
   },
   {
    "duration": 23,
    "start_time": "2021-12-21T20:12:22.907Z"
   },
   {
    "duration": 30,
    "start_time": "2021-12-21T20:12:22.964Z"
   },
   {
    "duration": 24,
    "start_time": "2021-12-21T20:12:22.998Z"
   },
   {
    "duration": 51,
    "start_time": "2021-12-21T20:12:23.025Z"
   },
   {
    "duration": 20,
    "start_time": "2021-12-21T20:12:23.079Z"
   },
   {
    "duration": 138,
    "start_time": "2021-12-21T20:12:23.102Z"
   },
   {
    "duration": 23,
    "start_time": "2021-12-21T20:12:23.243Z"
   },
   {
    "duration": 13,
    "start_time": "2021-12-21T20:12:23.269Z"
   },
   {
    "duration": 6,
    "start_time": "2021-12-21T20:12:23.284Z"
   },
   {
    "duration": 26,
    "start_time": "2021-12-21T20:12:23.292Z"
   },
   {
    "duration": 50,
    "start_time": "2021-12-21T20:12:23.320Z"
   },
   {
    "duration": 24,
    "start_time": "2021-12-21T20:12:23.373Z"
   },
   {
    "duration": 19,
    "start_time": "2021-12-21T20:12:23.400Z"
   },
   {
    "duration": 48,
    "start_time": "2021-12-21T20:12:23.421Z"
   },
   {
    "duration": 8,
    "start_time": "2021-12-21T20:12:23.472Z"
   },
   {
    "duration": 11,
    "start_time": "2021-12-21T20:12:23.483Z"
   },
   {
    "duration": 8,
    "start_time": "2021-12-21T20:12:23.497Z"
   },
   {
    "duration": 4,
    "start_time": "2021-12-21T20:48:38.237Z"
   },
   {
    "duration": 811,
    "start_time": "2021-12-21T21:03:46.393Z"
   },
   {
    "duration": 200,
    "start_time": "2021-12-21T21:03:47.208Z"
   },
   {
    "duration": 29,
    "start_time": "2021-12-21T21:03:47.412Z"
   },
   {
    "duration": 34,
    "start_time": "2021-12-21T21:03:47.460Z"
   },
   {
    "duration": 6,
    "start_time": "2021-12-21T21:03:47.497Z"
   },
   {
    "duration": 55,
    "start_time": "2021-12-21T21:03:47.505Z"
   },
   {
    "duration": 7,
    "start_time": "2021-12-21T21:03:47.563Z"
   },
   {
    "duration": 32,
    "start_time": "2021-12-21T21:03:47.573Z"
   },
   {
    "duration": 52,
    "start_time": "2021-12-21T21:03:47.610Z"
   },
   {
    "duration": 32,
    "start_time": "2021-12-21T21:03:47.665Z"
   },
   {
    "duration": 109,
    "start_time": "2021-12-21T21:03:47.699Z"
   },
   {
    "duration": 119,
    "start_time": "2021-12-21T21:03:47.811Z"
   },
   {
    "duration": 91,
    "start_time": "2021-12-21T21:03:47.932Z"
   },
   {
    "duration": 65,
    "start_time": "2021-12-21T21:03:48.026Z"
   },
   {
    "duration": 5,
    "start_time": "2021-12-21T21:03:48.093Z"
   },
   {
    "duration": 25,
    "start_time": "2021-12-21T21:03:48.101Z"
   },
   {
    "duration": 84,
    "start_time": "2021-12-21T21:03:48.129Z"
   },
   {
    "duration": 16,
    "start_time": "2021-12-21T21:03:48.215Z"
   },
   {
    "duration": 40,
    "start_time": "2021-12-21T21:03:48.233Z"
   },
   {
    "duration": 5,
    "start_time": "2021-12-21T21:03:48.276Z"
   },
   {
    "duration": 28,
    "start_time": "2021-12-21T21:03:48.283Z"
   },
   {
    "duration": 51,
    "start_time": "2021-12-21T21:03:48.313Z"
   },
   {
    "duration": 21,
    "start_time": "2021-12-21T21:03:48.366Z"
   },
   {
    "duration": 20,
    "start_time": "2021-12-21T21:03:48.389Z"
   },
   {
    "duration": 57,
    "start_time": "2021-12-21T21:03:48.411Z"
   },
   {
    "duration": 21,
    "start_time": "2021-12-21T21:03:48.471Z"
   },
   {
    "duration": 121,
    "start_time": "2021-12-21T21:03:48.497Z"
   },
   {
    "duration": 14,
    "start_time": "2021-12-21T21:03:48.621Z"
   },
   {
    "duration": 27,
    "start_time": "2021-12-21T21:03:48.638Z"
   },
   {
    "duration": 6,
    "start_time": "2021-12-21T21:03:48.667Z"
   },
   {
    "duration": 28,
    "start_time": "2021-12-21T21:03:48.676Z"
   },
   {
    "duration": 17,
    "start_time": "2021-12-21T21:03:48.706Z"
   },
   {
    "duration": 57,
    "start_time": "2021-12-21T21:03:48.725Z"
   },
   {
    "duration": 17,
    "start_time": "2021-12-21T21:03:48.784Z"
   },
   {
    "duration": 12,
    "start_time": "2021-12-21T21:03:48.803Z"
   },
   {
    "duration": 6,
    "start_time": "2021-12-21T21:03:48.818Z"
   },
   {
    "duration": 9,
    "start_time": "2021-12-21T21:03:48.860Z"
   },
   {
    "duration": 7,
    "start_time": "2021-12-21T21:03:48.871Z"
   },
   {
    "duration": 685,
    "start_time": "2021-12-21T22:09:55.131Z"
   },
   {
    "duration": 152,
    "start_time": "2021-12-21T22:09:55.818Z"
   },
   {
    "duration": 18,
    "start_time": "2021-12-21T22:09:55.972Z"
   },
   {
    "duration": 29,
    "start_time": "2021-12-21T22:09:55.993Z"
   },
   {
    "duration": 4,
    "start_time": "2021-12-21T22:09:56.024Z"
   },
   {
    "duration": 20,
    "start_time": "2021-12-21T22:09:56.042Z"
   },
   {
    "duration": 5,
    "start_time": "2021-12-21T22:09:56.064Z"
   },
   {
    "duration": 25,
    "start_time": "2021-12-21T22:09:56.071Z"
   },
   {
    "duration": 48,
    "start_time": "2021-12-21T22:09:56.098Z"
   },
   {
    "duration": 22,
    "start_time": "2021-12-21T22:09:56.148Z"
   },
   {
    "duration": 75,
    "start_time": "2021-12-21T22:09:56.171Z"
   },
   {
    "duration": 63,
    "start_time": "2021-12-21T22:09:56.247Z"
   },
   {
    "duration": 63,
    "start_time": "2021-12-21T22:09:56.312Z"
   },
   {
    "duration": 40,
    "start_time": "2021-12-21T22:09:56.377Z"
   },
   {
    "duration": 2,
    "start_time": "2021-12-21T22:09:56.419Z"
   },
   {
    "duration": 31,
    "start_time": "2021-12-21T22:09:56.423Z"
   },
   {
    "duration": 42,
    "start_time": "2021-12-21T22:09:56.455Z"
   },
   {
    "duration": 11,
    "start_time": "2021-12-21T22:09:56.499Z"
   },
   {
    "duration": 39,
    "start_time": "2021-12-21T22:09:56.512Z"
   },
   {
    "duration": 4,
    "start_time": "2021-12-21T22:09:56.553Z"
   },
   {
    "duration": 25,
    "start_time": "2021-12-21T22:09:56.559Z"
   },
   {
    "duration": 16,
    "start_time": "2021-12-21T22:09:56.586Z"
   },
   {
    "duration": 46,
    "start_time": "2021-12-21T22:09:56.604Z"
   },
   {
    "duration": 13,
    "start_time": "2021-12-21T22:09:56.652Z"
   },
   {
    "duration": 16,
    "start_time": "2021-12-21T22:09:56.667Z"
   },
   {
    "duration": 14,
    "start_time": "2021-12-21T22:09:56.685Z"
   },
   {
    "duration": 97,
    "start_time": "2021-12-21T22:09:56.701Z"
   },
   {
    "duration": 10,
    "start_time": "2021-12-21T22:09:56.800Z"
   },
   {
    "duration": 8,
    "start_time": "2021-12-21T22:09:56.811Z"
   },
   {
    "duration": 20,
    "start_time": "2021-12-21T22:09:56.821Z"
   },
   {
    "duration": 17,
    "start_time": "2021-12-21T22:09:56.842Z"
   },
   {
    "duration": 11,
    "start_time": "2021-12-21T22:09:56.860Z"
   },
   {
    "duration": 15,
    "start_time": "2021-12-21T22:09:56.873Z"
   },
   {
    "duration": 11,
    "start_time": "2021-12-21T22:09:56.890Z"
   },
   {
    "duration": 39,
    "start_time": "2021-12-21T22:09:56.902Z"
   },
   {
    "duration": 6,
    "start_time": "2021-12-21T22:09:56.943Z"
   },
   {
    "duration": 12,
    "start_time": "2021-12-21T22:09:56.951Z"
   },
   {
    "duration": 4,
    "start_time": "2021-12-21T22:09:56.965Z"
   },
   {
    "duration": 723,
    "start_time": "2021-12-22T07:07:48.116Z"
   },
   {
    "duration": 189,
    "start_time": "2021-12-22T07:07:48.842Z"
   },
   {
    "duration": 37,
    "start_time": "2021-12-22T07:07:49.034Z"
   },
   {
    "duration": 50,
    "start_time": "2021-12-22T07:07:49.074Z"
   },
   {
    "duration": 6,
    "start_time": "2021-12-22T07:07:49.127Z"
   },
   {
    "duration": 58,
    "start_time": "2021-12-22T07:07:49.136Z"
   },
   {
    "duration": 6,
    "start_time": "2021-12-22T07:07:49.196Z"
   },
   {
    "duration": 36,
    "start_time": "2021-12-22T07:07:49.204Z"
   },
   {
    "duration": 43,
    "start_time": "2021-12-22T07:07:49.244Z"
   },
   {
    "duration": 30,
    "start_time": "2021-12-22T07:07:49.290Z"
   },
   {
    "duration": 117,
    "start_time": "2021-12-22T07:07:49.322Z"
   },
   {
    "duration": 109,
    "start_time": "2021-12-22T07:07:49.442Z"
   },
   {
    "duration": 85,
    "start_time": "2021-12-22T07:07:49.553Z"
   },
   {
    "duration": 76,
    "start_time": "2021-12-22T07:07:49.640Z"
   },
   {
    "duration": 5,
    "start_time": "2021-12-22T07:07:49.718Z"
   },
   {
    "duration": 19,
    "start_time": "2021-12-22T07:07:49.725Z"
   },
   {
    "duration": 75,
    "start_time": "2021-12-22T07:07:49.746Z"
   },
   {
    "duration": 14,
    "start_time": "2021-12-22T07:07:49.824Z"
   },
   {
    "duration": 15,
    "start_time": "2021-12-22T07:07:49.868Z"
   },
   {
    "duration": 5,
    "start_time": "2021-12-22T07:07:49.885Z"
   },
   {
    "duration": 28,
    "start_time": "2021-12-22T07:07:49.893Z"
   },
   {
    "duration": 46,
    "start_time": "2021-12-22T07:07:49.924Z"
   },
   {
    "duration": 22,
    "start_time": "2021-12-22T07:07:49.973Z"
   },
   {
    "duration": 19,
    "start_time": "2021-12-22T07:07:49.997Z"
   },
   {
    "duration": 61,
    "start_time": "2021-12-22T07:07:50.018Z"
   },
   {
    "duration": 21,
    "start_time": "2021-12-22T07:07:50.081Z"
   },
   {
    "duration": 122,
    "start_time": "2021-12-22T07:07:50.107Z"
   },
   {
    "duration": 13,
    "start_time": "2021-12-22T07:07:50.232Z"
   },
   {
    "duration": 24,
    "start_time": "2021-12-22T07:07:50.248Z"
   },
   {
    "duration": 6,
    "start_time": "2021-12-22T07:07:50.274Z"
   },
   {
    "duration": 26,
    "start_time": "2021-12-22T07:07:50.283Z"
   },
   {
    "duration": 27,
    "start_time": "2021-12-22T07:07:50.312Z"
   },
   {
    "duration": 52,
    "start_time": "2021-12-22T07:07:50.341Z"
   },
   {
    "duration": 23,
    "start_time": "2021-12-22T07:07:50.396Z"
   },
   {
    "duration": 12,
    "start_time": "2021-12-22T07:07:50.421Z"
   },
   {
    "duration": 7,
    "start_time": "2021-12-22T07:07:50.467Z"
   },
   {
    "duration": 12,
    "start_time": "2021-12-22T07:07:50.477Z"
   },
   {
    "duration": 7,
    "start_time": "2021-12-22T07:07:50.492Z"
   },
   {
    "duration": 14,
    "start_time": "2021-12-22T07:08:37.636Z"
   },
   {
    "duration": 4,
    "start_time": "2021-12-22T07:08:48.178Z"
   },
   {
    "duration": 4,
    "start_time": "2021-12-22T07:09:03.697Z"
   },
   {
    "duration": 13,
    "start_time": "2021-12-22T07:09:09.092Z"
   },
   {
    "duration": 59,
    "start_time": "2021-12-22T07:09:19.915Z"
   },
   {
    "duration": 4,
    "start_time": "2021-12-22T07:09:45.097Z"
   },
   {
    "duration": 22,
    "start_time": "2021-12-22T07:09:50.378Z"
   },
   {
    "duration": 96,
    "start_time": "2021-12-22T07:09:58.992Z"
   },
   {
    "duration": 4,
    "start_time": "2021-12-22T07:10:04.558Z"
   },
   {
    "duration": 4,
    "start_time": "2021-12-22T07:10:10.098Z"
   },
   {
    "duration": 14,
    "start_time": "2021-12-22T07:10:14.287Z"
   },
   {
    "duration": 1405,
    "start_time": "2022-01-15T10:00:07.362Z"
   },
   {
    "duration": 35,
    "start_time": "2022-01-15T10:00:08.770Z"
   },
   {
    "duration": 16,
    "start_time": "2022-01-15T10:00:08.809Z"
   },
   {
    "duration": 6,
    "start_time": "2022-01-15T10:00:08.828Z"
   },
   {
    "duration": 45,
    "start_time": "2022-01-15T10:00:08.836Z"
   },
   {
    "duration": 8,
    "start_time": "2022-01-15T10:00:08.885Z"
   },
   {
    "duration": 15,
    "start_time": "2022-01-15T10:00:08.897Z"
   },
   {
    "duration": 50,
    "start_time": "2022-01-15T10:00:08.916Z"
   },
   {
    "duration": 27,
    "start_time": "2022-01-15T10:00:08.971Z"
   },
   {
    "duration": 26,
    "start_time": "2022-01-15T10:00:09.002Z"
   },
   {
    "duration": 58,
    "start_time": "2022-01-15T10:00:09.030Z"
   },
   {
    "duration": 10,
    "start_time": "2022-01-15T10:00:09.091Z"
   },
   {
    "duration": 11,
    "start_time": "2022-01-15T10:00:09.104Z"
   },
   {
    "duration": 11,
    "start_time": "2022-01-15T10:00:09.118Z"
   },
   {
    "duration": 12,
    "start_time": "2022-01-15T10:00:09.170Z"
   },
   {
    "duration": 23,
    "start_time": "2022-01-15T10:00:09.185Z"
   },
   {
    "duration": 7,
    "start_time": "2022-01-15T10:00:09.210Z"
   },
   {
    "duration": 6,
    "start_time": "2022-01-15T10:00:09.220Z"
   },
   {
    "duration": 60,
    "start_time": "2022-01-15T10:00:09.228Z"
   },
   {
    "duration": 25,
    "start_time": "2022-01-15T10:00:09.291Z"
   },
   {
    "duration": 6554,
    "start_time": "2022-01-15T10:00:09.319Z"
   },
   {
    "duration": 27,
    "start_time": "2022-01-15T10:00:15.876Z"
   },
   {
    "duration": 18,
    "start_time": "2022-01-15T10:00:15.906Z"
   },
   {
    "duration": 15,
    "start_time": "2022-01-15T10:00:15.927Z"
   },
   {
    "duration": 11,
    "start_time": "2022-01-15T10:00:15.967Z"
   },
   {
    "duration": 16,
    "start_time": "2022-01-15T10:00:15.981Z"
   },
   {
    "duration": 10,
    "start_time": "2022-01-15T10:00:16.002Z"
   },
   {
    "duration": 85,
    "start_time": "2022-01-15T10:00:16.015Z"
   },
   {
    "duration": 31,
    "start_time": "2022-01-15T10:00:16.103Z"
   },
   {
    "duration": 67,
    "start_time": "2022-01-15T10:00:16.137Z"
   },
   {
    "duration": 63,
    "start_time": "2022-01-15T10:00:16.207Z"
   },
   {
    "duration": 1148,
    "start_time": "2022-02-15T21:53:01.616Z"
   },
   {
    "duration": 512,
    "start_time": "2022-02-15T21:53:02.766Z"
   },
   {
    "duration": 12,
    "start_time": "2022-02-15T21:53:03.280Z"
   },
   {
    "duration": 11,
    "start_time": "2022-02-15T21:53:03.294Z"
   },
   {
    "duration": 8,
    "start_time": "2022-02-15T21:53:03.306Z"
   },
   {
    "duration": 14,
    "start_time": "2022-02-15T21:53:03.316Z"
   },
   {
    "duration": 8,
    "start_time": "2022-02-15T21:53:03.332Z"
   },
   {
    "duration": 18,
    "start_time": "2022-02-15T21:53:03.342Z"
   },
   {
    "duration": 27,
    "start_time": "2022-02-15T21:53:03.363Z"
   },
   {
    "duration": 7,
    "start_time": "2022-02-15T21:53:03.392Z"
   },
   {
    "duration": 18,
    "start_time": "2022-02-15T21:53:03.400Z"
   },
   {
    "duration": 13,
    "start_time": "2022-02-15T21:53:03.420Z"
   },
   {
    "duration": 33,
    "start_time": "2022-02-15T21:53:03.434Z"
   },
   {
    "duration": 8,
    "start_time": "2022-02-15T21:53:03.469Z"
   },
   {
    "duration": 10,
    "start_time": "2022-02-15T21:53:03.479Z"
   },
   {
    "duration": 10,
    "start_time": "2022-02-15T21:53:03.491Z"
   },
   {
    "duration": 57,
    "start_time": "2022-02-15T21:53:03.503Z"
   },
   {
    "duration": 27,
    "start_time": "2022-02-15T21:53:03.562Z"
   },
   {
    "duration": 34,
    "start_time": "2022-02-15T21:53:03.591Z"
   },
   {
    "duration": 32,
    "start_time": "2022-02-15T21:53:03.627Z"
   },
   {
    "duration": 9,
    "start_time": "2022-02-15T21:53:03.661Z"
   },
   {
    "duration": 8,
    "start_time": "2022-02-15T21:53:03.672Z"
   },
   {
    "duration": 21,
    "start_time": "2022-02-15T21:53:03.682Z"
   },
   {
    "duration": 6,
    "start_time": "2022-02-15T21:53:03.705Z"
   },
   {
    "duration": 133,
    "start_time": "2022-02-15T21:53:03.712Z"
   },
   {
    "duration": 59,
    "start_time": "2022-02-15T21:53:03.847Z"
   },
   {
    "duration": 82,
    "start_time": "2022-02-15T21:53:03.910Z"
   },
   {
    "duration": 2,
    "start_time": "2022-02-15T21:53:03.995Z"
   },
   {
    "duration": 30,
    "start_time": "2022-02-15T21:53:03.999Z"
   },
   {
    "duration": 15,
    "start_time": "2022-02-15T21:53:04.031Z"
   },
   {
    "duration": 25,
    "start_time": "2022-02-15T21:53:04.047Z"
   },
   {
    "duration": 5,
    "start_time": "2022-02-15T21:53:04.073Z"
   },
   {
    "duration": 13,
    "start_time": "2022-02-15T21:53:04.080Z"
   },
   {
    "duration": 21,
    "start_time": "2022-02-15T21:53:04.095Z"
   },
   {
    "duration": 50,
    "start_time": "2022-02-15T21:53:04.117Z"
   },
   {
    "duration": 20,
    "start_time": "2022-02-15T21:53:04.169Z"
   },
   {
    "duration": 4,
    "start_time": "2022-02-15T21:53:04.191Z"
   },
   {
    "duration": 9,
    "start_time": "2022-02-15T21:53:04.197Z"
   },
   {
    "duration": 70,
    "start_time": "2022-02-15T21:53:04.207Z"
   },
   {
    "duration": 33,
    "start_time": "2022-02-15T21:53:04.279Z"
   },
   {
    "duration": 48,
    "start_time": "2022-02-15T21:53:04.314Z"
   },
   {
    "duration": 14,
    "start_time": "2022-02-15T21:53:04.364Z"
   },
   {
    "duration": 12,
    "start_time": "2022-02-15T21:53:04.380Z"
   },
   {
    "duration": 183,
    "start_time": "2022-02-15T21:53:04.394Z"
   },
   {
    "duration": 12,
    "start_time": "2022-02-15T21:53:04.579Z"
   },
   {
    "duration": 22,
    "start_time": "2022-02-15T21:53:04.596Z"
   },
   {
    "duration": 16,
    "start_time": "2022-02-15T21:53:04.619Z"
   },
   {
    "duration": 50,
    "start_time": "2022-02-15T21:53:04.637Z"
   },
   {
    "duration": 33,
    "start_time": "2022-02-15T21:53:04.689Z"
   },
   {
    "duration": 53,
    "start_time": "2022-02-15T21:53:04.724Z"
   },
   {
    "duration": 25,
    "start_time": "2022-02-15T21:53:04.779Z"
   },
   {
    "duration": 9,
    "start_time": "2022-02-15T21:53:04.807Z"
   },
   {
    "duration": 47,
    "start_time": "2022-02-15T21:53:04.817Z"
   },
   {
    "duration": 20,
    "start_time": "2022-02-15T21:53:04.867Z"
   },
   {
    "duration": 10,
    "start_time": "2022-02-15T21:53:04.890Z"
   },
   {
    "duration": 26,
    "start_time": "2022-02-15T21:53:04.902Z"
   },
   {
    "duration": 57,
    "start_time": "2022-02-15T21:53:04.930Z"
   },
   {
    "duration": 20,
    "start_time": "2022-02-15T21:53:04.989Z"
   },
   {
    "duration": 96,
    "start_time": "2022-02-15T21:53:05.011Z"
   },
   {
    "duration": 9,
    "start_time": "2022-02-15T21:53:05.109Z"
   },
   {
    "duration": 379,
    "start_time": "2022-02-15T21:53:05.119Z"
   },
   {
    "duration": 339,
    "start_time": "2022-02-15T21:53:05.500Z"
   },
   {
    "duration": 438,
    "start_time": "2022-02-15T21:53:05.841Z"
   },
   {
    "duration": 19,
    "start_time": "2022-02-15T21:53:06.281Z"
   },
   {
    "duration": 18,
    "start_time": "2022-02-15T21:53:06.301Z"
   },
   {
    "duration": 1183,
    "start_time": "2022-02-15T21:53:06.321Z"
   },
   {
    "duration": 31,
    "start_time": "2022-02-15T21:53:07.505Z"
   },
   {
    "duration": 22,
    "start_time": "2022-02-15T21:53:07.537Z"
   },
   {
    "duration": 3,
    "start_time": "2022-02-15T21:53:07.561Z"
   },
   {
    "duration": 20,
    "start_time": "2022-02-15T21:53:07.566Z"
   },
   {
    "duration": 9,
    "start_time": "2022-02-15T21:53:07.587Z"
   },
   {
    "duration": 9,
    "start_time": "2022-02-15T21:53:07.598Z"
   },
   {
    "duration": 1440,
    "start_time": "2022-02-16T08:03:31.961Z"
   },
   {
    "duration": 626,
    "start_time": "2022-02-16T08:03:33.404Z"
   },
   {
    "duration": 21,
    "start_time": "2022-02-16T08:03:34.033Z"
   },
   {
    "duration": 17,
    "start_time": "2022-02-16T08:03:34.056Z"
   },
   {
    "duration": 19,
    "start_time": "2022-02-16T08:03:34.075Z"
   },
   {
    "duration": 16,
    "start_time": "2022-02-16T08:03:34.096Z"
   },
   {
    "duration": 20,
    "start_time": "2022-02-16T08:03:34.114Z"
   },
   {
    "duration": 20,
    "start_time": "2022-02-16T08:03:34.137Z"
   },
   {
    "duration": 50,
    "start_time": "2022-02-16T08:03:34.160Z"
   },
   {
    "duration": 10,
    "start_time": "2022-02-16T08:03:34.213Z"
   },
   {
    "duration": 48,
    "start_time": "2022-02-16T08:03:34.225Z"
   },
   {
    "duration": 19,
    "start_time": "2022-02-16T08:03:34.276Z"
   },
   {
    "duration": 44,
    "start_time": "2022-02-16T08:03:34.297Z"
   },
   {
    "duration": 12,
    "start_time": "2022-02-16T08:03:34.344Z"
   },
   {
    "duration": 28,
    "start_time": "2022-02-16T08:03:34.358Z"
   },
   {
    "duration": 25,
    "start_time": "2022-02-16T08:03:34.388Z"
   },
   {
    "duration": 80,
    "start_time": "2022-02-16T08:03:34.416Z"
   },
   {
    "duration": 37,
    "start_time": "2022-02-16T08:03:34.499Z"
   },
   {
    "duration": 45,
    "start_time": "2022-02-16T08:03:34.539Z"
   },
   {
    "duration": 19,
    "start_time": "2022-02-16T08:03:34.586Z"
   },
   {
    "duration": 33,
    "start_time": "2022-02-16T08:03:34.607Z"
   },
   {
    "duration": 32,
    "start_time": "2022-02-16T08:03:34.642Z"
   },
   {
    "duration": 43,
    "start_time": "2022-02-16T08:03:34.680Z"
   },
   {
    "duration": 29,
    "start_time": "2022-02-16T08:03:34.727Z"
   },
   {
    "duration": 131,
    "start_time": "2022-02-16T08:03:34.758Z"
   },
   {
    "duration": 59,
    "start_time": "2022-02-16T08:03:34.892Z"
   },
   {
    "duration": 92,
    "start_time": "2022-02-16T08:03:34.953Z"
   },
   {
    "duration": 3,
    "start_time": "2022-02-16T08:03:35.047Z"
   },
   {
    "duration": 75,
    "start_time": "2022-02-16T08:03:35.052Z"
   },
   {
    "duration": 23,
    "start_time": "2022-02-16T08:03:35.129Z"
   },
   {
    "duration": 24,
    "start_time": "2022-02-16T08:03:35.154Z"
   },
   {
    "duration": 9,
    "start_time": "2022-02-16T08:03:35.180Z"
   },
   {
    "duration": 33,
    "start_time": "2022-02-16T08:03:35.191Z"
   },
   {
    "duration": 38,
    "start_time": "2022-02-16T08:03:35.226Z"
   },
   {
    "duration": 43,
    "start_time": "2022-02-16T08:03:35.266Z"
   },
   {
    "duration": 45,
    "start_time": "2022-02-16T08:03:35.312Z"
   },
   {
    "duration": 12,
    "start_time": "2022-02-16T08:03:35.359Z"
   },
   {
    "duration": 26,
    "start_time": "2022-02-16T08:03:35.373Z"
   },
   {
    "duration": 68,
    "start_time": "2022-02-16T08:03:35.401Z"
   },
   {
    "duration": 44,
    "start_time": "2022-02-16T08:03:35.471Z"
   },
   {
    "duration": 54,
    "start_time": "2022-02-16T08:03:35.517Z"
   },
   {
    "duration": 18,
    "start_time": "2022-02-16T08:03:35.574Z"
   },
   {
    "duration": 45,
    "start_time": "2022-02-16T08:03:35.595Z"
   },
   {
    "duration": 299,
    "start_time": "2022-02-16T08:03:35.643Z"
   },
   {
    "duration": 18,
    "start_time": "2022-02-16T08:03:35.945Z"
   },
   {
    "duration": 53,
    "start_time": "2022-02-16T08:03:35.965Z"
   },
   {
    "duration": 34,
    "start_time": "2022-02-16T08:03:36.020Z"
   },
   {
    "duration": 50,
    "start_time": "2022-02-16T08:03:36.056Z"
   },
   {
    "duration": 63,
    "start_time": "2022-02-16T08:03:36.109Z"
   },
   {
    "duration": 63,
    "start_time": "2022-02-16T08:03:36.175Z"
   },
   {
    "duration": 44,
    "start_time": "2022-02-16T08:03:36.241Z"
   },
   {
    "duration": 12,
    "start_time": "2022-02-16T08:03:36.288Z"
   },
   {
    "duration": 59,
    "start_time": "2022-02-16T08:03:36.303Z"
   },
   {
    "duration": 35,
    "start_time": "2022-02-16T08:03:36.364Z"
   },
   {
    "duration": 12,
    "start_time": "2022-02-16T08:03:36.402Z"
   },
   {
    "duration": 51,
    "start_time": "2022-02-16T08:03:36.417Z"
   },
   {
    "duration": 63,
    "start_time": "2022-02-16T08:03:36.470Z"
   },
   {
    "duration": 30,
    "start_time": "2022-02-16T08:03:36.536Z"
   },
   {
    "duration": 134,
    "start_time": "2022-02-16T08:03:36.569Z"
   },
   {
    "duration": 27,
    "start_time": "2022-02-16T08:03:36.707Z"
   },
   {
    "duration": 562,
    "start_time": "2022-02-16T08:03:36.736Z"
   },
   {
    "duration": 527,
    "start_time": "2022-02-16T08:03:37.301Z"
   },
   {
    "duration": 585,
    "start_time": "2022-02-16T08:03:37.833Z"
   },
   {
    "duration": 33,
    "start_time": "2022-02-16T08:03:38.420Z"
   },
   {
    "duration": 40,
    "start_time": "2022-02-16T08:03:38.456Z"
   },
   {
    "duration": 1415,
    "start_time": "2022-02-16T08:03:38.498Z"
   },
   {
    "duration": 54,
    "start_time": "2022-02-16T08:03:39.916Z"
   },
   {
    "duration": 10,
    "start_time": "2022-02-16T08:03:39.976Z"
   },
   {
    "duration": 8,
    "start_time": "2022-02-16T08:03:39.989Z"
   },
   {
    "duration": 44,
    "start_time": "2022-02-16T08:03:39.999Z"
   },
   {
    "duration": 11,
    "start_time": "2022-02-16T08:03:40.045Z"
   },
   {
    "duration": 5,
    "start_time": "2022-02-16T08:03:40.058Z"
   },
   {
    "duration": 13,
    "start_time": "2022-02-16T08:04:36.114Z"
   },
   {
    "duration": 812,
    "start_time": "2022-02-16T08:06:52.350Z"
   },
   {
    "duration": 16,
    "start_time": "2022-02-16T08:07:02.001Z"
   },
   {
    "duration": 4,
    "start_time": "2022-02-16T08:07:45.514Z"
   },
   {
    "duration": 4,
    "start_time": "2022-02-16T08:13:09.214Z"
   },
   {
    "duration": 10,
    "start_time": "2022-02-16T08:13:30.633Z"
   },
   {
    "duration": 114,
    "start_time": "2022-02-16T08:14:59.054Z"
   },
   {
    "duration": 53,
    "start_time": "2022-02-16T08:15:10.254Z"
   },
   {
    "duration": 58,
    "start_time": "2022-02-16T08:15:23.242Z"
   },
   {
    "duration": 3,
    "start_time": "2022-02-16T08:22:33.462Z"
   },
   {
    "duration": 5,
    "start_time": "2022-02-16T08:24:35.236Z"
   },
   {
    "duration": 33,
    "start_time": "2022-02-16T08:26:32.838Z"
   },
   {
    "duration": 19,
    "start_time": "2022-02-16T08:26:57.966Z"
   },
   {
    "duration": 30,
    "start_time": "2022-02-16T08:27:09.088Z"
   },
   {
    "duration": 46,
    "start_time": "2022-02-16T08:37:16.994Z"
   },
   {
    "duration": 623,
    "start_time": "2022-02-16T08:43:25.616Z"
   },
   {
    "duration": 86,
    "start_time": "2022-02-16T08:44:19.326Z"
   },
   {
    "duration": 89,
    "start_time": "2022-02-16T08:44:28.358Z"
   },
   {
    "duration": 88,
    "start_time": "2022-02-16T08:44:45.525Z"
   },
   {
    "duration": 5,
    "start_time": "2022-02-16T08:44:55.805Z"
   },
   {
    "duration": 5,
    "start_time": "2022-02-16T08:45:01.117Z"
   },
   {
    "duration": 29,
    "start_time": "2022-02-16T08:45:09.151Z"
   },
   {
    "duration": 57,
    "start_time": "2022-02-16T08:45:51.148Z"
   },
   {
    "duration": 46,
    "start_time": "2022-02-16T08:45:59.559Z"
   },
   {
    "duration": 12,
    "start_time": "2022-02-16T08:46:14.246Z"
   },
   {
    "duration": 1456,
    "start_time": "2022-02-16T08:46:26.995Z"
   },
   {
    "duration": 857,
    "start_time": "2022-02-16T08:46:28.453Z"
   },
   {
    "duration": 27,
    "start_time": "2022-02-16T08:46:29.314Z"
   },
   {
    "duration": 11,
    "start_time": "2022-02-16T08:46:29.345Z"
   },
   {
    "duration": 7,
    "start_time": "2022-02-16T08:46:29.359Z"
   },
   {
    "duration": 7,
    "start_time": "2022-02-16T08:46:29.369Z"
   },
   {
    "duration": 11,
    "start_time": "2022-02-16T08:46:29.379Z"
   },
   {
    "duration": 15,
    "start_time": "2022-02-16T08:46:29.432Z"
   },
   {
    "duration": 41,
    "start_time": "2022-02-16T08:46:29.451Z"
   },
   {
    "duration": 39,
    "start_time": "2022-02-16T08:46:29.496Z"
   },
   {
    "duration": 18,
    "start_time": "2022-02-16T08:46:29.538Z"
   },
   {
    "duration": 12,
    "start_time": "2022-02-16T08:46:29.559Z"
   },
   {
    "duration": 59,
    "start_time": "2022-02-16T08:46:29.573Z"
   },
   {
    "duration": 15,
    "start_time": "2022-02-16T08:46:29.635Z"
   },
   {
    "duration": 27,
    "start_time": "2022-02-16T08:46:29.652Z"
   },
   {
    "duration": 11,
    "start_time": "2022-02-16T08:46:29.682Z"
   },
   {
    "duration": 75,
    "start_time": "2022-02-16T08:46:29.696Z"
   },
   {
    "duration": 36,
    "start_time": "2022-02-16T08:46:29.774Z"
   },
   {
    "duration": 55,
    "start_time": "2022-02-16T08:46:29.813Z"
   },
   {
    "duration": 11,
    "start_time": "2022-02-16T08:46:29.871Z"
   },
   {
    "duration": 48,
    "start_time": "2022-02-16T08:46:29.884Z"
   },
   {
    "duration": 7,
    "start_time": "2022-02-16T08:46:29.935Z"
   },
   {
    "duration": 5,
    "start_time": "2022-02-16T08:46:29.951Z"
   },
   {
    "duration": 5,
    "start_time": "2022-02-16T08:46:29.961Z"
   },
   {
    "duration": 12,
    "start_time": "2022-02-16T08:46:29.969Z"
   },
   {
    "duration": 160,
    "start_time": "2022-02-16T08:46:29.983Z"
   },
   {
    "duration": 57,
    "start_time": "2022-02-16T08:46:30.145Z"
   },
   {
    "duration": 78,
    "start_time": "2022-02-16T08:46:30.204Z"
   },
   {
    "duration": 4,
    "start_time": "2022-02-16T08:46:30.284Z"
   },
   {
    "duration": 61,
    "start_time": "2022-02-16T08:46:30.290Z"
   },
   {
    "duration": 24,
    "start_time": "2022-02-16T08:46:30.354Z"
   },
   {
    "duration": 54,
    "start_time": "2022-02-16T08:46:30.381Z"
   },
   {
    "duration": 4,
    "start_time": "2022-02-16T08:46:30.437Z"
   },
   {
    "duration": 42,
    "start_time": "2022-02-16T08:46:30.443Z"
   },
   {
    "duration": 21,
    "start_time": "2022-02-16T08:46:30.487Z"
   },
   {
    "duration": 44,
    "start_time": "2022-02-16T08:46:30.510Z"
   },
   {
    "duration": 6,
    "start_time": "2022-02-16T08:46:30.557Z"
   },
   {
    "duration": 24,
    "start_time": "2022-02-16T08:46:30.565Z"
   },
   {
    "duration": 54,
    "start_time": "2022-02-16T08:46:30.591Z"
   },
   {
    "duration": 49,
    "start_time": "2022-02-16T08:46:30.647Z"
   },
   {
    "duration": 38,
    "start_time": "2022-02-16T08:46:30.698Z"
   },
   {
    "duration": 8,
    "start_time": "2022-02-16T08:46:30.739Z"
   },
   {
    "duration": 17,
    "start_time": "2022-02-16T08:46:30.750Z"
   },
   {
    "duration": 75,
    "start_time": "2022-02-16T08:46:30.770Z"
   },
   {
    "duration": 46,
    "start_time": "2022-02-16T08:46:30.847Z"
   },
   {
    "duration": 63,
    "start_time": "2022-02-16T08:46:30.895Z"
   },
   {
    "duration": 20,
    "start_time": "2022-02-16T08:46:30.960Z"
   },
   {
    "duration": 26,
    "start_time": "2022-02-16T08:46:30.982Z"
   },
   {
    "duration": 316,
    "start_time": "2022-02-16T08:46:31.010Z"
   },
   {
    "duration": 18,
    "start_time": "2022-02-16T08:46:31.329Z"
   },
   {
    "duration": 73,
    "start_time": "2022-02-16T08:46:31.350Z"
   },
   {
    "duration": 94,
    "start_time": "2022-02-16T08:46:31.425Z"
   },
   {
    "duration": 51,
    "start_time": "2022-02-16T08:46:31.522Z"
   },
   {
    "duration": 60,
    "start_time": "2022-02-16T08:46:31.576Z"
   },
   {
    "duration": 44,
    "start_time": "2022-02-16T08:46:31.639Z"
   },
   {
    "duration": 90,
    "start_time": "2022-02-16T08:46:31.686Z"
   },
   {
    "duration": 4,
    "start_time": "2022-02-16T08:46:31.778Z"
   },
   {
    "duration": 88,
    "start_time": "2022-02-16T08:46:31.784Z"
   },
   {
    "duration": 78,
    "start_time": "2022-02-16T08:46:31.874Z"
   },
   {
    "duration": 72,
    "start_time": "2022-02-16T08:46:31.954Z"
   },
   {
    "duration": 55,
    "start_time": "2022-02-16T08:46:32.028Z"
   },
   {
    "duration": 107,
    "start_time": "2022-02-16T08:46:32.085Z"
   },
   {
    "duration": 53,
    "start_time": "2022-02-16T08:46:32.195Z"
   },
   {
    "duration": 31,
    "start_time": "2022-02-16T08:46:32.250Z"
   },
   {
    "duration": 120,
    "start_time": "2022-02-16T08:46:32.283Z"
   },
   {
    "duration": 10,
    "start_time": "2022-02-16T08:46:32.406Z"
   },
   {
    "duration": 574,
    "start_time": "2022-02-16T08:46:32.418Z"
   },
   {
    "duration": 542,
    "start_time": "2022-02-16T08:46:32.999Z"
   },
   {
    "duration": 630,
    "start_time": "2022-02-16T08:46:33.545Z"
   },
   {
    "duration": 31,
    "start_time": "2022-02-16T08:46:34.178Z"
   },
   {
    "duration": 43,
    "start_time": "2022-02-16T08:46:34.212Z"
   },
   {
    "duration": 1438,
    "start_time": "2022-02-16T08:46:34.257Z"
   },
   {
    "duration": 60,
    "start_time": "2022-02-16T08:46:35.698Z"
   },
   {
    "duration": 11,
    "start_time": "2022-02-16T08:46:35.761Z"
   },
   {
    "duration": 19,
    "start_time": "2022-02-16T08:46:35.774Z"
   },
   {
    "duration": 28,
    "start_time": "2022-02-16T08:46:35.795Z"
   },
   {
    "duration": 11,
    "start_time": "2022-02-16T08:46:35.831Z"
   },
   {
    "duration": 5,
    "start_time": "2022-02-16T08:46:35.844Z"
   },
   {
    "duration": 14,
    "start_time": "2022-02-16T08:47:18.807Z"
   },
   {
    "duration": 66,
    "start_time": "2022-02-16T08:47:31.822Z"
   },
   {
    "duration": 46,
    "start_time": "2022-02-16T08:50:57.882Z"
   },
   {
    "duration": 49,
    "start_time": "2022-02-16T08:51:23.252Z"
   },
   {
    "duration": 11,
    "start_time": "2022-02-16T08:51:41.884Z"
   },
   {
    "duration": 27,
    "start_time": "2022-02-16T08:52:34.865Z"
   },
   {
    "duration": 7655,
    "start_time": "2022-02-16T08:53:53.492Z"
   },
   {
    "duration": 5,
    "start_time": "2022-02-16T08:55:09.643Z"
   },
   {
    "duration": 491,
    "start_time": "2022-02-16T08:55:39.315Z"
   },
   {
    "duration": 5,
    "start_time": "2022-02-16T08:56:11.345Z"
   },
   {
    "duration": 7,
    "start_time": "2022-02-16T08:56:12.038Z"
   },
   {
    "duration": 11,
    "start_time": "2022-02-16T08:57:13.493Z"
   },
   {
    "duration": 4,
    "start_time": "2022-02-16T09:21:07.519Z"
   },
   {
    "duration": 45,
    "start_time": "2022-02-16T09:21:08.251Z"
   },
   {
    "duration": 1512,
    "start_time": "2022-02-16T09:37:23.996Z"
   },
   {
    "duration": 765,
    "start_time": "2022-02-16T09:37:25.510Z"
   },
   {
    "duration": 19,
    "start_time": "2022-02-16T09:37:26.278Z"
   },
   {
    "duration": 11,
    "start_time": "2022-02-16T09:37:26.300Z"
   },
   {
    "duration": 10,
    "start_time": "2022-02-16T09:37:26.332Z"
   },
   {
    "duration": 11,
    "start_time": "2022-02-16T09:37:26.344Z"
   },
   {
    "duration": 11,
    "start_time": "2022-02-16T09:37:26.357Z"
   },
   {
    "duration": 16,
    "start_time": "2022-02-16T09:37:26.372Z"
   },
   {
    "duration": 70,
    "start_time": "2022-02-16T09:37:26.392Z"
   },
   {
    "duration": 14,
    "start_time": "2022-02-16T09:37:26.465Z"
   },
   {
    "duration": 22,
    "start_time": "2022-02-16T09:37:26.482Z"
   },
   {
    "duration": 14,
    "start_time": "2022-02-16T09:37:26.533Z"
   },
   {
    "duration": 26,
    "start_time": "2022-02-16T09:37:26.549Z"
   },
   {
    "duration": 12,
    "start_time": "2022-02-16T09:37:26.578Z"
   },
   {
    "duration": 43,
    "start_time": "2022-02-16T09:37:26.592Z"
   },
   {
    "duration": 8,
    "start_time": "2022-02-16T09:37:26.638Z"
   },
   {
    "duration": 60,
    "start_time": "2022-02-16T09:37:26.648Z"
   },
   {
    "duration": 54,
    "start_time": "2022-02-16T09:37:26.710Z"
   },
   {
    "duration": 70,
    "start_time": "2022-02-16T09:37:26.767Z"
   },
   {
    "duration": 15,
    "start_time": "2022-02-16T09:37:26.840Z"
   },
   {
    "duration": 22,
    "start_time": "2022-02-16T09:37:26.858Z"
   },
   {
    "duration": 26,
    "start_time": "2022-02-16T09:37:26.882Z"
   },
   {
    "duration": 14,
    "start_time": "2022-02-16T09:37:26.914Z"
   },
   {
    "duration": 12,
    "start_time": "2022-02-16T09:37:26.932Z"
   },
   {
    "duration": 16,
    "start_time": "2022-02-16T09:37:26.946Z"
   },
   {
    "duration": 136,
    "start_time": "2022-02-16T09:37:26.965Z"
   },
   {
    "duration": 69,
    "start_time": "2022-02-16T09:37:27.103Z"
   },
   {
    "duration": 73,
    "start_time": "2022-02-16T09:37:27.175Z"
   },
   {
    "duration": 4,
    "start_time": "2022-02-16T09:37:27.251Z"
   },
   {
    "duration": 42,
    "start_time": "2022-02-16T09:37:27.257Z"
   },
   {
    "duration": 52,
    "start_time": "2022-02-16T09:37:27.301Z"
   },
   {
    "duration": 4,
    "start_time": "2022-02-16T09:37:27.355Z"
   },
   {
    "duration": 39,
    "start_time": "2022-02-16T09:37:27.361Z"
   },
   {
    "duration": 40,
    "start_time": "2022-02-16T09:37:27.402Z"
   },
   {
    "duration": 24,
    "start_time": "2022-02-16T09:37:27.445Z"
   },
   {
    "duration": 8,
    "start_time": "2022-02-16T09:37:27.472Z"
   },
   {
    "duration": 14,
    "start_time": "2022-02-16T09:37:27.483Z"
   },
   {
    "duration": 57,
    "start_time": "2022-02-16T09:37:27.500Z"
   },
   {
    "duration": 41,
    "start_time": "2022-02-16T09:37:27.559Z"
   },
   {
    "duration": 55,
    "start_time": "2022-02-16T09:37:27.602Z"
   },
   {
    "duration": 12,
    "start_time": "2022-02-16T09:37:27.660Z"
   },
   {
    "duration": 6,
    "start_time": "2022-02-16T09:37:27.674Z"
   },
   {
    "duration": 92,
    "start_time": "2022-02-16T09:37:27.683Z"
   },
   {
    "duration": 62,
    "start_time": "2022-02-16T09:37:27.777Z"
   },
   {
    "duration": 43,
    "start_time": "2022-02-16T09:37:27.842Z"
   },
   {
    "duration": 21,
    "start_time": "2022-02-16T09:37:27.887Z"
   },
   {
    "duration": 20,
    "start_time": "2022-02-16T09:37:27.934Z"
   },
   {
    "duration": 319,
    "start_time": "2022-02-16T09:37:27.956Z"
   },
   {
    "duration": 18,
    "start_time": "2022-02-16T09:37:28.277Z"
   },
   {
    "duration": 44,
    "start_time": "2022-02-16T09:37:28.297Z"
   },
   {
    "duration": 30,
    "start_time": "2022-02-16T09:37:28.344Z"
   },
   {
    "duration": 72,
    "start_time": "2022-02-16T09:37:28.377Z"
   },
   {
    "duration": 50,
    "start_time": "2022-02-16T09:37:28.452Z"
   },
   {
    "duration": 70,
    "start_time": "2022-02-16T09:37:28.505Z"
   },
   {
    "duration": 65,
    "start_time": "2022-02-16T09:37:28.577Z"
   },
   {
    "duration": 12,
    "start_time": "2022-02-16T09:37:28.644Z"
   },
   {
    "duration": 32,
    "start_time": "2022-02-16T09:37:28.658Z"
   },
   {
    "duration": 55,
    "start_time": "2022-02-16T09:37:28.692Z"
   },
   {
    "duration": 14,
    "start_time": "2022-02-16T09:37:28.749Z"
   },
   {
    "duration": 82,
    "start_time": "2022-02-16T09:37:28.765Z"
   },
   {
    "duration": 54,
    "start_time": "2022-02-16T09:37:28.849Z"
   },
   {
    "duration": 47,
    "start_time": "2022-02-16T09:37:28.905Z"
   },
   {
    "duration": 118,
    "start_time": "2022-02-16T09:37:28.954Z"
   },
   {
    "duration": 11,
    "start_time": "2022-02-16T09:37:29.075Z"
   },
   {
    "duration": 582,
    "start_time": "2022-02-16T09:37:29.088Z"
   },
   {
    "duration": 533,
    "start_time": "2022-02-16T09:37:29.673Z"
   },
   {
    "duration": 615,
    "start_time": "2022-02-16T09:37:30.208Z"
   },
   {
    "duration": 27,
    "start_time": "2022-02-16T09:37:30.834Z"
   },
   {
    "duration": 31,
    "start_time": "2022-02-16T09:37:30.864Z"
   },
   {
    "duration": 1568,
    "start_time": "2022-02-16T09:37:30.897Z"
   },
   {
    "duration": 45,
    "start_time": "2022-02-16T09:37:32.468Z"
   },
   {
    "duration": 11,
    "start_time": "2022-02-16T09:37:32.532Z"
   },
   {
    "duration": 6,
    "start_time": "2022-02-16T09:37:32.545Z"
   },
   {
    "duration": 28,
    "start_time": "2022-02-16T09:37:32.553Z"
   },
   {
    "duration": 51,
    "start_time": "2022-02-16T09:37:32.584Z"
   },
   {
    "duration": 5,
    "start_time": "2022-02-16T09:37:32.638Z"
   },
   {
    "duration": 1088,
    "start_time": "2022-02-16T20:09:22.861Z"
   },
   {
    "duration": 442,
    "start_time": "2022-02-16T20:09:23.951Z"
   },
   {
    "duration": 13,
    "start_time": "2022-02-16T20:09:24.395Z"
   },
   {
    "duration": 9,
    "start_time": "2022-02-16T20:09:24.410Z"
   },
   {
    "duration": 16,
    "start_time": "2022-02-16T20:09:24.420Z"
   },
   {
    "duration": 9,
    "start_time": "2022-02-16T20:09:24.437Z"
   },
   {
    "duration": 10,
    "start_time": "2022-02-16T20:09:24.448Z"
   },
   {
    "duration": 11,
    "start_time": "2022-02-16T20:09:24.461Z"
   },
   {
    "duration": 23,
    "start_time": "2022-02-16T20:09:24.474Z"
   },
   {
    "duration": 7,
    "start_time": "2022-02-16T20:09:24.499Z"
   },
   {
    "duration": 27,
    "start_time": "2022-02-16T20:09:24.507Z"
   },
   {
    "duration": 10,
    "start_time": "2022-02-16T20:09:24.536Z"
   },
   {
    "duration": 21,
    "start_time": "2022-02-16T20:09:24.547Z"
   },
   {
    "duration": 8,
    "start_time": "2022-02-16T20:09:24.570Z"
   },
   {
    "duration": 12,
    "start_time": "2022-02-16T20:09:24.580Z"
   },
   {
    "duration": 5,
    "start_time": "2022-02-16T20:09:24.594Z"
   },
   {
    "duration": 63,
    "start_time": "2022-02-16T20:09:24.600Z"
   },
   {
    "duration": 22,
    "start_time": "2022-02-16T20:09:24.664Z"
   },
   {
    "duration": 42,
    "start_time": "2022-02-16T20:09:24.688Z"
   },
   {
    "duration": 8,
    "start_time": "2022-02-16T20:09:24.732Z"
   },
   {
    "duration": 14,
    "start_time": "2022-02-16T20:09:24.742Z"
   },
   {
    "duration": 10,
    "start_time": "2022-02-16T20:09:24.757Z"
   },
   {
    "duration": 14,
    "start_time": "2022-02-16T20:09:24.770Z"
   },
   {
    "duration": 10,
    "start_time": "2022-02-16T20:09:24.787Z"
   },
   {
    "duration": 18,
    "start_time": "2022-02-16T20:09:24.798Z"
   },
   {
    "duration": 90,
    "start_time": "2022-02-16T20:09:24.817Z"
   },
   {
    "duration": 44,
    "start_time": "2022-02-16T20:09:24.909Z"
   },
   {
    "duration": 39,
    "start_time": "2022-02-16T20:09:24.955Z"
   },
   {
    "duration": 2,
    "start_time": "2022-02-16T20:09:24.996Z"
   },
   {
    "duration": 47,
    "start_time": "2022-02-16T20:09:25.000Z"
   },
   {
    "duration": 21,
    "start_time": "2022-02-16T20:09:25.049Z"
   },
   {
    "duration": 2,
    "start_time": "2022-02-16T20:09:25.072Z"
   },
   {
    "duration": 29,
    "start_time": "2022-02-16T20:09:25.076Z"
   },
   {
    "duration": 31,
    "start_time": "2022-02-16T20:09:25.107Z"
   },
   {
    "duration": 16,
    "start_time": "2022-02-16T20:09:25.140Z"
   },
   {
    "duration": 8,
    "start_time": "2022-02-16T20:09:25.158Z"
   },
   {
    "duration": 9,
    "start_time": "2022-02-16T20:09:25.168Z"
   },
   {
    "duration": 27,
    "start_time": "2022-02-16T20:09:25.179Z"
   },
   {
    "duration": 41,
    "start_time": "2022-02-16T20:09:25.208Z"
   },
   {
    "duration": 20,
    "start_time": "2022-02-16T20:09:25.251Z"
   },
   {
    "duration": 5,
    "start_time": "2022-02-16T20:09:25.272Z"
   },
   {
    "duration": 12,
    "start_time": "2022-02-16T20:09:25.278Z"
   },
   {
    "duration": 69,
    "start_time": "2022-02-16T20:09:25.292Z"
   },
   {
    "duration": 31,
    "start_time": "2022-02-16T20:09:25.362Z"
   },
   {
    "duration": 39,
    "start_time": "2022-02-16T20:09:25.394Z"
   },
   {
    "duration": 11,
    "start_time": "2022-02-16T20:09:25.435Z"
   },
   {
    "duration": 36,
    "start_time": "2022-02-16T20:09:25.448Z"
   },
   {
    "duration": 184,
    "start_time": "2022-02-16T20:09:25.485Z"
   },
   {
    "duration": 11,
    "start_time": "2022-02-16T20:09:25.671Z"
   },
   {
    "duration": 13,
    "start_time": "2022-02-16T20:09:25.685Z"
   },
   {
    "duration": 41,
    "start_time": "2022-02-16T20:09:25.700Z"
   },
   {
    "duration": 26,
    "start_time": "2022-02-16T20:09:25.743Z"
   },
   {
    "duration": 31,
    "start_time": "2022-02-16T20:09:25.771Z"
   },
   {
    "duration": 44,
    "start_time": "2022-02-16T20:09:25.803Z"
   },
   {
    "duration": 27,
    "start_time": "2022-02-16T20:09:25.849Z"
   },
   {
    "duration": 7,
    "start_time": "2022-02-16T20:09:25.877Z"
   },
   {
    "duration": 21,
    "start_time": "2022-02-16T20:09:25.886Z"
   },
   {
    "duration": 18,
    "start_time": "2022-02-16T20:09:25.930Z"
   },
   {
    "duration": 7,
    "start_time": "2022-02-16T20:09:25.950Z"
   },
   {
    "duration": 26,
    "start_time": "2022-02-16T20:09:25.959Z"
   },
   {
    "duration": 55,
    "start_time": "2022-02-16T20:09:25.987Z"
   },
   {
    "duration": 17,
    "start_time": "2022-02-16T20:09:26.044Z"
   },
   {
    "duration": 73,
    "start_time": "2022-02-16T20:09:26.063Z"
   },
   {
    "duration": 7,
    "start_time": "2022-02-16T20:09:26.138Z"
   },
   {
    "duration": 332,
    "start_time": "2022-02-16T20:09:26.146Z"
   },
   {
    "duration": 312,
    "start_time": "2022-02-16T20:09:26.480Z"
   },
   {
    "duration": 390,
    "start_time": "2022-02-16T20:09:26.793Z"
   },
   {
    "duration": 18,
    "start_time": "2022-02-16T20:09:27.188Z"
   },
   {
    "duration": 34,
    "start_time": "2022-02-16T20:09:27.208Z"
   },
   {
    "duration": 920,
    "start_time": "2022-02-16T20:09:27.244Z"
   },
   {
    "duration": 28,
    "start_time": "2022-02-16T20:09:28.167Z"
   },
   {
    "duration": 9,
    "start_time": "2022-02-16T20:09:28.197Z"
   },
   {
    "duration": 23,
    "start_time": "2022-02-16T20:09:28.208Z"
   },
   {
    "duration": 26,
    "start_time": "2022-02-16T20:09:28.233Z"
   },
   {
    "duration": 9,
    "start_time": "2022-02-16T20:09:28.261Z"
   },
   {
    "duration": 16,
    "start_time": "2022-02-16T20:09:28.272Z"
   }
  ],
  "colab": {
   "collapsed_sections": [
    "E0vqbgi9ay0H",
    "VUC88oWjTJw2"
   ],
   "name": "yandex_music_project_2021.2.ipynb",
   "provenance": []
  },
  "kernelspec": {
   "display_name": "Python 3 (ipykernel)",
   "language": "python",
   "name": "python3"
  },
  "language_info": {
   "codemirror_mode": {
    "name": "ipython",
    "version": 3
   },
   "file_extension": ".py",
   "mimetype": "text/x-python",
   "name": "python",
   "nbconvert_exporter": "python",
   "pygments_lexer": "ipython3",
   "version": "3.9.7"
  },
  "toc": {
   "base_numbering": 1,
   "nav_menu": {},
   "number_sections": true,
   "sideBar": true,
   "skip_h1_title": true,
   "title_cell": "Table of Contents",
   "title_sidebar": "Contents",
   "toc_cell": false,
   "toc_position": {
    "height": "calc(100% - 180px)",
    "left": "10px",
    "top": "150px",
    "width": "165px"
   },
   "toc_section_display": true,
   "toc_window_display": true
  }
 },
 "nbformat": 4,
 "nbformat_minor": 1
}
