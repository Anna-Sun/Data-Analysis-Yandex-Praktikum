{
 "cells": [
  {
   "cell_type": "markdown",
   "metadata": {
    "id": "E0vqbgi9ay0H"
   },
   "source": [
    "# Исследование надёжности заёмщиков"
   ]
  },
  {
   "cell_type": "markdown",
   "metadata": {
    "id": "VUC88oWjTJw2"
   },
   "source": [
    "Заказчик исследования — кредитный отдел банка.\n",
    "\n",
    "Результаты исследования будут учтены при построении модели кредитного скоринга.\n",
    "\n",
    "**Цель исследования** — проверка двух гипотез:\n",
    "1. Семейное положение клиента влияет на факт погашения кредита в срок.\n",
    "2. Наличие детей у клиента влияет на факт погашения кредита в срок.\n",
    "\n",
    "***Дополнительно нужно проверить***:\n",
    "1. Есть ли зависимость между уровнем дохода и возвратом кредита в срок.\n",
    "2. Как разные цели кредита влияют на его возврат в срок.\n",
    "\n",
    "**Ход исследования**\n",
    "\n",
    "Входные данные от банка — статистика о платёжеспособности клиентов в файле`data.csv`. \n",
    "Перед проверкой гипотез понадобится обзор данных для проверки их качества.\n",
    "\n",
    "Данные будут проверены на ошибки, а также будет дана оценка их влияния на исследование. \n",
    "Затем, на этапе предобработки будет рассмотрена возможность исправить самые критичные ошибки данных.\n",
    " \n",
    "Таким образом, исследование пройдёт в три этапа:\n",
    " 1. Обзор данных.\n",
    " 2. Предобработка данных.\n",
    " 3. Проверка гипотез.\n",
    "\n"
   ]
  },
  {
   "cell_type": "markdown",
   "metadata": {
    "id": "Ml1hmfXC_Zcs"
   },
   "source": [
    "## Обзор данных\n",
    "\n",
    "Составляю первое представление о статистике платёжеспособности клиентов."
   ]
  },
  {
   "cell_type": "code",
   "execution_count": 1,
   "metadata": {},
   "outputs": [],
   "source": [
    "import pandas as pd\n",
    "try:\n",
    "    df = pd.read_csv('data.csv')  # Локальный путь\n",
    "except:\n",
    "    df = pd.read_csv('/datasets/data.csv') "
   ]
  },
  {
   "cell_type": "markdown",
   "metadata": {
    "id": "rDoOMd3uTqnZ"
   },
   "source": [
    "Вывожу на экран первые десять строк таблицы:"
   ]
  },
  {
   "cell_type": "code",
   "execution_count": 2,
   "metadata": {
    "id": "oWTVX3gW_Zct",
    "scrolled": true
   },
   "outputs": [
    {
     "data": {
      "text/html": [
       "<div>\n",
       "<style scoped>\n",
       "    .dataframe tbody tr th:only-of-type {\n",
       "        vertical-align: middle;\n",
       "    }\n",
       "\n",
       "    .dataframe tbody tr th {\n",
       "        vertical-align: top;\n",
       "    }\n",
       "\n",
       "    .dataframe thead th {\n",
       "        text-align: right;\n",
       "    }\n",
       "</style>\n",
       "<table border=\"1\" class=\"dataframe\">\n",
       "  <thead>\n",
       "    <tr style=\"text-align: right;\">\n",
       "      <th></th>\n",
       "      <th>children</th>\n",
       "      <th>days_employed</th>\n",
       "      <th>dob_years</th>\n",
       "      <th>education</th>\n",
       "      <th>education_id</th>\n",
       "      <th>family_status</th>\n",
       "      <th>family_status_id</th>\n",
       "      <th>gender</th>\n",
       "      <th>income_type</th>\n",
       "      <th>debt</th>\n",
       "      <th>total_income</th>\n",
       "      <th>purpose</th>\n",
       "    </tr>\n",
       "  </thead>\n",
       "  <tbody>\n",
       "    <tr>\n",
       "      <td>0</td>\n",
       "      <td>1</td>\n",
       "      <td>-8437.673028</td>\n",
       "      <td>42</td>\n",
       "      <td>высшее</td>\n",
       "      <td>0</td>\n",
       "      <td>женат / замужем</td>\n",
       "      <td>0</td>\n",
       "      <td>F</td>\n",
       "      <td>сотрудник</td>\n",
       "      <td>0</td>\n",
       "      <td>253875.639453</td>\n",
       "      <td>покупка жилья</td>\n",
       "    </tr>\n",
       "    <tr>\n",
       "      <td>1</td>\n",
       "      <td>1</td>\n",
       "      <td>-4024.803754</td>\n",
       "      <td>36</td>\n",
       "      <td>среднее</td>\n",
       "      <td>1</td>\n",
       "      <td>женат / замужем</td>\n",
       "      <td>0</td>\n",
       "      <td>F</td>\n",
       "      <td>сотрудник</td>\n",
       "      <td>0</td>\n",
       "      <td>112080.014102</td>\n",
       "      <td>приобретение автомобиля</td>\n",
       "    </tr>\n",
       "    <tr>\n",
       "      <td>2</td>\n",
       "      <td>0</td>\n",
       "      <td>-5623.422610</td>\n",
       "      <td>33</td>\n",
       "      <td>Среднее</td>\n",
       "      <td>1</td>\n",
       "      <td>женат / замужем</td>\n",
       "      <td>0</td>\n",
       "      <td>M</td>\n",
       "      <td>сотрудник</td>\n",
       "      <td>0</td>\n",
       "      <td>145885.952297</td>\n",
       "      <td>покупка жилья</td>\n",
       "    </tr>\n",
       "    <tr>\n",
       "      <td>3</td>\n",
       "      <td>3</td>\n",
       "      <td>-4124.747207</td>\n",
       "      <td>32</td>\n",
       "      <td>среднее</td>\n",
       "      <td>1</td>\n",
       "      <td>женат / замужем</td>\n",
       "      <td>0</td>\n",
       "      <td>M</td>\n",
       "      <td>сотрудник</td>\n",
       "      <td>0</td>\n",
       "      <td>267628.550329</td>\n",
       "      <td>дополнительное образование</td>\n",
       "    </tr>\n",
       "    <tr>\n",
       "      <td>4</td>\n",
       "      <td>0</td>\n",
       "      <td>340266.072047</td>\n",
       "      <td>53</td>\n",
       "      <td>среднее</td>\n",
       "      <td>1</td>\n",
       "      <td>гражданский брак</td>\n",
       "      <td>1</td>\n",
       "      <td>F</td>\n",
       "      <td>пенсионер</td>\n",
       "      <td>0</td>\n",
       "      <td>158616.077870</td>\n",
       "      <td>сыграть свадьбу</td>\n",
       "    </tr>\n",
       "    <tr>\n",
       "      <td>5</td>\n",
       "      <td>0</td>\n",
       "      <td>-926.185831</td>\n",
       "      <td>27</td>\n",
       "      <td>высшее</td>\n",
       "      <td>0</td>\n",
       "      <td>гражданский брак</td>\n",
       "      <td>1</td>\n",
       "      <td>M</td>\n",
       "      <td>компаньон</td>\n",
       "      <td>0</td>\n",
       "      <td>255763.565419</td>\n",
       "      <td>покупка жилья</td>\n",
       "    </tr>\n",
       "    <tr>\n",
       "      <td>6</td>\n",
       "      <td>0</td>\n",
       "      <td>-2879.202052</td>\n",
       "      <td>43</td>\n",
       "      <td>высшее</td>\n",
       "      <td>0</td>\n",
       "      <td>женат / замужем</td>\n",
       "      <td>0</td>\n",
       "      <td>F</td>\n",
       "      <td>компаньон</td>\n",
       "      <td>0</td>\n",
       "      <td>240525.971920</td>\n",
       "      <td>операции с жильем</td>\n",
       "    </tr>\n",
       "    <tr>\n",
       "      <td>7</td>\n",
       "      <td>0</td>\n",
       "      <td>-152.779569</td>\n",
       "      <td>50</td>\n",
       "      <td>СРЕДНЕЕ</td>\n",
       "      <td>1</td>\n",
       "      <td>женат / замужем</td>\n",
       "      <td>0</td>\n",
       "      <td>M</td>\n",
       "      <td>сотрудник</td>\n",
       "      <td>0</td>\n",
       "      <td>135823.934197</td>\n",
       "      <td>образование</td>\n",
       "    </tr>\n",
       "    <tr>\n",
       "      <td>8</td>\n",
       "      <td>2</td>\n",
       "      <td>-6929.865299</td>\n",
       "      <td>35</td>\n",
       "      <td>ВЫСШЕЕ</td>\n",
       "      <td>0</td>\n",
       "      <td>гражданский брак</td>\n",
       "      <td>1</td>\n",
       "      <td>F</td>\n",
       "      <td>сотрудник</td>\n",
       "      <td>0</td>\n",
       "      <td>95856.832424</td>\n",
       "      <td>на проведение свадьбы</td>\n",
       "    </tr>\n",
       "    <tr>\n",
       "      <td>9</td>\n",
       "      <td>0</td>\n",
       "      <td>-2188.756445</td>\n",
       "      <td>41</td>\n",
       "      <td>среднее</td>\n",
       "      <td>1</td>\n",
       "      <td>женат / замужем</td>\n",
       "      <td>0</td>\n",
       "      <td>M</td>\n",
       "      <td>сотрудник</td>\n",
       "      <td>0</td>\n",
       "      <td>144425.938277</td>\n",
       "      <td>покупка жилья для семьи</td>\n",
       "    </tr>\n",
       "  </tbody>\n",
       "</table>\n",
       "</div>"
      ],
      "text/plain": [
       "   children  days_employed  dob_years education  education_id  \\\n",
       "0         1   -8437.673028         42    высшее             0   \n",
       "1         1   -4024.803754         36   среднее             1   \n",
       "2         0   -5623.422610         33   Среднее             1   \n",
       "3         3   -4124.747207         32   среднее             1   \n",
       "4         0  340266.072047         53   среднее             1   \n",
       "5         0    -926.185831         27    высшее             0   \n",
       "6         0   -2879.202052         43    высшее             0   \n",
       "7         0    -152.779569         50   СРЕДНЕЕ             1   \n",
       "8         2   -6929.865299         35    ВЫСШЕЕ             0   \n",
       "9         0   -2188.756445         41   среднее             1   \n",
       "\n",
       "      family_status  family_status_id gender income_type  debt   total_income  \\\n",
       "0   женат / замужем                 0      F   сотрудник     0  253875.639453   \n",
       "1   женат / замужем                 0      F   сотрудник     0  112080.014102   \n",
       "2   женат / замужем                 0      M   сотрудник     0  145885.952297   \n",
       "3   женат / замужем                 0      M   сотрудник     0  267628.550329   \n",
       "4  гражданский брак                 1      F   пенсионер     0  158616.077870   \n",
       "5  гражданский брак                 1      M   компаньон     0  255763.565419   \n",
       "6   женат / замужем                 0      F   компаньон     0  240525.971920   \n",
       "7   женат / замужем                 0      M   сотрудник     0  135823.934197   \n",
       "8  гражданский брак                 1      F   сотрудник     0   95856.832424   \n",
       "9   женат / замужем                 0      M   сотрудник     0  144425.938277   \n",
       "\n",
       "                      purpose  \n",
       "0               покупка жилья  \n",
       "1     приобретение автомобиля  \n",
       "2               покупка жилья  \n",
       "3  дополнительное образование  \n",
       "4             сыграть свадьбу  \n",
       "5               покупка жилья  \n",
       "6           операции с жильем  \n",
       "7                 образование  \n",
       "8       на проведение свадьбы  \n",
       "9     покупка жилья для семьи  "
      ]
     },
     "execution_count": 2,
     "metadata": {},
     "output_type": "execute_result"
    }
   ],
   "source": [
    "df.head(10) "
   ]
  },
  {
   "cell_type": "markdown",
   "metadata": {
    "id": "EO73Kwic_Zct"
   },
   "source": [
    "Получаю общую информацию о таблице:"
   ]
  },
  {
   "cell_type": "code",
   "execution_count": 3,
   "metadata": {
    "id": "DSf2kIb-_Zct"
   },
   "outputs": [
    {
     "name": "stdout",
     "output_type": "stream",
     "text": [
      "<class 'pandas.core.frame.DataFrame'>\n",
      "RangeIndex: 21525 entries, 0 to 21524\n",
      "Data columns (total 12 columns):\n",
      "children            21525 non-null int64\n",
      "days_employed       19351 non-null float64\n",
      "dob_years           21525 non-null int64\n",
      "education           21525 non-null object\n",
      "education_id        21525 non-null int64\n",
      "family_status       21525 non-null object\n",
      "family_status_id    21525 non-null int64\n",
      "gender              21525 non-null object\n",
      "income_type         21525 non-null object\n",
      "debt                21525 non-null int64\n",
      "total_income        19351 non-null float64\n",
      "purpose             21525 non-null object\n",
      "dtypes: float64(2), int64(5), object(5)\n",
      "memory usage: 2.0+ MB\n"
     ]
    }
   ],
   "source": [
    "df.info() "
   ]
  },
  {
   "cell_type": "markdown",
   "metadata": {
    "id": "TaQ2Iwbr_Zct"
   },
   "source": [
    "Итак, в таблице одиннадцать столбцов. В столбцах три типа данных — `int64`, `float64`, `object`.\n",
    "\n",
    "\n",
    "Согласно документации к данным:\n",
    "\n",
    "* `children` — количество детей в семье\n",
    "* `days_employed` — общий трудовой стаж в днях\n",
    "* `dob_years` — возраст клиента в годах\n",
    "* `education` — уровень образования клиента\n",
    "* `education_id` — идентификатор уровня образования\n",
    "* `family_status` — семейное положение\n",
    "* `family_status_id` — идентификатор семейного положения\n",
    "* `gender` — пол клиента\n",
    "* `income_type` — тип занятости\n",
    "* `debt` — имел ли задолженность по возврату кредитов\n",
    "* `total_income` — ежемесячный доход\n",
    "* `purpose` — цель получения кредита.\n",
    "\n",
    "На первый взгляд названия колонок соответствуют стилю написания названий колонок. Далее проверю их на предмет отсутствия пробелов.\n",
    "\n",
    "Количество значений в столбцах различается. Значит, в данных есть пропущенные значения.\n",
    "\n",
    "В столбце общего трудового стажа в днях `days_employed` присутствуют отрицательные значения. Поскольку данные указанного столбца не будут использоваться в анализе, оставлю их отрицательными."
   ]
  },
  {
   "cell_type": "markdown",
   "metadata": {
    "id": "MCB6-dXG_Zct"
   },
   "source": [
    "**Выводы**\n",
    "\n",
    "В каждой строке таблицы — сведения о клиенте. Основная часть колонок описывает личные данные клиента: количество детей, трудовой стаж, возраст, уровень образования, семейное положение, пол,тип занятости и ежемесячный доход. Остальные данные рассказывают о наличии задолженностей по возврату кредитов и  о цели получения кредита. \n",
    "\n",
    "Предварительно можно утверждать, что данных достаточно для проверки гипотез. Но встречаются пропуски в данных, а также отрицательные значения.\n",
    "\n",
    "Для проверки гипотез и ответа на дополнительные вопросы будут использоваться данные шести столбцов:\n",
    "\n",
    "* `children`\n",
    "* `family_status`\n",
    "* `family_status_id`\n",
    "* `debt`\n",
    "* `total_income`\n",
    "* `purpose`\n",
    "\n",
    "Чтобы двигаться дальше, нужно устранить проблемы в данных указанных столбцов."
   ]
  },
  {
   "cell_type": "markdown",
   "metadata": {
    "id": "SjYF6Ub9_Zct"
   },
   "source": [
    "## Предобработка данных\n",
    "Проверяю отсутствие пробелов в заголовках столбцов, исключаю пропуски в данных. Проверяю данные на дубликаты."
   ]
  },
  {
   "cell_type": "markdown",
   "metadata": {
    "id": "dIaKXr29_Zct"
   },
   "source": [
    "### Стиль заголовков\n",
    "Вывожу на экран названия столбцов:"
   ]
  },
  {
   "cell_type": "code",
   "execution_count": 4,
   "metadata": {
    "id": "oKOTdF_Q_Zct"
   },
   "outputs": [
    {
     "data": {
      "text/plain": [
       "Index(['children', 'days_employed', 'dob_years', 'education', 'education_id',\n",
       "       'family_status', 'family_status_id', 'gender', 'income_type', 'debt',\n",
       "       'total_income', 'purpose'],\n",
       "      dtype='object')"
      ]
     },
     "execution_count": 4,
     "metadata": {},
     "output_type": "execute_result"
    }
   ],
   "source": [
    "df.columns "
   ]
  },
  {
   "cell_type": "markdown",
   "metadata": {
    "id": "zj5534cv_Zct"
   },
   "source": [
    "Пробелов в названии столбцов нет."
   ]
  },
  {
   "cell_type": "markdown",
   "metadata": {
    "id": "5ISfbcfY_Zct"
   },
   "source": [
    "### Пропуски значений\n",
    "Сначала посчитаю, сколько в таблице пропущенных значений:"
   ]
  },
  {
   "cell_type": "code",
   "execution_count": 5,
   "metadata": {
    "id": "RskX29qr_Zct"
   },
   "outputs": [
    {
     "data": {
      "text/plain": [
       "children               0\n",
       "days_employed       2174\n",
       "dob_years              0\n",
       "education              0\n",
       "education_id           0\n",
       "family_status          0\n",
       "family_status_id       0\n",
       "gender                 0\n",
       "income_type            0\n",
       "debt                   0\n",
       "total_income        2174\n",
       "purpose                0\n",
       "dtype: int64"
      ]
     },
     "metadata": {},
     "output_type": "display_data"
    }
   ],
   "source": [
    "display(df.isna().sum())"
   ]
  },
  {
   "cell_type": "markdown",
   "metadata": {
    "id": "qubhgnlO_Zct"
   },
   "source": [
    "В необходимом для исследования столбце `total_income` выявлены пропуски. \n",
    "Причиной этому могут быть сбои в выгрузке данных, ошибки при вводе данных.\n",
    "В идеале на практике было бы правильно установить причину пропусков и восстановить данные. \n",
    "Поскольку эта возможность отсутствует, заполню пропущенные значения значением медианы ежемесячного дохода, используя метод median()."
   ]
  },
  {
   "cell_type": "code",
   "execution_count": 6,
   "metadata": {
    "id": "KplB5qWs_Zct"
   },
   "outputs": [],
   "source": [
    "total_income_median = df['total_income'].median()    \n",
    "\n",
    "# заполнение пропущенных значений значением медианы\n",
    "df['total_income'] = df['total_income'].fillna(total_income_median)   "
   ]
  },
  {
   "cell_type": "markdown",
   "metadata": {
    "id": "Ilsm-MZo_Zct"
   },
   "source": [
    "Еще раз считаю пропуски в таблице, чтобы убедиться, что в столбце `total_income` их не осталось. "
   ]
  },
  {
   "cell_type": "code",
   "execution_count": 7,
   "metadata": {
    "id": "Tq4nYRX4_Zct"
   },
   "outputs": [
    {
     "data": {
      "text/plain": [
       "children               0\n",
       "days_employed       2174\n",
       "dob_years              0\n",
       "education              0\n",
       "education_id           0\n",
       "family_status          0\n",
       "family_status_id       0\n",
       "gender                 0\n",
       "income_type            0\n",
       "debt                   0\n",
       "total_income           0\n",
       "purpose                0\n",
       "dtype: int64"
      ]
     },
     "metadata": {},
     "output_type": "display_data"
    }
   ],
   "source": [
    "display(df.isna().sum())"
   ]
  },
  {
   "cell_type": "markdown",
   "metadata": {},
   "source": [
    "### Изменение типа данных\n",
    "\n",
    "В столбце `total_income` изменяю тип данных с вещественного на целочисленный с использованием метода astype()."
   ]
  },
  {
   "cell_type": "code",
   "execution_count": 8,
   "metadata": {},
   "outputs": [
    {
     "data": {
      "text/plain": [
       "0        253875\n",
       "1        112080\n",
       "2        145885\n",
       "3        267628\n",
       "4        158616\n",
       "          ...  \n",
       "21520    224791\n",
       "21521    155999\n",
       "21522     89672\n",
       "21523    244093\n",
       "21524     82047\n",
       "Name: total_income, Length: 21525, dtype: int64"
      ]
     },
     "execution_count": 8,
     "metadata": {},
     "output_type": "execute_result"
    }
   ],
   "source": [
    "df['total_income'].astype('int64') "
   ]
  },
  {
   "cell_type": "markdown",
   "metadata": {
    "id": "BWKRtBJ3_Zct"
   },
   "source": [
    "### Дубликаты\n",
    "\n",
    "***Явные дубликаты***\n",
    "\n",
    "Считаю явные дубликаты в таблице:"
   ]
  },
  {
   "cell_type": "code",
   "execution_count": 9,
   "metadata": {
    "id": "36eES_S0_Zct"
   },
   "outputs": [
    {
     "name": "stdout",
     "output_type": "stream",
     "text": [
      "54\n"
     ]
    }
   ],
   "source": [
    "print(df.duplicated().sum())  "
   ]
  },
  {
   "cell_type": "markdown",
   "metadata": {
    "id": "Ot25h6XR_Zct"
   },
   "source": [
    "Дубликаты присутствуют. Причинами возникновения дубликатов могут быть некорректное соединение данных из разных источников в один, ошибки пользователей при занесении информации. Удаляю явные дубликаты:"
   ]
  },
  {
   "cell_type": "code",
   "execution_count": 10,
   "metadata": {
    "id": "exFHq6tt_Zct"
   },
   "outputs": [],
   "source": [
    "# удаление явных дубликатов (с удалением старых индексов и формированием новых)\n",
    "df = df.drop_duplicates().reset_index(drop=True) "
   ]
  },
  {
   "cell_type": "markdown",
   "metadata": {
    "id": "Im2YwBEG_Zct"
   },
   "source": [
    "Ещё раз считаю явные дубликаты в таблице, чтобы убедиться, что полностью от них избавилась:"
   ]
  },
  {
   "cell_type": "code",
   "execution_count": 11,
   "metadata": {
    "id": "-8PuNWQ0_Zct"
   },
   "outputs": [
    {
     "name": "stdout",
     "output_type": "stream",
     "text": [
      "0\n"
     ]
    }
   ],
   "source": [
    "print(df.duplicated().sum()) "
   ]
  },
  {
   "cell_type": "markdown",
   "metadata": {
    "id": "QlFBsxAr_Zct"
   },
   "source": [
    "***Неявные дубликаты***\n",
    "\n",
    "Теперь необходимо проверить значения в колонке `family_status` на наличие/отсутствие неявных дубликатов. \n",
    "Для этого выведу на экран список уникальных названий семейного положения:"
   ]
  },
  {
   "cell_type": "code",
   "execution_count": 12,
   "metadata": {
    "id": "JIUcqzZN_Zct"
   },
   "outputs": [
    {
     "data": {
      "text/plain": [
       "array(['женат / замужем', 'гражданский брак', 'вдовец / вдова',\n",
       "       'в разводе', 'Не женат / не замужем'], dtype=object)"
      ]
     },
     "execution_count": 12,
     "metadata": {},
     "output_type": "execute_result"
    }
   ],
   "source": [
    "df['family_status'].unique() "
   ]
  },
  {
   "cell_type": "markdown",
   "metadata": {},
   "source": [
    "Всего 5 видов семейного положения, каждый представлен в единственном варианте, соответственно, дубликатов нет."
   ]
  },
  {
   "cell_type": "markdown",
   "metadata": {},
   "source": [
    "***Лемматизация***\n",
    "\n",
    "Проверю значения в колонке `purpose` на наличие/отсутствие неявных дубликатов. \n",
    "Для этого выведу на экран список уникальных названий целей получения кредита:"
   ]
  },
  {
   "cell_type": "code",
   "execution_count": 13,
   "metadata": {
    "scrolled": true
   },
   "outputs": [
    {
     "data": {
      "text/plain": [
       "array(['покупка жилья', 'приобретение автомобиля',\n",
       "       'дополнительное образование', 'сыграть свадьбу',\n",
       "       'операции с жильем', 'образование', 'на проведение свадьбы',\n",
       "       'покупка жилья для семьи', 'покупка недвижимости',\n",
       "       'покупка коммерческой недвижимости', 'покупка жилой недвижимости',\n",
       "       'строительство собственной недвижимости', 'недвижимость',\n",
       "       'строительство недвижимости', 'на покупку подержанного автомобиля',\n",
       "       'на покупку своего автомобиля',\n",
       "       'операции с коммерческой недвижимостью',\n",
       "       'строительство жилой недвижимости', 'жилье',\n",
       "       'операции со своей недвижимостью', 'автомобили',\n",
       "       'заняться образованием', 'сделка с подержанным автомобилем',\n",
       "       'получение образования', 'автомобиль', 'свадьба',\n",
       "       'получение дополнительного образования', 'покупка своего жилья',\n",
       "       'операции с недвижимостью', 'получение высшего образования',\n",
       "       'свой автомобиль', 'сделка с автомобилем',\n",
       "       'профильное образование', 'высшее образование',\n",
       "       'покупка жилья для сдачи', 'на покупку автомобиля', 'ремонт жилью',\n",
       "       'заняться высшим образованием'], dtype=object)"
      ]
     },
     "execution_count": 13,
     "metadata": {},
     "output_type": "execute_result"
    }
   ],
   "source": [
    "df['purpose'].unique() "
   ]
  },
  {
   "cell_type": "markdown",
   "metadata": {},
   "source": [
    "Из полученного списка видно, что одинаковые цели формулируются по-разному. Необходимо выделить леммы, чтобы можно было значения столбца объединить в категории в зависимости от целей получения кредита. В следующем разделе проекта `Категоризация данных` при категоризации будет использована лемматизация значений."
   ]
  },
  {
   "cell_type": "markdown",
   "metadata": {},
   "source": [
    "**Выводы**\n",
    "\n",
    "Предобработка нарушений в стиле заголовков не обнаружила.\n",
    "\n",
    "Предобработка обнаружила следующие проблемы в данных:\n",
    "пропущенные значения,\n",
    "дубликаты — явные и неявные.\n",
    "\n",
    "Явные дубликаты удалены. \n",
    "Неявные дубликаты значений будут категоризированы с помощью лемматизации в следующем разделе проекта.\n",
    "\n",
    "Пропущенные значения заменены на медианные. \n",
    "\n",
    "Теперь можно перейти к категоризации данных."
   ]
  },
  {
   "cell_type": "markdown",
   "metadata": {},
   "source": [
    "### Категоризация данных\n",
    "\n",
    "***Количество детей в семье***\n",
    "\n",
    "Для исследования необходимо значения столбца `children` разделить на две категории: есть дети и нет детей.\n",
    "Сначала проверю уникальные значения столбца `children` и их количество."
   ]
  },
  {
   "cell_type": "code",
   "execution_count": 14,
   "metadata": {
    "scrolled": true
   },
   "outputs": [
    {
     "data": {
      "text/plain": [
       " 0     14107\n",
       " 1      4809\n",
       " 2      2052\n",
       " 3       330\n",
       " 20       76\n",
       "-1        47\n",
       " 4        41\n",
       " 5         9\n",
       "Name: children, dtype: int64"
      ]
     },
     "execution_count": 14,
     "metadata": {},
     "output_type": "execute_result"
    }
   ],
   "source": [
    "df['children'].value_counts() "
   ]
  },
  {
   "cell_type": "markdown",
   "metadata": {},
   "source": [
    "Обнаружено наличие отрицательных значений (- 1) и подозрительное количество (76) значений двадцати детей. \n",
    "Значение -1 ошибочное. Можно допустить, что возникла ошибка при выгрузке данных. Учитывая, что таких значений очень мало (всего 47), буду считать это значение за 0. 41 от 14107 составляет всего 0.3%.\n",
    "\n",
    "Количество детей 20 у 76ти значений также говорит об ошибке. Однако если предположить, что в большей части этих ячеек указано больше детей, чем есть на самом деле, это никак не повлияет на ход исследования, поскольку нам важен факт наличия/отсутствия детей.\n",
    "\n",
    "Напишу функцию, которая категоризирует значения стобца."
   ]
  },
  {
   "cell_type": "code",
   "execution_count": 15,
   "metadata": {},
   "outputs": [],
   "source": [
    "def create_category_children(data):\n",
    "\n",
    "    if data == 0:\n",
    "        return 'нет детей'\n",
    "    return 'есть дети'\n",
    "  \n",
    "df ['children_category'] = df['children'].apply(create_category_children)"
   ]
  },
  {
   "cell_type": "code",
   "execution_count": 16,
   "metadata": {},
   "outputs": [
    {
     "data": {
      "text/html": [
       "<div>\n",
       "<style scoped>\n",
       "    .dataframe tbody tr th:only-of-type {\n",
       "        vertical-align: middle;\n",
       "    }\n",
       "\n",
       "    .dataframe tbody tr th {\n",
       "        vertical-align: top;\n",
       "    }\n",
       "\n",
       "    .dataframe thead th {\n",
       "        text-align: right;\n",
       "    }\n",
       "</style>\n",
       "<table border=\"1\" class=\"dataframe\">\n",
       "  <thead>\n",
       "    <tr style=\"text-align: right;\">\n",
       "      <th></th>\n",
       "      <th>children</th>\n",
       "      <th>days_employed</th>\n",
       "      <th>dob_years</th>\n",
       "      <th>education</th>\n",
       "      <th>education_id</th>\n",
       "      <th>family_status</th>\n",
       "      <th>family_status_id</th>\n",
       "      <th>gender</th>\n",
       "      <th>income_type</th>\n",
       "      <th>debt</th>\n",
       "      <th>total_income</th>\n",
       "      <th>purpose</th>\n",
       "      <th>children_category</th>\n",
       "    </tr>\n",
       "  </thead>\n",
       "  <tbody>\n",
       "    <tr>\n",
       "      <td>0</td>\n",
       "      <td>1</td>\n",
       "      <td>-8437.673028</td>\n",
       "      <td>42</td>\n",
       "      <td>высшее</td>\n",
       "      <td>0</td>\n",
       "      <td>женат / замужем</td>\n",
       "      <td>0</td>\n",
       "      <td>F</td>\n",
       "      <td>сотрудник</td>\n",
       "      <td>0</td>\n",
       "      <td>253875.639453</td>\n",
       "      <td>покупка жилья</td>\n",
       "      <td>есть дети</td>\n",
       "    </tr>\n",
       "    <tr>\n",
       "      <td>1</td>\n",
       "      <td>1</td>\n",
       "      <td>-4024.803754</td>\n",
       "      <td>36</td>\n",
       "      <td>среднее</td>\n",
       "      <td>1</td>\n",
       "      <td>женат / замужем</td>\n",
       "      <td>0</td>\n",
       "      <td>F</td>\n",
       "      <td>сотрудник</td>\n",
       "      <td>0</td>\n",
       "      <td>112080.014102</td>\n",
       "      <td>приобретение автомобиля</td>\n",
       "      <td>есть дети</td>\n",
       "    </tr>\n",
       "    <tr>\n",
       "      <td>2</td>\n",
       "      <td>0</td>\n",
       "      <td>-5623.422610</td>\n",
       "      <td>33</td>\n",
       "      <td>Среднее</td>\n",
       "      <td>1</td>\n",
       "      <td>женат / замужем</td>\n",
       "      <td>0</td>\n",
       "      <td>M</td>\n",
       "      <td>сотрудник</td>\n",
       "      <td>0</td>\n",
       "      <td>145885.952297</td>\n",
       "      <td>покупка жилья</td>\n",
       "      <td>нет детей</td>\n",
       "    </tr>\n",
       "    <tr>\n",
       "      <td>3</td>\n",
       "      <td>3</td>\n",
       "      <td>-4124.747207</td>\n",
       "      <td>32</td>\n",
       "      <td>среднее</td>\n",
       "      <td>1</td>\n",
       "      <td>женат / замужем</td>\n",
       "      <td>0</td>\n",
       "      <td>M</td>\n",
       "      <td>сотрудник</td>\n",
       "      <td>0</td>\n",
       "      <td>267628.550329</td>\n",
       "      <td>дополнительное образование</td>\n",
       "      <td>есть дети</td>\n",
       "    </tr>\n",
       "    <tr>\n",
       "      <td>4</td>\n",
       "      <td>0</td>\n",
       "      <td>340266.072047</td>\n",
       "      <td>53</td>\n",
       "      <td>среднее</td>\n",
       "      <td>1</td>\n",
       "      <td>гражданский брак</td>\n",
       "      <td>1</td>\n",
       "      <td>F</td>\n",
       "      <td>пенсионер</td>\n",
       "      <td>0</td>\n",
       "      <td>158616.077870</td>\n",
       "      <td>сыграть свадьбу</td>\n",
       "      <td>нет детей</td>\n",
       "    </tr>\n",
       "  </tbody>\n",
       "</table>\n",
       "</div>"
      ],
      "text/plain": [
       "   children  days_employed  dob_years education  education_id  \\\n",
       "0         1   -8437.673028         42    высшее             0   \n",
       "1         1   -4024.803754         36   среднее             1   \n",
       "2         0   -5623.422610         33   Среднее             1   \n",
       "3         3   -4124.747207         32   среднее             1   \n",
       "4         0  340266.072047         53   среднее             1   \n",
       "\n",
       "      family_status  family_status_id gender income_type  debt   total_income  \\\n",
       "0   женат / замужем                 0      F   сотрудник     0  253875.639453   \n",
       "1   женат / замужем                 0      F   сотрудник     0  112080.014102   \n",
       "2   женат / замужем                 0      M   сотрудник     0  145885.952297   \n",
       "3   женат / замужем                 0      M   сотрудник     0  267628.550329   \n",
       "4  гражданский брак                 1      F   пенсионер     0  158616.077870   \n",
       "\n",
       "                      purpose children_category  \n",
       "0               покупка жилья         есть дети  \n",
       "1     приобретение автомобиля         есть дети  \n",
       "2               покупка жилья         нет детей  \n",
       "3  дополнительное образование         есть дети  \n",
       "4             сыграть свадьбу         нет детей  "
      ]
     },
     "execution_count": 16,
     "metadata": {},
     "output_type": "execute_result"
    }
   ],
   "source": [
    "df.head()"
   ]
  },
  {
   "cell_type": "markdown",
   "metadata": {},
   "source": [
    "***Ежемесячный доход***\n",
    "\n",
    "Для исследования необходимо разделить на категории значения столбца `total_income`. \n",
    "Для начала посмотрю минимальное и максимальное значения."
   ]
  },
  {
   "cell_type": "code",
   "execution_count": 17,
   "metadata": {},
   "outputs": [
    {
     "data": {
      "text/plain": [
       "20667.26379327158"
      ]
     },
     "execution_count": 17,
     "metadata": {},
     "output_type": "execute_result"
    }
   ],
   "source": [
    "df['total_income'].min()"
   ]
  },
  {
   "cell_type": "code",
   "execution_count": 18,
   "metadata": {},
   "outputs": [
    {
     "data": {
      "text/plain": [
       "2265604.028722744"
      ]
     },
     "execution_count": 18,
     "metadata": {},
     "output_type": "execute_result"
    }
   ],
   "source": [
    "df['total_income'].max()"
   ]
  },
  {
   "cell_type": "markdown",
   "metadata": {},
   "source": [
    "Выделю 4 категории ежемесячного дохода:\n",
    "\n",
    "* очень низкий (менее 60000)\n",
    "* низкий (от 60000 до 100000)\n",
    "* средний (от 100000 до 150000)\n",
    "* высокий (более 150000)\n",
    "\n",
    "Создам функцию для категоризации и добавлю столбец с данными по категориям."
   ]
  },
  {
   "cell_type": "code",
   "execution_count": 19,
   "metadata": {},
   "outputs": [],
   "source": [
    "def create_category_total_income(data):\n",
    "\n",
    "    if data < 60000:\n",
    "        return 'очень низкий'\n",
    "    if 60000 <=data < 100000:\n",
    "        return 'низкий'\n",
    "    if 100000 <=data < 150000:\n",
    "        return 'средний'\n",
    "    return 'высокий'\n",
    "      \n",
    "df['total_income_category'] = df['total_income'].apply(create_category_total_income)"
   ]
  },
  {
   "cell_type": "code",
   "execution_count": 20,
   "metadata": {},
   "outputs": [
    {
     "data": {
      "text/html": [
       "<div>\n",
       "<style scoped>\n",
       "    .dataframe tbody tr th:only-of-type {\n",
       "        vertical-align: middle;\n",
       "    }\n",
       "\n",
       "    .dataframe tbody tr th {\n",
       "        vertical-align: top;\n",
       "    }\n",
       "\n",
       "    .dataframe thead th {\n",
       "        text-align: right;\n",
       "    }\n",
       "</style>\n",
       "<table border=\"1\" class=\"dataframe\">\n",
       "  <thead>\n",
       "    <tr style=\"text-align: right;\">\n",
       "      <th></th>\n",
       "      <th>children</th>\n",
       "      <th>days_employed</th>\n",
       "      <th>dob_years</th>\n",
       "      <th>education</th>\n",
       "      <th>education_id</th>\n",
       "      <th>family_status</th>\n",
       "      <th>family_status_id</th>\n",
       "      <th>gender</th>\n",
       "      <th>income_type</th>\n",
       "      <th>debt</th>\n",
       "      <th>total_income</th>\n",
       "      <th>purpose</th>\n",
       "      <th>children_category</th>\n",
       "      <th>total_income_category</th>\n",
       "    </tr>\n",
       "  </thead>\n",
       "  <tbody>\n",
       "    <tr>\n",
       "      <td>0</td>\n",
       "      <td>1</td>\n",
       "      <td>-8437.673028</td>\n",
       "      <td>42</td>\n",
       "      <td>высшее</td>\n",
       "      <td>0</td>\n",
       "      <td>женат / замужем</td>\n",
       "      <td>0</td>\n",
       "      <td>F</td>\n",
       "      <td>сотрудник</td>\n",
       "      <td>0</td>\n",
       "      <td>253875.639453</td>\n",
       "      <td>покупка жилья</td>\n",
       "      <td>есть дети</td>\n",
       "      <td>высокий</td>\n",
       "    </tr>\n",
       "    <tr>\n",
       "      <td>1</td>\n",
       "      <td>1</td>\n",
       "      <td>-4024.803754</td>\n",
       "      <td>36</td>\n",
       "      <td>среднее</td>\n",
       "      <td>1</td>\n",
       "      <td>женат / замужем</td>\n",
       "      <td>0</td>\n",
       "      <td>F</td>\n",
       "      <td>сотрудник</td>\n",
       "      <td>0</td>\n",
       "      <td>112080.014102</td>\n",
       "      <td>приобретение автомобиля</td>\n",
       "      <td>есть дети</td>\n",
       "      <td>средний</td>\n",
       "    </tr>\n",
       "    <tr>\n",
       "      <td>2</td>\n",
       "      <td>0</td>\n",
       "      <td>-5623.422610</td>\n",
       "      <td>33</td>\n",
       "      <td>Среднее</td>\n",
       "      <td>1</td>\n",
       "      <td>женат / замужем</td>\n",
       "      <td>0</td>\n",
       "      <td>M</td>\n",
       "      <td>сотрудник</td>\n",
       "      <td>0</td>\n",
       "      <td>145885.952297</td>\n",
       "      <td>покупка жилья</td>\n",
       "      <td>нет детей</td>\n",
       "      <td>средний</td>\n",
       "    </tr>\n",
       "    <tr>\n",
       "      <td>3</td>\n",
       "      <td>3</td>\n",
       "      <td>-4124.747207</td>\n",
       "      <td>32</td>\n",
       "      <td>среднее</td>\n",
       "      <td>1</td>\n",
       "      <td>женат / замужем</td>\n",
       "      <td>0</td>\n",
       "      <td>M</td>\n",
       "      <td>сотрудник</td>\n",
       "      <td>0</td>\n",
       "      <td>267628.550329</td>\n",
       "      <td>дополнительное образование</td>\n",
       "      <td>есть дети</td>\n",
       "      <td>высокий</td>\n",
       "    </tr>\n",
       "    <tr>\n",
       "      <td>4</td>\n",
       "      <td>0</td>\n",
       "      <td>340266.072047</td>\n",
       "      <td>53</td>\n",
       "      <td>среднее</td>\n",
       "      <td>1</td>\n",
       "      <td>гражданский брак</td>\n",
       "      <td>1</td>\n",
       "      <td>F</td>\n",
       "      <td>пенсионер</td>\n",
       "      <td>0</td>\n",
       "      <td>158616.077870</td>\n",
       "      <td>сыграть свадьбу</td>\n",
       "      <td>нет детей</td>\n",
       "      <td>высокий</td>\n",
       "    </tr>\n",
       "  </tbody>\n",
       "</table>\n",
       "</div>"
      ],
      "text/plain": [
       "   children  days_employed  dob_years education  education_id  \\\n",
       "0         1   -8437.673028         42    высшее             0   \n",
       "1         1   -4024.803754         36   среднее             1   \n",
       "2         0   -5623.422610         33   Среднее             1   \n",
       "3         3   -4124.747207         32   среднее             1   \n",
       "4         0  340266.072047         53   среднее             1   \n",
       "\n",
       "      family_status  family_status_id gender income_type  debt   total_income  \\\n",
       "0   женат / замужем                 0      F   сотрудник     0  253875.639453   \n",
       "1   женат / замужем                 0      F   сотрудник     0  112080.014102   \n",
       "2   женат / замужем                 0      M   сотрудник     0  145885.952297   \n",
       "3   женат / замужем                 0      M   сотрудник     0  267628.550329   \n",
       "4  гражданский брак                 1      F   пенсионер     0  158616.077870   \n",
       "\n",
       "                      purpose children_category total_income_category  \n",
       "0               покупка жилья         есть дети               высокий  \n",
       "1     приобретение автомобиля         есть дети               средний  \n",
       "2               покупка жилья         нет детей               средний  \n",
       "3  дополнительное образование         есть дети               высокий  \n",
       "4             сыграть свадьбу         нет детей               высокий  "
      ]
     },
     "execution_count": 20,
     "metadata": {},
     "output_type": "execute_result"
    }
   ],
   "source": [
    "df.head()"
   ]
  },
  {
   "cell_type": "markdown",
   "metadata": {},
   "source": [
    "***Цели получения кредита***\n",
    "\n",
    "Напишу функцию, которая с помощью лемматизации разобьет значения столбца `purpose` на следующие категории:\n",
    "\n",
    "* `автомобиль`\n",
    "* `строительство`\n",
    "* `ремонт`\n",
    "* `недвижимость`\n",
    "* `образование`\n",
    "* `свадьба`\n",
    "\n",
    "Выбор сделан с учетом:\n",
    " - составленного списка уникальных значений столбца `purpose` в предыдущем разделе проекта\n",
    " - связан с тем, что в банках для получения кредита заемщику необходимо собрать различный пакет документов в зависимости от целей кредита. К примеру, покупка недвижимости и ремонт недвижимости абсолютно разные категории. При покупке недвижимости в том числе предоставляются документы на приобретаемый объект (выписка из ЕГРН, тех.паспорт), при ремонте - договор с компанией, которая будет производить ремонт недвижимости."
   ]
  },
  {
   "cell_type": "code",
   "execution_count": 21,
   "metadata": {},
   "outputs": [],
   "source": [
    "# получение лемматизатора для слов на русском языке\n",
    "from pymystem3 import Mystem \n",
    "m = Mystem() \n",
    "\n",
    "# создание функции для категоризации значений столбца 'purpose'    \n",
    "def create_category_purpose(row): \n",
    "    # лемматизация значений столбца 'purpose'\n",
    "    lem_purpose = m.lemmatize(row['purpose']) \n",
    "    if 'автомобиль' in lem_purpose:\n",
    "        return 'автомобиль'\n",
    "    if 'строительство' in lem_purpose:\n",
    "        return 'строительство'\n",
    "    if 'ремонт' in lem_purpose:\n",
    "        return 'ремонт'\n",
    "    if ('жилье' in lem_purpose) or ('недвижимость' in lem_purpose):\n",
    "        return 'недвижимость'\n",
    "    if 'образование' in lem_purpose:\n",
    "        return 'образование'\n",
    "    if 'свадьба' in lem_purpose:\n",
    "        return 'свадьба'\n",
    "\n",
    "# добавление в таблицу df столбца с категориями значений столбца 'purpose'\n",
    "df ['purpose_category'] = df.apply(create_category_purpose, axis = 1) \n"
   ]
  },
  {
   "cell_type": "markdown",
   "metadata": {},
   "source": [
    "Проверю таблицу на наличие нового столбца `purpose_category` и значения в нем."
   ]
  },
  {
   "cell_type": "code",
   "execution_count": 22,
   "metadata": {
    "scrolled": true
   },
   "outputs": [
    {
     "data": {
      "text/html": [
       "<div>\n",
       "<style scoped>\n",
       "    .dataframe tbody tr th:only-of-type {\n",
       "        vertical-align: middle;\n",
       "    }\n",
       "\n",
       "    .dataframe tbody tr th {\n",
       "        vertical-align: top;\n",
       "    }\n",
       "\n",
       "    .dataframe thead th {\n",
       "        text-align: right;\n",
       "    }\n",
       "</style>\n",
       "<table border=\"1\" class=\"dataframe\">\n",
       "  <thead>\n",
       "    <tr style=\"text-align: right;\">\n",
       "      <th></th>\n",
       "      <th>children</th>\n",
       "      <th>days_employed</th>\n",
       "      <th>dob_years</th>\n",
       "      <th>education</th>\n",
       "      <th>education_id</th>\n",
       "      <th>family_status</th>\n",
       "      <th>family_status_id</th>\n",
       "      <th>gender</th>\n",
       "      <th>income_type</th>\n",
       "      <th>debt</th>\n",
       "      <th>total_income</th>\n",
       "      <th>purpose</th>\n",
       "      <th>children_category</th>\n",
       "      <th>total_income_category</th>\n",
       "      <th>purpose_category</th>\n",
       "    </tr>\n",
       "  </thead>\n",
       "  <tbody>\n",
       "    <tr>\n",
       "      <td>0</td>\n",
       "      <td>1</td>\n",
       "      <td>-8437.673028</td>\n",
       "      <td>42</td>\n",
       "      <td>высшее</td>\n",
       "      <td>0</td>\n",
       "      <td>женат / замужем</td>\n",
       "      <td>0</td>\n",
       "      <td>F</td>\n",
       "      <td>сотрудник</td>\n",
       "      <td>0</td>\n",
       "      <td>253875.639453</td>\n",
       "      <td>покупка жилья</td>\n",
       "      <td>есть дети</td>\n",
       "      <td>высокий</td>\n",
       "      <td>недвижимость</td>\n",
       "    </tr>\n",
       "    <tr>\n",
       "      <td>1</td>\n",
       "      <td>1</td>\n",
       "      <td>-4024.803754</td>\n",
       "      <td>36</td>\n",
       "      <td>среднее</td>\n",
       "      <td>1</td>\n",
       "      <td>женат / замужем</td>\n",
       "      <td>0</td>\n",
       "      <td>F</td>\n",
       "      <td>сотрудник</td>\n",
       "      <td>0</td>\n",
       "      <td>112080.014102</td>\n",
       "      <td>приобретение автомобиля</td>\n",
       "      <td>есть дети</td>\n",
       "      <td>средний</td>\n",
       "      <td>автомобиль</td>\n",
       "    </tr>\n",
       "    <tr>\n",
       "      <td>2</td>\n",
       "      <td>0</td>\n",
       "      <td>-5623.422610</td>\n",
       "      <td>33</td>\n",
       "      <td>Среднее</td>\n",
       "      <td>1</td>\n",
       "      <td>женат / замужем</td>\n",
       "      <td>0</td>\n",
       "      <td>M</td>\n",
       "      <td>сотрудник</td>\n",
       "      <td>0</td>\n",
       "      <td>145885.952297</td>\n",
       "      <td>покупка жилья</td>\n",
       "      <td>нет детей</td>\n",
       "      <td>средний</td>\n",
       "      <td>недвижимость</td>\n",
       "    </tr>\n",
       "    <tr>\n",
       "      <td>3</td>\n",
       "      <td>3</td>\n",
       "      <td>-4124.747207</td>\n",
       "      <td>32</td>\n",
       "      <td>среднее</td>\n",
       "      <td>1</td>\n",
       "      <td>женат / замужем</td>\n",
       "      <td>0</td>\n",
       "      <td>M</td>\n",
       "      <td>сотрудник</td>\n",
       "      <td>0</td>\n",
       "      <td>267628.550329</td>\n",
       "      <td>дополнительное образование</td>\n",
       "      <td>есть дети</td>\n",
       "      <td>высокий</td>\n",
       "      <td>образование</td>\n",
       "    </tr>\n",
       "    <tr>\n",
       "      <td>4</td>\n",
       "      <td>0</td>\n",
       "      <td>340266.072047</td>\n",
       "      <td>53</td>\n",
       "      <td>среднее</td>\n",
       "      <td>1</td>\n",
       "      <td>гражданский брак</td>\n",
       "      <td>1</td>\n",
       "      <td>F</td>\n",
       "      <td>пенсионер</td>\n",
       "      <td>0</td>\n",
       "      <td>158616.077870</td>\n",
       "      <td>сыграть свадьбу</td>\n",
       "      <td>нет детей</td>\n",
       "      <td>высокий</td>\n",
       "      <td>свадьба</td>\n",
       "    </tr>\n",
       "    <tr>\n",
       "      <td>5</td>\n",
       "      <td>0</td>\n",
       "      <td>-926.185831</td>\n",
       "      <td>27</td>\n",
       "      <td>высшее</td>\n",
       "      <td>0</td>\n",
       "      <td>гражданский брак</td>\n",
       "      <td>1</td>\n",
       "      <td>M</td>\n",
       "      <td>компаньон</td>\n",
       "      <td>0</td>\n",
       "      <td>255763.565419</td>\n",
       "      <td>покупка жилья</td>\n",
       "      <td>нет детей</td>\n",
       "      <td>высокий</td>\n",
       "      <td>недвижимость</td>\n",
       "    </tr>\n",
       "    <tr>\n",
       "      <td>6</td>\n",
       "      <td>0</td>\n",
       "      <td>-2879.202052</td>\n",
       "      <td>43</td>\n",
       "      <td>высшее</td>\n",
       "      <td>0</td>\n",
       "      <td>женат / замужем</td>\n",
       "      <td>0</td>\n",
       "      <td>F</td>\n",
       "      <td>компаньон</td>\n",
       "      <td>0</td>\n",
       "      <td>240525.971920</td>\n",
       "      <td>операции с жильем</td>\n",
       "      <td>нет детей</td>\n",
       "      <td>высокий</td>\n",
       "      <td>недвижимость</td>\n",
       "    </tr>\n",
       "    <tr>\n",
       "      <td>7</td>\n",
       "      <td>0</td>\n",
       "      <td>-152.779569</td>\n",
       "      <td>50</td>\n",
       "      <td>СРЕДНЕЕ</td>\n",
       "      <td>1</td>\n",
       "      <td>женат / замужем</td>\n",
       "      <td>0</td>\n",
       "      <td>M</td>\n",
       "      <td>сотрудник</td>\n",
       "      <td>0</td>\n",
       "      <td>135823.934197</td>\n",
       "      <td>образование</td>\n",
       "      <td>нет детей</td>\n",
       "      <td>средний</td>\n",
       "      <td>образование</td>\n",
       "    </tr>\n",
       "    <tr>\n",
       "      <td>8</td>\n",
       "      <td>2</td>\n",
       "      <td>-6929.865299</td>\n",
       "      <td>35</td>\n",
       "      <td>ВЫСШЕЕ</td>\n",
       "      <td>0</td>\n",
       "      <td>гражданский брак</td>\n",
       "      <td>1</td>\n",
       "      <td>F</td>\n",
       "      <td>сотрудник</td>\n",
       "      <td>0</td>\n",
       "      <td>95856.832424</td>\n",
       "      <td>на проведение свадьбы</td>\n",
       "      <td>есть дети</td>\n",
       "      <td>низкий</td>\n",
       "      <td>свадьба</td>\n",
       "    </tr>\n",
       "    <tr>\n",
       "      <td>9</td>\n",
       "      <td>0</td>\n",
       "      <td>-2188.756445</td>\n",
       "      <td>41</td>\n",
       "      <td>среднее</td>\n",
       "      <td>1</td>\n",
       "      <td>женат / замужем</td>\n",
       "      <td>0</td>\n",
       "      <td>M</td>\n",
       "      <td>сотрудник</td>\n",
       "      <td>0</td>\n",
       "      <td>144425.938277</td>\n",
       "      <td>покупка жилья для семьи</td>\n",
       "      <td>нет детей</td>\n",
       "      <td>средний</td>\n",
       "      <td>недвижимость</td>\n",
       "    </tr>\n",
       "  </tbody>\n",
       "</table>\n",
       "</div>"
      ],
      "text/plain": [
       "   children  days_employed  dob_years education  education_id  \\\n",
       "0         1   -8437.673028         42    высшее             0   \n",
       "1         1   -4024.803754         36   среднее             1   \n",
       "2         0   -5623.422610         33   Среднее             1   \n",
       "3         3   -4124.747207         32   среднее             1   \n",
       "4         0  340266.072047         53   среднее             1   \n",
       "5         0    -926.185831         27    высшее             0   \n",
       "6         0   -2879.202052         43    высшее             0   \n",
       "7         0    -152.779569         50   СРЕДНЕЕ             1   \n",
       "8         2   -6929.865299         35    ВЫСШЕЕ             0   \n",
       "9         0   -2188.756445         41   среднее             1   \n",
       "\n",
       "      family_status  family_status_id gender income_type  debt   total_income  \\\n",
       "0   женат / замужем                 0      F   сотрудник     0  253875.639453   \n",
       "1   женат / замужем                 0      F   сотрудник     0  112080.014102   \n",
       "2   женат / замужем                 0      M   сотрудник     0  145885.952297   \n",
       "3   женат / замужем                 0      M   сотрудник     0  267628.550329   \n",
       "4  гражданский брак                 1      F   пенсионер     0  158616.077870   \n",
       "5  гражданский брак                 1      M   компаньон     0  255763.565419   \n",
       "6   женат / замужем                 0      F   компаньон     0  240525.971920   \n",
       "7   женат / замужем                 0      M   сотрудник     0  135823.934197   \n",
       "8  гражданский брак                 1      F   сотрудник     0   95856.832424   \n",
       "9   женат / замужем                 0      M   сотрудник     0  144425.938277   \n",
       "\n",
       "                      purpose children_category total_income_category  \\\n",
       "0               покупка жилья         есть дети               высокий   \n",
       "1     приобретение автомобиля         есть дети               средний   \n",
       "2               покупка жилья         нет детей               средний   \n",
       "3  дополнительное образование         есть дети               высокий   \n",
       "4             сыграть свадьбу         нет детей               высокий   \n",
       "5               покупка жилья         нет детей               высокий   \n",
       "6           операции с жильем         нет детей               высокий   \n",
       "7                 образование         нет детей               средний   \n",
       "8       на проведение свадьбы         есть дети                низкий   \n",
       "9     покупка жилья для семьи         нет детей               средний   \n",
       "\n",
       "  purpose_category  \n",
       "0     недвижимость  \n",
       "1       автомобиль  \n",
       "2     недвижимость  \n",
       "3      образование  \n",
       "4          свадьба  \n",
       "5     недвижимость  \n",
       "6     недвижимость  \n",
       "7      образование  \n",
       "8          свадьба  \n",
       "9     недвижимость  "
      ]
     },
     "execution_count": 22,
     "metadata": {},
     "output_type": "execute_result"
    }
   ],
   "source": [
    "df.head(10) "
   ]
  },
  {
   "cell_type": "markdown",
   "metadata": {},
   "source": [
    "Столбец `purpose_category` есть, значения категорий отражаются.\n",
    "Проверю уникальные значения столбца `purpose_category` и их количество."
   ]
  },
  {
   "cell_type": "code",
   "execution_count": 23,
   "metadata": {},
   "outputs": [
    {
     "data": {
      "text/plain": [
       "недвижимость     8328\n",
       "автомобиль       4308\n",
       "образование      4014\n",
       "свадьба          2335\n",
       "строительство    1879\n",
       "ремонт            607\n",
       "Name: purpose_category, dtype: int64"
      ]
     },
     "execution_count": 23,
     "metadata": {},
     "output_type": "execute_result"
    }
   ],
   "source": [
    "df['purpose_category'].value_counts() "
   ]
  },
  {
   "cell_type": "markdown",
   "metadata": {},
   "source": [
    "Все 6 категорий целей получения кредита присутствуют."
   ]
  },
  {
   "cell_type": "markdown",
   "metadata": {},
   "source": [
    "**Выводы**\n",
    "\n",
    "Значения количества детей в семье разделены на две категории в соответствии с условиями гипотезы.\n",
    "Значения ежемесячного доходы разделены на четыре категории.\n",
    "Цели получения кредита разбиты на шесть категорий.\n",
    "\n",
    "Для завершения предобработки осталось уточнить значения двух столбцов."
   ]
  },
  {
   "cell_type": "markdown",
   "metadata": {},
   "source": [
    "### Уточнение значений \n",
    "\n",
    "***Наличие задолженности по возврату кредита***\n",
    "\n",
    "Проверю значения столбца `debt`. Для этого выведу уникальные значения и их количество."
   ]
  },
  {
   "cell_type": "code",
   "execution_count": 24,
   "metadata": {},
   "outputs": [
    {
     "data": {
      "text/plain": [
       "0    19730\n",
       "1     1741\n",
       "Name: debt, dtype: int64"
      ]
     },
     "execution_count": 24,
     "metadata": {},
     "output_type": "execute_result"
    }
   ],
   "source": [
    "df['debt'].value_counts()"
   ]
  },
  {
   "cell_type": "markdown",
   "metadata": {},
   "source": [
    "Согласно логике значение 0 должно соответствовать отсутствию задолженности, а значение 1 - наличию задолженности. \n",
    "Однако в этом необходимо убедиться. Изменю значения столбца на булевые и подсчитаю их."
   ]
  },
  {
   "cell_type": "code",
   "execution_count": 25,
   "metadata": {},
   "outputs": [
    {
     "data": {
      "text/plain": [
       "False    19730\n",
       "True      1741\n",
       "Name: debt, dtype: int64"
      ]
     },
     "execution_count": 25,
     "metadata": {},
     "output_type": "execute_result"
    }
   ],
   "source": [
    "df['debt'].astype('bool').value_counts()"
   ]
  },
  {
   "cell_type": "markdown",
   "metadata": {},
   "source": [
    "Все верно:\n",
    "0 - отсутствие задолженности\n",
    "1 - наличие задолженности\n",
    "\n",
    "***Семейное положение***\n",
    "\n",
    "Нужно проверить соотвествие значений столбца `family_status` значениям столбца `family_status_id`.\n",
    "Для этого выведу уникальные значения столбцов и их количество."
   ]
  },
  {
   "cell_type": "code",
   "execution_count": 26,
   "metadata": {},
   "outputs": [
    {
     "data": {
      "text/plain": [
       "женат / замужем          12344\n",
       "гражданский брак          4163\n",
       "Не женат / не замужем     2810\n",
       "в разводе                 1195\n",
       "вдовец / вдова             959\n",
       "Name: family_status, dtype: int64"
      ]
     },
     "execution_count": 26,
     "metadata": {},
     "output_type": "execute_result"
    }
   ],
   "source": [
    "df['family_status'].value_counts()"
   ]
  },
  {
   "cell_type": "code",
   "execution_count": 27,
   "metadata": {},
   "outputs": [
    {
     "data": {
      "text/plain": [
       "0    12344\n",
       "1     4163\n",
       "4     2810\n",
       "3     1195\n",
       "2      959\n",
       "Name: family_status_id, dtype: int64"
      ]
     },
     "execution_count": 27,
     "metadata": {},
     "output_type": "execute_result"
    }
   ],
   "source": [
    "df['family_status_id'].value_counts()"
   ]
  },
  {
   "cell_type": "markdown",
   "metadata": {},
   "source": [
    "Количество уникальных значений в двух столбцах совпадает. \n",
    "Соответственно, уникальные значения столбца `family_status_id` значат:\n",
    "0 - женат / замужем\n",
    "1 - гражданский брак\n",
    "2 - вдовец / вдова\n",
    "3 - в разводе\n",
    "4 - гражданский брак"
   ]
  },
  {
   "cell_type": "markdown",
   "metadata": {
    "id": "jz6a9-7HQUDd"
   },
   "source": [
    "**Выводы**\n",
    "\n",
    "Значения столбца с данными о наличии задолженности уточнены.\n",
    "\n",
    "Значение семейного статуса и индекса семейного статуса сопоставлены. Данные предоставлены корректные.\n",
    "\n",
    "Теперь можно перейти к проверке гипотез."
   ]
  },
  {
   "cell_type": "markdown",
   "metadata": {
    "id": "WttZHXH0SqKk"
   },
   "source": [
    "## Проверка гипотез"
   ]
  },
  {
   "cell_type": "markdown",
   "metadata": {
    "id": "Im936VVi_Zcu"
   },
   "source": [
    "### Семейное положение клиента влияет на факт погашения кредита в срок"
   ]
  },
  {
   "cell_type": "markdown",
   "metadata": {
    "id": "nwt_MuaL_Zcu"
   },
   "source": [
    "Первая гипотеза утверждает, что семейное положение клиента влияет на факт погашения кредита в срок. Для проверки гипотезы составлю сводную таблицу и отсортирую ее по убыванию значения процентного отношения задолженников ко всем заемщикам:\n",
    "\n",
    "- индексом будет являться статус семейного положения\n",
    "- столбцы: факт наличия/отсутствия задолженности по кредиту и процентное отношение задолженников ко всем заемщикам\n",
    "- значения: количество значений любого столбца таблицы за исключением уже использованных\n"
   ]
  },
  {
   "cell_type": "code",
   "execution_count": 28,
   "metadata": {},
   "outputs": [
    {
     "data": {
      "text/html": [
       "<div>\n",
       "<style scoped>\n",
       "    .dataframe tbody tr th:only-of-type {\n",
       "        vertical-align: middle;\n",
       "    }\n",
       "\n",
       "    .dataframe tbody tr th {\n",
       "        vertical-align: top;\n",
       "    }\n",
       "\n",
       "    .dataframe thead th {\n",
       "        text-align: right;\n",
       "    }\n",
       "</style>\n",
       "<table border=\"1\" class=\"dataframe\">\n",
       "  <thead>\n",
       "    <tr style=\"text-align: right;\">\n",
       "      <th>debt</th>\n",
       "      <th>0</th>\n",
       "      <th>1</th>\n",
       "      <th>debt_percent</th>\n",
       "    </tr>\n",
       "    <tr>\n",
       "      <th>family_status</th>\n",
       "      <th></th>\n",
       "      <th></th>\n",
       "      <th></th>\n",
       "    </tr>\n",
       "  </thead>\n",
       "  <tbody>\n",
       "    <tr>\n",
       "      <td>Не женат / не замужем</td>\n",
       "      <td>2536</td>\n",
       "      <td>274</td>\n",
       "      <td>9.750890</td>\n",
       "    </tr>\n",
       "    <tr>\n",
       "      <td>гражданский брак</td>\n",
       "      <td>3775</td>\n",
       "      <td>388</td>\n",
       "      <td>9.320202</td>\n",
       "    </tr>\n",
       "    <tr>\n",
       "      <td>женат / замужем</td>\n",
       "      <td>11413</td>\n",
       "      <td>931</td>\n",
       "      <td>7.542126</td>\n",
       "    </tr>\n",
       "    <tr>\n",
       "      <td>в разводе</td>\n",
       "      <td>1110</td>\n",
       "      <td>85</td>\n",
       "      <td>7.112971</td>\n",
       "    </tr>\n",
       "    <tr>\n",
       "      <td>вдовец / вдова</td>\n",
       "      <td>896</td>\n",
       "      <td>63</td>\n",
       "      <td>6.569343</td>\n",
       "    </tr>\n",
       "  </tbody>\n",
       "</table>\n",
       "</div>"
      ],
      "text/plain": [
       "debt                       0    1  debt_percent\n",
       "family_status                                  \n",
       "Не женат / не замужем   2536  274      9.750890\n",
       "гражданский брак        3775  388      9.320202\n",
       "женат / замужем        11413  931      7.542126\n",
       "в разводе               1110   85      7.112971\n",
       "вдовец / вдова           896   63      6.569343"
      ]
     },
     "execution_count": 28,
     "metadata": {},
     "output_type": "execute_result"
    }
   ],
   "source": [
    "# формирование сводной таблицы\n",
    "data_pivot = df.pivot_table(\n",
    "    index = 'family_status', \n",
    "    columns = 'debt',\n",
    "    values = 'family_status_id', \n",
    "    aggfunc = 'count'\n",
    ")\n",
    "# добавление столбца с процентым отношением\n",
    "data_pivot['debt_percent'] = data_pivot[1]/(data_pivot[0]+data_pivot[1])*100 \n",
    "# сортировка таблицы по столбцу debt_percent по убыванию\n",
    "data_pivot = data_pivot.sort_values('debt_percent', ascending=False)  \n",
    "data_pivot"
   ]
  },
  {
   "cell_type": "markdown",
   "metadata": {},
   "source": [
    "Согласно полученным данным серьезнее относятся к своевременному внесению средств в счет погашения кредита заемщики, состоящие в официальном браке, а также побывавшие в нем ранее (разведены, вдовцы). Причем последние более ответственные, особенно те, кто потерял свои вторые половины по причине смерти. Самый большой процент задолженности у несемейных заемщиков."
   ]
  },
  {
   "cell_type": "markdown",
   "metadata": {},
   "source": [
    "**Выводы**\n",
    "\n",
    "Семейное положение действительно влияет на факт погашения задолженности в срок. Гипотеза подтвердилась."
   ]
  },
  {
   "cell_type": "markdown",
   "metadata": {},
   "source": [
    "### Наличие детей у клиента влияет на факт погашения кредита в срок ###"
   ]
  },
  {
   "cell_type": "markdown",
   "metadata": {},
   "source": [
    "Вторая гипотеза утверждает, что наличие детей у клиента влияет на факт погашения кредита в срок. Для ее проверки составлю сводную таблицу:\n",
    "\n",
    "- индексом будет являться категория наличия/отсутствия в семье детей\n",
    "- столбцы: факт наличия/отсутствия задолженности по кредиту и процентное отношение задолженников ко всем заемщикам\n",
    "- значения: количество любого столбца таблицы за исключением уже использованных"
   ]
  },
  {
   "cell_type": "code",
   "execution_count": 29,
   "metadata": {
    "id": "0_Qs96oh_Zcu"
   },
   "outputs": [
    {
     "data": {
      "text/html": [
       "<div>\n",
       "<style scoped>\n",
       "    .dataframe tbody tr th:only-of-type {\n",
       "        vertical-align: middle;\n",
       "    }\n",
       "\n",
       "    .dataframe tbody tr th {\n",
       "        vertical-align: top;\n",
       "    }\n",
       "\n",
       "    .dataframe thead th {\n",
       "        text-align: right;\n",
       "    }\n",
       "</style>\n",
       "<table border=\"1\" class=\"dataframe\">\n",
       "  <thead>\n",
       "    <tr style=\"text-align: right;\">\n",
       "      <th>debt</th>\n",
       "      <th>0</th>\n",
       "      <th>1</th>\n",
       "      <th>debt_percent</th>\n",
       "    </tr>\n",
       "    <tr>\n",
       "      <th>children_category</th>\n",
       "      <th></th>\n",
       "      <th></th>\n",
       "      <th></th>\n",
       "    </tr>\n",
       "  </thead>\n",
       "  <tbody>\n",
       "    <tr>\n",
       "      <td>есть дети</td>\n",
       "      <td>6686</td>\n",
       "      <td>678</td>\n",
       "      <td>9.206953</td>\n",
       "    </tr>\n",
       "    <tr>\n",
       "      <td>нет детей</td>\n",
       "      <td>13044</td>\n",
       "      <td>1063</td>\n",
       "      <td>7.535266</td>\n",
       "    </tr>\n",
       "  </tbody>\n",
       "</table>\n",
       "</div>"
      ],
      "text/plain": [
       "debt                   0     1  debt_percent\n",
       "children_category                           \n",
       "есть дети           6686   678      9.206953\n",
       "нет детей          13044  1063      7.535266"
      ]
     },
     "execution_count": 29,
     "metadata": {},
     "output_type": "execute_result"
    }
   ],
   "source": [
    "data_pivot = df.pivot_table(\n",
    "    index = 'children_category',\n",
    "    columns = 'debt',\n",
    "    values = 'children', \n",
    "    aggfunc = 'count'\n",
    ") \n",
    "# добавление столбца с процентым отношением\n",
    "data_pivot['debt_percent'] = data_pivot[1]/(data_pivot[0]+data_pivot[1])*100 \n",
    "data_pivot"
   ]
  },
  {
   "cell_type": "markdown",
   "metadata": {},
   "source": [
    "Согласно полученным данным семьи без детей допускают меньше просрочек по погашению кредитов."
   ]
  },
  {
   "cell_type": "markdown",
   "metadata": {},
   "source": [
    "**Выводы**\n",
    "\n",
    "Наличие детей в семье действительно влияет на факт погашения задолженности в срок. Гипотеза подтвердилась."
   ]
  },
  {
   "cell_type": "markdown",
   "metadata": {},
   "source": [
    "#### Зависимость между уровнем дохода и возвратом кредита в срок"
   ]
  },
  {
   "cell_type": "markdown",
   "metadata": {},
   "source": [
    "В данном исследовании также нужно выяснить, существует ли зависимость между уровнем дохода и возвратом кредита в срок.\n",
    "Для этого составлю сводную таблицу и отсортирую ее по убыванию значения процентного отношения задолженников ко всем заемщикам:\n",
    "\n",
    "- индексом будет являться категория ежемесячного дохода\n",
    "- столбцы: факт наличия/отсутствия задолженности по кредиту и процентное отношение задолженников ко всем заемщикам\n",
    "- значения: количество любого столбца таблицы за исключением уже использованных"
   ]
  },
  {
   "cell_type": "code",
   "execution_count": 30,
   "metadata": {
    "id": "uZMKjiJz_Zcu"
   },
   "outputs": [
    {
     "data": {
      "text/html": [
       "<div>\n",
       "<style scoped>\n",
       "    .dataframe tbody tr th:only-of-type {\n",
       "        vertical-align: middle;\n",
       "    }\n",
       "\n",
       "    .dataframe tbody tr th {\n",
       "        vertical-align: top;\n",
       "    }\n",
       "\n",
       "    .dataframe thead th {\n",
       "        text-align: right;\n",
       "    }\n",
       "</style>\n",
       "<table border=\"1\" class=\"dataframe\">\n",
       "  <thead>\n",
       "    <tr style=\"text-align: right;\">\n",
       "      <th>debt</th>\n",
       "      <th>0</th>\n",
       "      <th>1</th>\n",
       "      <th>debt_percent</th>\n",
       "    </tr>\n",
       "    <tr>\n",
       "      <th>total_income_category</th>\n",
       "      <th></th>\n",
       "      <th></th>\n",
       "      <th></th>\n",
       "    </tr>\n",
       "  </thead>\n",
       "  <tbody>\n",
       "    <tr>\n",
       "      <td>средний</td>\n",
       "      <td>7163</td>\n",
       "      <td>661</td>\n",
       "      <td>8.448364</td>\n",
       "    </tr>\n",
       "    <tr>\n",
       "      <td>низкий</td>\n",
       "      <td>3352</td>\n",
       "      <td>305</td>\n",
       "      <td>8.340170</td>\n",
       "    </tr>\n",
       "    <tr>\n",
       "      <td>высокий</td>\n",
       "      <td>8458</td>\n",
       "      <td>726</td>\n",
       "      <td>7.905052</td>\n",
       "    </tr>\n",
       "    <tr>\n",
       "      <td>очень низкий</td>\n",
       "      <td>757</td>\n",
       "      <td>49</td>\n",
       "      <td>6.079404</td>\n",
       "    </tr>\n",
       "  </tbody>\n",
       "</table>\n",
       "</div>"
      ],
      "text/plain": [
       "debt                      0    1  debt_percent\n",
       "total_income_category                         \n",
       "средний                7163  661      8.448364\n",
       "низкий                 3352  305      8.340170\n",
       "высокий                8458  726      7.905052\n",
       "очень низкий            757   49      6.079404"
      ]
     },
     "execution_count": 30,
     "metadata": {},
     "output_type": "execute_result"
    }
   ],
   "source": [
    "data_pivot = df.pivot_table(\n",
    "    index = 'total_income_category', \n",
    "    columns = 'debt',\n",
    "    values = 'children', \n",
    "    aggfunc = 'count'\n",
    ") \n",
    "data_pivot['debt_percent'] = data_pivot[1]/(data_pivot[0]+data_pivot[1])*100 \n",
    "data_pivot = data_pivot.sort_values('debt_percent', ascending=False) \n",
    "data_pivot"
   ]
  },
  {
   "cell_type": "markdown",
   "metadata": {},
   "source": [
    "Заемщики с очень низким доходом имеют самый низкий уровень задолженности. Самый высокий уровень задолженности у заемщиков со средним уровнем дохода. Однако он не намного выше, чем у заемщиков с низким и высоким уровнем дохода."
   ]
  },
  {
   "cell_type": "markdown",
   "metadata": {},
   "source": [
    "**Выводы**\n",
    "\n",
    "Явная зависимость между уровнем дохода и возвратом кредита в срок прослеживается только в сравнении с очень низким уровнем дохода и иным доходом."
   ]
  },
  {
   "cell_type": "markdown",
   "metadata": {},
   "source": [
    "#### Влияние цели кредита на его возврат в срок"
   ]
  },
  {
   "cell_type": "markdown",
   "metadata": {},
   "source": [
    "Также в данном исследовании также нужно выяснить, влияет ли цель получения кредита на его возврат в срок.\n",
    "Для этого составлю сводную таблицу и отсортирую ее по убыванию значения процентного отношения задолженников ко всем заемщикам:\n",
    "\n",
    "- индексом будет являться категория цели кредита\n",
    "- столбцы: факт наличия/отсутствия задолженности по кредиту и процентное отношение задолженников ко всем заемщикам\n",
    "- значения: количество любого столбца таблицы за исключением уже использованных"
   ]
  },
  {
   "cell_type": "code",
   "execution_count": 31,
   "metadata": {},
   "outputs": [
    {
     "data": {
      "text/html": [
       "<div>\n",
       "<style scoped>\n",
       "    .dataframe tbody tr th:only-of-type {\n",
       "        vertical-align: middle;\n",
       "    }\n",
       "\n",
       "    .dataframe tbody tr th {\n",
       "        vertical-align: top;\n",
       "    }\n",
       "\n",
       "    .dataframe thead th {\n",
       "        text-align: right;\n",
       "    }\n",
       "</style>\n",
       "<table border=\"1\" class=\"dataframe\">\n",
       "  <thead>\n",
       "    <tr style=\"text-align: right;\">\n",
       "      <th>debt</th>\n",
       "      <th>0</th>\n",
       "      <th>1</th>\n",
       "      <th>debt_percent</th>\n",
       "    </tr>\n",
       "    <tr>\n",
       "      <th>purpose_category</th>\n",
       "      <th></th>\n",
       "      <th></th>\n",
       "      <th></th>\n",
       "    </tr>\n",
       "  </thead>\n",
       "  <tbody>\n",
       "    <tr>\n",
       "      <td>автомобиль</td>\n",
       "      <td>3905</td>\n",
       "      <td>403</td>\n",
       "      <td>9.354689</td>\n",
       "    </tr>\n",
       "    <tr>\n",
       "      <td>образование</td>\n",
       "      <td>3644</td>\n",
       "      <td>370</td>\n",
       "      <td>9.217738</td>\n",
       "    </tr>\n",
       "    <tr>\n",
       "      <td>свадьба</td>\n",
       "      <td>2149</td>\n",
       "      <td>186</td>\n",
       "      <td>7.965739</td>\n",
       "    </tr>\n",
       "    <tr>\n",
       "      <td>строительство</td>\n",
       "      <td>1735</td>\n",
       "      <td>144</td>\n",
       "      <td>7.663651</td>\n",
       "    </tr>\n",
       "    <tr>\n",
       "      <td>недвижимость</td>\n",
       "      <td>7725</td>\n",
       "      <td>603</td>\n",
       "      <td>7.240634</td>\n",
       "    </tr>\n",
       "    <tr>\n",
       "      <td>ремонт</td>\n",
       "      <td>572</td>\n",
       "      <td>35</td>\n",
       "      <td>5.766063</td>\n",
       "    </tr>\n",
       "  </tbody>\n",
       "</table>\n",
       "</div>"
      ],
      "text/plain": [
       "debt                 0    1  debt_percent\n",
       "purpose_category                         \n",
       "автомобиль        3905  403      9.354689\n",
       "образование       3644  370      9.217738\n",
       "свадьба           2149  186      7.965739\n",
       "строительство     1735  144      7.663651\n",
       "недвижимость      7725  603      7.240634\n",
       "ремонт             572   35      5.766063"
      ]
     },
     "execution_count": 31,
     "metadata": {},
     "output_type": "execute_result"
    }
   ],
   "source": [
    "data_pivot = df.pivot_table(\n",
    "    index = 'purpose_category', \n",
    "    columns = 'debt',\n",
    "    values = 'family_status_id', \n",
    "    aggfunc = 'count'\n",
    ") \n",
    "data_pivot['debt_percent'] = data_pivot[1]/(data_pivot[0]+data_pivot[1])*100 \n",
    "data_pivot = data_pivot.sort_values('debt_percent' , ascending=False)  \n",
    "data_pivot"
   ]
  },
  {
   "cell_type": "markdown",
   "metadata": {
    "id": "cC2tNrlL_Zcu"
   },
   "source": [
    "Согласно полученным данным сводной таблицы чаще всего задолженность по кредиту возникает у тех заемщиков, который берут кредит для приобретения автомобиля и на образование. Самая низкая задолженность наблюдается у тек, кто берет кредит на ремонт недвижимости. Между ними находятся те, кто кредитуется для проведения свадьбы, строительства и приобретения недвижимости."
   ]
  },
  {
   "cell_type": "markdown",
   "metadata": {
    "id": "-EgPIHYu_Zcu"
   },
   "source": [
    "**Выводы**\n",
    "\n",
    "Цель получения кредита влияет на его возврат в срок."
   ]
  },
  {
   "cell_type": "markdown",
   "metadata": {
    "id": "ykKQ0N65_Zcv"
   },
   "source": [
    "## Итоги исследования"
   ]
  },
  {
   "cell_type": "markdown",
   "metadata": {
    "id": "tjUwbHb3_Zcv"
   },
   "source": [
    "Проведена проверка двух гипотез и установлено:\n",
    "\n",
    "1. Семейное положение клиента влияет на факт погашения кредита в срок.\n",
    "2. Наличие детей у клиента влияет на факт погашения кредита в срок.\n",
    "\n",
    "Первая и вторая гипотезы полностью подтвердились.\n",
    "\n",
    "Даны ответы на два вопроса:\n",
    "\n",
    "1. Явная зависимость между уровнем дохода и возвратом кредита в срок прослеживается только в сравнении с очень низким уровнем дохода и иным доходом.\n",
    "2. Цель получения кредита влияет на его возврат в срок."
   ]
  }
 ],
 "metadata": {
  "ExecuteTimeLog": [
   {
    "duration": 383,
    "start_time": "2021-12-20T07:07:30.120Z"
   },
   {
    "duration": 98,
    "start_time": "2021-12-20T07:07:42.992Z"
   },
   {
    "duration": 287,
    "start_time": "2021-12-20T07:09:09.593Z"
   },
   {
    "duration": 277,
    "start_time": "2021-12-20T07:09:36.075Z"
   },
   {
    "duration": 282,
    "start_time": "2021-12-20T07:14:08.594Z"
   },
   {
    "duration": 830,
    "start_time": "2021-12-20T07:14:34.194Z"
   },
   {
    "duration": 274,
    "start_time": "2021-12-20T07:17:01.754Z"
   },
   {
    "duration": 727,
    "start_time": "2021-12-20T07:18:07.152Z"
   },
   {
    "duration": 182,
    "start_time": "2021-12-20T07:18:13.874Z"
   },
   {
    "duration": 3,
    "start_time": "2021-12-20T07:18:24.674Z"
   },
   {
    "duration": 197,
    "start_time": "2021-12-20T07:18:57.155Z"
   },
   {
    "duration": 25,
    "start_time": "2021-12-20T07:19:08.437Z"
   },
   {
    "duration": 366,
    "start_time": "2021-12-20T07:26:22.953Z"
   },
   {
    "duration": 3,
    "start_time": "2021-12-20T07:26:29.714Z"
   },
   {
    "duration": 190,
    "start_time": "2021-12-20T07:26:31.312Z"
   },
   {
    "duration": 38,
    "start_time": "2021-12-20T07:27:52.114Z"
   },
   {
    "duration": 5,
    "start_time": "2021-12-20T07:37:40.076Z"
   },
   {
    "duration": 343,
    "start_time": "2021-12-20T07:44:06.750Z"
   },
   {
    "duration": 338,
    "start_time": "2021-12-20T07:44:39.440Z"
   },
   {
    "duration": 6,
    "start_time": "2021-12-20T07:45:46.190Z"
   },
   {
    "duration": 23,
    "start_time": "2021-12-20T07:46:55.870Z"
   },
   {
    "duration": 6,
    "start_time": "2021-12-20T07:47:26.236Z"
   },
   {
    "duration": 40,
    "start_time": "2021-12-20T07:48:29.949Z"
   },
   {
    "duration": 36,
    "start_time": "2021-12-20T07:57:25.309Z"
   },
   {
    "duration": 29,
    "start_time": "2021-12-20T07:57:45.669Z"
   },
   {
    "duration": 33,
    "start_time": "2021-12-20T07:57:55.204Z"
   },
   {
    "duration": 4,
    "start_time": "2021-12-20T08:02:31.989Z"
   },
   {
    "duration": 23,
    "start_time": "2021-12-20T08:04:40.943Z"
   },
   {
    "duration": 30,
    "start_time": "2021-12-20T08:04:56.549Z"
   },
   {
    "duration": 106,
    "start_time": "2021-12-20T08:07:19.589Z"
   },
   {
    "duration": 92,
    "start_time": "2021-12-20T08:09:29.150Z"
   },
   {
    "duration": 81,
    "start_time": "2021-12-20T08:10:34.712Z"
   },
   {
    "duration": 79,
    "start_time": "2021-12-20T08:10:48.190Z"
   },
   {
    "duration": 81,
    "start_time": "2021-12-20T08:10:54.432Z"
   },
   {
    "duration": 90,
    "start_time": "2021-12-20T08:11:05.551Z"
   },
   {
    "duration": 97,
    "start_time": "2021-12-20T08:11:12.310Z"
   },
   {
    "duration": 85,
    "start_time": "2021-12-20T08:11:21.791Z"
   },
   {
    "duration": 4,
    "start_time": "2021-12-20T08:13:07.067Z"
   },
   {
    "duration": 208,
    "start_time": "2021-12-20T08:13:08.190Z"
   },
   {
    "duration": 20,
    "start_time": "2021-12-20T08:13:09.553Z"
   },
   {
    "duration": 33,
    "start_time": "2021-12-20T08:13:13.589Z"
   },
   {
    "duration": 7,
    "start_time": "2021-12-20T08:13:21.028Z"
   },
   {
    "duration": 16,
    "start_time": "2021-12-20T08:13:23.990Z"
   },
   {
    "duration": 6,
    "start_time": "2021-12-20T08:13:28.435Z"
   },
   {
    "duration": 29,
    "start_time": "2021-12-20T08:13:38.590Z"
   },
   {
    "duration": 21,
    "start_time": "2021-12-20T08:13:43.590Z"
   },
   {
    "duration": 28,
    "start_time": "2021-12-20T08:13:45.550Z"
   },
   {
    "duration": 77,
    "start_time": "2021-12-20T08:13:49.349Z"
   },
   {
    "duration": 89,
    "start_time": "2021-12-20T08:13:53.870Z"
   },
   {
    "duration": 72,
    "start_time": "2021-12-20T08:13:58.350Z"
   },
   {
    "duration": 8,
    "start_time": "2021-12-20T08:17:26.852Z"
   },
   {
    "duration": 11,
    "start_time": "2021-12-20T08:21:47.245Z"
   },
   {
    "duration": 71,
    "start_time": "2021-12-20T08:23:36.627Z"
   },
   {
    "duration": 63,
    "start_time": "2021-12-20T08:24:07.897Z"
   },
   {
    "duration": 5,
    "start_time": "2021-12-20T08:30:42.243Z"
   },
   {
    "duration": 32,
    "start_time": "2021-12-20T08:33:11.667Z"
   },
   {
    "duration": 71,
    "start_time": "2021-12-20T08:33:41.505Z"
   },
   {
    "duration": 59,
    "start_time": "2021-12-20T08:39:12.920Z"
   },
   {
    "duration": 48,
    "start_time": "2021-12-20T08:41:27.238Z"
   },
   {
    "duration": 95,
    "start_time": "2021-12-20T08:54:07.413Z"
   },
   {
    "duration": 122,
    "start_time": "2021-12-20T08:55:06.651Z"
   },
   {
    "duration": 133,
    "start_time": "2021-12-20T08:55:53.381Z"
   },
   {
    "duration": 295,
    "start_time": "2021-12-20T08:57:28.135Z"
   },
   {
    "duration": 186,
    "start_time": "2021-12-20T08:57:55.972Z"
   },
   {
    "duration": 391,
    "start_time": "2021-12-20T08:58:14.028Z"
   },
   {
    "duration": 5,
    "start_time": "2021-12-20T08:58:22.158Z"
   },
   {
    "duration": 13916,
    "start_time": "2021-12-20T08:58:27.522Z"
   },
   {
    "duration": 568,
    "start_time": "2021-12-20T08:59:19.582Z"
   },
   {
    "duration": 559,
    "start_time": "2021-12-20T08:59:46.941Z"
   },
   {
    "duration": 344,
    "start_time": "2021-12-20T09:00:06.695Z"
   },
   {
    "duration": 538,
    "start_time": "2021-12-20T09:00:34.815Z"
   },
   {
    "duration": 5,
    "start_time": "2021-12-20T09:01:40.272Z"
   },
   {
    "duration": 7318,
    "start_time": "2021-12-20T09:01:42.179Z"
   },
   {
    "duration": 5,
    "start_time": "2021-12-20T09:02:46.293Z"
   },
   {
    "duration": 5,
    "start_time": "2021-12-20T09:03:28.309Z"
   },
   {
    "duration": 7842,
    "start_time": "2021-12-20T09:03:36.233Z"
   },
   {
    "duration": 4,
    "start_time": "2021-12-20T09:06:01.367Z"
   },
   {
    "duration": 10460,
    "start_time": "2021-12-20T09:07:25.941Z"
   },
   {
    "duration": 5,
    "start_time": "2021-12-20T09:09:30.175Z"
   },
   {
    "duration": 2926,
    "start_time": "2021-12-20T09:09:35.122Z"
   },
   {
    "duration": 4,
    "start_time": "2021-12-20T09:18:16.273Z"
   },
   {
    "duration": 580,
    "start_time": "2021-12-20T09:18:29.103Z"
   },
   {
    "duration": 5,
    "start_time": "2021-12-20T09:19:36.075Z"
   },
   {
    "duration": 751,
    "start_time": "2021-12-20T09:19:38.873Z"
   },
   {
    "duration": 10,
    "start_time": "2021-12-20T09:29:18.235Z"
   },
   {
    "duration": 26,
    "start_time": "2021-12-20T09:29:21.665Z"
   },
   {
    "duration": 21,
    "start_time": "2021-12-20T09:30:28.181Z"
   },
   {
    "duration": 24,
    "start_time": "2021-12-20T09:30:29.942Z"
   },
   {
    "duration": 5,
    "start_time": "2021-12-20T09:31:47.592Z"
   },
   {
    "duration": 11,
    "start_time": "2021-12-20T09:31:49.704Z"
   },
   {
    "duration": 11,
    "start_time": "2021-12-20T09:31:54.863Z"
   },
   {
    "duration": 5,
    "start_time": "2021-12-20T09:43:54.157Z"
   },
   {
    "duration": 21,
    "start_time": "2021-12-20T09:43:56.977Z"
   },
   {
    "duration": 6,
    "start_time": "2021-12-20T09:44:17.788Z"
   },
   {
    "duration": 16,
    "start_time": "2021-12-20T09:44:22.733Z"
   },
   {
    "duration": 6,
    "start_time": "2021-12-20T09:45:45.021Z"
   },
   {
    "duration": 11,
    "start_time": "2021-12-20T09:45:47.376Z"
   },
   {
    "duration": 4,
    "start_time": "2021-12-20T09:50:51.266Z"
   },
   {
    "duration": 16,
    "start_time": "2021-12-20T09:50:54.655Z"
   },
   {
    "duration": 5,
    "start_time": "2021-12-20T09:55:10.522Z"
   },
   {
    "duration": 602,
    "start_time": "2021-12-20T09:55:11.741Z"
   },
   {
    "duration": 5,
    "start_time": "2021-12-20T10:19:56.873Z"
   },
   {
    "duration": 3075,
    "start_time": "2021-12-20T10:19:59.305Z"
   },
   {
    "duration": 10,
    "start_time": "2021-12-20T10:20:28.035Z"
   },
   {
    "duration": 13,
    "start_time": "2021-12-20T10:20:30.192Z"
   },
   {
    "duration": 7,
    "start_time": "2021-12-20T10:21:43.718Z"
   },
   {
    "duration": 670,
    "start_time": "2021-12-20T10:21:45.180Z"
   },
   {
    "duration": 5,
    "start_time": "2021-12-20T10:22:09.812Z"
   },
   {
    "duration": 17,
    "start_time": "2021-12-20T10:22:11.764Z"
   },
   {
    "duration": 18,
    "start_time": "2021-12-20T10:22:18.643Z"
   },
   {
    "duration": 7,
    "start_time": "2021-12-20T10:36:59.820Z"
   },
   {
    "duration": 17,
    "start_time": "2021-12-20T10:37:01.231Z"
   },
   {
    "duration": 14,
    "start_time": "2021-12-20T10:37:41.801Z"
   },
   {
    "duration": 7,
    "start_time": "2021-12-20T10:38:28.740Z"
   },
   {
    "duration": 12,
    "start_time": "2021-12-20T10:38:30.552Z"
   },
   {
    "duration": 394,
    "start_time": "2021-12-20T10:48:01.727Z"
   },
   {
    "duration": 13,
    "start_time": "2021-12-20T10:48:39.347Z"
   },
   {
    "duration": 18,
    "start_time": "2021-12-20T10:48:59.546Z"
   },
   {
    "duration": 25,
    "start_time": "2021-12-20T10:59:51.446Z"
   },
   {
    "duration": 6,
    "start_time": "2021-12-20T11:13:49.537Z"
   },
   {
    "duration": 57,
    "start_time": "2021-12-20T11:13:53.728Z"
   },
   {
    "duration": 6,
    "start_time": "2021-12-20T11:14:22.058Z"
   },
   {
    "duration": 59,
    "start_time": "2021-12-20T11:14:23.994Z"
   },
   {
    "duration": 50,
    "start_time": "2021-12-20T11:14:28.948Z"
   },
   {
    "duration": 5,
    "start_time": "2021-12-20T11:14:38.267Z"
   },
   {
    "duration": 5,
    "start_time": "2021-12-20T11:14:49.401Z"
   },
   {
    "duration": 26,
    "start_time": "2021-12-20T11:14:51.229Z"
   },
   {
    "duration": 22,
    "start_time": "2021-12-20T11:15:15.949Z"
   },
   {
    "duration": 26,
    "start_time": "2021-12-20T11:16:07.514Z"
   },
   {
    "duration": 21,
    "start_time": "2021-12-20T11:16:31.576Z"
   },
   {
    "duration": 34,
    "start_time": "2021-12-20T11:17:10.519Z"
   },
   {
    "duration": 22,
    "start_time": "2021-12-20T11:17:11.436Z"
   },
   {
    "duration": 277,
    "start_time": "2021-12-20T11:18:37.476Z"
   },
   {
    "duration": 101,
    "start_time": "2021-12-20T11:26:04.948Z"
   },
   {
    "duration": 5,
    "start_time": "2021-12-20T12:26:35.379Z"
   },
   {
    "duration": 23,
    "start_time": "2021-12-20T12:26:38.950Z"
   },
   {
    "duration": 6,
    "start_time": "2021-12-20T12:26:52.440Z"
   },
   {
    "duration": 21,
    "start_time": "2021-12-20T12:26:53.761Z"
   },
   {
    "duration": 874,
    "start_time": "2021-12-20T12:30:05.103Z"
   },
   {
    "duration": 291,
    "start_time": "2021-12-20T12:32:42.708Z"
   },
   {
    "duration": 296,
    "start_time": "2021-12-20T12:44:52.790Z"
   },
   {
    "duration": 293,
    "start_time": "2021-12-20T12:45:50.909Z"
   },
   {
    "duration": 326,
    "start_time": "2021-12-20T12:47:21.052Z"
   },
   {
    "duration": 357,
    "start_time": "2021-12-20T12:47:40.090Z"
   },
   {
    "duration": 296,
    "start_time": "2021-12-20T12:54:16.929Z"
   },
   {
    "duration": 11,
    "start_time": "2021-12-20T12:56:51.076Z"
   },
   {
    "duration": 12,
    "start_time": "2021-12-20T12:57:19.311Z"
   },
   {
    "duration": 15,
    "start_time": "2021-12-20T12:59:14.770Z"
   },
   {
    "duration": 5,
    "start_time": "2021-12-20T13:09:10.618Z"
   },
   {
    "duration": 6,
    "start_time": "2021-12-20T13:13:42.062Z"
   },
   {
    "duration": 282,
    "start_time": "2021-12-20T19:22:09.719Z"
   },
   {
    "duration": 4,
    "start_time": "2021-12-20T19:22:37.109Z"
   },
   {
    "duration": 342,
    "start_time": "2021-12-20T19:22:39.303Z"
   },
   {
    "duration": 249,
    "start_time": "2021-12-20T19:23:07.075Z"
   },
   {
    "duration": 274,
    "start_time": "2021-12-20T19:23:42.548Z"
   },
   {
    "duration": 276,
    "start_time": "2021-12-20T19:51:16.863Z"
   },
   {
    "duration": 238,
    "start_time": "2021-12-20T19:51:29.623Z"
   },
   {
    "duration": 3,
    "start_time": "2021-12-20T19:59:54.049Z"
   },
   {
    "duration": 639,
    "start_time": "2021-12-20T20:00:00.347Z"
   },
   {
    "duration": 587,
    "start_time": "2021-12-20T20:00:48.221Z"
   },
   {
    "duration": 141,
    "start_time": "2021-12-20T20:00:48.810Z"
   },
   {
    "duration": 17,
    "start_time": "2021-12-20T20:00:48.954Z"
   },
   {
    "duration": 34,
    "start_time": "2021-12-20T20:00:48.972Z"
   },
   {
    "duration": 10,
    "start_time": "2021-12-20T20:00:49.008Z"
   },
   {
    "duration": 21,
    "start_time": "2021-12-20T20:00:49.020Z"
   },
   {
    "duration": 4,
    "start_time": "2021-12-20T20:00:49.043Z"
   },
   {
    "duration": 23,
    "start_time": "2021-12-20T20:00:49.062Z"
   },
   {
    "duration": 20,
    "start_time": "2021-12-20T20:00:49.087Z"
   },
   {
    "duration": 23,
    "start_time": "2021-12-20T20:00:49.108Z"
   },
   {
    "duration": 79,
    "start_time": "2021-12-20T20:00:49.132Z"
   },
   {
    "duration": 71,
    "start_time": "2021-12-20T20:00:49.213Z"
   },
   {
    "duration": 52,
    "start_time": "2021-12-20T20:00:49.285Z"
   },
   {
    "duration": 49,
    "start_time": "2021-12-20T20:00:49.338Z"
   },
   {
    "duration": 3,
    "start_time": "2021-12-20T20:00:49.389Z"
   },
   {
    "duration": 31,
    "start_time": "2021-12-20T20:00:49.393Z"
   },
   {
    "duration": 45,
    "start_time": "2021-12-20T20:00:49.425Z"
   },
   {
    "duration": 34,
    "start_time": "2021-12-20T20:00:49.471Z"
   },
   {
    "duration": 32,
    "start_time": "2021-12-20T20:00:49.507Z"
   },
   {
    "duration": 20,
    "start_time": "2021-12-20T20:00:49.541Z"
   },
   {
    "duration": 29,
    "start_time": "2021-12-20T20:00:49.563Z"
   },
   {
    "duration": 19,
    "start_time": "2021-12-20T20:00:49.594Z"
   },
   {
    "duration": 44,
    "start_time": "2021-12-20T20:00:49.616Z"
   },
   {
    "duration": 17,
    "start_time": "2021-12-20T20:00:49.663Z"
   },
   {
    "duration": 22,
    "start_time": "2021-12-20T20:00:49.682Z"
   },
   {
    "duration": 17,
    "start_time": "2021-12-20T20:00:49.705Z"
   },
   {
    "duration": 8,
    "start_time": "2021-12-20T20:00:49.723Z"
   },
   {
    "duration": 11,
    "start_time": "2021-12-20T20:00:49.761Z"
   },
   {
    "duration": 19,
    "start_time": "2021-12-20T20:00:49.774Z"
   },
   {
    "duration": 124,
    "start_time": "2021-12-20T20:00:49.795Z"
   },
   {
    "duration": 1860,
    "start_time": "2021-12-20T20:00:48.061Z"
   },
   {
    "duration": 1856,
    "start_time": "2021-12-20T20:00:48.066Z"
   },
   {
    "duration": 1850,
    "start_time": "2021-12-20T20:00:48.072Z"
   },
   {
    "duration": 1845,
    "start_time": "2021-12-20T20:00:48.078Z"
   },
   {
    "duration": 1840,
    "start_time": "2021-12-20T20:00:48.084Z"
   },
   {
    "duration": 1835,
    "start_time": "2021-12-20T20:00:48.090Z"
   },
   {
    "duration": 1830,
    "start_time": "2021-12-20T20:00:48.096Z"
   },
   {
    "duration": 1825,
    "start_time": "2021-12-20T20:00:48.102Z"
   },
   {
    "duration": 4,
    "start_time": "2021-12-20T20:01:39.160Z"
   },
   {
    "duration": 18,
    "start_time": "2021-12-20T20:01:43.421Z"
   },
   {
    "duration": 5,
    "start_time": "2021-12-20T20:04:03.962Z"
   },
   {
    "duration": 4,
    "start_time": "2021-12-20T20:04:29.517Z"
   },
   {
    "duration": 19,
    "start_time": "2021-12-20T20:04:33.111Z"
   },
   {
    "duration": 4,
    "start_time": "2021-12-20T20:05:47.764Z"
   },
   {
    "duration": 16,
    "start_time": "2021-12-20T20:05:50.181Z"
   },
   {
    "duration": 15,
    "start_time": "2021-12-20T20:05:52.197Z"
   },
   {
    "duration": 16,
    "start_time": "2021-12-20T20:05:53.061Z"
   },
   {
    "duration": 16,
    "start_time": "2021-12-20T20:05:53.789Z"
   },
   {
    "duration": 17,
    "start_time": "2021-12-20T20:05:54.590Z"
   },
   {
    "duration": 16,
    "start_time": "2021-12-20T20:05:55.302Z"
   },
   {
    "duration": 15,
    "start_time": "2021-12-20T20:08:37.743Z"
   },
   {
    "duration": 16,
    "start_time": "2021-12-20T20:08:51.662Z"
   },
   {
    "duration": 16,
    "start_time": "2021-12-20T20:08:52.190Z"
   },
   {
    "duration": 14,
    "start_time": "2021-12-20T20:08:52.703Z"
   },
   {
    "duration": 15,
    "start_time": "2021-12-20T20:08:55.624Z"
   },
   {
    "duration": 18,
    "start_time": "2021-12-20T20:08:57.502Z"
   },
   {
    "duration": 9,
    "start_time": "2021-12-20T20:10:01.067Z"
   },
   {
    "duration": 292,
    "start_time": "2021-12-20T20:18:47.868Z"
   },
   {
    "duration": 37,
    "start_time": "2021-12-20T20:22:04.551Z"
   },
   {
    "duration": 8,
    "start_time": "2021-12-20T20:22:30.669Z"
   },
   {
    "duration": 15,
    "start_time": "2021-12-20T20:22:37.823Z"
   },
   {
    "duration": 66,
    "start_time": "2021-12-20T20:22:59.108Z"
   },
   {
    "duration": 68,
    "start_time": "2021-12-20T20:23:26.864Z"
   },
   {
    "duration": 14,
    "start_time": "2021-12-20T20:24:29.461Z"
   },
   {
    "duration": 10,
    "start_time": "2021-12-20T20:24:32.184Z"
   },
   {
    "duration": 100,
    "start_time": "2021-12-20T20:26:01.592Z"
   },
   {
    "duration": 84,
    "start_time": "2021-12-20T20:26:10.989Z"
   },
   {
    "duration": 4,
    "start_time": "2021-12-20T20:26:50.048Z"
   },
   {
    "duration": 576,
    "start_time": "2021-12-20T20:26:58.352Z"
   },
   {
    "duration": 5,
    "start_time": "2021-12-20T20:28:49.279Z"
   },
   {
    "duration": 479,
    "start_time": "2021-12-20T20:28:53.790Z"
   },
   {
    "duration": 86,
    "start_time": "2021-12-20T20:31:44.196Z"
   },
   {
    "duration": 4,
    "start_time": "2021-12-20T20:31:50.238Z"
   },
   {
    "duration": 1009,
    "start_time": "2021-12-20T20:31:52.307Z"
   },
   {
    "duration": 7,
    "start_time": "2021-12-20T20:32:34.161Z"
   },
   {
    "duration": 676,
    "start_time": "2021-12-20T20:32:35.704Z"
   },
   {
    "duration": 4,
    "start_time": "2021-12-20T20:33:55.675Z"
   },
   {
    "duration": 29,
    "start_time": "2021-12-20T20:33:57.671Z"
   },
   {
    "duration": 4,
    "start_time": "2021-12-20T20:34:08.796Z"
   },
   {
    "duration": 19,
    "start_time": "2021-12-20T20:34:10.588Z"
   },
   {
    "duration": 107,
    "start_time": "2021-12-20T20:50:48.193Z"
   },
   {
    "duration": 4,
    "start_time": "2021-12-20T20:52:54.516Z"
   },
   {
    "duration": 19,
    "start_time": "2021-12-20T20:52:59.501Z"
   },
   {
    "duration": 13,
    "start_time": "2021-12-20T20:53:55.343Z"
   },
   {
    "duration": 18,
    "start_time": "2021-12-20T20:57:40.750Z"
   },
   {
    "duration": 12,
    "start_time": "2021-12-20T20:58:12.748Z"
   },
   {
    "duration": 12,
    "start_time": "2021-12-20T21:04:04.846Z"
   },
   {
    "duration": 14,
    "start_time": "2021-12-20T21:04:20.348Z"
   },
   {
    "duration": 18,
    "start_time": "2021-12-20T21:04:22.744Z"
   },
   {
    "duration": 13,
    "start_time": "2021-12-20T21:04:23.191Z"
   },
   {
    "duration": 9,
    "start_time": "2021-12-20T21:05:18.341Z"
   },
   {
    "duration": 21,
    "start_time": "2021-12-20T21:20:01.875Z"
   },
   {
    "duration": 13,
    "start_time": "2021-12-20T21:20:13.862Z"
   },
   {
    "duration": 19,
    "start_time": "2021-12-20T21:24:02.194Z"
   },
   {
    "duration": 13,
    "start_time": "2021-12-20T21:24:11.782Z"
   },
   {
    "duration": 727,
    "start_time": "2021-12-21T07:07:24.273Z"
   },
   {
    "duration": 170,
    "start_time": "2021-12-21T07:07:25.004Z"
   },
   {
    "duration": 25,
    "start_time": "2021-12-21T07:07:25.177Z"
   },
   {
    "duration": 65,
    "start_time": "2021-12-21T07:07:25.205Z"
   },
   {
    "duration": 36,
    "start_time": "2021-12-21T07:07:25.273Z"
   },
   {
    "duration": 50,
    "start_time": "2021-12-21T07:07:25.311Z"
   },
   {
    "duration": 43,
    "start_time": "2021-12-21T07:07:25.363Z"
   },
   {
    "duration": 52,
    "start_time": "2021-12-21T07:07:25.409Z"
   },
   {
    "duration": 50,
    "start_time": "2021-12-21T07:07:25.464Z"
   },
   {
    "duration": 44,
    "start_time": "2021-12-21T07:07:25.517Z"
   },
   {
    "duration": 94,
    "start_time": "2021-12-21T07:07:25.563Z"
   },
   {
    "duration": 98,
    "start_time": "2021-12-21T07:07:25.660Z"
   },
   {
    "duration": 78,
    "start_time": "2021-12-21T07:07:25.761Z"
   },
   {
    "duration": 54,
    "start_time": "2021-12-21T07:07:25.841Z"
   },
   {
    "duration": 22,
    "start_time": "2021-12-21T07:07:25.897Z"
   },
   {
    "duration": 50,
    "start_time": "2021-12-21T07:07:25.923Z"
   },
   {
    "duration": 74,
    "start_time": "2021-12-21T07:07:25.975Z"
   },
   {
    "duration": 79,
    "start_time": "2021-12-21T07:07:26.051Z"
   },
   {
    "duration": 40,
    "start_time": "2021-12-21T07:07:26.132Z"
   },
   {
    "duration": 4,
    "start_time": "2021-12-21T07:07:26.175Z"
   },
   {
    "duration": 53,
    "start_time": "2021-12-21T07:07:26.181Z"
   },
   {
    "duration": 41,
    "start_time": "2021-12-21T07:07:26.236Z"
   },
   {
    "duration": 52,
    "start_time": "2021-12-21T07:07:26.281Z"
   },
   {
    "duration": 18,
    "start_time": "2021-12-21T07:07:26.336Z"
   },
   {
    "duration": 34,
    "start_time": "2021-12-21T07:07:26.356Z"
   },
   {
    "duration": 18,
    "start_time": "2021-12-21T07:07:26.392Z"
   },
   {
    "duration": 89,
    "start_time": "2021-12-21T07:07:26.424Z"
   },
   {
    "duration": 14,
    "start_time": "2021-12-21T07:07:26.523Z"
   },
   {
    "duration": 54,
    "start_time": "2021-12-21T07:07:26.539Z"
   },
   {
    "duration": 38,
    "start_time": "2021-12-21T07:07:26.596Z"
   },
   {
    "duration": 53,
    "start_time": "2021-12-21T07:07:26.636Z"
   },
   {
    "duration": 367,
    "start_time": "2021-12-21T07:07:26.692Z"
   },
   {
    "duration": 1035,
    "start_time": "2021-12-21T07:07:26.027Z"
   },
   {
    "duration": 1030,
    "start_time": "2021-12-21T07:07:26.033Z"
   },
   {
    "duration": 1012,
    "start_time": "2021-12-21T07:07:26.053Z"
   },
   {
    "duration": 1008,
    "start_time": "2021-12-21T07:07:26.058Z"
   },
   {
    "duration": 1003,
    "start_time": "2021-12-21T07:07:26.065Z"
   },
   {
    "duration": 999,
    "start_time": "2021-12-21T07:07:26.070Z"
   },
   {
    "duration": 18,
    "start_time": "2021-12-21T07:36:55.095Z"
   },
   {
    "duration": 24,
    "start_time": "2021-12-21T07:36:59.856Z"
   },
   {
    "duration": 18,
    "start_time": "2021-12-21T07:37:00.936Z"
   },
   {
    "duration": 13,
    "start_time": "2021-12-21T07:39:21.372Z"
   },
   {
    "duration": 7,
    "start_time": "2021-12-21T07:39:27.062Z"
   },
   {
    "duration": 8,
    "start_time": "2021-12-21T07:40:18.677Z"
   },
   {
    "duration": 7,
    "start_time": "2021-12-21T07:40:19.814Z"
   },
   {
    "duration": 756,
    "start_time": "2021-12-21T07:42:33.160Z"
   },
   {
    "duration": 175,
    "start_time": "2021-12-21T07:42:33.919Z"
   },
   {
    "duration": 27,
    "start_time": "2021-12-21T07:42:34.098Z"
   },
   {
    "duration": 53,
    "start_time": "2021-12-21T07:42:34.129Z"
   },
   {
    "duration": 6,
    "start_time": "2021-12-21T07:42:34.185Z"
   },
   {
    "duration": 46,
    "start_time": "2021-12-21T07:42:34.194Z"
   },
   {
    "duration": 35,
    "start_time": "2021-12-21T07:42:34.243Z"
   },
   {
    "duration": 32,
    "start_time": "2021-12-21T07:42:34.283Z"
   },
   {
    "duration": 21,
    "start_time": "2021-12-21T07:42:34.319Z"
   },
   {
    "duration": 27,
    "start_time": "2021-12-21T07:42:34.343Z"
   },
   {
    "duration": 105,
    "start_time": "2021-12-21T07:42:34.374Z"
   },
   {
    "duration": 105,
    "start_time": "2021-12-21T07:42:34.482Z"
   },
   {
    "duration": 76,
    "start_time": "2021-12-21T07:42:34.590Z"
   },
   {
    "duration": 64,
    "start_time": "2021-12-21T07:42:34.668Z"
   },
   {
    "duration": 5,
    "start_time": "2021-12-21T07:42:34.735Z"
   },
   {
    "duration": 21,
    "start_time": "2021-12-21T07:42:34.743Z"
   },
   {
    "duration": 88,
    "start_time": "2021-12-21T07:42:34.766Z"
   },
   {
    "duration": 66,
    "start_time": "2021-12-21T07:42:34.857Z"
   },
   {
    "duration": 40,
    "start_time": "2021-12-21T07:42:34.926Z"
   },
   {
    "duration": 5,
    "start_time": "2021-12-21T07:42:34.969Z"
   },
   {
    "duration": 50,
    "start_time": "2021-12-21T07:42:34.977Z"
   },
   {
    "duration": 18,
    "start_time": "2021-12-21T07:42:35.030Z"
   },
   {
    "duration": 19,
    "start_time": "2021-12-21T07:42:35.054Z"
   },
   {
    "duration": 60,
    "start_time": "2021-12-21T07:42:35.077Z"
   },
   {
    "duration": 30,
    "start_time": "2021-12-21T07:42:35.141Z"
   },
   {
    "duration": 20,
    "start_time": "2021-12-21T07:42:35.174Z"
   },
   {
    "duration": 100,
    "start_time": "2021-12-21T07:42:35.225Z"
   },
   {
    "duration": 13,
    "start_time": "2021-12-21T07:42:35.327Z"
   },
   {
    "duration": 10,
    "start_time": "2021-12-21T07:42:35.343Z"
   },
   {
    "duration": 6,
    "start_time": "2021-12-21T07:42:35.355Z"
   },
   {
    "duration": 61,
    "start_time": "2021-12-21T07:42:35.363Z"
   },
   {
    "duration": 16,
    "start_time": "2021-12-21T07:42:35.427Z"
   },
   {
    "duration": 21,
    "start_time": "2021-12-21T07:42:35.445Z"
   },
   {
    "duration": 15,
    "start_time": "2021-12-21T07:42:35.468Z"
   },
   {
    "duration": 45,
    "start_time": "2021-12-21T07:42:35.485Z"
   },
   {
    "duration": 28,
    "start_time": "2021-12-21T07:42:35.532Z"
   },
   {
    "duration": 25,
    "start_time": "2021-12-21T07:42:35.562Z"
   },
   {
    "duration": 27,
    "start_time": "2021-12-21T07:42:35.589Z"
   },
   {
    "duration": 387,
    "start_time": "2021-12-21T07:50:37.149Z"
   },
   {
    "duration": 15,
    "start_time": "2021-12-21T07:50:44.950Z"
   },
   {
    "duration": 13,
    "start_time": "2021-12-21T07:51:31.830Z"
   },
   {
    "duration": 579,
    "start_time": "2021-12-21T15:26:44.140Z"
   },
   {
    "duration": 136,
    "start_time": "2021-12-21T15:26:44.721Z"
   },
   {
    "duration": 16,
    "start_time": "2021-12-21T15:26:44.859Z"
   },
   {
    "duration": 27,
    "start_time": "2021-12-21T15:26:44.877Z"
   },
   {
    "duration": 4,
    "start_time": "2021-12-21T15:26:44.905Z"
   },
   {
    "duration": 32,
    "start_time": "2021-12-21T15:26:44.911Z"
   },
   {
    "duration": 3,
    "start_time": "2021-12-21T15:26:44.945Z"
   },
   {
    "duration": 30,
    "start_time": "2021-12-21T15:26:44.950Z"
   },
   {
    "duration": 17,
    "start_time": "2021-12-21T15:26:44.983Z"
   },
   {
    "duration": 26,
    "start_time": "2021-12-21T15:26:45.002Z"
   },
   {
    "duration": 68,
    "start_time": "2021-12-21T15:26:45.030Z"
   },
   {
    "duration": 73,
    "start_time": "2021-12-21T15:26:45.099Z"
   },
   {
    "duration": 68,
    "start_time": "2021-12-21T15:26:45.174Z"
   },
   {
    "duration": 49,
    "start_time": "2021-12-21T15:26:45.244Z"
   },
   {
    "duration": 3,
    "start_time": "2021-12-21T15:26:45.295Z"
   },
   {
    "duration": 21,
    "start_time": "2021-12-21T15:26:45.299Z"
   },
   {
    "duration": 54,
    "start_time": "2021-12-21T15:26:45.321Z"
   },
   {
    "duration": 10,
    "start_time": "2021-12-21T15:26:45.377Z"
   },
   {
    "duration": 9,
    "start_time": "2021-12-21T15:26:45.389Z"
   },
   {
    "duration": 3,
    "start_time": "2021-12-21T15:26:45.400Z"
   },
   {
    "duration": 24,
    "start_time": "2021-12-21T15:26:45.405Z"
   },
   {
    "duration": 15,
    "start_time": "2021-12-21T15:26:45.441Z"
   },
   {
    "duration": 13,
    "start_time": "2021-12-21T15:26:45.458Z"
   },
   {
    "duration": 13,
    "start_time": "2021-12-21T15:26:45.472Z"
   },
   {
    "duration": 17,
    "start_time": "2021-12-21T15:26:45.486Z"
   },
   {
    "duration": 13,
    "start_time": "2021-12-21T15:26:45.505Z"
   },
   {
    "duration": 68,
    "start_time": "2021-12-21T15:26:45.542Z"
   },
   {
    "duration": 10,
    "start_time": "2021-12-21T15:26:45.612Z"
   },
   {
    "duration": 19,
    "start_time": "2021-12-21T15:26:45.623Z"
   },
   {
    "duration": 7,
    "start_time": "2021-12-21T15:26:45.644Z"
   },
   {
    "duration": 24,
    "start_time": "2021-12-21T15:26:45.652Z"
   },
   {
    "duration": 12,
    "start_time": "2021-12-21T15:26:45.678Z"
   },
   {
    "duration": 23,
    "start_time": "2021-12-21T15:26:45.692Z"
   },
   {
    "duration": 11,
    "start_time": "2021-12-21T15:26:45.716Z"
   },
   {
    "duration": 17,
    "start_time": "2021-12-21T15:26:45.729Z"
   },
   {
    "duration": 4,
    "start_time": "2021-12-21T15:26:45.748Z"
   },
   {
    "duration": 13,
    "start_time": "2021-12-21T15:26:45.753Z"
   },
   {
    "duration": 17,
    "start_time": "2021-12-21T15:26:45.767Z"
   },
   {
    "duration": 6,
    "start_time": "2021-12-21T19:51:16.010Z"
   },
   {
    "duration": 460,
    "start_time": "2021-12-21T19:51:24.744Z"
   },
   {
    "duration": 791,
    "start_time": "2021-12-21T19:51:41.095Z"
   },
   {
    "duration": 187,
    "start_time": "2021-12-21T19:51:41.889Z"
   },
   {
    "duration": 25,
    "start_time": "2021-12-21T19:51:42.079Z"
   },
   {
    "duration": 60,
    "start_time": "2021-12-21T19:51:42.107Z"
   },
   {
    "duration": 6,
    "start_time": "2021-12-21T19:51:42.170Z"
   },
   {
    "duration": 25,
    "start_time": "2021-12-21T19:51:42.178Z"
   },
   {
    "duration": 7,
    "start_time": "2021-12-21T19:51:42.205Z"
   },
   {
    "duration": 61,
    "start_time": "2021-12-21T19:51:42.215Z"
   },
   {
    "duration": 22,
    "start_time": "2021-12-21T19:51:42.280Z"
   },
   {
    "duration": 30,
    "start_time": "2021-12-21T19:51:42.305Z"
   },
   {
    "duration": 85,
    "start_time": "2021-12-21T19:51:42.361Z"
   },
   {
    "duration": 119,
    "start_time": "2021-12-21T19:51:42.449Z"
   },
   {
    "duration": 88,
    "start_time": "2021-12-21T19:51:42.571Z"
   },
   {
    "duration": 58,
    "start_time": "2021-12-21T19:51:42.672Z"
   },
   {
    "duration": 4,
    "start_time": "2021-12-21T19:51:42.732Z"
   },
   {
    "duration": 44,
    "start_time": "2021-12-21T19:51:42.738Z"
   },
   {
    "duration": 58,
    "start_time": "2021-12-21T19:51:42.785Z"
   },
   {
    "duration": 32,
    "start_time": "2021-12-21T19:51:42.845Z"
   },
   {
    "duration": 14,
    "start_time": "2021-12-21T19:51:42.879Z"
   },
   {
    "duration": 5,
    "start_time": "2021-12-21T19:51:42.895Z"
   },
   {
    "duration": 57,
    "start_time": "2021-12-21T19:51:42.902Z"
   },
   {
    "duration": 24,
    "start_time": "2021-12-21T19:51:42.963Z"
   },
   {
    "duration": 19,
    "start_time": "2021-12-21T19:51:42.989Z"
   },
   {
    "duration": 17,
    "start_time": "2021-12-21T19:51:43.010Z"
   },
   {
    "duration": 26,
    "start_time": "2021-12-21T19:51:43.059Z"
   },
   {
    "duration": 21,
    "start_time": "2021-12-21T19:51:43.088Z"
   },
   {
    "duration": 132,
    "start_time": "2021-12-21T19:51:43.114Z"
   },
   {
    "duration": 15,
    "start_time": "2021-12-21T19:51:43.248Z"
   },
   {
    "duration": 32,
    "start_time": "2021-12-21T19:51:43.267Z"
   },
   {
    "duration": 8,
    "start_time": "2021-12-21T19:51:43.302Z"
   },
   {
    "duration": 29,
    "start_time": "2021-12-21T19:51:43.313Z"
   },
   {
    "duration": 28,
    "start_time": "2021-12-21T19:51:43.345Z"
   },
   {
    "duration": 24,
    "start_time": "2021-12-21T19:51:43.376Z"
   },
   {
    "duration": 15,
    "start_time": "2021-12-21T19:51:43.403Z"
   },
   {
    "duration": 51,
    "start_time": "2021-12-21T19:51:43.420Z"
   },
   {
    "duration": 6,
    "start_time": "2021-12-21T19:51:43.473Z"
   },
   {
    "duration": 13,
    "start_time": "2021-12-21T19:51:43.481Z"
   },
   {
    "duration": 6,
    "start_time": "2021-12-21T19:51:43.496Z"
   },
   {
    "duration": 463,
    "start_time": "2021-12-21T19:51:43.504Z"
   },
   {
    "duration": 930,
    "start_time": "2021-12-21T20:12:20.793Z"
   },
   {
    "duration": 209,
    "start_time": "2021-12-21T20:12:21.726Z"
   },
   {
    "duration": 29,
    "start_time": "2021-12-21T20:12:21.939Z"
   },
   {
    "duration": 34,
    "start_time": "2021-12-21T20:12:21.971Z"
   },
   {
    "duration": 5,
    "start_time": "2021-12-21T20:12:22.008Z"
   },
   {
    "duration": 65,
    "start_time": "2021-12-21T20:12:22.016Z"
   },
   {
    "duration": 6,
    "start_time": "2021-12-21T20:12:22.084Z"
   },
   {
    "duration": 31,
    "start_time": "2021-12-21T20:12:22.094Z"
   },
   {
    "duration": 54,
    "start_time": "2021-12-21T20:12:22.129Z"
   },
   {
    "duration": 36,
    "start_time": "2021-12-21T20:12:22.186Z"
   },
   {
    "duration": 148,
    "start_time": "2021-12-21T20:12:22.225Z"
   },
   {
    "duration": 114,
    "start_time": "2021-12-21T20:12:22.376Z"
   },
   {
    "duration": 88,
    "start_time": "2021-12-21T20:12:22.492Z"
   },
   {
    "duration": 59,
    "start_time": "2021-12-21T20:12:22.582Z"
   },
   {
    "duration": 5,
    "start_time": "2021-12-21T20:12:22.660Z"
   },
   {
    "duration": 31,
    "start_time": "2021-12-21T20:12:22.667Z"
   },
   {
    "duration": 81,
    "start_time": "2021-12-21T20:12:22.701Z"
   },
   {
    "duration": 15,
    "start_time": "2021-12-21T20:12:22.785Z"
   },
   {
    "duration": 19,
    "start_time": "2021-12-21T20:12:22.803Z"
   },
   {
    "duration": 39,
    "start_time": "2021-12-21T20:12:22.825Z"
   },
   {
    "duration": 37,
    "start_time": "2021-12-21T20:12:22.867Z"
   },
   {
    "duration": 23,
    "start_time": "2021-12-21T20:12:22.907Z"
   },
   {
    "duration": 30,
    "start_time": "2021-12-21T20:12:22.964Z"
   },
   {
    "duration": 24,
    "start_time": "2021-12-21T20:12:22.998Z"
   },
   {
    "duration": 51,
    "start_time": "2021-12-21T20:12:23.025Z"
   },
   {
    "duration": 20,
    "start_time": "2021-12-21T20:12:23.079Z"
   },
   {
    "duration": 138,
    "start_time": "2021-12-21T20:12:23.102Z"
   },
   {
    "duration": 23,
    "start_time": "2021-12-21T20:12:23.243Z"
   },
   {
    "duration": 13,
    "start_time": "2021-12-21T20:12:23.269Z"
   },
   {
    "duration": 6,
    "start_time": "2021-12-21T20:12:23.284Z"
   },
   {
    "duration": 26,
    "start_time": "2021-12-21T20:12:23.292Z"
   },
   {
    "duration": 50,
    "start_time": "2021-12-21T20:12:23.320Z"
   },
   {
    "duration": 24,
    "start_time": "2021-12-21T20:12:23.373Z"
   },
   {
    "duration": 19,
    "start_time": "2021-12-21T20:12:23.400Z"
   },
   {
    "duration": 48,
    "start_time": "2021-12-21T20:12:23.421Z"
   },
   {
    "duration": 8,
    "start_time": "2021-12-21T20:12:23.472Z"
   },
   {
    "duration": 11,
    "start_time": "2021-12-21T20:12:23.483Z"
   },
   {
    "duration": 8,
    "start_time": "2021-12-21T20:12:23.497Z"
   },
   {
    "duration": 4,
    "start_time": "2021-12-21T20:48:38.237Z"
   },
   {
    "duration": 811,
    "start_time": "2021-12-21T21:03:46.393Z"
   },
   {
    "duration": 200,
    "start_time": "2021-12-21T21:03:47.208Z"
   },
   {
    "duration": 29,
    "start_time": "2021-12-21T21:03:47.412Z"
   },
   {
    "duration": 34,
    "start_time": "2021-12-21T21:03:47.460Z"
   },
   {
    "duration": 6,
    "start_time": "2021-12-21T21:03:47.497Z"
   },
   {
    "duration": 55,
    "start_time": "2021-12-21T21:03:47.505Z"
   },
   {
    "duration": 7,
    "start_time": "2021-12-21T21:03:47.563Z"
   },
   {
    "duration": 32,
    "start_time": "2021-12-21T21:03:47.573Z"
   },
   {
    "duration": 52,
    "start_time": "2021-12-21T21:03:47.610Z"
   },
   {
    "duration": 32,
    "start_time": "2021-12-21T21:03:47.665Z"
   },
   {
    "duration": 109,
    "start_time": "2021-12-21T21:03:47.699Z"
   },
   {
    "duration": 119,
    "start_time": "2021-12-21T21:03:47.811Z"
   },
   {
    "duration": 91,
    "start_time": "2021-12-21T21:03:47.932Z"
   },
   {
    "duration": 65,
    "start_time": "2021-12-21T21:03:48.026Z"
   },
   {
    "duration": 5,
    "start_time": "2021-12-21T21:03:48.093Z"
   },
   {
    "duration": 25,
    "start_time": "2021-12-21T21:03:48.101Z"
   },
   {
    "duration": 84,
    "start_time": "2021-12-21T21:03:48.129Z"
   },
   {
    "duration": 16,
    "start_time": "2021-12-21T21:03:48.215Z"
   },
   {
    "duration": 40,
    "start_time": "2021-12-21T21:03:48.233Z"
   },
   {
    "duration": 5,
    "start_time": "2021-12-21T21:03:48.276Z"
   },
   {
    "duration": 28,
    "start_time": "2021-12-21T21:03:48.283Z"
   },
   {
    "duration": 51,
    "start_time": "2021-12-21T21:03:48.313Z"
   },
   {
    "duration": 21,
    "start_time": "2021-12-21T21:03:48.366Z"
   },
   {
    "duration": 20,
    "start_time": "2021-12-21T21:03:48.389Z"
   },
   {
    "duration": 57,
    "start_time": "2021-12-21T21:03:48.411Z"
   },
   {
    "duration": 21,
    "start_time": "2021-12-21T21:03:48.471Z"
   },
   {
    "duration": 121,
    "start_time": "2021-12-21T21:03:48.497Z"
   },
   {
    "duration": 14,
    "start_time": "2021-12-21T21:03:48.621Z"
   },
   {
    "duration": 27,
    "start_time": "2021-12-21T21:03:48.638Z"
   },
   {
    "duration": 6,
    "start_time": "2021-12-21T21:03:48.667Z"
   },
   {
    "duration": 28,
    "start_time": "2021-12-21T21:03:48.676Z"
   },
   {
    "duration": 17,
    "start_time": "2021-12-21T21:03:48.706Z"
   },
   {
    "duration": 57,
    "start_time": "2021-12-21T21:03:48.725Z"
   },
   {
    "duration": 17,
    "start_time": "2021-12-21T21:03:48.784Z"
   },
   {
    "duration": 12,
    "start_time": "2021-12-21T21:03:48.803Z"
   },
   {
    "duration": 6,
    "start_time": "2021-12-21T21:03:48.818Z"
   },
   {
    "duration": 9,
    "start_time": "2021-12-21T21:03:48.860Z"
   },
   {
    "duration": 7,
    "start_time": "2021-12-21T21:03:48.871Z"
   },
   {
    "duration": 685,
    "start_time": "2021-12-21T22:09:55.131Z"
   },
   {
    "duration": 152,
    "start_time": "2021-12-21T22:09:55.818Z"
   },
   {
    "duration": 18,
    "start_time": "2021-12-21T22:09:55.972Z"
   },
   {
    "duration": 29,
    "start_time": "2021-12-21T22:09:55.993Z"
   },
   {
    "duration": 4,
    "start_time": "2021-12-21T22:09:56.024Z"
   },
   {
    "duration": 20,
    "start_time": "2021-12-21T22:09:56.042Z"
   },
   {
    "duration": 5,
    "start_time": "2021-12-21T22:09:56.064Z"
   },
   {
    "duration": 25,
    "start_time": "2021-12-21T22:09:56.071Z"
   },
   {
    "duration": 48,
    "start_time": "2021-12-21T22:09:56.098Z"
   },
   {
    "duration": 22,
    "start_time": "2021-12-21T22:09:56.148Z"
   },
   {
    "duration": 75,
    "start_time": "2021-12-21T22:09:56.171Z"
   },
   {
    "duration": 63,
    "start_time": "2021-12-21T22:09:56.247Z"
   },
   {
    "duration": 63,
    "start_time": "2021-12-21T22:09:56.312Z"
   },
   {
    "duration": 40,
    "start_time": "2021-12-21T22:09:56.377Z"
   },
   {
    "duration": 2,
    "start_time": "2021-12-21T22:09:56.419Z"
   },
   {
    "duration": 31,
    "start_time": "2021-12-21T22:09:56.423Z"
   },
   {
    "duration": 42,
    "start_time": "2021-12-21T22:09:56.455Z"
   },
   {
    "duration": 11,
    "start_time": "2021-12-21T22:09:56.499Z"
   },
   {
    "duration": 39,
    "start_time": "2021-12-21T22:09:56.512Z"
   },
   {
    "duration": 4,
    "start_time": "2021-12-21T22:09:56.553Z"
   },
   {
    "duration": 25,
    "start_time": "2021-12-21T22:09:56.559Z"
   },
   {
    "duration": 16,
    "start_time": "2021-12-21T22:09:56.586Z"
   },
   {
    "duration": 46,
    "start_time": "2021-12-21T22:09:56.604Z"
   },
   {
    "duration": 13,
    "start_time": "2021-12-21T22:09:56.652Z"
   },
   {
    "duration": 16,
    "start_time": "2021-12-21T22:09:56.667Z"
   },
   {
    "duration": 14,
    "start_time": "2021-12-21T22:09:56.685Z"
   },
   {
    "duration": 97,
    "start_time": "2021-12-21T22:09:56.701Z"
   },
   {
    "duration": 10,
    "start_time": "2021-12-21T22:09:56.800Z"
   },
   {
    "duration": 8,
    "start_time": "2021-12-21T22:09:56.811Z"
   },
   {
    "duration": 20,
    "start_time": "2021-12-21T22:09:56.821Z"
   },
   {
    "duration": 17,
    "start_time": "2021-12-21T22:09:56.842Z"
   },
   {
    "duration": 11,
    "start_time": "2021-12-21T22:09:56.860Z"
   },
   {
    "duration": 15,
    "start_time": "2021-12-21T22:09:56.873Z"
   },
   {
    "duration": 11,
    "start_time": "2021-12-21T22:09:56.890Z"
   },
   {
    "duration": 39,
    "start_time": "2021-12-21T22:09:56.902Z"
   },
   {
    "duration": 6,
    "start_time": "2021-12-21T22:09:56.943Z"
   },
   {
    "duration": 12,
    "start_time": "2021-12-21T22:09:56.951Z"
   },
   {
    "duration": 4,
    "start_time": "2021-12-21T22:09:56.965Z"
   },
   {
    "duration": 723,
    "start_time": "2021-12-22T07:07:48.116Z"
   },
   {
    "duration": 189,
    "start_time": "2021-12-22T07:07:48.842Z"
   },
   {
    "duration": 37,
    "start_time": "2021-12-22T07:07:49.034Z"
   },
   {
    "duration": 50,
    "start_time": "2021-12-22T07:07:49.074Z"
   },
   {
    "duration": 6,
    "start_time": "2021-12-22T07:07:49.127Z"
   },
   {
    "duration": 58,
    "start_time": "2021-12-22T07:07:49.136Z"
   },
   {
    "duration": 6,
    "start_time": "2021-12-22T07:07:49.196Z"
   },
   {
    "duration": 36,
    "start_time": "2021-12-22T07:07:49.204Z"
   },
   {
    "duration": 43,
    "start_time": "2021-12-22T07:07:49.244Z"
   },
   {
    "duration": 30,
    "start_time": "2021-12-22T07:07:49.290Z"
   },
   {
    "duration": 117,
    "start_time": "2021-12-22T07:07:49.322Z"
   },
   {
    "duration": 109,
    "start_time": "2021-12-22T07:07:49.442Z"
   },
   {
    "duration": 85,
    "start_time": "2021-12-22T07:07:49.553Z"
   },
   {
    "duration": 76,
    "start_time": "2021-12-22T07:07:49.640Z"
   },
   {
    "duration": 5,
    "start_time": "2021-12-22T07:07:49.718Z"
   },
   {
    "duration": 19,
    "start_time": "2021-12-22T07:07:49.725Z"
   },
   {
    "duration": 75,
    "start_time": "2021-12-22T07:07:49.746Z"
   },
   {
    "duration": 14,
    "start_time": "2021-12-22T07:07:49.824Z"
   },
   {
    "duration": 15,
    "start_time": "2021-12-22T07:07:49.868Z"
   },
   {
    "duration": 5,
    "start_time": "2021-12-22T07:07:49.885Z"
   },
   {
    "duration": 28,
    "start_time": "2021-12-22T07:07:49.893Z"
   },
   {
    "duration": 46,
    "start_time": "2021-12-22T07:07:49.924Z"
   },
   {
    "duration": 22,
    "start_time": "2021-12-22T07:07:49.973Z"
   },
   {
    "duration": 19,
    "start_time": "2021-12-22T07:07:49.997Z"
   },
   {
    "duration": 61,
    "start_time": "2021-12-22T07:07:50.018Z"
   },
   {
    "duration": 21,
    "start_time": "2021-12-22T07:07:50.081Z"
   },
   {
    "duration": 122,
    "start_time": "2021-12-22T07:07:50.107Z"
   },
   {
    "duration": 13,
    "start_time": "2021-12-22T07:07:50.232Z"
   },
   {
    "duration": 24,
    "start_time": "2021-12-22T07:07:50.248Z"
   },
   {
    "duration": 6,
    "start_time": "2021-12-22T07:07:50.274Z"
   },
   {
    "duration": 26,
    "start_time": "2021-12-22T07:07:50.283Z"
   },
   {
    "duration": 27,
    "start_time": "2021-12-22T07:07:50.312Z"
   },
   {
    "duration": 52,
    "start_time": "2021-12-22T07:07:50.341Z"
   },
   {
    "duration": 23,
    "start_time": "2021-12-22T07:07:50.396Z"
   },
   {
    "duration": 12,
    "start_time": "2021-12-22T07:07:50.421Z"
   },
   {
    "duration": 7,
    "start_time": "2021-12-22T07:07:50.467Z"
   },
   {
    "duration": 12,
    "start_time": "2021-12-22T07:07:50.477Z"
   },
   {
    "duration": 7,
    "start_time": "2021-12-22T07:07:50.492Z"
   },
   {
    "duration": 14,
    "start_time": "2021-12-22T07:08:37.636Z"
   },
   {
    "duration": 4,
    "start_time": "2021-12-22T07:08:48.178Z"
   },
   {
    "duration": 4,
    "start_time": "2021-12-22T07:09:03.697Z"
   },
   {
    "duration": 13,
    "start_time": "2021-12-22T07:09:09.092Z"
   },
   {
    "duration": 59,
    "start_time": "2021-12-22T07:09:19.915Z"
   },
   {
    "duration": 4,
    "start_time": "2021-12-22T07:09:45.097Z"
   },
   {
    "duration": 22,
    "start_time": "2021-12-22T07:09:50.378Z"
   },
   {
    "duration": 96,
    "start_time": "2021-12-22T07:09:58.992Z"
   },
   {
    "duration": 4,
    "start_time": "2021-12-22T07:10:04.558Z"
   },
   {
    "duration": 4,
    "start_time": "2021-12-22T07:10:10.098Z"
   },
   {
    "duration": 14,
    "start_time": "2021-12-22T07:10:14.287Z"
   },
   {
    "duration": 1405,
    "start_time": "2022-01-15T10:00:07.362Z"
   },
   {
    "duration": 35,
    "start_time": "2022-01-15T10:00:08.770Z"
   },
   {
    "duration": 16,
    "start_time": "2022-01-15T10:00:08.809Z"
   },
   {
    "duration": 6,
    "start_time": "2022-01-15T10:00:08.828Z"
   },
   {
    "duration": 45,
    "start_time": "2022-01-15T10:00:08.836Z"
   },
   {
    "duration": 8,
    "start_time": "2022-01-15T10:00:08.885Z"
   },
   {
    "duration": 15,
    "start_time": "2022-01-15T10:00:08.897Z"
   },
   {
    "duration": 50,
    "start_time": "2022-01-15T10:00:08.916Z"
   },
   {
    "duration": 27,
    "start_time": "2022-01-15T10:00:08.971Z"
   },
   {
    "duration": 26,
    "start_time": "2022-01-15T10:00:09.002Z"
   },
   {
    "duration": 58,
    "start_time": "2022-01-15T10:00:09.030Z"
   },
   {
    "duration": 10,
    "start_time": "2022-01-15T10:00:09.091Z"
   },
   {
    "duration": 11,
    "start_time": "2022-01-15T10:00:09.104Z"
   },
   {
    "duration": 11,
    "start_time": "2022-01-15T10:00:09.118Z"
   },
   {
    "duration": 12,
    "start_time": "2022-01-15T10:00:09.170Z"
   },
   {
    "duration": 23,
    "start_time": "2022-01-15T10:00:09.185Z"
   },
   {
    "duration": 7,
    "start_time": "2022-01-15T10:00:09.210Z"
   },
   {
    "duration": 6,
    "start_time": "2022-01-15T10:00:09.220Z"
   },
   {
    "duration": 60,
    "start_time": "2022-01-15T10:00:09.228Z"
   },
   {
    "duration": 25,
    "start_time": "2022-01-15T10:00:09.291Z"
   },
   {
    "duration": 6554,
    "start_time": "2022-01-15T10:00:09.319Z"
   },
   {
    "duration": 27,
    "start_time": "2022-01-15T10:00:15.876Z"
   },
   {
    "duration": 18,
    "start_time": "2022-01-15T10:00:15.906Z"
   },
   {
    "duration": 15,
    "start_time": "2022-01-15T10:00:15.927Z"
   },
   {
    "duration": 11,
    "start_time": "2022-01-15T10:00:15.967Z"
   },
   {
    "duration": 16,
    "start_time": "2022-01-15T10:00:15.981Z"
   },
   {
    "duration": 10,
    "start_time": "2022-01-15T10:00:16.002Z"
   },
   {
    "duration": 85,
    "start_time": "2022-01-15T10:00:16.015Z"
   },
   {
    "duration": 31,
    "start_time": "2022-01-15T10:00:16.103Z"
   },
   {
    "duration": 67,
    "start_time": "2022-01-15T10:00:16.137Z"
   },
   {
    "duration": 63,
    "start_time": "2022-01-15T10:00:16.207Z"
   }
  ],
  "colab": {
   "collapsed_sections": [
    "E0vqbgi9ay0H",
    "VUC88oWjTJw2"
   ],
   "name": "yandex_music_project_2021.2.ipynb",
   "provenance": []
  },
  "kernelspec": {
   "display_name": "Python 3 (ipykernel)",
   "language": "python",
   "name": "python3"
  },
  "language_info": {
   "codemirror_mode": {
    "name": "ipython",
    "version": 3
   },
   "file_extension": ".py",
   "mimetype": "text/x-python",
   "name": "python",
   "nbconvert_exporter": "python",
   "pygments_lexer": "ipython3",
   "version": "3.9.7"
  },
  "toc": {
   "base_numbering": 1,
   "nav_menu": {},
   "number_sections": true,
   "sideBar": true,
   "skip_h1_title": true,
   "title_cell": "Table of Contents",
   "title_sidebar": "Contents",
   "toc_cell": false,
   "toc_position": {
    "height": "calc(100% - 180px)",
    "left": "10px",
    "top": "150px",
    "width": "165px"
   },
   "toc_section_display": true,
   "toc_window_display": false
  }
 },
 "nbformat": 4,
 "nbformat_minor": 1
}
